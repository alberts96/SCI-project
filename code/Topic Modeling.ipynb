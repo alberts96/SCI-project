{
 "cells": [
  {
   "cell_type": "code",
   "execution_count": 1,
   "metadata": {},
   "outputs": [
    {
     "name": "stderr",
     "output_type": "stream",
     "text": [
      "In C:\\Users\\carlo\\Anaconda3\\lib\\site-packages\\matplotlib\\mpl-data\\stylelib\\_classic_test.mplstyle: \n",
      "The text.latex.preview rcparam was deprecated in Matplotlib 3.3 and will be removed two minor releases later.\n",
      "In C:\\Users\\carlo\\Anaconda3\\lib\\site-packages\\matplotlib\\mpl-data\\stylelib\\_classic_test.mplstyle: \n",
      "The mathtext.fallback_to_cm rcparam was deprecated in Matplotlib 3.3 and will be removed two minor releases later.\n",
      "In C:\\Users\\carlo\\Anaconda3\\lib\\site-packages\\matplotlib\\mpl-data\\stylelib\\_classic_test.mplstyle: Support for setting the 'mathtext.fallback_to_cm' rcParam is deprecated since 3.3 and will be removed two minor releases later; use 'mathtext.fallback : 'cm' instead.\n",
      "In C:\\Users\\carlo\\Anaconda3\\lib\\site-packages\\matplotlib\\mpl-data\\stylelib\\_classic_test.mplstyle: \n",
      "The validate_bool_maybe_none function was deprecated in Matplotlib 3.3 and will be removed two minor releases later.\n",
      "In C:\\Users\\carlo\\Anaconda3\\lib\\site-packages\\matplotlib\\mpl-data\\stylelib\\_classic_test.mplstyle: \n",
      "The savefig.jpeg_quality rcparam was deprecated in Matplotlib 3.3 and will be removed two minor releases later.\n",
      "In C:\\Users\\carlo\\Anaconda3\\lib\\site-packages\\matplotlib\\mpl-data\\stylelib\\_classic_test.mplstyle: \n",
      "The keymap.all_axes rcparam was deprecated in Matplotlib 3.3 and will be removed two minor releases later.\n",
      "In C:\\Users\\carlo\\Anaconda3\\lib\\site-packages\\matplotlib\\mpl-data\\stylelib\\_classic_test.mplstyle: \n",
      "The animation.avconv_path rcparam was deprecated in Matplotlib 3.3 and will be removed two minor releases later.\n",
      "In C:\\Users\\carlo\\Anaconda3\\lib\\site-packages\\matplotlib\\mpl-data\\stylelib\\_classic_test.mplstyle: \n",
      "The animation.avconv_args rcparam was deprecated in Matplotlib 3.3 and will be removed two minor releases later.\n"
     ]
    }
   ],
   "source": [
    "import numpy as np\n",
    "import pandas as pd \n",
    "import re \n",
    "import json\n",
    "import timeit\n",
    "import networkx as nx\n",
    "import matplotlib.pyplot as plt"
   ]
  },
  {
   "cell_type": "markdown",
   "metadata": {},
   "source": [
    "## Read patents"
   ]
  },
  {
   "cell_type": "code",
   "execution_count": 2,
   "metadata": {},
   "outputs": [
    {
     "name": "stdout",
     "output_type": "stream",
     "text": [
      "id                                0\n",
      "title                             0\n",
      "assignee                         15\n",
      "inventor/author                 383\n",
      "priority date                   324\n",
      "filing/creation date              6\n",
      "publication date                  1\n",
      "grant date                    13623\n",
      "result link                       0\n",
      "representative figure link    10002\n",
      "code.1                            0\n",
      "citations                         0\n",
      "abstract                        796\n",
      "class                          3384\n",
      "dtype: int64\n",
      "length is 22573\n"
     ]
    }
   ],
   "source": [
    "ids = pd.read_csv(r\"../patents/gp-query2-plus.csv\",index_col='code',skipinitialspace=True)\n",
    "print(ids.isnull().sum())\n",
    "print('length is',len(ids))"
   ]
  },
  {
   "cell_type": "code",
   "execution_count": 3,
   "metadata": {},
   "outputs": [
    {
     "name": "stdout",
     "output_type": "stream",
     "text": [
      "id                                0\n",
      "title                             0\n",
      "assignee                          5\n",
      "inventor/author                 369\n",
      "priority date                   315\n",
      "filing/creation date              1\n",
      "publication date                  0\n",
      "grant date                    13565\n",
      "result link                       0\n",
      "representative figure link     9736\n",
      "code.1                            0\n",
      "citations                         0\n",
      "abstract                          0\n",
      "class                             0\n",
      "dtype: int64\n"
     ]
    },
    {
     "data": {
      "text/plain": [
       "G06    9582\n",
       "NA     6895\n",
       "H04    5300\n",
       "Name: class, dtype: int64"
      ]
     },
     "execution_count": 3,
     "metadata": {},
     "output_type": "execute_result"
    }
   ],
   "source": [
    "ids = ids[ids.abstract.notna()]\n",
    "ids[\"class\"].fillna(value=\"NA\",inplace = True)\n",
    "ids['class'] = ids['class'].astype('str').apply(lambda x: x[:3] if len(x) >= 3 else 'NA')\n",
    "ids[\"class\"] = ids[\"class\"].apply(lambda x: 'NA' if x.find('G06')<0 and x.find('H04')<0 else x)\n",
    "ids['abstract'] = ids['abstract'].str.replace(r'[^\\x00-\\x7F]+', '')\n",
    "\n",
    "print(ids.isnull().sum())\n",
    "ids['class'].value_counts()"
   ]
  },
  {
   "cell_type": "markdown",
   "metadata": {},
   "source": [
    "## Read articles"
   ]
  },
  {
   "cell_type": "code",
   "execution_count": 4,
   "metadata": {},
   "outputs": [
    {
     "data": {
      "text/html": [
       "<div>\n",
       "<style scoped>\n",
       "    .dataframe tbody tr th:only-of-type {\n",
       "        vertical-align: middle;\n",
       "    }\n",
       "\n",
       "    .dataframe tbody tr th {\n",
       "        vertical-align: top;\n",
       "    }\n",
       "\n",
       "    .dataframe thead th {\n",
       "        text-align: right;\n",
       "    }\n",
       "</style>\n",
       "<table border=\"1\" class=\"dataframe\">\n",
       "  <thead>\n",
       "    <tr style=\"text-align: right;\">\n",
       "      <th></th>\n",
       "      <th>Year</th>\n",
       "      <th>Cited by</th>\n",
       "      <th>Link</th>\n",
       "      <th>Abstract</th>\n",
       "      <th>EID</th>\n",
       "    </tr>\n",
       "  </thead>\n",
       "  <tbody>\n",
       "    <tr>\n",
       "      <td>0</td>\n",
       "      <td>2021</td>\n",
       "      <td>NaN</td>\n",
       "      <td>https://www.scopus.com/inward/record.uri?eid=2...</td>\n",
       "      <td>Generally, the decision rule for classifying u...</td>\n",
       "      <td>2-s2.0-85099418104</td>\n",
       "    </tr>\n",
       "    <tr>\n",
       "      <td>1</td>\n",
       "      <td>2021</td>\n",
       "      <td>NaN</td>\n",
       "      <td>https://www.scopus.com/inward/record.uri?eid=2...</td>\n",
       "      <td>This survey explores how Deep Learning has bat...</td>\n",
       "      <td>2-s2.0-85099378785</td>\n",
       "    </tr>\n",
       "    <tr>\n",
       "      <td>2</td>\n",
       "      <td>2021</td>\n",
       "      <td>NaN</td>\n",
       "      <td>https://www.scopus.com/inward/record.uri?eid=2...</td>\n",
       "      <td>The way electorates were influenced to vote fo...</td>\n",
       "      <td>2-s2.0-85094573545</td>\n",
       "    </tr>\n",
       "    <tr>\n",
       "      <td>3</td>\n",
       "      <td>2021</td>\n",
       "      <td>NaN</td>\n",
       "      <td>https://www.scopus.com/inward/record.uri?eid=2...</td>\n",
       "      <td>This study is informed by two research gaps. O...</td>\n",
       "      <td>2-s2.0-85100650454</td>\n",
       "    </tr>\n",
       "    <tr>\n",
       "      <td>4</td>\n",
       "      <td>2021</td>\n",
       "      <td>NaN</td>\n",
       "      <td>https://www.scopus.com/inward/record.uri?eid=2...</td>\n",
       "      <td>Over recent years, the development of online s...</td>\n",
       "      <td>2-s2.0-85101111750</td>\n",
       "    </tr>\n",
       "    <tr>\n",
       "      <td>...</td>\n",
       "      <td>...</td>\n",
       "      <td>...</td>\n",
       "      <td>...</td>\n",
       "      <td>...</td>\n",
       "      <td>...</td>\n",
       "    </tr>\n",
       "    <tr>\n",
       "      <td>7403</td>\n",
       "      <td>2020</td>\n",
       "      <td>NaN</td>\n",
       "      <td>https://www.scopus.com/inward/record.uri?eid=2...</td>\n",
       "      <td>The use of Twitter by newspapers is widespread...</td>\n",
       "      <td>2-s2.0-85096716723</td>\n",
       "    </tr>\n",
       "    <tr>\n",
       "      <td>7404</td>\n",
       "      <td>2020</td>\n",
       "      <td>NaN</td>\n",
       "      <td>https://www.scopus.com/inward/record.uri?eid=2...</td>\n",
       "      <td>In the present technological era, healthcare p...</td>\n",
       "      <td>2-s2.0-85090341003</td>\n",
       "    </tr>\n",
       "    <tr>\n",
       "      <td>7405</td>\n",
       "      <td>2020</td>\n",
       "      <td>1</td>\n",
       "      <td>https://www.scopus.com/inward/record.uri?eid=2...</td>\n",
       "      <td>Internet of Things (IoT) devices have connecte...</td>\n",
       "      <td>2-s2.0-85081137773</td>\n",
       "    </tr>\n",
       "    <tr>\n",
       "      <td>7406</td>\n",
       "      <td>2020</td>\n",
       "      <td>NaN</td>\n",
       "      <td>https://www.scopus.com/inward/record.uri?eid=2...</td>\n",
       "      <td>Subject Matter/Topic.Today, the issues of lega...</td>\n",
       "      <td>2-s2.0-85081685033</td>\n",
       "    </tr>\n",
       "    <tr>\n",
       "      <td>7407</td>\n",
       "      <td>2020</td>\n",
       "      <td>1</td>\n",
       "      <td>https://www.scopus.com/inward/record.uri?eid=2...</td>\n",
       "      <td>Terrorism is emerging as one of the most serio...</td>\n",
       "      <td>2-s2.0-85087559608</td>\n",
       "    </tr>\n",
       "  </tbody>\n",
       "</table>\n",
       "<p>7408 rows × 5 columns</p>\n",
       "</div>"
      ],
      "text/plain": [
       "      Year Cited by                                               Link  \\\n",
       "0     2021      NaN  https://www.scopus.com/inward/record.uri?eid=2...   \n",
       "1     2021      NaN  https://www.scopus.com/inward/record.uri?eid=2...   \n",
       "2     2021      NaN  https://www.scopus.com/inward/record.uri?eid=2...   \n",
       "3     2021      NaN  https://www.scopus.com/inward/record.uri?eid=2...   \n",
       "4     2021      NaN  https://www.scopus.com/inward/record.uri?eid=2...   \n",
       "...    ...      ...                                                ...   \n",
       "7403  2020      NaN  https://www.scopus.com/inward/record.uri?eid=2...   \n",
       "7404  2020      NaN  https://www.scopus.com/inward/record.uri?eid=2...   \n",
       "7405  2020        1  https://www.scopus.com/inward/record.uri?eid=2...   \n",
       "7406  2020      NaN  https://www.scopus.com/inward/record.uri?eid=2...   \n",
       "7407  2020        1  https://www.scopus.com/inward/record.uri?eid=2...   \n",
       "\n",
       "                                               Abstract                 EID  \n",
       "0     Generally, the decision rule for classifying u...  2-s2.0-85099418104  \n",
       "1     This survey explores how Deep Learning has bat...  2-s2.0-85099378785  \n",
       "2     The way electorates were influenced to vote fo...  2-s2.0-85094573545  \n",
       "3     This study is informed by two research gaps. O...  2-s2.0-85100650454  \n",
       "4     Over recent years, the development of online s...  2-s2.0-85101111750  \n",
       "...                                                 ...                 ...  \n",
       "7403  The use of Twitter by newspapers is widespread...  2-s2.0-85096716723  \n",
       "7404  In the present technological era, healthcare p...  2-s2.0-85090341003  \n",
       "7405  Internet of Things (IoT) devices have connecte...  2-s2.0-85081137773  \n",
       "7406  Subject Matter/Topic.Today, the issues of lega...  2-s2.0-85081685033  \n",
       "7407  Terrorism is emerging as one of the most serio...  2-s2.0-85087559608  \n",
       "\n",
       "[7408 rows x 5 columns]"
      ]
     },
     "execution_count": 4,
     "metadata": {},
     "output_type": "execute_result"
    }
   ],
   "source": [
    "arts = pd.read_csv(r\"../papers/scopus-query2.csv\",skipinitialspace=True)\n",
    "arts"
   ]
  },
  {
   "cell_type": "code",
   "execution_count": 5,
   "metadata": {},
   "outputs": [
    {
     "name": "stderr",
     "output_type": "stream",
     "text": [
      "C:\\Users\\carlo\\Anaconda3\\lib\\site-packages\\ipykernel_launcher.py:2: SettingWithCopyWarning: \n",
      "A value is trying to be set on a copy of a slice from a DataFrame.\n",
      "Try using .loc[row_indexer,col_indexer] = value instead\n",
      "\n",
      "See the caveats in the documentation: http://pandas.pydata.org/pandas-docs/stable/user_guide/indexing.html#returning-a-view-versus-a-copy\n",
      "  \n"
     ]
    },
    {
     "data": {
      "text/html": [
       "<div>\n",
       "<style scoped>\n",
       "    .dataframe tbody tr th:only-of-type {\n",
       "        vertical-align: middle;\n",
       "    }\n",
       "\n",
       "    .dataframe tbody tr th {\n",
       "        vertical-align: top;\n",
       "    }\n",
       "\n",
       "    .dataframe thead th {\n",
       "        text-align: right;\n",
       "    }\n",
       "</style>\n",
       "<table border=\"1\" class=\"dataframe\">\n",
       "  <thead>\n",
       "    <tr style=\"text-align: right;\">\n",
       "      <th></th>\n",
       "      <th>Year</th>\n",
       "      <th>Cited by</th>\n",
       "      <th>Link</th>\n",
       "      <th>Abstract</th>\n",
       "      <th>EID</th>\n",
       "    </tr>\n",
       "    <tr>\n",
       "      <th>EID</th>\n",
       "      <th></th>\n",
       "      <th></th>\n",
       "      <th></th>\n",
       "      <th></th>\n",
       "      <th></th>\n",
       "    </tr>\n",
       "  </thead>\n",
       "  <tbody>\n",
       "    <tr>\n",
       "      <td>85099418104</td>\n",
       "      <td>2021</td>\n",
       "      <td>NaN</td>\n",
       "      <td>https://www.scopus.com/inward/record.uri?eid=2...</td>\n",
       "      <td>Generally, the decision rule for classifying u...</td>\n",
       "      <td>85099418104</td>\n",
       "    </tr>\n",
       "    <tr>\n",
       "      <td>85099378785</td>\n",
       "      <td>2021</td>\n",
       "      <td>NaN</td>\n",
       "      <td>https://www.scopus.com/inward/record.uri?eid=2...</td>\n",
       "      <td>This survey explores how Deep Learning has bat...</td>\n",
       "      <td>85099378785</td>\n",
       "    </tr>\n",
       "    <tr>\n",
       "      <td>85094573545</td>\n",
       "      <td>2021</td>\n",
       "      <td>NaN</td>\n",
       "      <td>https://www.scopus.com/inward/record.uri?eid=2...</td>\n",
       "      <td>The way electorates were influenced to vote fo...</td>\n",
       "      <td>85094573545</td>\n",
       "    </tr>\n",
       "    <tr>\n",
       "      <td>85100650454</td>\n",
       "      <td>2021</td>\n",
       "      <td>NaN</td>\n",
       "      <td>https://www.scopus.com/inward/record.uri?eid=2...</td>\n",
       "      <td>This study is informed by two research gaps. O...</td>\n",
       "      <td>85100650454</td>\n",
       "    </tr>\n",
       "    <tr>\n",
       "      <td>85101111750</td>\n",
       "      <td>2021</td>\n",
       "      <td>NaN</td>\n",
       "      <td>https://www.scopus.com/inward/record.uri?eid=2...</td>\n",
       "      <td>Over recent years, the development of online s...</td>\n",
       "      <td>85101111750</td>\n",
       "    </tr>\n",
       "    <tr>\n",
       "      <td>...</td>\n",
       "      <td>...</td>\n",
       "      <td>...</td>\n",
       "      <td>...</td>\n",
       "      <td>...</td>\n",
       "      <td>...</td>\n",
       "    </tr>\n",
       "    <tr>\n",
       "      <td>85096716723</td>\n",
       "      <td>2020</td>\n",
       "      <td>NaN</td>\n",
       "      <td>https://www.scopus.com/inward/record.uri?eid=2...</td>\n",
       "      <td>The use of Twitter by newspapers is widespread...</td>\n",
       "      <td>85096716723</td>\n",
       "    </tr>\n",
       "    <tr>\n",
       "      <td>85090341003</td>\n",
       "      <td>2020</td>\n",
       "      <td>NaN</td>\n",
       "      <td>https://www.scopus.com/inward/record.uri?eid=2...</td>\n",
       "      <td>In the present technological era, healthcare p...</td>\n",
       "      <td>85090341003</td>\n",
       "    </tr>\n",
       "    <tr>\n",
       "      <td>85081137773</td>\n",
       "      <td>2020</td>\n",
       "      <td>1</td>\n",
       "      <td>https://www.scopus.com/inward/record.uri?eid=2...</td>\n",
       "      <td>Internet of Things (IoT) devices have connecte...</td>\n",
       "      <td>85081137773</td>\n",
       "    </tr>\n",
       "    <tr>\n",
       "      <td>85081685033</td>\n",
       "      <td>2020</td>\n",
       "      <td>NaN</td>\n",
       "      <td>https://www.scopus.com/inward/record.uri?eid=2...</td>\n",
       "      <td>Subject Matter/Topic.Today, the issues of lega...</td>\n",
       "      <td>85081685033</td>\n",
       "    </tr>\n",
       "    <tr>\n",
       "      <td>85087559608</td>\n",
       "      <td>2020</td>\n",
       "      <td>1</td>\n",
       "      <td>https://www.scopus.com/inward/record.uri?eid=2...</td>\n",
       "      <td>Terrorism is emerging as one of the most serio...</td>\n",
       "      <td>85087559608</td>\n",
       "    </tr>\n",
       "  </tbody>\n",
       "</table>\n",
       "<p>7405 rows × 5 columns</p>\n",
       "</div>"
      ],
      "text/plain": [
       "             Year Cited by                                               Link  \\\n",
       "EID                                                                             \n",
       "85099418104  2021      NaN  https://www.scopus.com/inward/record.uri?eid=2...   \n",
       "85099378785  2021      NaN  https://www.scopus.com/inward/record.uri?eid=2...   \n",
       "85094573545  2021      NaN  https://www.scopus.com/inward/record.uri?eid=2...   \n",
       "85100650454  2021      NaN  https://www.scopus.com/inward/record.uri?eid=2...   \n",
       "85101111750  2021      NaN  https://www.scopus.com/inward/record.uri?eid=2...   \n",
       "...           ...      ...                                                ...   \n",
       "85096716723  2020      NaN  https://www.scopus.com/inward/record.uri?eid=2...   \n",
       "85090341003  2020      NaN  https://www.scopus.com/inward/record.uri?eid=2...   \n",
       "85081137773  2020        1  https://www.scopus.com/inward/record.uri?eid=2...   \n",
       "85081685033  2020      NaN  https://www.scopus.com/inward/record.uri?eid=2...   \n",
       "85087559608  2020        1  https://www.scopus.com/inward/record.uri?eid=2...   \n",
       "\n",
       "                                                      Abstract          EID  \n",
       "EID                                                                          \n",
       "85099418104  Generally, the decision rule for classifying u...  85099418104  \n",
       "85099378785  This survey explores how Deep Learning has bat...  85099378785  \n",
       "85094573545  The way electorates were influenced to vote fo...  85094573545  \n",
       "85100650454  This study is informed by two research gaps. O...  85100650454  \n",
       "85101111750  Over recent years, the development of online s...  85101111750  \n",
       "...                                                        ...          ...  \n",
       "85096716723  The use of Twitter by newspapers is widespread...  85096716723  \n",
       "85090341003  In the present technological era, healthcare p...  85090341003  \n",
       "85081137773  Internet of Things (IoT) devices have connecte...  85081137773  \n",
       "85081685033  Subject Matter/Topic.Today, the issues of lega...  85081685033  \n",
       "85087559608  Terrorism is emerging as one of the most serio...  85087559608  \n",
       "\n",
       "[7405 rows x 5 columns]"
      ]
     },
     "execution_count": 5,
     "metadata": {},
     "output_type": "execute_result"
    }
   ],
   "source": [
    "arts = arts[arts['EID'].str.find('2-s2.')>=0] #deleting this strange lines\n",
    "arts['EID'] = arts['EID'].apply(lambda x: x.replace('2-s2.0-',''))\n",
    "arts.set_index(arts['EID'],inplace=True)\n",
    "arts"
   ]
  },
  {
   "cell_type": "markdown",
   "metadata": {},
   "source": [
    "# Topic Modeling"
   ]
  },
  {
   "cell_type": "code",
   "execution_count": 13,
   "metadata": {},
   "outputs": [
    {
     "name": "stdout",
     "output_type": "stream",
     "text": [
      "21777 7405\n"
     ]
    }
   ],
   "source": [
    "x_train = [abstract for abstract in ids.abstract]\n",
    "x_test = [abstract for abstract in arts.Abstract]\n",
    "\n",
    "print(len(x_train),len(x_test))\n",
    "#x_train = x_train.extend(x_test)\n",
    "\n",
    "\n",
    "\n",
    "\n"
   ]
  },
  {
   "cell_type": "code",
   "execution_count": 14,
   "metadata": {},
   "outputs": [
    {
     "name": "stderr",
     "output_type": "stream",
     "text": [
      "[nltk_data] Downloading package stopwords to\n",
      "[nltk_data]     C:\\Users\\carlo\\AppData\\Roaming\\nltk_data...\n",
      "[nltk_data]   Package stopwords is already up-to-date!\n"
     ]
    }
   ],
   "source": [
    "from sklearn.feature_extraction.text import CountVectorizer\n",
    "import nltk\n",
    "nltk.download('stopwords')\n",
    "from nltk.corpus import stopwords\n",
    "\n",
    "it_stopwords = stopwords.words('english')\n",
    "\n",
    "tf_vectorizer = CountVectorizer(stop_words=it_stopwords, max_df=0.5, min_df=5,max_features = 1000, ngram_range=(1,2))\n",
    "tf = tf_vectorizer.fit_transform(x_train)\n"
   ]
  },
  {
   "cell_type": "code",
   "execution_count": 15,
   "metadata": {},
   "outputs": [
    {
     "name": "stdout",
     "output_type": "stream",
     "text": [
      "iteration: 1 of max_iter: 10\n",
      "iteration: 2 of max_iter: 10\n",
      "iteration: 3 of max_iter: 10\n",
      "iteration: 4 of max_iter: 10\n",
      "iteration: 5 of max_iter: 10\n",
      "iteration: 6 of max_iter: 10\n",
      "iteration: 7 of max_iter: 10\n",
      "iteration: 8 of max_iter: 10\n",
      "iteration: 9 of max_iter: 10\n",
      "iteration: 10 of max_iter: 10\n"
     ]
    },
    {
     "data": {
      "text/plain": [
       "LatentDirichletAllocation(batch_size=128, doc_topic_prior=None,\n",
       "                          evaluate_every=-1, learning_decay=0.7,\n",
       "                          learning_method='batch', learning_offset=10.0,\n",
       "                          max_doc_update_iter=100, max_iter=10,\n",
       "                          mean_change_tol=0.001, n_components=8, n_jobs=-1,\n",
       "                          perp_tol=0.1, random_state=None,\n",
       "                          topic_word_prior=None, total_samples=1000000.0,\n",
       "                          verbose=1)"
      ]
     },
     "execution_count": 15,
     "metadata": {},
     "output_type": "execute_result"
    }
   ],
   "source": [
    "from sklearn.decomposition import LatentDirichletAllocation\n",
    "\n",
    "n_components = 8\n",
    "\n",
    "lda = LatentDirichletAllocation(n_components=n_components, max_iter=10,\n",
    "                                learning_method = 'batch',\n",
    "                                n_jobs=-1,verbose=1)\n",
    "lda.fit(tf)\n"
   ]
  },
  {
   "cell_type": "code",
   "execution_count": 9,
   "metadata": {},
   "outputs": [],
   "source": [
    "def print_top_words(model, feature_names, n_top_words):\n",
    "    for topic_idx, topic in enumerate(model.components_):\n",
    "        message = f'Topic {topic_idx}: '\n",
    "        message += ', '.join([feature_names[i]\n",
    "                             for i in topic.argsort()[:-n_top_words - 1:-1]])\n",
    "        print(message)\n",
    "    print()"
   ]
  },
  {
   "cell_type": "code",
   "execution_count": 16,
   "metadata": {},
   "outputs": [
    {
     "name": "stdout",
     "output_type": "stream",
     "text": [
      "Topic 0: data, network, system, security, based, model, event, traffic, learning, set, risk, machine, analysis, attack, detection, time, module, using, machine learning, behavior\n",
      "Topic 1: file, code, malicious, software, program, message, malware, application, method, domain, document, files, name, call, web, computer, detection, based, whether, system\n",
      "Topic 2: one, least, least one, data, plurality, includes, method, content, based, input, set, associated, system, first, configured, processor, processing, memory, including, determining\n",
      "Topic 3: information, user, invention, method, terminal, system, data, according, present, present invention, management, module, service, server, mobile, comprises, time, provides, video, platform\n",
      "Topic 4: first, data, second, device, network, communication, server, node, key, system, authentication, electronic, information, method, transaction, storage, user, using, block, includes\n",
      "Topic 5: control, system, unit, module, device, vehicle, connected, signal, monitoring, power, sensor, provided, display, end, invention, camera, body, machine, means, comprises\n",
      "Topic 6: image, method, invention, model, data, feature, target, detection, based, object, according, present, using, training, present invention, recognition, sample, value, characteristic, classification\n",
      "Topic 7: user, may, device, computing, system, computer, systems, methods, include, application, based, one, devices, client, network, media, access, disclosed, content, virtual\n",
      "\n"
     ]
    }
   ],
   "source": [
    "n_top_words = 20\n",
    "tf_feature_names = tf_vectorizer.get_feature_names()\n",
    "print_top_words(lda, tf_feature_names, n_top_words)"
   ]
  },
  {
   "cell_type": "code",
   "execution_count": 10,
   "metadata": {},
   "outputs": [
    {
     "name": "stdout",
     "output_type": "stream",
     "text": [
      "Topic 0: malware, detection, learning, based, machine, malicious, machine learning, features, using, model, network, classification, neural, analysis, android, feature, accuracy, method, system, proposed\n",
      "Topic 1: device, data, network, may, computer, one, system, first, user, based, computing, security, application, systems, include, method, methods, second, associated, devices\n",
      "Topic 2: information, method, data, invention, according, target, model, network, comprises, present, based, present invention, corresponding, steps, first, result, value, node, discloses, terminal\n",
      "Topic 3: social, data, information, media, security, analysis, paper, based, using, cyber, social media, research, use, used, systems, also, intelligence, results, election, networks\n",
      "Topic 4: image, control, device, unit, video, system, signal, invention, recognition, display, sensor, object, power, face, detection, camera, connected, method, area, monitoring\n",
      "Topic 5: user, information, system, content, vehicle, server, authentication, method, present, communication, device, invention, terminal, key, present invention, service, electronic, transaction, using, based\n",
      "Topic 6: one, least, first, least one, plurality, set, data, second, includes, method, based, input, system, said, associated, document, value, machine, comprising, provided\n",
      "Topic 7: data, module, system, management, time, news, platform, real, fake, real time, cloud, analysis, fake news, user, processing, service, big, monitoring, big data, network\n",
      "\n"
     ]
    }
   ],
   "source": [
    "n_top_words = 20\n",
    "tf_feature_names = tf_vectorizer.get_feature_names()\n",
    "print_top_words(lda, tf_feature_names, n_top_words)"
   ]
  },
  {
   "cell_type": "code",
   "execution_count": 17,
   "metadata": {},
   "outputs": [
    {
     "data": {
      "text/plain": [
       "array([[0.00272057, 0.00271934, 0.00272074, ..., 0.00272198, 0.92976973,\n",
       "        0.00271961],\n",
       "       [0.00178654, 0.00178676, 0.00178971, ..., 0.0017882 , 0.58325176,\n",
       "        0.00178751],\n",
       "       [0.00432007, 0.00432125, 0.00431384, ..., 0.00431411, 0.00431644,\n",
       "        0.69105733],\n",
       "       ...,\n",
       "       [0.16776644, 0.00164661, 0.0016458 , ..., 0.27879357, 0.18347814,\n",
       "        0.0016461 ],\n",
       "       [0.00115891, 0.34693712, 0.10014695, ..., 0.29690568, 0.00115967,\n",
       "        0.00115982],\n",
       "       [0.00266244, 0.00266179, 0.33077775, ..., 0.50136357, 0.15454628,\n",
       "        0.00266233]])"
      ]
     },
     "execution_count": 17,
     "metadata": {},
     "output_type": "execute_result"
    }
   ],
   "source": [
    "doc_topics = lda.transform(tf)\n",
    "doc_topics"
   ]
  },
  {
   "cell_type": "code",
   "execution_count": 19,
   "metadata": {},
   "outputs": [],
   "source": [
    "ids['topic'] = np.argmax(doc_topics,axis=1)"
   ]
  },
  {
   "cell_type": "code",
   "execution_count": 20,
   "metadata": {},
   "outputs": [
    {
     "data": {
      "text/plain": [
       "7    3910\n",
       "5    3259\n",
       "6    2999\n",
       "2    2963\n",
       "0    2758\n",
       "3    2694\n",
       "4    2300\n",
       "1     894\n",
       "Name: topic, dtype: int64"
      ]
     },
     "execution_count": 20,
     "metadata": {},
     "output_type": "execute_result"
    }
   ],
   "source": [
    "ids['topic'].value_counts()"
   ]
  },
  {
   "cell_type": "code",
   "execution_count": 18,
   "metadata": {},
   "outputs": [
    {
     "data": {
      "text/plain": [
       "array([[0.37654146, 0.00125167, 0.00125226, ..., 0.07980312, 0.48750139,\n",
       "        0.05114678],\n",
       "       [0.29859618, 0.00183989, 0.00184113, ..., 0.00183941, 0.48215709,\n",
       "        0.14533458],\n",
       "       [0.17384004, 0.00260665, 0.00260662, ..., 0.10637982, 0.0026095 ,\n",
       "        0.47312797],\n",
       "       ...,\n",
       "       [0.54653629, 0.00117039, 0.00116895, ..., 0.2272452 , 0.00117119,\n",
       "        0.00117006],\n",
       "       [0.04886962, 0.0009863 , 0.15164142, ..., 0.03596778, 0.00098586,\n",
       "        0.35984003],\n",
       "       [0.1164423 , 0.00083975, 0.00084089, ..., 0.37960909, 0.00084059,\n",
       "        0.22976872]])"
      ]
     },
     "execution_count": 18,
     "metadata": {},
     "output_type": "execute_result"
    }
   ],
   "source": [
    "tf2 = tf_vectorizer.transform(x_test)\n",
    "arts_topics = lda.transform(tf2)\n"
   ]
  },
  {
   "cell_type": "code",
   "execution_count": 21,
   "metadata": {},
   "outputs": [
    {
     "name": "stderr",
     "output_type": "stream",
     "text": [
      "C:\\Users\\carlo\\Anaconda3\\lib\\site-packages\\ipykernel_launcher.py:1: SettingWithCopyWarning: \n",
      "A value is trying to be set on a copy of a slice from a DataFrame.\n",
      "Try using .loc[row_indexer,col_indexer] = value instead\n",
      "\n",
      "See the caveats in the documentation: http://pandas.pydata.org/pandas-docs/stable/user_guide/indexing.html#returning-a-view-versus-a-copy\n",
      "  \"\"\"Entry point for launching an IPython kernel.\n"
     ]
    },
    {
     "data": {
      "text/plain": [
       "0    3617\n",
       "6    1696\n",
       "1     837\n",
       "7     561\n",
       "3     294\n",
       "5     238\n",
       "4     107\n",
       "2      55\n",
       "Name: topic, dtype: int64"
      ]
     },
     "execution_count": 21,
     "metadata": {},
     "output_type": "execute_result"
    }
   ],
   "source": [
    "arts['topic'] = np.argmax(arts_topics,axis=1)\n",
    "arts['topic'].value_counts()"
   ]
  },
  {
   "cell_type": "code",
   "execution_count": 23,
   "metadata": {},
   "outputs": [],
   "source": [
    "ids.to_csv('../patents/q2_topics.csv')\n",
    "arts.to_csv('../papers/q2_topics.csv')"
   ]
  },
  {
   "cell_type": "code",
   "execution_count": null,
   "metadata": {},
   "outputs": [],
   "source": []
  }
 ],
 "metadata": {
  "kernelspec": {
   "display_name": "Python 3",
   "language": "python",
   "name": "python3"
  },
  "language_info": {
   "codemirror_mode": {
    "name": "ipython",
    "version": 3
   },
   "file_extension": ".py",
   "mimetype": "text/x-python",
   "name": "python",
   "nbconvert_exporter": "python",
   "pygments_lexer": "ipython3",
   "version": "3.7.4"
  }
 },
 "nbformat": 4,
 "nbformat_minor": 2
}
