{
 "cells": [
  {
   "cell_type": "code",
   "execution_count": 1,
   "metadata": {},
   "outputs": [
    {
     "name": "stderr",
     "output_type": "stream",
     "text": [
      "In C:\\Users\\carlo\\Anaconda3\\lib\\site-packages\\matplotlib\\mpl-data\\stylelib\\_classic_test.mplstyle: \n",
      "The text.latex.preview rcparam was deprecated in Matplotlib 3.3 and will be removed two minor releases later.\n",
      "In C:\\Users\\carlo\\Anaconda3\\lib\\site-packages\\matplotlib\\mpl-data\\stylelib\\_classic_test.mplstyle: \n",
      "The mathtext.fallback_to_cm rcparam was deprecated in Matplotlib 3.3 and will be removed two minor releases later.\n",
      "In C:\\Users\\carlo\\Anaconda3\\lib\\site-packages\\matplotlib\\mpl-data\\stylelib\\_classic_test.mplstyle: Support for setting the 'mathtext.fallback_to_cm' rcParam is deprecated since 3.3 and will be removed two minor releases later; use 'mathtext.fallback : 'cm' instead.\n",
      "In C:\\Users\\carlo\\Anaconda3\\lib\\site-packages\\matplotlib\\mpl-data\\stylelib\\_classic_test.mplstyle: \n",
      "The validate_bool_maybe_none function was deprecated in Matplotlib 3.3 and will be removed two minor releases later.\n",
      "In C:\\Users\\carlo\\Anaconda3\\lib\\site-packages\\matplotlib\\mpl-data\\stylelib\\_classic_test.mplstyle: \n",
      "The savefig.jpeg_quality rcparam was deprecated in Matplotlib 3.3 and will be removed two minor releases later.\n",
      "In C:\\Users\\carlo\\Anaconda3\\lib\\site-packages\\matplotlib\\mpl-data\\stylelib\\_classic_test.mplstyle: \n",
      "The keymap.all_axes rcparam was deprecated in Matplotlib 3.3 and will be removed two minor releases later.\n",
      "In C:\\Users\\carlo\\Anaconda3\\lib\\site-packages\\matplotlib\\mpl-data\\stylelib\\_classic_test.mplstyle: \n",
      "The animation.avconv_path rcparam was deprecated in Matplotlib 3.3 and will be removed two minor releases later.\n",
      "In C:\\Users\\carlo\\Anaconda3\\lib\\site-packages\\matplotlib\\mpl-data\\stylelib\\_classic_test.mplstyle: \n",
      "The animation.avconv_args rcparam was deprecated in Matplotlib 3.3 and will be removed two minor releases later.\n",
      "C:\\Users\\carlo\\Anaconda3\\lib\\site-packages\\past\\types\\oldstr.py:5: DeprecationWarning: Using or importing the ABCs from 'collections' instead of from 'collections.abc' is deprecated, and in 3.8 it will stop working\n",
      "  from collections import Iterable\n",
      "C:\\Users\\carlo\\Anaconda3\\lib\\site-packages\\past\\builtins\\misc.py:4: DeprecationWarning: Using or importing the ABCs from 'collections' instead of from 'collections.abc' is deprecated, and in 3.8 it will stop working\n",
      "  from collections import Mapping\n"
     ]
    },
    {
     "name": "stdout",
     "output_type": "stream",
     "text": [
      "Python Version: 3.7.4 (default, Aug  9 2019, 18:34:13) [MSC v.1915 64 bit (AMD64)]\n"
     ]
    }
   ],
   "source": [
    "import numpy as np\n",
    "import pandas as pd \n",
    "import re \n",
    "import gensim \n",
    "import json\n",
    "import timeit\n",
    "import networkx as nx\n",
    "import matplotlib.pyplot as plt\n",
    "import os\n",
    "import sys\n",
    "import pyLDAvis\n",
    "import pyLDAvis.gensim\n",
    "\n",
    "from gensim import corpora\n",
    "from gensim import models\n",
    "from gensim.models.coherencemodel import CoherenceModel\n",
    "\n",
    "print('Python Version: %s' % (sys.version))\n",
    "%matplotlib inline"
   ]
  },
  {
   "cell_type": "code",
   "execution_count": 20,
   "metadata": {
    "scrolled": true
   },
   "outputs": [
    {
     "name": "stderr",
     "output_type": "stream",
     "text": [
      "C:\\Users\\carlo\\Anaconda3\\lib\\site-packages\\pyLDAvis\\_prepare.py:257: FutureWarning: Sorting because non-concatenation axis is not aligned. A future version\n",
      "of pandas will change to not sort by default.\n",
      "\n",
      "To accept the future behavior, pass 'sort=False'.\n",
      "\n",
      "To retain the current behavior and silence the warning, pass 'sort=True'.\n",
      "\n",
      "  return pd.concat([default_term_info] + list(topic_dfs))\n"
     ]
    }
   ],
   "source": [
    "import pyLDAvis.gensim\n",
    "import pickle \n",
    "import pyLDAvis# Visualize the topics\n",
    "pyLDAvis.enable_notebook()\n",
    "LDAvis_prepared = pyLDAvis.gensim.prepare(lda_model, corpus, id2word)\n",
    "LDAvis_prepared\n",
    "\n",
    "from spacy.lang.en import English"
   ]
  },
  {
   "cell_type": "code",
   "execution_count": 41,
   "metadata": {},
   "outputs": [
    {
     "data": {
      "text/html": [
       "<div>\n",
       "<style scoped>\n",
       "    .dataframe tbody tr th:only-of-type {\n",
       "        vertical-align: middle;\n",
       "    }\n",
       "\n",
       "    .dataframe tbody tr th {\n",
       "        vertical-align: top;\n",
       "    }\n",
       "\n",
       "    .dataframe thead th {\n",
       "        text-align: right;\n",
       "    }\n",
       "</style>\n",
       "<table border=\"1\" class=\"dataframe\">\n",
       "  <thead>\n",
       "    <tr style=\"text-align: right;\">\n",
       "      <th></th>\n",
       "      <th>code</th>\n",
       "      <th>title</th>\n",
       "      <th>pub_date</th>\n",
       "      <th>citations</th>\n",
       "      <th>abstract</th>\n",
       "      <th>class</th>\n",
       "      <th>year</th>\n",
       "    </tr>\n",
       "  </thead>\n",
       "  <tbody>\n",
       "    <tr>\n",
       "      <td>0</td>\n",
       "      <td>US8370262B2</td>\n",
       "      <td>System and method for performing secure online...</td>\n",
       "      <td>2013-02-05</td>\n",
       "      <td>['US10681025B2', 'CN106664208B', 'AU2012261635...</td>\n",
       "      <td>\\nThe system and method performing secure onli...</td>\n",
       "      <td>G06</td>\n",
       "      <td>2013</td>\n",
       "    </tr>\n",
       "    <tr>\n",
       "      <td>1</td>\n",
       "      <td>US10237070B2</td>\n",
       "      <td>System and method for sharing keys across auth...</td>\n",
       "      <td>2019-03-19</td>\n",
       "      <td>['US10268809B2', 'JP6538821B2', 'KR101721032B1...</td>\n",
       "      <td>\\nA system, apparatus, method, and machine rea...</td>\n",
       "      <td>H04</td>\n",
       "      <td>2019</td>\n",
       "    </tr>\n",
       "    <tr>\n",
       "      <td>2</td>\n",
       "      <td>US10637853B2</td>\n",
       "      <td>Authentication techniques including speech and...</td>\n",
       "      <td>2020-04-28</td>\n",
       "      <td>['US10706421B2', 'US20160269411A1', 'US1021258...</td>\n",
       "      <td>\\nA system, apparatus, method, and machine rea...</td>\n",
       "      <td>H04</td>\n",
       "      <td>2020</td>\n",
       "    </tr>\n",
       "    <tr>\n",
       "      <td>3</td>\n",
       "      <td>US10558974B2</td>\n",
       "      <td>Methods and systems of providing verification ...</td>\n",
       "      <td>2020-02-11</td>\n",
       "      <td>['US20190149537A1', 'US20180308098A1', 'US2018...</td>\n",
       "      <td>\\nA method and system of providing verificatio...</td>\n",
       "      <td>G06</td>\n",
       "      <td>2020</td>\n",
       "    </tr>\n",
       "    <tr>\n",
       "      <td>4</td>\n",
       "      <td>US10769635B2</td>\n",
       "      <td>Authentication techniques including speech and...</td>\n",
       "      <td>2020-09-08</td>\n",
       "      <td>['US9531710B2', 'US10706421B2', 'US20160269411...</td>\n",
       "      <td>\\nA system, apparatus, method, and machine rea...</td>\n",
       "      <td>G06</td>\n",
       "      <td>2020</td>\n",
       "    </tr>\n",
       "    <tr>\n",
       "      <td>...</td>\n",
       "      <td>...</td>\n",
       "      <td>...</td>\n",
       "      <td>...</td>\n",
       "      <td>...</td>\n",
       "      <td>...</td>\n",
       "      <td>...</td>\n",
       "      <td>...</td>\n",
       "    </tr>\n",
       "    <tr>\n",
       "      <td>9471</td>\n",
       "      <td>KR100477956B1</td>\n",
       "      <td>System and method for filtering message edited...</td>\n",
       "      <td>2005-03-23</td>\n",
       "      <td>['US9501746B2', 'US10110519B2', 'US7133898B1',...</td>\n",
       "      <td>\\r\\nA method and system for filtering a messag...</td>\n",
       "      <td>H04</td>\n",
       "      <td>2005</td>\n",
       "    </tr>\n",
       "    <tr>\n",
       "      <td>9472</td>\n",
       "      <td>FR3092468A1</td>\n",
       "      <td>Secure registration and building control system</td>\n",
       "      <td>2020-08-07</td>\n",
       "      <td>['US20150173255A1', 'US10147307B2', 'US9135807...</td>\n",
       "      <td>\\r\\n \\r\\n    \\r\\n            [Systme denregis...</td>\n",
       "      <td>H04</td>\n",
       "      <td>2020</td>\n",
       "    </tr>\n",
       "    <tr>\n",
       "      <td>9473</td>\n",
       "      <td>CN105723378B</td>\n",
       "      <td>Protection system including safety regulation ...</td>\n",
       "      <td>2019-06-18</td>\n",
       "      <td>['JP2017034696A', 'CN107852410B', 'CN105210042...</td>\n",
       "      <td>\\nThis disclosure relates to a kind of protect...</td>\n",
       "      <td>H04</td>\n",
       "      <td>2019</td>\n",
       "    </tr>\n",
       "    <tr>\n",
       "      <td>9474</td>\n",
       "      <td>EP2813983A1</td>\n",
       "      <td>Method and system for managing social interact...</td>\n",
       "      <td>2014-12-17</td>\n",
       "      <td>['US10324776B2', 'EP2883359B1', 'US9536329B2',...</td>\n",
       "      <td>\\r\\nA method for managing social interactions ...</td>\n",
       "      <td>G06</td>\n",
       "      <td>2014</td>\n",
       "    </tr>\n",
       "    <tr>\n",
       "      <td>9475</td>\n",
       "      <td>WO2006107201A1</td>\n",
       "      <td>Method and system for generating passwords</td>\n",
       "      <td>2006-10-12</td>\n",
       "      <td>['CA2417901C', 'US6845453B2', 'AU2009200408B2'...</td>\n",
       "      <td>\\r\\nThe invention relates to a method for repr...</td>\n",
       "      <td>H04</td>\n",
       "      <td>2006</td>\n",
       "    </tr>\n",
       "  </tbody>\n",
       "</table>\n",
       "<p>9476 rows × 7 columns</p>\n",
       "</div>"
      ],
      "text/plain": [
       "                code                                              title  \\\n",
       "0        US8370262B2  System and method for performing secure online...   \n",
       "1       US10237070B2  System and method for sharing keys across auth...   \n",
       "2       US10637853B2  Authentication techniques including speech and...   \n",
       "3       US10558974B2  Methods and systems of providing verification ...   \n",
       "4       US10769635B2  Authentication techniques including speech and...   \n",
       "...              ...                                                ...   \n",
       "9471   KR100477956B1  System and method for filtering message edited...   \n",
       "9472     FR3092468A1   Secure registration and building control system    \n",
       "9473    CN105723378B  Protection system including safety regulation ...   \n",
       "9474     EP2813983A1  Method and system for managing social interact...   \n",
       "9475  WO2006107201A1        Method and system for generating passwords    \n",
       "\n",
       "        pub_date                                          citations  \\\n",
       "0     2013-02-05  ['US10681025B2', 'CN106664208B', 'AU2012261635...   \n",
       "1     2019-03-19  ['US10268809B2', 'JP6538821B2', 'KR101721032B1...   \n",
       "2     2020-04-28  ['US10706421B2', 'US20160269411A1', 'US1021258...   \n",
       "3     2020-02-11  ['US20190149537A1', 'US20180308098A1', 'US2018...   \n",
       "4     2020-09-08  ['US9531710B2', 'US10706421B2', 'US20160269411...   \n",
       "...          ...                                                ...   \n",
       "9471  2005-03-23  ['US9501746B2', 'US10110519B2', 'US7133898B1',...   \n",
       "9472  2020-08-07  ['US20150173255A1', 'US10147307B2', 'US9135807...   \n",
       "9473  2019-06-18  ['JP2017034696A', 'CN107852410B', 'CN105210042...   \n",
       "9474  2014-12-17  ['US10324776B2', 'EP2883359B1', 'US9536329B2',...   \n",
       "9475  2006-10-12  ['CA2417901C', 'US6845453B2', 'AU2009200408B2'...   \n",
       "\n",
       "                                               abstract class  year  \n",
       "0     \\nThe system and method performing secure onli...   G06  2013  \n",
       "1     \\nA system, apparatus, method, and machine rea...   H04  2019  \n",
       "2     \\nA system, apparatus, method, and machine rea...   H04  2020  \n",
       "3     \\nA method and system of providing verificatio...   G06  2020  \n",
       "4     \\nA system, apparatus, method, and machine rea...   G06  2020  \n",
       "...                                                 ...   ...   ...  \n",
       "9471  \\r\\nA method and system for filtering a messag...   H04  2005  \n",
       "9472   \\r\\n \\r\\n    \\r\\n            [Systme denregis...   H04  2020  \n",
       "9473  \\nThis disclosure relates to a kind of protect...   H04  2019  \n",
       "9474  \\r\\nA method for managing social interactions ...   G06  2014  \n",
       "9475  \\r\\nThe invention relates to a method for repr...   H04  2006  \n",
       "\n",
       "[9476 rows x 7 columns]"
      ]
     },
     "execution_count": 41,
     "metadata": {},
     "output_type": "execute_result"
    }
   ],
   "source": [
    "brev = pd.read_csv(\"../data/gp-q2-clean.csv\")\n",
    "brev"
   ]
  },
  {
   "cell_type": "code",
   "execution_count": 5,
   "metadata": {},
   "outputs": [],
   "source": [
    "scop = pd.read_csv(\"../data/scopus-q2-clean.csv\")"
   ]
  },
  {
   "cell_type": "markdown",
   "metadata": {},
   "source": [
    "## TEXT PREPROCESSING"
   ]
  },
  {
   "cell_type": "code",
   "execution_count": 8,
   "metadata": {},
   "outputs": [
    {
     "name": "stderr",
     "output_type": "stream",
     "text": [
      "<>:3: DeprecationWarning: invalid escape sequence \\.\n",
      "<>:3: DeprecationWarning: invalid escape sequence \\.\n",
      "<>:3: DeprecationWarning: invalid escape sequence \\.\n",
      "<ipython-input-8-b8811669afc8>:3: DeprecationWarning: invalid escape sequence \\.\n",
      "  brev['abstract_processed'] = brev['abstract'].map(lambda x: re.sub('[,\\.!?]', '', x))# Convert the titles to lowercase\n"
     ]
    },
    {
     "data": {
      "text/plain": [
       "0    \\nThe system and method performing secure onli...\n",
       "1    \\nA system, apparatus, method, and machine rea...\n",
       "2    \\nA system, apparatus, method, and machine rea...\n",
       "3    \\nA method and system of providing verificatio...\n",
       "4    \\nA system, apparatus, method, and machine rea...\n",
       "Name: abstract, dtype: object"
      ]
     },
     "execution_count": 8,
     "metadata": {},
     "output_type": "execute_result"
    }
   ],
   "source": [
    "# Load the regular expression library\n",
    "import re# Remove punctuation\n",
    "brev['abstract_processed'] = brev['abstract'].map(lambda x: re.sub('[,\\.!?]', '', x))# Convert the titles to lowercase\n",
    "brev['abstract_processed'] = brev['abstract_processed'].map(lambda x: x.lower())# Print out the first rows of papers\n",
    "brev['abstract'].head()"
   ]
  },
  {
   "cell_type": "code",
   "execution_count": 10,
   "metadata": {},
   "outputs": [
    {
     "name": "stdout",
     "output_type": "stream",
     "text": [
      "['the', 'system', 'and', 'method', 'performing', 'secure', 'online', 'transactions', 'based', 'on', 'challenge', 'response', 'procedures', 'executed', 'by', 'terminal', 'of', 'at', 'least', 'one', 'customer', 'and', 'by', 'terminal', 'of', 'service', 'provider', 'such', 'as', 'bank']\n"
     ]
    }
   ],
   "source": [
    "import gensim\n",
    "from gensim.utils import simple_preprocess\n",
    "def sent_to_words(sentences):\n",
    "    for sentence in sentences:\n",
    "        yield(gensim.utils.simple_preprocess(str(sentence), deacc=True))  # deacc=True removes punctuations\n",
    "data = brev.abstract_processed.values.tolist()\n",
    "data_words = list(sent_to_words(data))\n",
    "print(data_words[:1][0][:30])"
   ]
  },
  {
   "cell_type": "code",
   "execution_count": 11,
   "metadata": {},
   "outputs": [],
   "source": [
    "# Build the bigram and trigram models\n",
    "bigram = gensim.models.Phrases(data_words, min_count=5, threshold=100) # higher threshold fewer phrases.\n",
    "trigram = gensim.models.Phrases(bigram[data_words], threshold=100)# Faster way to get a sentence clubbed as a trigram/bigram\n",
    "bigram_mod = gensim.models.phrases.Phraser(bigram)\n",
    "trigram_mod = gensim.models.phrases.Phraser(trigram)"
   ]
  },
  {
   "cell_type": "code",
   "execution_count": 12,
   "metadata": {},
   "outputs": [
    {
     "name": "stderr",
     "output_type": "stream",
     "text": [
      "C:\\Users\\carlo\\Anaconda3\\lib\\site-packages\\nltk\\decorators.py:68: DeprecationWarning: `formatargspec` is deprecated since Python 3.5. Use `signature` and the `Signature` object directly\n",
      "  regargs, varargs, varkwargs, defaults, formatvalue=lambda value: \"\"\n",
      "C:\\Users\\carlo\\Anaconda3\\lib\\site-packages\\nltk\\lm\\counter.py:15: DeprecationWarning: Using or importing the ABCs from 'collections' instead of from 'collections.abc' is deprecated, and in 3.8 it will stop working\n",
      "  from collections import Sequence, defaultdict\n"
     ]
    }
   ],
   "source": [
    "# NLTK Stop words\n",
    "# import nltk\n",
    "# nltk.download('stopwords')\n",
    "from nltk.corpus import stopwords\n",
    "stop_words = stopwords.words('english')\n",
    "stop_words.extend(['from', 'subject', 're', 'edu', 'use'])# Define functions for stopwords, bigrams, trigrams and lemmatization\n",
    "def remove_stopwords(texts):\n",
    "    return [[word for word in simple_preprocess(str(doc))\n",
    "             if word not in stop_words] for doc in texts]\n",
    "def make_bigrams(texts):\n",
    "    return [bigram_mod[doc] for doc in texts]\n",
    "def make_trigrams(texts):\n",
    "    return [trigram_mod[bigram_mod[doc]] for doc in texts]\n",
    "def lemmatization(texts, allowed_postags=['NOUN', 'ADJ', 'VERB', 'ADV']):\n",
    "    \"\"\"https://spacy.io/api/annotation\"\"\"\n",
    "    texts_out = []\n",
    "    for sent in texts:\n",
    "        doc = nlp(\" \".join(sent)) \n",
    "        texts_out.append([token.lemma_ for token in doc if token.pos_ in allowed_postags])\n",
    "    return texts_out"
   ]
  },
  {
   "cell_type": "code",
   "execution_count": 13,
   "metadata": {},
   "outputs": [],
   "source": [
    "import spacy# Remove Stop Words\n",
    "data_words_nostops = remove_stopwords(data_words)# Form Bigrams\n",
    "data_words_bigrams = make_bigrams(data_words_nostops)# Initialize spacy 'en' model, keeping only tagger component (for efficiency)\n",
    "data_lemmatized = data_words_bigrams #in realtà è senza lemmatiazion perchè ci dà problemi"
   ]
  },
  {
   "cell_type": "code",
   "execution_count": 31,
   "metadata": {},
   "outputs": [
    {
     "name": "stdout",
     "output_type": "stream",
     "text": [
      "[[(0, 1), (1, 1), (2, 1), (3, 1), (4, 1), (5, 1), (6, 1), (7, 2), (8, 7), (9, 2), (10, 4), (11, 1), (12, 1), (13, 1), (14, 1), (15, 6), (16, 8), (17, 1), (18, 1), (19, 3), (20, 1), (21, 1), (22, 1), (23, 1), (24, 1), (25, 1), (26, 1), (27, 1), (28, 1), (29, 1), (30, 2), (31, 1), (32, 1), (33, 1), (34, 2), (35, 2), (36, 1), (37, 1), (38, 2), (39, 1), (40, 4), (41, 1), (42, 1), (43, 6), (44, 1), (45, 1), (46, 1), (47, 1), (48, 4), (49, 1), (50, 1), (51, 1), (52, 6), (53, 1), (54, 1), (55, 4), (56, 1), (57, 1)]]\n"
     ]
    }
   ],
   "source": [
    "import gensim.corpora as corpora# Create Dictionary\n",
    "id2word = corpora.Dictionary(data_lemmatized)# Create Corpus\n",
    "texts = data_lemmatized# Term Document Frequency\n",
    "corpus = [id2word.doc2bow(text) for text in texts]# View\n",
    "print(corpus[:1])"
   ]
  },
  {
   "cell_type": "markdown",
   "metadata": {},
   "source": [
    "# Optimal number of topics ? "
   ]
  },
  {
   "cell_type": "code",
   "execution_count": 26,
   "metadata": {},
   "outputs": [],
   "source": [
    "def compute_performance(dictionary, corpus, texts, limit, start=2, step=1):\n",
    "    \"\"\"\n",
    "    Compute c_v coherence and perplexity for various number of topics\n",
    "\n",
    "    Parameters:\n",
    "    ----------\n",
    "    dictionary : Gensim dictionary\n",
    "    corpus : Gensim corpus\n",
    "    texts : List of input texts\n",
    "    limit : Max num of topics\n",
    "\n",
    "    Returns:\n",
    "    -------\n",
    "    model_list : List of LDA topic models\n",
    "    coherence_values : Coherence values corresponding to the LDA model with respective number of topics\n",
    "    perplexity_values : Perplexity values corresponding to the LDA model with respective number of topics\n",
    "    \"\"\"\n",
    "    coherence_values = []\n",
    "    model_list = []\n",
    "    perplexity_values = []\n",
    "    for num_topics in range(start, limit, step):\n",
    "        model = gensim.models.ldamodel.LdaModel(corpus=corpus,\n",
    "                                                num_topics=num_topics, \n",
    "                                                id2word=dictionary,\n",
    "                                                random_state=100,\n",
    "                                                update_every=1,\n",
    "                                                chunksize=100,\n",
    "                                                passes=10,\n",
    "                                                alpha='auto',\n",
    "                                                per_word_topics=True)\n",
    "        model_list.append(model)\n",
    "        coherencemodel = CoherenceModel(model=model, texts=texts, dictionary=dictionary, coherence='c_v')\n",
    "        coherence_values.append(coherencemodel.get_coherence())\n",
    "        perplexity = model.log_perplexity(corpus)\n",
    "        perplexity_values.append(perplexity)\n",
    "\n",
    "    return model_list, coherence_values, perplexity_values"
   ]
  },
  {
   "cell_type": "code",
   "execution_count": 27,
   "metadata": {},
   "outputs": [],
   "source": [
    "model_list, coherence_values, perplexity_values = compute_performance(dictionary=id2word, \n",
    "                                                        corpus=corpus, \n",
    "                                                        texts=data_lemmatized, #dovremmo lemmatizzare\n",
    "                                                        start=2, limit=20, step=1)"
   ]
  },
  {
   "cell_type": "code",
   "execution_count": 28,
   "metadata": {},
   "outputs": [
    {
     "data": {
      "image/png": "[encoded data removed]",
      "text/plain": [
       "<Figure size 432x288 with 2 Axes>"
      ]
     },
     "metadata": {
      "needs_background": "light"
     },
     "output_type": "display_data"
    }
   ],
   "source": [
    "\n",
    "\n",
    "# Show graph\n",
    "limit=20; start=2; step=1;\n",
    "x = range(start, limit, step)\n",
    "fig, ax1 = plt.subplots()\n",
    "color = 'tab:red'\n",
    "plt.xlabel(\"Num Topics\")\n",
    "plt.ylabel(\"Perplexity score\", color=color)\n",
    "ax1.plot(x, perplexity_values, color=color)\n",
    "ax1.tick_params(axis='y', labelcolor=color)\n",
    "\n",
    "ax2 = ax1.twinx() # instantiate a second axes that shares the same x-axis\n",
    "color = 'tab:blue'\n",
    "ax2.set_ylabel('Coherence score', color=color)  # we already handled the x-label with ax1\n",
    "ax2.plot(x, coherence_values, color=color)\n",
    "ax2.tick_params(axis='y', labelcolor=color)\n",
    "\n",
    "fig.tight_layout()  # otherwise the right y-label is slightly clipped\n",
    "plt.show()\n",
    "\n"
   ]
  },
  {
   "cell_type": "markdown",
   "metadata": {},
   "source": [
    "# Use 4 topics"
   ]
  },
  {
   "cell_type": "code",
   "execution_count": 32,
   "metadata": {},
   "outputs": [],
   "source": [
    "lda_model = gensim.models.LdaMulticore(corpus=corpus,\n",
    "                                       id2word=id2word,\n",
    "                                       num_topics=4, \n",
    "                                       random_state=100,\n",
    "                                       chunksize=100,\n",
    "                                       passes=10,\n",
    "                                       per_word_topics=True)"
   ]
  },
  {
   "cell_type": "code",
   "execution_count": 33,
   "metadata": {},
   "outputs": [
    {
     "name": "stdout",
     "output_type": "stream",
     "text": [
      "[(0,\n",
      "  '0.044*\"device\" + 0.019*\"communication\" + 0.018*\"server\" + '\n",
      "  '0.018*\"information\" + 0.018*\"user\" + 0.016*\"mobile\" + 0.016*\"message\" + '\n",
      "  '0.016*\"authentication\" + 0.012*\"terminal\" + 0.011*\"service\"'),\n",
      " (1,\n",
      "  '0.023*\"user\" + 0.021*\"one\" + 0.020*\"data\" + 0.019*\"first\" + 0.016*\"method\" '\n",
      "  '+ 0.015*\"based\" + 0.014*\"may\" + 0.014*\"device\" + 0.014*\"computer\" + '\n",
      "  '0.013*\"least\"'),\n",
      " (2,\n",
      "  '0.034*\"data\" + 0.033*\"network\" + 0.024*\"system\" + 0.018*\"security\" + '\n",
      "  '0.012*\"one\" + 0.010*\"based\" + 0.008*\"may\" + 0.007*\"traffic\" + '\n",
      "  '0.007*\"information\" + 0.006*\"device\"'),\n",
      " (3,\n",
      "  '0.017*\"method\" + 0.017*\"information\" + 0.016*\"data\" + 0.015*\"invention\" + '\n",
      "  '0.011*\"detection\" + 0.011*\"model\" + 0.009*\"according\" + 0.009*\"system\" + '\n",
      "  '0.008*\"unit\" + 0.008*\"module\"')]\n"
     ]
    }
   ],
   "source": [
    "from pprint import pprint# Print the Keyword in the 10 topics\n",
    "pprint(lda_model.print_topics())\n",
    "doc_lda = lda_model[corpus]"
   ]
  },
  {
   "cell_type": "code",
   "execution_count": 34,
   "metadata": {},
   "outputs": [
    {
     "name": "stdout",
     "output_type": "stream",
     "text": [
      "\n",
      "Coherence Score:  0.44171001013762784\n"
     ]
    }
   ],
   "source": [
    "from gensim.models import CoherenceModel# Compute Coherence Score\n",
    "coherence_model_lda = CoherenceModel(model=lda_model, texts=data_lemmatized, dictionary=id2word, coherence='c_v')\n",
    "coherence_lda = coherence_model_lda.get_coherence()\n",
    "print('\\nCoherence Score: ', coherence_lda)"
   ]
  },
  {
   "cell_type": "markdown",
   "metadata": {},
   "source": [
    "# 7 topics"
   ]
  },
  {
   "cell_type": "code",
   "execution_count": 35,
   "metadata": {},
   "outputs": [],
   "source": [
    "lda_model = gensim.models.LdaMulticore(corpus=corpus,\n",
    "                                       id2word=id2word,\n",
    "                                       num_topics=7, \n",
    "                                       random_state=100,\n",
    "                                       chunksize=100,\n",
    "                                       passes=10,\n",
    "                                       per_word_topics=True)"
   ]
  },
  {
   "cell_type": "code",
   "execution_count": 36,
   "metadata": {},
   "outputs": [
    {
     "name": "stdout",
     "output_type": "stream",
     "text": [
      "[(0,\n",
      "  '0.025*\"model\" + 0.023*\"malicious\" + 0.022*\"detection\" + 0.021*\"network\" + '\n",
      "  '0.018*\"based\" + 0.018*\"behavior\" + 0.018*\"data\" + 0.015*\"learning\" + '\n",
      "  '0.015*\"feature\" + 0.012*\"training\"'),\n",
      " (1,\n",
      "  '0.095*\"user\" + 0.038*\"content\" + 0.017*\"mobile\" + 0.014*\"device\" + '\n",
      "  '0.013*\"information\" + 0.011*\"based\" + 0.010*\"display\" + 0.010*\"users\" + '\n",
      "  '0.009*\"method\" + 0.009*\"input\"'),\n",
      " (2,\n",
      "  '0.085*\"data\" + 0.017*\"one\" + 0.017*\"system\" + 0.013*\"node\" + '\n",
      "  '0.013*\"vehicle\" + 0.011*\"nodes\" + 0.010*\"processing\" + 0.009*\"plurality\" + '\n",
      "  '0.008*\"may\" + 0.008*\"sensor\"'),\n",
      " (3,\n",
      "  '0.025*\"information\" + 0.022*\"invention\" + 0.018*\"data\" + 0.017*\"method\" + '\n",
      "  '0.014*\"system\" + 0.013*\"module\" + 0.013*\"unit\" + 0.012*\"according\" + '\n",
      "  '0.011*\"image\" + 0.011*\"terminal\"'),\n",
      " (4,\n",
      "  '0.031*\"data\" + 0.028*\"computer\" + 0.026*\"file\" + 0.025*\"application\" + '\n",
      "  '0.023*\"may\" + 0.020*\"computing\" + 0.019*\"device\" + 0.018*\"method\" + '\n",
      "  '0.015*\"include\" + 0.015*\"disclosed\"'),\n",
      " (5,\n",
      "  '0.036*\"network\" + 0.029*\"device\" + 0.028*\"security\" + 0.025*\"system\" + '\n",
      "  '0.019*\"information\" + 0.012*\"server\" + 0.011*\"one\" + 0.011*\"based\" + '\n",
      "  '0.011*\"service\" + 0.010*\"communication\"'),\n",
      " (6,\n",
      "  '0.068*\"first\" + 0.041*\"second\" + 0.035*\"one\" + 0.024*\"set\" + 0.023*\"least\" '\n",
      "  '+ 0.018*\"plurality\" + 0.017*\"method\" + 0.017*\"event\" + 0.017*\"message\" + '\n",
      "  '0.013*\"includes\"')]\n"
     ]
    }
   ],
   "source": [
    "from pprint import pprint# Print the Keyword in the 10 topics\n",
    "pprint(lda_model.print_topics())\n",
    "doc_lda = lda_model[corpus]"
   ]
  },
  {
   "cell_type": "code",
   "execution_count": 34,
   "metadata": {},
   "outputs": [
    {
     "name": "stdout",
     "output_type": "stream",
     "text": [
      "\n",
      "Coherence Score:  0.44171001013762784\n"
     ]
    }
   ],
   "source": [
    "from gensim.models import CoherenceModel# Compute Coherence Score\n",
    "coherence_model_lda = CoherenceModel(model=lda_model, texts=data_lemmatized, dictionary=id2word, coherence='c_v')\n",
    "coherence_lda = coherence_model_lda.get_coherence()\n",
    "print('\\nCoherence Score: ', coherence_lda)"
   ]
  },
  {
   "cell_type": "code",
   "execution_count": 38,
   "metadata": {},
   "outputs": [
    {
     "data": {
      "text/plain": [
       "[(0,\n",
       "  '0.025*\"model\" + 0.023*\"malicious\" + 0.022*\"detection\" + 0.021*\"network\" + 0.018*\"based\" + 0.018*\"behavior\" + 0.018*\"data\" + 0.015*\"learning\" + 0.015*\"feature\" + 0.012*\"training\"'),\n",
       " (1,\n",
       "  '0.095*\"user\" + 0.038*\"content\" + 0.017*\"mobile\" + 0.014*\"device\" + 0.013*\"information\" + 0.011*\"based\" + 0.010*\"display\" + 0.010*\"users\" + 0.009*\"method\" + 0.009*\"input\"'),\n",
       " (2,\n",
       "  '0.085*\"data\" + 0.017*\"one\" + 0.017*\"system\" + 0.013*\"node\" + 0.013*\"vehicle\" + 0.011*\"nodes\" + 0.010*\"processing\" + 0.009*\"plurality\" + 0.008*\"may\" + 0.008*\"sensor\"'),\n",
       " (3,\n",
       "  '0.025*\"information\" + 0.022*\"invention\" + 0.018*\"data\" + 0.017*\"method\" + 0.014*\"system\" + 0.013*\"module\" + 0.013*\"unit\" + 0.012*\"according\" + 0.011*\"image\" + 0.011*\"terminal\"'),\n",
       " (4,\n",
       "  '0.031*\"data\" + 0.028*\"computer\" + 0.026*\"file\" + 0.025*\"application\" + 0.023*\"may\" + 0.020*\"computing\" + 0.019*\"device\" + 0.018*\"method\" + 0.015*\"include\" + 0.015*\"disclosed\"'),\n",
       " (5,\n",
       "  '0.036*\"network\" + 0.029*\"device\" + 0.028*\"security\" + 0.025*\"system\" + 0.019*\"information\" + 0.012*\"server\" + 0.011*\"one\" + 0.011*\"based\" + 0.011*\"service\" + 0.010*\"communication\"'),\n",
       " (6,\n",
       "  '0.068*\"first\" + 0.041*\"second\" + 0.035*\"one\" + 0.024*\"set\" + 0.023*\"least\" + 0.018*\"plurality\" + 0.017*\"method\" + 0.017*\"event\" + 0.017*\"message\" + 0.013*\"includes\"')]"
      ]
     },
     "execution_count": 38,
     "metadata": {},
     "output_type": "execute_result"
    }
   ],
   "source": [
    "lda_model.print_topics()"
   ]
  },
  {
   "cell_type": "markdown",
   "metadata": {},
   "source": [
    "### Assign patents to topics"
   ]
  },
  {
   "cell_type": "code",
   "execution_count": 22,
   "metadata": {},
   "outputs": [
    {
     "data": {
      "text/plain": [
       "5    2292\n",
       "3    1763\n",
       "4    1674\n",
       "0    1221\n",
       "6     909\n",
       "1     828\n",
       "2     789\n",
       "Name: topic, dtype: int64"
      ]
     },
     "execution_count": 22,
     "metadata": {},
     "output_type": "execute_result"
    }
   ],
   "source": [
    "brev['topic'] = [scores[np.argmax([score[1] for score in scores])][0] for scores in lda_model.get_document_topics(corpus)]\n",
    "brev.topic.value_counts()"
   ]
  },
  {
   "cell_type": "code",
   "execution_count": 29,
   "metadata": {},
   "outputs": [],
   "source": [
    "brev.to_csv('../data/gp-q2-7topics.csv')"
   ]
  },
  {
   "cell_type": "markdown",
   "metadata": {},
   "source": [
    "### Assign scopus papers to topics"
   ]
  },
  {
   "cell_type": "code",
   "execution_count": 27,
   "metadata": {},
   "outputs": [],
   "source": [
    "stopwords = spacy.lang.en.stop_words.STOP_WORDS\n",
    "\n",
    "texts = [[w for w in text.split(' ') if w not in stopwords] for text in scop.abstract] #tokenization\n",
    "\n",
    "\n",
    "corpus = [id2word.doc2bow(text) for text in texts]"
   ]
  },
  {
   "cell_type": "code",
   "execution_count": 28,
   "metadata": {},
   "outputs": [
    {
     "data": {
      "text/plain": [
       "0    3189\n",
       "3    2182\n",
       "5    2169\n",
       "1     248\n",
       "2      84\n",
       "6      75\n",
       "4      34\n",
       "Name: topic, dtype: int64"
      ]
     },
     "execution_count": 28,
     "metadata": {},
     "output_type": "execute_result"
    }
   ],
   "source": [
    "scop['topic'] = [scores[np.argmax([score[1] for score in scores])][0] for scores in lda_model.get_document_topics(corpus)]\n",
    "scop.topic.value_counts()"
   ]
  },
  {
   "cell_type": "code",
   "execution_count": 42,
   "metadata": {},
   "outputs": [],
   "source": [
    "scop.to_csv('../data/scopus-q2-7topics.csv')"
   ]
  },
  {
   "cell_type": "code",
   "execution_count": null,
   "metadata": {},
   "outputs": [],
   "source": []
  },
  {
   "cell_type": "markdown",
   "metadata": {},
   "source": [
    "## VISUALIZATION"
   ]
  },
  {
   "cell_type": "code",
   "execution_count": 40,
   "metadata": {},
   "outputs": [
    {
     "ename": "ModuleNotFoundError",
     "evalue": "No module named 'graphlab'",
     "output_type": "error",
     "traceback": [
      "\u001b[1;31m---------------------------------------------------------------------------\u001b[0m",
      "\u001b[1;31mModuleNotFoundError\u001b[0m                       Traceback (most recent call last)",
      "\u001b[1;32m<ipython-input-40-0f297b11739c>\u001b[0m in \u001b[0;36m<module>\u001b[1;34m\u001b[0m\n\u001b[0;32m      1\u001b[0m \u001b[1;32mfrom\u001b[0m \u001b[0m__future__\u001b[0m \u001b[1;32mimport\u001b[0m \u001b[0mdivision\u001b[0m\u001b[1;33m\u001b[0m\u001b[1;33m\u001b[0m\u001b[0m\n\u001b[0;32m      2\u001b[0m \u001b[1;33m\u001b[0m\u001b[0m\n\u001b[1;32m----> 3\u001b[1;33m \u001b[1;32mimport\u001b[0m \u001b[0mgraphlab\u001b[0m \u001b[1;32mas\u001b[0m \u001b[0mgl\u001b[0m\u001b[1;33m\u001b[0m\u001b[1;33m\u001b[0m\u001b[0m\n\u001b[0m\u001b[0;32m      4\u001b[0m \u001b[1;32mimport\u001b[0m \u001b[0mpandas\u001b[0m \u001b[1;32mas\u001b[0m \u001b[0mpd\u001b[0m\u001b[1;33m\u001b[0m\u001b[1;33m\u001b[0m\u001b[0m\n\u001b[0;32m      5\u001b[0m \u001b[1;32mimport\u001b[0m \u001b[0mpyLDAvis\u001b[0m\u001b[1;33m\u001b[0m\u001b[1;33m\u001b[0m\u001b[0m\n",
      "\u001b[1;31mModuleNotFoundError\u001b[0m: No module named 'graphlab'"
     ]
    }
   ],
   "source": [
    "from __future__ import division\n",
    "\n",
    "import graphlab as gl #seems it needs python 2.7 and doesn't go in python3\n",
    "import pandas as pd\n",
    "import pyLDAvis\n",
    "import pyLDAvis.graphlab\n",
    "\n",
    "pyLDAvis.enable_notebook()"
   ]
  },
  {
   "cell_type": "code",
   "execution_count": null,
   "metadata": {},
   "outputs": [],
   "source": [
    "pyLDAvis.graphlab.prepare(lda_model, corpus)"
   ]
  }
 ],
 "metadata": {
  "kernelspec": {
   "display_name": "Python 3",
   "language": "python",
   "name": "python3"
  },
  "language_info": {
   "codemirror_mode": {
    "name": "ipython",
    "version": 3
   },
   "file_extension": ".py",
   "mimetype": "text/x-python",
   "name": "python",
   "nbconvert_exporter": "python",
   "pygments_lexer": "ipython3",
   "version": "3.7.4"
  }
 },
 "nbformat": 4,
 "nbformat_minor": 2
}
