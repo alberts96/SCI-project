{
 "cells": [
  {
   "cell_type": "code",
   "execution_count": 1,
   "metadata": {},
   "outputs": [
    {
     "name": "stderr",
     "output_type": "stream",
     "text": [
      "In C:\\Users\\carlo\\Anaconda3\\lib\\site-packages\\matplotlib\\mpl-data\\stylelib\\_classic_test.mplstyle: \n",
      "The text.latex.preview rcparam was deprecated in Matplotlib 3.3 and will be removed two minor releases later.\n",
      "In C:\\Users\\carlo\\Anaconda3\\lib\\site-packages\\matplotlib\\mpl-data\\stylelib\\_classic_test.mplstyle: \n",
      "The mathtext.fallback_to_cm rcparam was deprecated in Matplotlib 3.3 and will be removed two minor releases later.\n",
      "In C:\\Users\\carlo\\Anaconda3\\lib\\site-packages\\matplotlib\\mpl-data\\stylelib\\_classic_test.mplstyle: Support for setting the 'mathtext.fallback_to_cm' rcParam is deprecated since 3.3 and will be removed two minor releases later; use 'mathtext.fallback : 'cm' instead.\n",
      "In C:\\Users\\carlo\\Anaconda3\\lib\\site-packages\\matplotlib\\mpl-data\\stylelib\\_classic_test.mplstyle: \n",
      "The validate_bool_maybe_none function was deprecated in Matplotlib 3.3 and will be removed two minor releases later.\n",
      "In C:\\Users\\carlo\\Anaconda3\\lib\\site-packages\\matplotlib\\mpl-data\\stylelib\\_classic_test.mplstyle: \n",
      "The savefig.jpeg_quality rcparam was deprecated in Matplotlib 3.3 and will be removed two minor releases later.\n",
      "In C:\\Users\\carlo\\Anaconda3\\lib\\site-packages\\matplotlib\\mpl-data\\stylelib\\_classic_test.mplstyle: \n",
      "The keymap.all_axes rcparam was deprecated in Matplotlib 3.3 and will be removed two minor releases later.\n",
      "In C:\\Users\\carlo\\Anaconda3\\lib\\site-packages\\matplotlib\\mpl-data\\stylelib\\_classic_test.mplstyle: \n",
      "The animation.avconv_path rcparam was deprecated in Matplotlib 3.3 and will be removed two minor releases later.\n",
      "In C:\\Users\\carlo\\Anaconda3\\lib\\site-packages\\matplotlib\\mpl-data\\stylelib\\_classic_test.mplstyle: \n",
      "The animation.avconv_args rcparam was deprecated in Matplotlib 3.3 and will be removed two minor releases later.\n",
      "C:\\Users\\carlo\\Anaconda3\\lib\\site-packages\\past\\types\\oldstr.py:5: DeprecationWarning: Using or importing the ABCs from 'collections' instead of from 'collections.abc' is deprecated, and in 3.8 it will stop working\n",
      "  from collections import Iterable\n",
      "C:\\Users\\carlo\\Anaconda3\\lib\\site-packages\\past\\builtins\\misc.py:4: DeprecationWarning: Using or importing the ABCs from 'collections' instead of from 'collections.abc' is deprecated, and in 3.8 it will stop working\n",
      "  from collections import Mapping\n"
     ]
    },
    {
     "name": "stdout",
     "output_type": "stream",
     "text": [
      "Python Version: 3.7.4 (default, Aug  9 2019, 18:34:13) [MSC v.1915 64 bit (AMD64)]\n"
     ]
    }
   ],
   "source": [
    "import numpy as np\n",
    "import pandas as pd \n",
    "import re \n",
    "import gensim \n",
    "import json\n",
    "import timeit\n",
    "import networkx as nx\n",
    "import matplotlib.pyplot as plt\n",
    "import os\n",
    "import sys\n",
    "import pyLDAvis\n",
    "import pyLDAvis.gensim\n",
    "\n",
    "from gensim import corpora\n",
    "from gensim import models\n",
    "from gensim.models.coherencemodel import CoherenceModel\n",
    "\n",
    "print('Python Version: %s' % (sys.version))\n",
    "%matplotlib inline"
   ]
  },
  {
   "cell_type": "code",
   "execution_count": 2,
   "metadata": {},
   "outputs": [
    {
     "ename": "FileNotFoundError",
     "evalue": "[Errno 2] File b'gp-q2-clean.csv' does not exist: b'gp-q2-clean.csv'",
     "output_type": "error",
     "traceback": [
      "\u001b[1;31m---------------------------------------------------------------------------\u001b[0m",
      "\u001b[1;31mFileNotFoundError\u001b[0m                         Traceback (most recent call last)",
      "\u001b[1;32m<ipython-input-2-405d6a7e69ef>\u001b[0m in \u001b[0;36m<module>\u001b[1;34m\u001b[0m\n\u001b[1;32m----> 1\u001b[1;33m \u001b[0mbrev\u001b[0m \u001b[1;33m=\u001b[0m \u001b[0mpd\u001b[0m\u001b[1;33m.\u001b[0m\u001b[0mread_csv\u001b[0m\u001b[1;33m(\u001b[0m\u001b[1;34m\"gp-q2-clean.csv\"\u001b[0m\u001b[1;33m)\u001b[0m\u001b[1;33m\u001b[0m\u001b[1;33m\u001b[0m\u001b[0m\n\u001b[0m",
      "\u001b[1;32m~\\Anaconda3\\lib\\site-packages\\pandas\\io\\parsers.py\u001b[0m in \u001b[0;36mparser_f\u001b[1;34m(filepath_or_buffer, sep, delimiter, header, names, index_col, usecols, squeeze, prefix, mangle_dupe_cols, dtype, engine, converters, true_values, false_values, skipinitialspace, skiprows, skipfooter, nrows, na_values, keep_default_na, na_filter, verbose, skip_blank_lines, parse_dates, infer_datetime_format, keep_date_col, date_parser, dayfirst, cache_dates, iterator, chunksize, compression, thousands, decimal, lineterminator, quotechar, quoting, doublequote, escapechar, comment, encoding, dialect, error_bad_lines, warn_bad_lines, delim_whitespace, low_memory, memory_map, float_precision)\u001b[0m\n\u001b[0;32m    683\u001b[0m         )\n\u001b[0;32m    684\u001b[0m \u001b[1;33m\u001b[0m\u001b[0m\n\u001b[1;32m--> 685\u001b[1;33m         \u001b[1;32mreturn\u001b[0m \u001b[0m_read\u001b[0m\u001b[1;33m(\u001b[0m\u001b[0mfilepath_or_buffer\u001b[0m\u001b[1;33m,\u001b[0m \u001b[0mkwds\u001b[0m\u001b[1;33m)\u001b[0m\u001b[1;33m\u001b[0m\u001b[1;33m\u001b[0m\u001b[0m\n\u001b[0m\u001b[0;32m    686\u001b[0m \u001b[1;33m\u001b[0m\u001b[0m\n\u001b[0;32m    687\u001b[0m     \u001b[0mparser_f\u001b[0m\u001b[1;33m.\u001b[0m\u001b[0m__name__\u001b[0m \u001b[1;33m=\u001b[0m \u001b[0mname\u001b[0m\u001b[1;33m\u001b[0m\u001b[1;33m\u001b[0m\u001b[0m\n",
      "\u001b[1;32m~\\Anaconda3\\lib\\site-packages\\pandas\\io\\parsers.py\u001b[0m in \u001b[0;36m_read\u001b[1;34m(filepath_or_buffer, kwds)\u001b[0m\n\u001b[0;32m    455\u001b[0m \u001b[1;33m\u001b[0m\u001b[0m\n\u001b[0;32m    456\u001b[0m     \u001b[1;31m# Create the parser.\u001b[0m\u001b[1;33m\u001b[0m\u001b[1;33m\u001b[0m\u001b[1;33m\u001b[0m\u001b[0m\n\u001b[1;32m--> 457\u001b[1;33m     \u001b[0mparser\u001b[0m \u001b[1;33m=\u001b[0m \u001b[0mTextFileReader\u001b[0m\u001b[1;33m(\u001b[0m\u001b[0mfp_or_buf\u001b[0m\u001b[1;33m,\u001b[0m \u001b[1;33m**\u001b[0m\u001b[0mkwds\u001b[0m\u001b[1;33m)\u001b[0m\u001b[1;33m\u001b[0m\u001b[1;33m\u001b[0m\u001b[0m\n\u001b[0m\u001b[0;32m    458\u001b[0m \u001b[1;33m\u001b[0m\u001b[0m\n\u001b[0;32m    459\u001b[0m     \u001b[1;32mif\u001b[0m \u001b[0mchunksize\u001b[0m \u001b[1;32mor\u001b[0m \u001b[0miterator\u001b[0m\u001b[1;33m:\u001b[0m\u001b[1;33m\u001b[0m\u001b[1;33m\u001b[0m\u001b[0m\n",
      "\u001b[1;32m~\\Anaconda3\\lib\\site-packages\\pandas\\io\\parsers.py\u001b[0m in \u001b[0;36m__init__\u001b[1;34m(self, f, engine, **kwds)\u001b[0m\n\u001b[0;32m    893\u001b[0m             \u001b[0mself\u001b[0m\u001b[1;33m.\u001b[0m\u001b[0moptions\u001b[0m\u001b[1;33m[\u001b[0m\u001b[1;34m\"has_index_names\"\u001b[0m\u001b[1;33m]\u001b[0m \u001b[1;33m=\u001b[0m \u001b[0mkwds\u001b[0m\u001b[1;33m[\u001b[0m\u001b[1;34m\"has_index_names\"\u001b[0m\u001b[1;33m]\u001b[0m\u001b[1;33m\u001b[0m\u001b[1;33m\u001b[0m\u001b[0m\n\u001b[0;32m    894\u001b[0m \u001b[1;33m\u001b[0m\u001b[0m\n\u001b[1;32m--> 895\u001b[1;33m         \u001b[0mself\u001b[0m\u001b[1;33m.\u001b[0m\u001b[0m_make_engine\u001b[0m\u001b[1;33m(\u001b[0m\u001b[0mself\u001b[0m\u001b[1;33m.\u001b[0m\u001b[0mengine\u001b[0m\u001b[1;33m)\u001b[0m\u001b[1;33m\u001b[0m\u001b[1;33m\u001b[0m\u001b[0m\n\u001b[0m\u001b[0;32m    896\u001b[0m \u001b[1;33m\u001b[0m\u001b[0m\n\u001b[0;32m    897\u001b[0m     \u001b[1;32mdef\u001b[0m \u001b[0mclose\u001b[0m\u001b[1;33m(\u001b[0m\u001b[0mself\u001b[0m\u001b[1;33m)\u001b[0m\u001b[1;33m:\u001b[0m\u001b[1;33m\u001b[0m\u001b[1;33m\u001b[0m\u001b[0m\n",
      "\u001b[1;32m~\\Anaconda3\\lib\\site-packages\\pandas\\io\\parsers.py\u001b[0m in \u001b[0;36m_make_engine\u001b[1;34m(self, engine)\u001b[0m\n\u001b[0;32m   1133\u001b[0m     \u001b[1;32mdef\u001b[0m \u001b[0m_make_engine\u001b[0m\u001b[1;33m(\u001b[0m\u001b[0mself\u001b[0m\u001b[1;33m,\u001b[0m \u001b[0mengine\u001b[0m\u001b[1;33m=\u001b[0m\u001b[1;34m\"c\"\u001b[0m\u001b[1;33m)\u001b[0m\u001b[1;33m:\u001b[0m\u001b[1;33m\u001b[0m\u001b[1;33m\u001b[0m\u001b[0m\n\u001b[0;32m   1134\u001b[0m         \u001b[1;32mif\u001b[0m \u001b[0mengine\u001b[0m \u001b[1;33m==\u001b[0m \u001b[1;34m\"c\"\u001b[0m\u001b[1;33m:\u001b[0m\u001b[1;33m\u001b[0m\u001b[1;33m\u001b[0m\u001b[0m\n\u001b[1;32m-> 1135\u001b[1;33m             \u001b[0mself\u001b[0m\u001b[1;33m.\u001b[0m\u001b[0m_engine\u001b[0m \u001b[1;33m=\u001b[0m \u001b[0mCParserWrapper\u001b[0m\u001b[1;33m(\u001b[0m\u001b[0mself\u001b[0m\u001b[1;33m.\u001b[0m\u001b[0mf\u001b[0m\u001b[1;33m,\u001b[0m \u001b[1;33m**\u001b[0m\u001b[0mself\u001b[0m\u001b[1;33m.\u001b[0m\u001b[0moptions\u001b[0m\u001b[1;33m)\u001b[0m\u001b[1;33m\u001b[0m\u001b[1;33m\u001b[0m\u001b[0m\n\u001b[0m\u001b[0;32m   1136\u001b[0m         \u001b[1;32melse\u001b[0m\u001b[1;33m:\u001b[0m\u001b[1;33m\u001b[0m\u001b[1;33m\u001b[0m\u001b[0m\n\u001b[0;32m   1137\u001b[0m             \u001b[1;32mif\u001b[0m \u001b[0mengine\u001b[0m \u001b[1;33m==\u001b[0m \u001b[1;34m\"python\"\u001b[0m\u001b[1;33m:\u001b[0m\u001b[1;33m\u001b[0m\u001b[1;33m\u001b[0m\u001b[0m\n",
      "\u001b[1;32m~\\Anaconda3\\lib\\site-packages\\pandas\\io\\parsers.py\u001b[0m in \u001b[0;36m__init__\u001b[1;34m(self, src, **kwds)\u001b[0m\n\u001b[0;32m   1915\u001b[0m         \u001b[0mkwds\u001b[0m\u001b[1;33m[\u001b[0m\u001b[1;34m\"usecols\"\u001b[0m\u001b[1;33m]\u001b[0m \u001b[1;33m=\u001b[0m \u001b[0mself\u001b[0m\u001b[1;33m.\u001b[0m\u001b[0musecols\u001b[0m\u001b[1;33m\u001b[0m\u001b[1;33m\u001b[0m\u001b[0m\n\u001b[0;32m   1916\u001b[0m \u001b[1;33m\u001b[0m\u001b[0m\n\u001b[1;32m-> 1917\u001b[1;33m         \u001b[0mself\u001b[0m\u001b[1;33m.\u001b[0m\u001b[0m_reader\u001b[0m \u001b[1;33m=\u001b[0m \u001b[0mparsers\u001b[0m\u001b[1;33m.\u001b[0m\u001b[0mTextReader\u001b[0m\u001b[1;33m(\u001b[0m\u001b[0msrc\u001b[0m\u001b[1;33m,\u001b[0m \u001b[1;33m**\u001b[0m\u001b[0mkwds\u001b[0m\u001b[1;33m)\u001b[0m\u001b[1;33m\u001b[0m\u001b[1;33m\u001b[0m\u001b[0m\n\u001b[0m\u001b[0;32m   1918\u001b[0m         \u001b[0mself\u001b[0m\u001b[1;33m.\u001b[0m\u001b[0munnamed_cols\u001b[0m \u001b[1;33m=\u001b[0m \u001b[0mself\u001b[0m\u001b[1;33m.\u001b[0m\u001b[0m_reader\u001b[0m\u001b[1;33m.\u001b[0m\u001b[0munnamed_cols\u001b[0m\u001b[1;33m\u001b[0m\u001b[1;33m\u001b[0m\u001b[0m\n\u001b[0;32m   1919\u001b[0m \u001b[1;33m\u001b[0m\u001b[0m\n",
      "\u001b[1;32mpandas\\_libs\\parsers.pyx\u001b[0m in \u001b[0;36mpandas._libs.parsers.TextReader.__cinit__\u001b[1;34m()\u001b[0m\n",
      "\u001b[1;32mpandas\\_libs\\parsers.pyx\u001b[0m in \u001b[0;36mpandas._libs.parsers.TextReader._setup_parser_source\u001b[1;34m()\u001b[0m\n",
      "\u001b[1;31mFileNotFoundError\u001b[0m: [Errno 2] File b'gp-q2-clean.csv' does not exist: b'gp-q2-clean.csv'"
     ]
    }
   ],
   "source": [
    "brev = pd.read_csv(\"gp-q2-clean.csv\")"
   ]
  },
  {
   "cell_type": "code",
   "execution_count": null,
   "metadata": {},
   "outputs": [],
   "source": [
    "scop = pd.read_csv(\"scopus-q2-clean.csv\")"
   ]
  },
  {
   "cell_type": "code",
   "execution_count": null,
   "metadata": {},
   "outputs": [],
   "source": [
    "brev.head()"
   ]
  },
  {
   "cell_type": "code",
   "execution_count": null,
   "metadata": {},
   "outputs": [],
   "source": [
    "scop.head()"
   ]
  },
  {
   "cell_type": "code",
   "execution_count": 10,
   "metadata": {},
   "outputs": [
    {
     "data": {
      "text/plain": [
       "0    \\nThe system and method performing secure onli...\n",
       "1    \\nA system, apparatus, method, and machine rea...\n",
       "2    \\nA system, apparatus, method, and machine rea...\n",
       "3    \\nA method and system of providing verificatio...\n",
       "4    \\nA system, apparatus, method, and machine rea...\n",
       "Name: abstract, dtype: object"
      ]
     },
     "execution_count": 10,
     "metadata": {},
     "output_type": "execute_result"
    }
   ],
   "source": [
    "# Load the regular expression library\n",
    "import re# Remove punctuation\n",
    "brev['abstract_processed'] = brev['abstract'].map(lambda x: re.sub('[,\\.!?]', '', x))# Convert the titles to lowercase\n",
    "brev['abstract_processed'] = brev['abstract_processed'].map(lambda x: x.lower())# Print out the first rows of papers\n",
    "brev['abstract'].head()"
   ]
  },
  {
   "cell_type": "code",
   "execution_count": 11,
   "metadata": {},
   "outputs": [
    {
     "data": {
      "text/html": [
       "<div>\n",
       "<style scoped>\n",
       "    .dataframe tbody tr th:only-of-type {\n",
       "        vertical-align: middle;\n",
       "    }\n",
       "\n",
       "    .dataframe tbody tr th {\n",
       "        vertical-align: top;\n",
       "    }\n",
       "\n",
       "    .dataframe thead th {\n",
       "        text-align: right;\n",
       "    }\n",
       "</style>\n",
       "<table border=\"1\" class=\"dataframe\">\n",
       "  <thead>\n",
       "    <tr style=\"text-align: right;\">\n",
       "      <th></th>\n",
       "      <th>code</th>\n",
       "      <th>title</th>\n",
       "      <th>pub_date</th>\n",
       "      <th>citations</th>\n",
       "      <th>abstract</th>\n",
       "      <th>class</th>\n",
       "      <th>year</th>\n",
       "      <th>abstract_processed</th>\n",
       "    </tr>\n",
       "  </thead>\n",
       "  <tbody>\n",
       "    <tr>\n",
       "      <th>0</th>\n",
       "      <td>US8370262B2</td>\n",
       "      <td>System and method for performing secure online...</td>\n",
       "      <td>2013-02-05</td>\n",
       "      <td>['US10681025B2', 'CN106664208B', 'AU2012261635...</td>\n",
       "      <td>\\nThe system and method performing secure onli...</td>\n",
       "      <td>G06</td>\n",
       "      <td>2013</td>\n",
       "      <td>\\nthe system and method performing secure onli...</td>\n",
       "    </tr>\n",
       "    <tr>\n",
       "      <th>1</th>\n",
       "      <td>US10237070B2</td>\n",
       "      <td>System and method for sharing keys across auth...</td>\n",
       "      <td>2019-03-19</td>\n",
       "      <td>['US10268809B2', 'JP6538821B2', 'KR101721032B1...</td>\n",
       "      <td>\\nA system, apparatus, method, and machine rea...</td>\n",
       "      <td>H04</td>\n",
       "      <td>2019</td>\n",
       "      <td>\\na system apparatus method and machine readab...</td>\n",
       "    </tr>\n",
       "    <tr>\n",
       "      <th>2</th>\n",
       "      <td>US10637853B2</td>\n",
       "      <td>Authentication techniques including speech and...</td>\n",
       "      <td>2020-04-28</td>\n",
       "      <td>['US10706421B2', 'US20160269411A1', 'US1021258...</td>\n",
       "      <td>\\nA system, apparatus, method, and machine rea...</td>\n",
       "      <td>H04</td>\n",
       "      <td>2020</td>\n",
       "      <td>\\na system apparatus method and machine readab...</td>\n",
       "    </tr>\n",
       "    <tr>\n",
       "      <th>3</th>\n",
       "      <td>US10558974B2</td>\n",
       "      <td>Methods and systems of providing verification ...</td>\n",
       "      <td>2020-02-11</td>\n",
       "      <td>['US20190149537A1', 'US20180308098A1', 'US2018...</td>\n",
       "      <td>\\nA method and system of providing verificatio...</td>\n",
       "      <td>G06</td>\n",
       "      <td>2020</td>\n",
       "      <td>\\na method and system of providing verificatio...</td>\n",
       "    </tr>\n",
       "    <tr>\n",
       "      <th>4</th>\n",
       "      <td>US10769635B2</td>\n",
       "      <td>Authentication techniques including speech and...</td>\n",
       "      <td>2020-09-08</td>\n",
       "      <td>['US9531710B2', 'US10706421B2', 'US20160269411...</td>\n",
       "      <td>\\nA system, apparatus, method, and machine rea...</td>\n",
       "      <td>G06</td>\n",
       "      <td>2020</td>\n",
       "      <td>\\na system apparatus method and machine readab...</td>\n",
       "    </tr>\n",
       "  </tbody>\n",
       "</table>\n",
       "</div>"
      ],
      "text/plain": [
       "           code                                              title  \\\n",
       "0   US8370262B2  System and method for performing secure online...   \n",
       "1  US10237070B2  System and method for sharing keys across auth...   \n",
       "2  US10637853B2  Authentication techniques including speech and...   \n",
       "3  US10558974B2  Methods and systems of providing verification ...   \n",
       "4  US10769635B2  Authentication techniques including speech and...   \n",
       "\n",
       "     pub_date                                          citations  \\\n",
       "0  2013-02-05  ['US10681025B2', 'CN106664208B', 'AU2012261635...   \n",
       "1  2019-03-19  ['US10268809B2', 'JP6538821B2', 'KR101721032B1...   \n",
       "2  2020-04-28  ['US10706421B2', 'US20160269411A1', 'US1021258...   \n",
       "3  2020-02-11  ['US20190149537A1', 'US20180308098A1', 'US2018...   \n",
       "4  2020-09-08  ['US9531710B2', 'US10706421B2', 'US20160269411...   \n",
       "\n",
       "                                            abstract class  year  \\\n",
       "0  \\nThe system and method performing secure onli...   G06  2013   \n",
       "1  \\nA system, apparatus, method, and machine rea...   H04  2019   \n",
       "2  \\nA system, apparatus, method, and machine rea...   H04  2020   \n",
       "3  \\nA method and system of providing verificatio...   G06  2020   \n",
       "4  \\nA system, apparatus, method, and machine rea...   G06  2020   \n",
       "\n",
       "                                  abstract_processed  \n",
       "0  \\nthe system and method performing secure onli...  \n",
       "1  \\na system apparatus method and machine readab...  \n",
       "2  \\na system apparatus method and machine readab...  \n",
       "3  \\na method and system of providing verificatio...  \n",
       "4  \\na system apparatus method and machine readab...  "
      ]
     },
     "execution_count": 11,
     "metadata": {},
     "output_type": "execute_result"
    }
   ],
   "source": [
    "brev.head()"
   ]
  },
  {
   "cell_type": "code",
   "execution_count": 13,
   "metadata": {},
   "outputs": [
    {
     "name": "stdout",
     "output_type": "stream",
     "text": [
      "['the', 'system', 'and', 'method', 'performing', 'secure', 'online', 'transactions', 'based', 'on', 'challenge', 'response', 'procedures', 'executed', 'by', 'terminal', 'of', 'at', 'least', 'one', 'customer', 'and', 'by', 'terminal', 'of', 'service', 'provider', 'such', 'as', 'bank']\n"
     ]
    }
   ],
   "source": [
    "import gensim\n",
    "from gensim.utils import simple_preprocess\n",
    "def sent_to_words(sentences):\n",
    "    for sentence in sentences:\n",
    "        yield(gensim.utils.simple_preprocess(str(sentence), deacc=True))  # deacc=True removes punctuations\n",
    "data = brev.abstract_processed.values.tolist()\n",
    "data_words = list(sent_to_words(data))\n",
    "print(data_words[:1][0][:30])"
   ]
  },
  {
   "cell_type": "code",
   "execution_count": 14,
   "metadata": {},
   "outputs": [],
   "source": [
    "# Build the bigram and trigram models\n",
    "bigram = gensim.models.Phrases(data_words, min_count=5, threshold=100) # higher threshold fewer phrases.\n",
    "trigram = gensim.models.Phrases(bigram[data_words], threshold=100)# Faster way to get a sentence clubbed as a trigram/bigram\n",
    "bigram_mod = gensim.models.phrases.Phraser(bigram)\n",
    "trigram_mod = gensim.models.phrases.Phraser(trigram)"
   ]
  },
  {
   "cell_type": "code",
   "execution_count": 15,
   "metadata": {},
   "outputs": [],
   "source": [
    "# NLTK Stop words\n",
    "# import nltk\n",
    "# nltk.download('stopwords')\n",
    "from nltk.corpus import stopwords\n",
    "stop_words = stopwords.words('english')\n",
    "stop_words.extend(['from', 'subject', 're', 'edu', 'use'])# Define functions for stopwords, bigrams, trigrams and lemmatization\n",
    "def remove_stopwords(texts):\n",
    "    return [[word for word in simple_preprocess(str(doc))\n",
    "             if word not in stop_words] for doc in texts]\n",
    "def make_bigrams(texts):\n",
    "    return [bigram_mod[doc] for doc in texts]\n",
    "def make_trigrams(texts):\n",
    "    return [trigram_mod[bigram_mod[doc]] for doc in texts]\n",
    "def lemmatization(texts, allowed_postags=['NOUN', 'ADJ', 'VERB', 'ADV']):\n",
    "    \"\"\"https://spacy.io/api/annotation\"\"\"\n",
    "    texts_out = []\n",
    "    for sent in texts:\n",
    "        doc = nlp(\" \".join(sent)) \n",
    "        texts_out.append([token.lemma_ for token in doc if token.pos_ in allowed_postags])\n",
    "    return texts_out"
   ]
  },
  {
   "cell_type": "code",
   "execution_count": 16,
   "metadata": {},
   "outputs": [],
   "source": [
    "import spacy# Remove Stop Words\n",
    "data_words_nostops = remove_stopwords(data_words)# Form Bigrams\n",
    "data_words_bigrams = make_bigrams(data_words_nostops)# Initialize spacy 'en' model, keeping only tagger component (for efficiency)\n",
    "data_lemmatized = data_words_bigrams #in realtà è senza lemmatiazion perchè ci dà problemi"
   ]
  },
  {
   "cell_type": "code",
   "execution_count": 17,
   "metadata": {},
   "outputs": [
    {
     "name": "stdout",
     "output_type": "stream",
     "text": [
      "[[(0, 1), (1, 1), (2, 1), (3, 1), (4, 1), (5, 1), (6, 1), (7, 2), (8, 7), (9, 2), (10, 4), (11, 1), (12, 1), (13, 1), (14, 1), (15, 6), (16, 8), (17, 1), (18, 1), (19, 3), (20, 1), (21, 1), (22, 1), (23, 1), (24, 1), (25, 1), (26, 1), (27, 1), (28, 1), (29, 1), (30, 2), (31, 1), (32, 1), (33, 1), (34, 2), (35, 2), (36, 1), (37, 1), (38, 2), (39, 1), (40, 4), (41, 1), (42, 1), (43, 6), (44, 1), (45, 1), (46, 1), (47, 1), (48, 4), (49, 1), (50, 1), (51, 1), (52, 6), (53, 1), (54, 1), (55, 4), (56, 1), (57, 1)]]\n"
     ]
    }
   ],
   "source": [
    "import gensim.corpora as corpora# Create Dictionary\n",
    "id2word = corpora.Dictionary(data_lemmatized)# Create Corpus\n",
    "texts = data_lemmatized# Term Document Frequency\n",
    "corpus = [id2word.doc2bow(text) for text in texts]# View\n",
    "print(corpus[:1])"
   ]
  },
  {
   "cell_type": "code",
   "execution_count": 18,
   "metadata": {},
   "outputs": [],
   "source": [
    "# Build LDA model\n",
    "lda_model = gensim.models.LdaMulticore(corpus=corpus,\n",
    "                                       id2word=id2word,\n",
    "                                       num_topics=10, \n",
    "                                       random_state=100,\n",
    "                                       chunksize=100,\n",
    "                                       passes=10,\n",
    "                                       per_word_topics=True)"
   ]
  },
  {
   "cell_type": "code",
   "execution_count": 19,
   "metadata": {},
   "outputs": [
    {
     "name": "stdout",
     "output_type": "stream",
     "text": [
      "[(0,\n",
      "  '0.047*\"model\" + 0.030*\"learning\" + 0.026*\"feature\" + 0.023*\"training\" + '\n",
      "  '0.019*\"machine\" + 0.019*\"classification\" + 0.019*\"vector\" + '\n",
      "  '0.017*\"features\" + 0.016*\"malicious\" + 0.016*\"using\"'),\n",
      " (1,\n",
      "  '0.107*\"user\" + 0.062*\"content\" + 0.017*\"based\" + 0.016*\"media\" + '\n",
      "  '0.016*\"users\" + 0.012*\"time\" + 0.011*\"social\" + 0.010*\"item\" + '\n",
      "  '0.010*\"profile\" + 0.009*\"account\"'),\n",
      " (2,\n",
      "  '0.234*\"data\" + 0.018*\"node\" + 0.015*\"processing\" + 0.015*\"graph\" + '\n",
      "  '0.015*\"search\" + 0.014*\"nodes\" + 0.013*\"query\" + 0.011*\"based\" + '\n",
      "  '0.010*\"flow\" + 0.009*\"plurality\"'),\n",
      " (3,\n",
      "  '0.026*\"method\" + 0.026*\"invention\" + 0.019*\"information\" + '\n",
      "  '0.017*\"detection\" + 0.015*\"according\" + 0.011*\"target\" + 0.011*\"present\" + '\n",
      "  '0.010*\"comprises\" + 0.010*\"image\" + 0.009*\"analysis\"'),\n",
      " (4,\n",
      "  '0.038*\"computer\" + 0.031*\"file\" + 0.031*\"may\" + 0.031*\"application\" + '\n",
      "  '0.027*\"computing\" + 0.027*\"device\" + 0.020*\"method\" + 0.020*\"disclosed\" + '\n",
      "  '0.020*\"include\" + 0.018*\"systems\"'),\n",
      " (5,\n",
      "  '0.069*\"network\" + 0.040*\"security\" + 0.022*\"device\" + 0.019*\"system\" + '\n",
      "  '0.018*\"based\" + 0.016*\"may\" + 0.015*\"one\" + 0.014*\"information\" + '\n",
      "  '0.014*\"traffic\" + 0.013*\"attack\"'),\n",
      " (6,\n",
      "  '0.081*\"first\" + 0.055*\"one\" + 0.049*\"second\" + 0.036*\"least\" + 0.031*\"set\" '\n",
      "  '+ 0.027*\"plurality\" + 0.021*\"method\" + 0.018*\"based\" + 0.017*\"includes\" + '\n",
      "  '0.016*\"event\"'),\n",
      " (7,\n",
      "  '0.074*\"module\" + 0.037*\"system\" + 0.025*\"virtual\" + 0.021*\"machine\" + '\n",
      "  '0.020*\"cloud\" + 0.016*\"configured\" + 0.013*\"analysis\" + 0.013*\"information\" '\n",
      "  '+ 0.012*\"processor\" + 0.012*\"interface\"'),\n",
      " (8,\n",
      "  '0.042*\"information\" + 0.041*\"device\" + 0.034*\"user\" + 0.017*\"server\" + '\n",
      "  '0.016*\"service\" + 0.015*\"authentication\" + 0.014*\"terminal\" + 0.012*\"key\" + '\n",
      "  '0.012*\"electronic\" + 0.012*\"method\"'),\n",
      " (9,\n",
      "  '0.039*\"system\" + 0.023*\"control\" + 0.020*\"communication\" + 0.016*\"vehicle\" '\n",
      "  '+ 0.012*\"monitoring\" + 0.011*\"mobile\" + 0.011*\"management\" + '\n",
      "  '0.010*\"wireless\" + 0.010*\"time\" + 0.009*\"sensor\"')]\n"
     ]
    }
   ],
   "source": [
    "from pprint import pprint# Print the Keyword in the 10 topics\n",
    "pprint(lda_model.print_topics())\n",
    "doc_lda = lda_model[corpus]"
   ]
  },
  {
   "cell_type": "code",
   "execution_count": 20,
   "metadata": {},
   "outputs": [
    {
     "name": "stdout",
     "output_type": "stream",
     "text": [
      "\n",
      "Coherence Score:  0.4781867202627191\n"
     ]
    }
   ],
   "source": [
    "from gensim.models import CoherenceModel# Compute Coherence Score\n",
    "coherence_model_lda = CoherenceModel(model=lda_model, texts=data_lemmatized, dictionary=id2word, coherence='c_v')\n",
    "coherence_lda = coherence_model_lda.get_coherence()\n",
    "print('\\nCoherence Score: ', coherence_lda)"
   ]
  },
  {
   "cell_type": "markdown",
   "metadata": {},
   "source": [
    "# da qui"
   ]
  },
  {
   "cell_type": "code",
   "execution_count": 26,
   "metadata": {},
   "outputs": [],
   "source": [
    "def compute_performance(dictionary, corpus, texts, limit, start=2, step=1):\n",
    "    \"\"\"\n",
    "    Compute c_v coherence and perplexity for various number of topics\n",
    "\n",
    "    Parameters:\n",
    "    ----------\n",
    "    dictionary : Gensim dictionary\n",
    "    corpus : Gensim corpus\n",
    "    texts : List of input texts\n",
    "    limit : Max num of topics\n",
    "\n",
    "    Returns:\n",
    "    -------\n",
    "    model_list : List of LDA topic models\n",
    "    coherence_values : Coherence values corresponding to the LDA model with respective number of topics\n",
    "    perplexity_values : Perplexity values corresponding to the LDA model with respective number of topics\n",
    "    \"\"\"\n",
    "    coherence_values = []\n",
    "    model_list = []\n",
    "    perplexity_values = []\n",
    "    for num_topics in range(start, limit, step):\n",
    "        model = gensim.models.ldamodel.LdaModel(corpus=corpus,\n",
    "                                                num_topics=num_topics, \n",
    "                                                id2word=dictionary,\n",
    "                                                random_state=100,\n",
    "                                                update_every=1,\n",
    "                                                chunksize=100,\n",
    "                                                passes=10,\n",
    "                                                alpha='auto',\n",
    "                                                per_word_topics=True)\n",
    "        model_list.append(model)\n",
    "        coherencemodel = CoherenceModel(model=model, texts=texts, dictionary=dictionary, coherence='c_v')\n",
    "        coherence_values.append(coherencemodel.get_coherence())\n",
    "        perplexity = model.log_perplexity(corpus)\n",
    "        perplexity_values.append(perplexity)\n",
    "\n",
    "    return model_list, coherence_values, perplexity_values"
   ]
  },
  {
   "cell_type": "code",
   "execution_count": 27,
   "metadata": {},
   "outputs": [],
   "source": [
    "model_list, coherence_values, perplexity_values = compute_performance(dictionary=id2word, \n",
    "                                                        corpus=corpus, \n",
    "                                                        texts=data_lemmatized, #dovremmo lemmatizzare\n",
    "                                                        start=2, limit=20, step=1)"
   ]
  },
  {
   "cell_type": "code",
   "execution_count": 28,
   "metadata": {},
   "outputs": [
    {
     "data": {
      "image/png": "[encoded data removed]",
      "text/plain": [
       "<Figure size 432x288 with 2 Axes>"
      ]
     },
     "metadata": {
      "needs_background": "light"
     },
     "output_type": "display_data"
    }
   ],
   "source": [
    "\n",
    "\n",
    "# Show graph\n",
    "limit=20; start=2; step=1;\n",
    "x = range(start, limit, step)\n",
    "fig, ax1 = plt.subplots()\n",
    "color = 'tab:red'\n",
    "plt.xlabel(\"Num Topics\")\n",
    "plt.ylabel(\"Perplexity score\", color=color)\n",
    "ax1.plot(x, perplexity_values, color=color)\n",
    "ax1.tick_params(axis='y', labelcolor=color)\n",
    "\n",
    "ax2 = ax1.twinx() # instantiate a second axes that shares the same x-axis\n",
    "color = 'tab:blue'\n",
    "ax2.set_ylabel('Coherence score', color=color)  # we already handled the x-label with ax1\n",
    "ax2.plot(x, coherence_values, color=color)\n",
    "ax2.tick_params(axis='y', labelcolor=color)\n",
    "\n",
    "fig.tight_layout()  # otherwise the right y-label is slightly clipped\n",
    "plt.show()\n",
    "\n"
   ]
  },
  {
   "cell_type": "markdown",
   "metadata": {},
   "source": [
    "# a qui ci mette tantissimo (non rifare)"
   ]
  },
  {
   "cell_type": "code",
   "execution_count": 29,
   "metadata": {},
   "outputs": [],
   "source": [
    "lda_model = gensim.models.LdaMulticore(corpus=corpus,\n",
    "                                       id2word=id2word,\n",
    "                                       num_topics=7, \n",
    "                                       random_state=100,\n",
    "                                       chunksize=100,\n",
    "                                       passes=10,\n",
    "                                       per_word_topics=True)"
   ]
  },
  {
   "cell_type": "code",
   "execution_count": 30,
   "metadata": {
    "scrolled": true
   },
   "outputs": [
    {
     "name": "stderr",
     "output_type": "stream",
     "text": [
      "C:\\Users\\bonin\\Anaconda3\\lib\\site-packages\\pyLDAvis\\_prepare.py:257: FutureWarning: Sorting because non-concatenation axis is not aligned. A future version\n",
      "of pandas will change to not sort by default.\n",
      "\n",
      "To accept the future behavior, pass 'sort=False'.\n",
      "\n",
      "To retain the current behavior and silence the warning, pass 'sort=True'.\n",
      "\n",
      "  return pd.concat([default_term_info] + list(topic_dfs))\n"
     ]
    },
    {
     "data": {
      "text/html": [
       "\n",
       "<link rel=\"stylesheet\" type=\"text/css\" href=\"https://cdn.rawgit.com/bmabey/pyLDAvis/files/ldavis.v1.0.0.css\">\n",
       "\n",
       "\n",
       "<div id=\"ldavis_el934016990742207042170576994\"></div>\n",
       "<script type=\"text/javascript\">\n",
       "\n",
       "var ldavis_el934016990742207042170576994_data = {\"mdsDat\": {\"x\": [-0.17994592742385823, -0.07588069376142073, -0.005049772183515814, -0.05008357976438284, 0.08326106139491818, -0.07551467153449064, 0.3032135832727502], \"y\": [-0.08112332434592584, 0.23196331380985055, -0.0036794797542054882, -0.09180877155186104, 0.1898125029790406, -0.15029290721055055, -0.09487133392634842], \"topics\": [1, 2, 3, 4, 5, 6, 7], \"cluster\": [1, 1, 1, 1, 1, 1, 1], \"Freq\": [20.57868766784668, 18.94500160217285, 16.39003562927246, 14.577234268188477, 13.322904586791992, 9.10916519165039, 7.07697868347168]}, \"tinfo\": {\"Category\": [\"Default\", \"Default\", \"Default\", \"Default\", \"Default\", \"Default\", \"Default\", \"Default\", \"Default\", \"Default\", \"Default\", \"Default\", \"Default\", \"Default\", \"Default\", \"Default\", \"Default\", \"Default\", \"Default\", \"Default\", \"Default\", \"Default\", \"Default\", \"Default\", \"Default\", \"Default\", \"Default\", \"Default\", \"Default\", \"Default\", \"Topic1\", \"Topic1\", \"Topic1\", \"Topic1\", \"Topic1\", \"Topic1\", \"Topic1\", \"Topic1\", \"Topic1\", \"Topic1\", \"Topic1\", \"Topic1\", \"Topic1\", \"Topic1\", \"Topic1\", \"Topic1\", \"Topic1\", \"Topic1\", \"Topic1\", \"Topic1\", \"Topic1\", \"Topic1\", \"Topic1\", \"Topic1\", \"Topic1\", \"Topic1\", \"Topic1\", \"Topic1\", \"Topic1\", \"Topic1\", \"Topic1\", \"Topic1\", \"Topic1\", \"Topic1\", \"Topic1\", \"Topic1\", \"Topic1\", \"Topic1\", \"Topic1\", \"Topic1\", \"Topic1\", \"Topic1\", \"Topic1\", \"Topic1\", \"Topic1\", \"Topic1\", \"Topic1\", \"Topic1\", \"Topic1\", \"Topic1\", \"Topic1\", \"Topic1\", \"Topic1\", \"Topic1\", \"Topic1\", \"Topic1\", \"Topic1\", \"Topic1\", \"Topic1\", \"Topic1\", \"Topic1\", \"Topic1\", \"Topic1\", \"Topic1\", \"Topic1\", \"Topic1\", \"Topic1\", \"Topic1\", \"Topic2\", \"Topic2\", \"Topic2\", \"Topic2\", \"Topic2\", \"Topic2\", \"Topic2\", \"Topic2\", \"Topic2\", \"Topic2\", \"Topic2\", \"Topic2\", \"Topic2\", \"Topic2\", \"Topic2\", \"Topic2\", \"Topic2\", \"Topic2\", \"Topic2\", \"Topic2\", \"Topic2\", \"Topic2\", \"Topic2\", \"Topic2\", \"Topic2\", \"Topic2\", \"Topic2\", \"Topic2\", \"Topic2\", \"Topic2\", \"Topic2\", \"Topic2\", \"Topic2\", \"Topic2\", \"Topic2\", \"Topic2\", \"Topic2\", \"Topic2\", \"Topic2\", \"Topic2\", \"Topic2\", \"Topic2\", \"Topic2\", \"Topic2\", \"Topic2\", \"Topic2\", \"Topic2\", \"Topic2\", \"Topic2\", \"Topic2\", \"Topic2\", \"Topic2\", \"Topic2\", \"Topic2\", \"Topic2\", \"Topic2\", \"Topic2\", \"Topic2\", \"Topic2\", \"Topic2\", \"Topic2\", \"Topic2\", \"Topic3\", \"Topic3\", \"Topic3\", \"Topic3\", \"Topic3\", \"Topic3\", \"Topic3\", \"Topic3\", \"Topic3\", \"Topic3\", \"Topic3\", \"Topic3\", \"Topic3\", \"Topic3\", \"Topic3\", \"Topic3\", \"Topic3\", \"Topic3\", \"Topic3\", \"Topic3\", \"Topic3\", \"Topic3\", \"Topic3\", \"Topic3\", \"Topic3\", \"Topic3\", \"Topic3\", \"Topic3\", \"Topic3\", \"Topic3\", \"Topic3\", \"Topic3\", \"Topic3\", \"Topic3\", \"Topic3\", \"Topic3\", \"Topic3\", \"Topic3\", \"Topic3\", \"Topic3\", \"Topic3\", \"Topic3\", \"Topic3\", \"Topic3\", \"Topic3\", \"Topic3\", \"Topic3\", \"Topic3\", \"Topic3\", \"Topic3\", \"Topic3\", \"Topic3\", \"Topic3\", \"Topic3\", \"Topic3\", \"Topic3\", \"Topic3\", \"Topic3\", \"Topic3\", \"Topic3\", \"Topic3\", \"Topic3\", \"Topic3\", \"Topic3\", \"Topic3\", \"Topic3\", \"Topic3\", \"Topic3\", \"Topic3\", \"Topic4\", \"Topic4\", \"Topic4\", \"Topic4\", \"Topic4\", \"Topic4\", \"Topic4\", \"Topic4\", \"Topic4\", \"Topic4\", \"Topic4\", \"Topic4\", \"Topic4\", \"Topic4\", \"Topic4\", \"Topic4\", \"Topic4\", \"Topic4\", \"Topic4\", \"Topic4\", \"Topic4\", \"Topic4\", \"Topic4\", \"Topic4\", \"Topic4\", \"Topic4\", \"Topic4\", \"Topic4\", \"Topic4\", \"Topic4\", \"Topic4\", \"Topic4\", \"Topic4\", \"Topic4\", \"Topic4\", \"Topic4\", \"Topic4\", \"Topic4\", \"Topic4\", \"Topic4\", \"Topic4\", \"Topic4\", \"Topic4\", \"Topic4\", \"Topic4\", \"Topic4\", \"Topic4\", \"Topic4\", \"Topic4\", \"Topic4\", \"Topic4\", \"Topic4\", \"Topic4\", \"Topic4\", \"Topic4\", \"Topic4\", \"Topic4\", \"Topic4\", \"Topic4\", \"Topic4\", \"Topic4\", \"Topic4\", \"Topic4\", \"Topic4\", \"Topic4\", \"Topic4\", \"Topic4\", \"Topic4\", \"Topic5\", \"Topic5\", \"Topic5\", \"Topic5\", \"Topic5\", \"Topic5\", \"Topic5\", \"Topic5\", \"Topic5\", \"Topic5\", \"Topic5\", \"Topic5\", \"Topic5\", \"Topic5\", \"Topic5\", \"Topic5\", \"Topic5\", \"Topic5\", \"Topic5\", \"Topic5\", \"Topic5\", \"Topic5\", \"Topic5\", \"Topic5\", \"Topic5\", \"Topic5\", \"Topic5\", \"Topic5\", \"Topic5\", \"Topic5\", \"Topic5\", \"Topic5\", \"Topic5\", \"Topic5\", \"Topic5\", \"Topic5\", \"Topic5\", \"Topic5\", \"Topic5\", \"Topic5\", \"Topic5\", \"Topic5\", \"Topic5\", \"Topic5\", \"Topic5\", \"Topic5\", \"Topic5\", \"Topic5\", \"Topic5\", \"Topic5\", \"Topic5\", \"Topic5\", \"Topic5\", \"Topic5\", \"Topic5\", \"Topic5\", \"Topic5\", \"Topic5\", \"Topic5\", \"Topic5\", \"Topic5\", \"Topic5\", \"Topic6\", \"Topic6\", \"Topic6\", \"Topic6\", \"Topic6\", \"Topic6\", \"Topic6\", \"Topic6\", \"Topic6\", \"Topic6\", \"Topic6\", \"Topic6\", \"Topic6\", \"Topic6\", \"Topic6\", \"Topic6\", \"Topic6\", \"Topic6\", \"Topic6\", \"Topic6\", \"Topic6\", \"Topic6\", \"Topic6\", \"Topic6\", \"Topic6\", \"Topic6\", \"Topic6\", \"Topic6\", \"Topic6\", \"Topic6\", \"Topic6\", \"Topic6\", \"Topic6\", \"Topic6\", \"Topic6\", \"Topic6\", \"Topic6\", \"Topic6\", \"Topic6\", \"Topic6\", \"Topic6\", \"Topic6\", \"Topic6\", \"Topic6\", \"Topic6\", \"Topic6\", \"Topic6\", \"Topic6\", \"Topic6\", \"Topic6\", \"Topic6\", \"Topic6\", \"Topic6\", \"Topic6\", \"Topic6\", \"Topic6\", \"Topic6\", \"Topic6\", \"Topic6\", \"Topic6\", \"Topic6\", \"Topic6\", \"Topic6\", \"Topic6\", \"Topic6\", \"Topic6\", \"Topic6\", \"Topic7\", \"Topic7\", \"Topic7\", \"Topic7\", \"Topic7\", \"Topic7\", \"Topic7\", \"Topic7\", \"Topic7\", \"Topic7\", \"Topic7\", \"Topic7\", \"Topic7\", \"Topic7\", \"Topic7\", \"Topic7\", \"Topic7\", \"Topic7\", \"Topic7\", \"Topic7\", \"Topic7\", \"Topic7\", \"Topic7\", \"Topic7\", \"Topic7\", \"Topic7\", \"Topic7\", \"Topic7\", \"Topic7\", \"Topic7\", \"Topic7\", \"Topic7\", \"Topic7\", \"Topic7\", \"Topic7\", \"Topic7\", \"Topic7\", \"Topic7\", \"Topic7\", \"Topic7\", \"Topic7\", \"Topic7\", \"Topic7\", \"Topic7\", \"Topic7\", \"Topic7\", \"Topic7\", \"Topic7\", \"Topic7\", \"Topic7\", \"Topic7\", \"Topic7\", \"Topic7\", \"Topic7\", \"Topic7\", \"Topic7\", \"Topic7\", \"Topic7\", \"Topic7\", \"Topic7\", \"Topic7\"], \"Freq\": [7868.0, 5077.0, 15382.0, 3063.0, 2764.0, 2864.0, 3044.0, 7875.0, 2509.0, 7795.0, 4291.0, 2813.0, 8856.0, 3389.0, 3147.0, 3456.0, 4879.0, 3309.0, 1623.0, 2458.0, 1678.0, 8119.0, 1517.0, 1228.0, 5138.0, 1864.0, 4051.0, 1501.0, 1999.0, 1454.0, 864.1179809570312, 545.3800659179688, 517.1826171875, 408.1552734375, 355.9482116699219, 288.54962158203125, 270.0725402832031, 262.2896423339844, 263.128173828125, 219.0162811279297, 176.29617309570312, 164.53341674804688, 163.98658752441406, 162.30606079101562, 147.46934509277344, 140.53314208984375, 135.8964080810547, 1358.84716796875, 130.98512268066406, 124.55950927734375, 121.7125015258789, 128.9022979736328, 266.36083984375, 111.78170013427734, 104.61093139648438, 102.60658264160156, 99.1842041015625, 95.390625, 94.663330078125, 93.67501831054688, 222.9649200439453, 2322.2421875, 337.07635498046875, 560.4195556640625, 201.32049560546875, 231.51956176757812, 249.15391540527344, 1038.756103515625, 2022.277587890625, 657.2590942382812, 1384.0743408203125, 3404.617919921875, 284.9791259765625, 4884.22802734375, 1385.9947509765625, 660.5066528320312, 1499.0560302734375, 1046.933349609375, 389.6016540527344, 3558.718017578125, 527.552734375, 3356.18994140625, 441.8363037109375, 958.210693359375, 3220.1845703125, 2736.179931640625, 989.2999267578125, 696.41162109375, 405.8392639160156, 587.342041015625, 1430.8231201171875, 1120.4737548828125, 579.6568603515625, 698.0820922851562, 654.5563354492188, 778.2081909179688, 653.474609375, 556.384033203125, 673.4716796875, 578.3812866210938, 433.75872802734375, 422.44061279296875, 410.67816162109375, 403.0748291015625, 403.5849609375, 347.4283752441406, 345.5298767089844, 311.96728515625, 298.7657470703125, 291.01959228515625, 290.8387756347656, 221.17469787597656, 219.79893493652344, 211.12547302246094, 185.59217834472656, 178.08399963378906, 175.48031616210938, 168.67005920410156, 167.7512969970703, 166.12950134277344, 165.494140625, 164.81582641601562, 160.4560546875, 150.62393188476562, 139.0989227294922, 138.1449432373047, 131.19732666015625, 131.21914672851562, 1462.673828125, 828.1470336914062, 1908.423828125, 2986.2880859375, 565.310791015625, 1361.7232666015625, 624.7615356445312, 1830.8682861328125, 479.1976623535156, 458.6740417480469, 1585.763916015625, 742.5182495117188, 1380.2327880859375, 329.36004638671875, 1106.0313720703125, 1000.85498046875, 3145.065185546875, 1175.1285400390625, 684.1665649414062, 2384.05615234375, 669.2789306640625, 507.4422302246094, 2699.666015625, 1860.0252685546875, 652.6092529296875, 754.8076171875, 815.4287109375, 939.6143798828125, 794.66455078125, 709.620361328125, 805.3446655273438, 556.6425170898438, 1082.323486328125, 807.3781127929688, 660.027587890625, 1450.427734375, 251.7462615966797, 208.70013427734375, 171.18630981445312, 145.9810333251953, 136.6386260986328, 127.08780670166016, 98.08871459960938, 91.60811614990234, 90.55430603027344, 85.86762237548828, 84.48883056640625, 79.40982055664062, 77.8994369506836, 76.17253875732422, 75.82456970214844, 76.26051330566406, 70.32926940917969, 69.94856262207031, 70.35762786865234, 69.57512664794922, 64.49691009521484, 62.26273727416992, 58.01279067993164, 57.44724655151367, 55.906089782714844, 55.52948760986328, 899.0035400390625, 281.6348571777344, 1798.038818359375, 324.549560546875, 210.04527282714844, 661.9393920898438, 331.2257385253906, 336.5810546875, 97.96527099609375, 10170.6103515625, 690.157958984375, 541.7001342773438, 344.73455810546875, 308.0151062011719, 252.43251037597656, 578.8004760742188, 4043.385009765625, 788.799560546875, 391.8912658691406, 990.4613647460938, 1646.422119140625, 1974.2685546875, 568.9427490234375, 1025.2440185546875, 2655.408203125, 519.2332763671875, 2373.41650390625, 1031.522705078125, 1107.614501953125, 1557.7781982421875, 1098.9080810546875, 494.0329284667969, 595.2046508789062, 576.0341186523438, 428.30755615234375, 438.8764343261719, 608.25927734375, 523.612548828125, 505.6499328613281, 747.3158569335938, 240.46490478515625, 206.3463134765625, 206.0545196533203, 164.59225463867188, 375.2354736328125, 108.40751647949219, 101.04096984863281, 95.90290832519531, 97.9129409790039, 2835.48291015625, 79.87581634521484, 77.94831085205078, 76.13619995117188, 73.4766845703125, 73.54496002197266, 72.1451644897461, 71.5855712890625, 68.41766357421875, 67.37019348144531, 62.79019546508789, 62.747154235839844, 61.49114227294922, 58.633548736572266, 672.0447998046875, 54.75668716430664, 54.141151428222656, 53.66852951049805, 52.997928619384766, 254.58489990234375, 418.7488098144531, 1103.8697509765625, 222.00437927246094, 564.35888671875, 2491.7421875, 315.3992919921875, 3204.316650390625, 160.56338500976562, 2452.454833984375, 899.9378051757812, 1683.308349609375, 367.7102966308594, 1637.301513671875, 1072.16552734375, 686.0449829101562, 301.5806579589844, 1357.091552734375, 875.86865234375, 283.10302734375, 1086.2225341796875, 1341.0511474609375, 1445.463623046875, 2347.65625, 753.9016723632812, 828.5690307617188, 724.5011596679688, 2333.177734375, 2140.016845703125, 1270.050048828125, 549.6160278320312, 1496.2362060546875, 684.5488891601562, 632.9979248046875, 1676.2283935546875, 1033.720458984375, 676.6060180664062, 1162.650146484375, 900.2474975585938, 1622.961669921875, 1516.072265625, 1232.83447265625, 976.71630859375, 433.2837219238281, 397.7166748046875, 354.127197265625, 842.433349609375, 308.6277160644531, 262.3648681640625, 252.44741821289062, 216.4471435546875, 148.93386840820312, 131.40927124023438, 121.2826919555664, 119.29972839355469, 116.84117126464844, 108.23670959472656, 106.9328384399414, 97.32811737060547, 94.1196060180664, 87.95751953125, 86.36091613769531, 83.89347076416016, 77.57471466064453, 78.85936737060547, 77.04927825927734, 75.06434631347656, 70.36872100830078, 1009.2198486328125, 273.5558166503906, 1444.2037353515625, 1072.932373046875, 152.94224548339844, 1590.681396484375, 595.3583374023438, 2304.728759765625, 2689.830810546875, 322.4388427734375, 457.8299255371094, 380.82806396484375, 626.231201171875, 219.65008544921875, 259.9366760253906, 2038.1383056640625, 949.1103515625, 1187.700927734375, 1100.6690673828125, 583.9357299804688, 372.59039306640625, 1337.255615234375, 588.3244018554688, 451.7537841796875, 1817.5487060546875, 1032.353759765625, 1460.3077392578125, 720.2097778320312, 1292.0294189453125, 723.93896484375, 528.8491821289062, 525.4580078125, 549.8900756835938, 2763.590576171875, 480.7574768066406, 394.3425598144531, 239.97756958007812, 230.55784606933594, 303.500732421875, 184.70606994628906, 178.3786163330078, 170.66787719726562, 148.644287109375, 143.30369567871094, 138.15139770507812, 127.85111236572266, 87.18331909179688, 86.2462387084961, 79.895263671875, 76.19255828857422, 74.31878662109375, 72.79947662353516, 71.2410659790039, 67.99483489990234, 64.15159606933594, 64.0091552734375, 63.712562561035156, 61.1506462097168, 60.854766845703125, 60.328800201416016, 59.0736083984375, 55.828956604003906, 55.61979675292969, 346.6941833496094, 288.7774353027344, 693.9370727539062, 219.38015747070312, 497.5120544433594, 217.28884887695312, 336.904052734375, 316.1580810546875, 734.252197265625, 138.82046508789062, 5123.357421875, 200.7273406982422, 626.70947265625, 654.22802734375, 842.2529296875, 172.86387634277344, 257.42926025390625, 509.89605712890625, 673.831298828125, 436.78741455078125, 229.0669708251953, 807.4470825195312, 808.1280517578125, 263.72784423828125, 657.0174560546875, 623.4146118164062, 294.4417419433594, 622.6771850585938, 408.4851989746094, 469.02447509765625, 378.0090026855469, 463.7485046386719, 320.5976867675781, 317.3536682128906, 304.9393615722656, 296.41632080078125, 297.6429443359375, 5076.416015625, 3062.454833984375, 432.6165466308594, 403.9291076660156, 261.63861083984375, 215.2544708251953, 202.01136779785156, 201.3878173828125, 176.3074188232422, 163.4845733642578, 149.159423828125, 127.22138214111328, 125.65376281738281, 105.20267486572266, 99.74331665039062, 98.26844787597656, 91.47050476074219, 89.81295776367188, 86.34722900390625, 324.156494140625, 75.46823120117188, 73.95065307617188, 73.89312744140625, 68.67414093017578, 66.6971206665039, 66.68575286865234, 62.25918960571289, 61.422119140625, 60.67158126831055, 55.78792953491211, 314.7397766113281, 134.89471435546875, 1136.7698974609375, 138.5337371826172, 97.49296569824219, 125.1635971069336, 149.9440155029297, 255.48995971679688, 232.23052978515625, 152.76841735839844, 642.2900390625, 1009.8980712890625, 217.25877380371094, 207.36050415039062, 280.0159606933594, 572.0431518554688, 524.2919311523438, 704.2251586914062, 572.7942504882812, 193.95347595214844, 319.42352294921875, 304.3473205566406, 381.7975158691406, 216.51406860351562, 249.91397094726562, 294.6544189453125, 349.47784423828125, 251.03857421875, 255.9739990234375, 230.22474670410156, 252.90081787109375], \"Term\": [\"user\", \"first\", \"data\", \"second\", \"content\", \"file\", \"model\", \"network\", \"malicious\", \"one\", \"computer\", \"computing\", \"device\", \"invention\", \"detection\", \"application\", \"security\", \"set\", \"learning\", \"service\", \"feature\", \"information\", \"behavior\", \"message\", \"may\", \"event\", \"least\", \"attack\", \"unit\", \"traffic\", \"transaction\", \"blockchain\", \"services\", \"enterprise\", \"payment\", \"iot\", \"transactions\", \"infrastructure\", \"biometric\", \"cryptocurrency\", \"credentials\", \"voting\", \"gateway\", \"authorization\", \"things\", \"proxy\", \"consumer\", \"authentication\", \"vulnerabilities\", \"participant\", \"peer\", \"question\", \"customer\", \"merchant\", \"smart_contract\", \"risks\", \"switching\", \"secret\", \"routing\", \"compromise\", \"trust\", \"service\", \"token\", \"identity\", \"exchange\", \"card\", \"id\", \"risk\", \"server\", \"wireless\", \"devices\", \"security\", \"personal\", \"device\", \"access\", \"cloud\", \"communication\", \"management\", \"asset\", \"network\", \"internet\", \"information\", \"secure\", \"client\", \"system\", \"user\", \"request\", \"electronic\", \"connection\", \"providing\", \"based\", \"may\", \"platform\", \"using\", \"systems\", \"one\", \"includes\", \"response\", \"safety\", \"discloses\", \"following_steps\", \"kind\", \"acquiring\", \"acquisition\", \"preset\", \"big\", \"carried\", \"efficiency\", \"problem\", \"discloses_kind\", \"camera\", \"alarm\", \"robot\", \"face\", \"picture\", \"emergency\", \"technical_field\", \"carry\", \"body\", \"drone\", \"carrying\", \"judging\", \"driving\", \"carries\", \"realize\", \"station\", \"accurate\", \"design\", \"image\", \"equipment\", \"unit\", \"invention\", \"recognition\", \"terminal\", \"means\", \"module\", \"intelligent\", \"step\", \"according\", \"relates\", \"present\", \"mode\", \"comprises\", \"target\", \"information\", \"control\", \"identification\", \"method\", \"vehicle\", \"technology\", \"data\", \"system\", \"result\", \"monitoring\", \"processing\", \"detection\", \"analysis\", \"code\", \"time\", \"operation\", \"node\", \"nodes\", \"packet\", \"traffic\", \"packets\", \"game\", \"segment\", \"raw\", \"flows\", \"bus\", \"structured\", \"embedding\", \"patient\", \"rf\", \"drawing_figure\", \"edges\", \"unmanned_aerial\", \"trace\", \"tier\", \"ha\", \"auxiliary\", \"campaign\", \"weights\", \"insurance\", \"healthcare\", \"decentralized\", \"forensic\", \"inter\", \"ontology\", \"currency\", \"events\", \"sensors\", \"event\", \"stream\", \"logic\", \"query\", \"entities\", \"controller\", \"functional\", \"data\", \"entity\", \"engine\", \"alert\", \"sources\", \"signals\", \"sensor\", \"one\", \"processor\", \"rules\", \"configured\", \"plurality\", \"least\", \"graph\", \"processing\", \"network\", \"flow\", \"system\", \"associated\", \"includes\", \"based\", \"may\", \"signal\", \"monitoring\", \"including\", \"receive\", \"output\", \"set\", \"control\", \"method\", \"readable_media\", \"container\", \"backup\", \"iv\", \"ransomware\", \"executable\", \"telemetry\", \"player\", \"untrusted\", \"requirement\", \"file\", \"infected\", \"zone\", \"parent\", \"trustworthiness\", \"disk\", \"watermark\", \"vm\", \"vehicular\", \"copy\", \"child\", \"movie\", \"appliance\", \"attempted\", \"files\", \"decrypted\", \"decrypting\", \"loss_prevention\", \"co\", \"iii\", \"metadata\", \"implemented\", \"reputation\", \"encrypted\", \"computing\", \"ii\", \"computer\", \"attempt\", \"application\", \"key\", \"disclosed\", \"signature\", \"include\", \"identifying\", \"virtual\", \"sensitive\", \"determining\", \"various\", \"encryption\", \"also\", \"methods\", \"systems\", \"may\", \"within\", \"code\", \"program\", \"device\", \"method\", \"least\", \"object\", \"one\", \"client\", \"detecting\", \"data\", \"security\", \"response\", \"system\", \"based\", \"learning\", \"behavior\", \"training\", \"vector\", \"trained\", \"neural\", \"classifier\", \"sample\", \"vectors\", \"samples\", \"behaviors\", \"de\", \"sequences\", \"tree\", \"predictive\", \"term\", \"benign\", \"train\", \"topics\", \"weighted\", \"learned\", \"symbols\", \"un\", \"classifiers\", \"actor\", \"paper\", \"ratio\", \"corpus\", \"comment\", \"features\", \"api\", \"attack\", \"classification\", \"temporal\", \"feature\", \"call\", \"malicious\", \"model\", \"probability\", \"prediction\", \"models\", \"sequence\", \"clustering\", \"behavioral\", \"detection\", \"malware\", \"software\", \"machine\", \"characteristics\", \"abnormal\", \"set\", \"detected\", \"algorithm\", \"based\", \"using\", \"network\", \"analysis\", \"method\", \"time\", \"value\", \"detecting\", \"device\", \"content\", \"item\", \"advertisement\", \"displayed\", \"graphical\", \"items\", \"recommendation\", \"web_page\", \"advertising\", \"presentation\", \"multimedia\", \"contact\", \"touch\", \"fraudulent\", \"displays\", \"web_browser\", \"lock\", \"playing\", \"viewer\", \"marketing\", \"exposure\", \"viewing\", \"sentiment\", \"scm\", \"ue\", \"style\", \"lbt_type\", \"option\", \"banking\", \"predictions\", \"website\", \"webpage\", \"media\", \"page\", \"social\", \"interest\", \"audio\", \"online\", \"display\", \"modification\", \"user\", \"interactive\", \"search\", \"users\", \"mobile\", \"interactions\", \"interaction\", \"video\", \"input\", \"interface\", \"selection\", \"based\", \"information\", \"product\", \"method\", \"one\", \"selected\", \"device\", \"associated\", \"may\", \"communication\", \"system\", \"provided\", \"receiving\", \"least\", \"electronic\", \"includes\", \"first\", \"second\", \"document\", \"domain_name\", \"documents\", \"der\", \"dns\", \"third\", \"table\", \"und\", \"die\", \"string\", \"einer\", \"ein\", \"von\", \"icon\", \"count\", \"das\", \"eine\", \"candidate\", \"ist\", \"domain_names\", \"spam\", \"definition\", \"einen\", \"zu\", \"werden\", \"manages\", \"structural\", \"sidelink\", \"domain\", \"mail\", \"message\", \"section\", \"sender\", \"domains\", \"language\", \"messages\", \"hash\", \"words\", \"value\", \"set\", \"list\", \"block\", \"group\", \"includes\", \"plurality\", \"one\", \"method\", \"attribute\", \"receiving\", \"corresponding\", \"least\", \"values\", \"electronic\", \"associated\", \"based\", \"wherein\", \"determining\", \"generating\", \"information\"], \"Total\": [7868.0, 5077.0, 15382.0, 3063.0, 2764.0, 2864.0, 3044.0, 7875.0, 2509.0, 7795.0, 4291.0, 2813.0, 8856.0, 3389.0, 3147.0, 3456.0, 4879.0, 3309.0, 1623.0, 2458.0, 1678.0, 8119.0, 1517.0, 1228.0, 5138.0, 1864.0, 4051.0, 1501.0, 1999.0, 1454.0, 864.958740234375, 546.2225952148438, 518.023681640625, 408.9976501464844, 356.7889709472656, 289.3903503417969, 270.9139099121094, 263.13287353515625, 263.9750671386719, 219.85723876953125, 177.1427459716797, 165.37425231933594, 164.82777404785156, 163.14695739746094, 148.31143188476562, 141.3749542236328, 136.7404327392578, 1367.53466796875, 131.82908630371094, 125.40298461914062, 122.55557250976562, 129.82562255859375, 268.3601989746094, 112.6218490600586, 105.4520263671875, 103.46057891845703, 100.0284194946289, 96.23246002197266, 95.50499725341797, 94.51778411865234, 226.4430694580078, 2458.34228515625, 347.36431884765625, 597.11767578125, 207.95750427246094, 241.1446075439453, 261.9019470214844, 1223.57177734375, 2540.17236328125, 773.0946044921875, 1785.9488525390625, 4879.158203125, 314.0904235839844, 8856.685546875, 2057.34130859375, 859.7607421875, 2355.885986328125, 1539.7772216796875, 465.8038330078125, 7875.171875, 705.8594360351562, 8119.7822265625, 569.4793701171875, 1681.630859375, 9529.251953125, 7868.53125, 1882.01171875, 1265.7064208984375, 530.346923828125, 1109.6480712890625, 7229.26171875, 5138.63330078125, 1176.145263671875, 3203.60888671875, 2712.4541015625, 7795.22607421875, 3388.467041015625, 1712.652099609375, 674.3239135742188, 579.2333374023438, 434.612060546875, 423.2920227050781, 411.5317687988281, 403.9263916015625, 404.4383239746094, 348.28076171875, 346.3841552734375, 312.8199157714844, 299.6186828613281, 291.87091064453125, 291.6908874511719, 222.02706909179688, 220.6505126953125, 211.9764404296875, 186.44334411621094, 178.936279296875, 176.33221435546875, 169.52130126953125, 168.60317993164062, 166.98153686523438, 166.3465576171875, 165.66798400878906, 161.307861328125, 151.47528076171875, 139.95016479492188, 138.9970703125, 132.05039978027344, 132.0733184814453, 1484.509521484375, 842.6156616210938, 1999.551513671875, 3389.005126953125, 601.49169921875, 1567.2664794921875, 688.33544921875, 2389.20703125, 555.1650390625, 531.4462280273438, 2239.219970703125, 966.780029296875, 2256.58642578125, 385.9753112792969, 1871.3333740234375, 1658.90087890625, 8119.7822265625, 2167.818603515625, 1058.3885498046875, 8057.083984375, 1134.0487060546875, 734.8175659179688, 15382.02734375, 9529.251953125, 1237.7886962890625, 1736.7581787109375, 2114.391845703125, 3147.441162109375, 2105.899658203125, 1678.8822021484375, 2677.244384765625, 1209.8177490234375, 1083.157470703125, 808.2118530273438, 660.8622436523438, 1454.640869140625, 252.5836944580078, 209.5358123779297, 172.02294921875, 146.8160858154297, 137.47262573242188, 127.92194366455078, 98.92311096191406, 92.44985961914062, 91.38815307617188, 86.7040786743164, 85.34093475341797, 80.24308013916016, 78.73735046386719, 77.00630187988281, 76.6601333618164, 77.10254669189453, 71.16634368896484, 70.78431701660156, 71.19935607910156, 70.40919494628906, 65.33560180664062, 63.0994987487793, 58.84581756591797, 58.28190612792969, 56.73944091796875, 56.36568069458008, 922.5720825195312, 285.97796630859375, 1864.8155517578125, 347.8081359863281, 223.29751586914062, 746.8817138671875, 364.5965270996094, 379.396484375, 101.33309173583984, 15382.02734375, 834.2864990234375, 659.3180541992188, 405.54791259765625, 361.6728210449219, 294.10797119140625, 756.3060913085938, 7795.22607421875, 1173.5772705078125, 520.9115600585938, 1591.606201171875, 3055.707763671875, 4051.2900390625, 853.5663452148438, 2114.391845703125, 7875.171875, 872.4525756835938, 9529.251953125, 2770.6875, 3388.467041015625, 7229.26171875, 5138.63330078125, 1041.36865234375, 1736.7581787109375, 1624.3477783203125, 740.8438720703125, 827.4102783203125, 3309.416015625, 2167.818603515625, 8057.083984375, 748.151123046875, 241.30067443847656, 207.18138122558594, 206.8907928466797, 165.42845153808594, 378.0592346191406, 109.2469711303711, 101.88096618652344, 96.73786163330078, 98.76731872558594, 2864.1611328125, 80.71685028076172, 78.78911590576172, 76.97532653808594, 74.31239318847656, 74.38170623779297, 72.98379516601562, 72.42277526855469, 69.25891876220703, 68.20604705810547, 63.6268310546875, 63.58930206298828, 62.32694625854492, 59.46983337402344, 681.7783813476562, 55.59280776977539, 54.977474212646484, 54.50320053100586, 53.83745574951172, 258.75177001953125, 425.8857116699219, 1152.242431640625, 228.6033477783203, 591.0588989257812, 2813.81298828125, 344.75885009765625, 4291.16845703125, 174.21966552734375, 3456.48388671875, 1171.462158203125, 2337.564697265625, 447.1986999511719, 2398.02587890625, 1511.2503662109375, 921.4144897460938, 374.1005859375, 2245.31396484375, 1365.720947265625, 359.2569580078125, 1857.3209228515625, 2459.666015625, 2712.4541015625, 5138.63330078125, 1354.24072265625, 1678.8822021484375, 1411.5152587890625, 8856.685546875, 8057.083984375, 4051.2900390625, 1072.46044921875, 7795.22607421875, 1681.630859375, 1454.4249267578125, 15382.02734375, 4879.158203125, 1712.652099609375, 9529.251953125, 7229.26171875, 1623.814453125, 1517.0296630859375, 1233.664306640625, 977.5433349609375, 434.11126708984375, 398.6415100097656, 354.9541320800781, 844.6097412109375, 309.455078125, 263.19158935546875, 253.275146484375, 217.2760772705078, 149.76129150390625, 132.24063110351562, 122.11236572265625, 120.13004302978516, 117.66800689697266, 109.0640869140625, 107.7635498046875, 98.15612030029297, 94.94734191894531, 88.7927017211914, 87.1880874633789, 84.72006225585938, 78.403076171875, 79.7029037475586, 77.88482666015625, 75.89311218261719, 71.19813537597656, 1021.377197265625, 279.09320068359375, 1501.3668212890625, 1112.354736328125, 155.60987854003906, 1678.686279296875, 622.430419921875, 2509.19921875, 3044.880126953125, 341.8747253417969, 501.34381103515625, 422.05047607421875, 741.756591796875, 237.77745056152344, 292.85357666015625, 3147.441162109375, 1344.290771484375, 1913.944091796875, 1890.599365234375, 851.190185546875, 486.8186950683594, 3309.416015625, 996.9039916992188, 671.1312255859375, 7229.26171875, 3203.60888671875, 7875.171875, 2105.899658203125, 8057.083984375, 2677.244384765625, 1494.2850341796875, 1454.4249267578125, 8856.685546875, 2764.418212890625, 481.58544921875, 395.1701354980469, 240.80575561523438, 231.38607788085938, 304.6603088378906, 185.5353546142578, 179.20681762695312, 171.49493408203125, 149.47171020507812, 144.13148498535156, 138.9787139892578, 128.68003845214844, 88.01122283935547, 87.0761947631836, 80.72260284423828, 77.02116394042969, 75.14554595947266, 73.62590026855469, 72.06949615478516, 68.824951171875, 64.97872924804688, 64.8370590209961, 64.54300689697266, 61.98075485229492, 61.683650970458984, 61.159332275390625, 59.902400970458984, 56.65768051147461, 56.45182418823242, 355.8509216308594, 297.07427978515625, 720.3270874023438, 227.9265899658203, 527.3639526367188, 228.7241973876953, 364.65386962890625, 356.124267578125, 908.3184204101562, 149.29623413085938, 7868.53125, 230.79026794433594, 871.6060180664062, 1006.552734375, 1433.738525390625, 209.25917053222656, 383.8133239746094, 984.2554931640625, 1489.43701171875, 1090.8505859375, 405.8662109375, 7229.26171875, 8119.7822265625, 587.905029296875, 8057.083984375, 7795.22607421875, 814.927978515625, 8856.685546875, 2770.6875, 5138.63330078125, 2355.885986328125, 9529.251953125, 1773.6546630859375, 1993.755615234375, 4051.2900390625, 1265.7064208984375, 3388.467041015625, 5077.27587890625, 3063.3056640625, 433.4660949707031, 404.7777404785156, 262.4881591796875, 216.10203552246094, 202.86016845703125, 202.23788452148438, 177.15869140625, 164.33213806152344, 150.007080078125, 128.07058715820312, 126.50137329101562, 106.05025482177734, 100.59091186523438, 99.11813354492188, 92.32193756103516, 90.66053771972656, 87.19480895996094, 327.7601318359375, 76.31584930419922, 74.79914093017578, 74.74263763427734, 69.53081512451172, 67.54470825195312, 67.53346252441406, 63.1068115234375, 62.279335021972656, 61.52518081665039, 56.64274215698242, 325.3335876464844, 138.4315643310547, 1228.9658203125, 147.95703125, 102.79981994628906, 135.8930206298828, 166.54837036132812, 340.7604064941406, 330.5908203125, 200.0006561279297, 1494.2850341796875, 3309.416015625, 393.59454345703125, 390.87078857421875, 728.510498046875, 3388.467041015625, 3055.707763671875, 7795.22607421875, 8057.083984375, 409.50775146484375, 1993.755615234375, 1734.986328125, 4051.2900390625, 649.5835571289062, 1265.7064208984375, 2770.6875, 7229.26171875, 1571.2952880859375, 2245.31396484375, 1295.55322265625, 8119.7822265625], \"loglift\": [30.0, 29.0, 28.0, 27.0, 26.0, 25.0, 24.0, 23.0, 22.0, 21.0, 20.0, 19.0, 18.0, 17.0, 16.0, 15.0, 14.0, 13.0, 12.0, 11.0, 10.0, 9.0, 8.0, 7.0, 6.0, 5.0, 4.0, 3.0, 2.0, 1.0, 1.5799000263214111, 1.5793999433517456, 1.579300045967102, 1.5788999795913696, 1.5786000490188599, 1.5779999494552612, 1.5778000354766846, 1.5777000188827515, 1.5777000188827515, 1.5771000385284424, 1.5760999917984009, 1.5757999420166016, 1.5757999420166016, 1.575700044631958, 1.5751999616622925, 1.5749000310897827, 1.5746999979019165, 1.5744999647140503, 1.5744999647140503, 1.5742000341415405, 1.5740000009536743, 1.573799967765808, 1.5734000205993652, 1.5734000205993652, 1.5729000568389893, 1.57260000705719, 1.5723999738693237, 1.572100043296814, 1.572100043296814, 1.5720000267028809, 1.5654000043869019, 1.5240000486373901, 1.5507999658584595, 1.5175000429153442, 1.5484999418258667, 1.5401999950408936, 1.531000018119812, 1.417199969291687, 1.3529000282287598, 1.4185999631881714, 1.3259999752044678, 1.2210999727249146, 1.4836000204086304, 0.98580002784729, 1.1858999729156494, 1.3172999620437622, 1.1288000345230103, 1.195099949836731, 1.4023000001907349, 0.7865999937057495, 1.2897000312805176, 0.6973999738693237, 1.3271000385284424, 1.0184999704360962, 0.4959999918937683, 0.5246000289916992, 0.9377999901771545, 0.9835000038146973, 1.3133000135421753, 0.9447000026702881, -0.039000000804662704, 0.05790000036358833, 0.8733999729156494, 0.05719999969005585, 0.15929999947547913, -0.7233999967575073, -0.0649000033736229, 0.45660001039505005, 1.6624000072479248, 1.6621999740600586, 1.6617000102996826, 1.6615999937057495, 1.6615999937057495, 1.6614999771118164, 1.6614999771118164, 1.6612000465393066, 1.6612000465393066, 1.6608999967575073, 1.6607999801635742, 1.6606999635696411, 1.6606999635696411, 1.6598000526428223, 1.6598000526428223, 1.659600019454956, 1.65910005569458, 1.6589000225067139, 1.6588000059127808, 1.6585999727249146, 1.6585999727249146, 1.6584999561309814, 1.6584999561309814, 1.6584999561309814, 1.6583000421524048, 1.6579999923706055, 1.6575000286102295, 1.6575000286102295, 1.657099962234497, 1.657099962234497, 1.648800015449524, 1.646299958229065, 1.6169999837875366, 1.5370999574661255, 1.6016000509262085, 1.5230000019073486, 1.5666999816894531, 1.3975000381469727, 1.5164999961853027, 1.5163999795913696, 1.318600058555603, 1.3997000455856323, 1.1720000505447388, 1.5049999952316284, 1.1377999782562256, 1.1583000421524048, 0.7152000069618225, 1.051300048828125, 1.2273000478744507, 0.44589999318122864, 1.136299967765808, 1.2934000492095947, -0.07639999687671661, 0.029899999499320984, 1.0234999656677246, 0.830299973487854, 0.7107999920845032, 0.454800009727478, 0.6891000270843506, 0.8025000095367432, 0.46239998936653137, 0.8873000144958496, 1.8077000379562378, 1.8075000047683716, 1.8071999549865723, 1.8056000471115112, 1.8051999807357788, 1.8044999837875366, 1.8035999536514282, 1.8028000593185425, 1.80239999294281, 1.8020000457763672, 1.7999999523162842, 1.799399971961975, 1.799299955368042, 1.798799991607666, 1.7984999418258667, 1.7980999946594238, 1.7977999448776245, 1.7976000308990479, 1.7975000143051147, 1.7975000143051147, 1.7967000007629395, 1.7965999841690063, 1.7965999841690063, 1.7965999841690063, 1.7956000566482544, 1.7950999736785889, 1.7941999435424805, 1.794100046157837, 1.7936999797821045, 1.7935999631881714, 1.7826000452041626, 1.7932000160217285, 1.7719999551773071, 1.739300012588501, 1.7473000288009644, 1.6878000497817993, 1.712499976158142, 1.6887999773025513, 1.7747000455856323, 1.3947999477386475, 1.6188000440597534, 1.6119999885559082, 1.6460000276565552, 1.6478999853134155, 1.6556999683380127, 1.5410000085830688, 1.1520999670028687, 1.4112000465393066, 1.523900032043457, 1.3342000246047974, 1.1900999546051025, 1.0896999835968018, 1.402899980545044, 1.0846999883651733, 0.7214000225067139, 1.2894999980926514, 0.41850000619888306, 0.8203999996185303, 0.6902999877929688, 0.2736000120639801, 0.26600000262260437, 1.0628000497817993, 0.7376000285148621, 0.7717999815940857, 1.2604999542236328, 1.174399971961975, 0.11460000276565552, 0.387800008058548, -0.9599999785423279, 1.9246000051498413, 1.9221999645233154, 1.9217000007629395, 1.9217000007629395, 1.9206000566482544, 1.9182000160217285, 1.9179999828338623, 1.9174000024795532, 1.9170000553131104, 1.9170000553131104, 1.9155999422073364, 1.9151999950408936, 1.9149999618530273, 1.9147000312805176, 1.9143999814987183, 1.9143999814987183, 1.914199948310852, 1.9141000509262085, 1.9134999513626099, 1.9134000539779663, 1.912500023841858, 1.9124000072479248, 1.9121999740600586, 1.9114999771118164, 1.9112999439239502, 1.910599946975708, 1.9104000329971313, 1.9103000164031982, 1.909999966621399, 1.909500002861023, 1.9088000059127808, 1.8827999830245972, 1.896399974822998, 1.8795000314712524, 1.8042000532150269, 1.8366999626159668, 1.6335999965667725, 1.844099998474121, 1.5824999809265137, 1.6619999408721924, 1.5973999500274658, 1.7300000190734863, 1.544100046157837, 1.5824999809265137, 1.6306999921798706, 1.7101999521255493, 1.4221999645233154, 1.4815000295639038, 1.6875, 1.389299988746643, 1.319100022315979, 1.2963000535964966, 1.142300009727478, 1.340000033378601, 1.219499945640564, 1.2588000297546387, 0.5917999744415283, 0.6000000238418579, 0.7656999826431274, 1.257200002670288, 0.2752000093460083, 1.026900053024292, 1.0937999486923218, -0.29089999198913574, 0.37389999628067017, 0.996999979019165, -0.17800000309944153, -0.1574999988079071, 2.015199899673462, 2.0151000022888184, 2.015000104904175, 2.0148000717163086, 2.0137999057769775, 2.013400077819824, 2.013400077819824, 2.0130999088287354, 2.013000011444092, 2.012500047683716, 2.012399911880493, 2.011899948120117, 2.0100998878479004, 2.009399890899658, 2.0088999271392822, 2.008699893951416, 2.0085999965667725, 2.0081000328063965, 2.0078999996185303, 2.007200002670288, 2.0069000720977783, 2.006200075149536, 2.006200075149536, 2.0058999061584473, 2.0051000118255615, 2.005000114440918, 2.0048999786376953, 2.004699945449829, 2.003999948501587, 2.003700017929077, 1.9955999851226807, 1.9768999814987183, 1.979599952697754, 1.9983999729156494, 1.9617999792099, 1.9711999893188477, 1.9306999444961548, 1.891700029373169, 1.957200050354004, 1.9249000549316406, 1.9128999710083008, 1.8464000225067139, 1.936400055885315, 1.8964999914169312, 1.5810999870300293, 1.6676000356674194, 1.5384999513626099, 1.4746999740600586, 1.638800024986267, 1.7482999563217163, 1.1095000505447388, 1.4882999658584595, 1.6198999881744385, 0.6349999904632568, 0.8831999897956848, 0.33059999346733093, 0.9427000284194946, 0.18529999256134033, 0.7077999711036682, 0.9769999980926514, 0.9976000189781189, -0.7634999752044678, 2.3956000804901123, 2.394200086593628, 2.3938000202178955, 2.392400026321411, 2.3922998905181885, 2.3921000957489014, 2.391400098800659, 2.3912999629974365, 2.3910999298095703, 2.3903000354766846, 2.3901000022888184, 2.389899969100952, 2.389400005340576, 2.386399984359741, 2.3863000869750977, 2.3856000900268555, 2.3850998878479004, 2.3847999572753906, 2.3845999240875244, 2.3842999935150146, 2.3838000297546387, 2.3831000328063965, 2.382999897003174, 2.3828999996185303, 2.3824000358581543, 2.3824000358581543, 2.382200002670288, 2.381999969482422, 2.381200075149536, 2.38100004196167, 2.369800090789795, 2.3675999641418457, 2.358599901199341, 2.3577001094818115, 2.337599992752075, 2.344599962234497, 2.316699981689453, 2.276900053024292, 2.1830999851226807, 2.3231000900268555, 1.9667999744415283, 2.2562999725341797, 2.065999984741211, 1.9651000499725342, 1.8638999462127686, 2.2047998905181885, 1.996500015258789, 1.7381999492645264, 1.6026999950408936, 1.4805999994277954, 1.8238999843597412, 0.20389999449253082, 0.08860000222921371, 1.5942000150680542, -0.11069999635219574, -0.13019999861717224, 1.3779000043869019, -0.2590000033378601, 0.4814999997615814, 0.0020000000949949026, 0.566100001335144, -0.6269000172615051, 0.6852999925613403, 0.5580999851226807, -0.1907999962568283, 0.9442999958992004, -0.03629999980330467, 2.648200035095215, 2.6480000019073486, 2.646399974822998, 2.646199941635132, 2.6451001167297363, 2.644399881362915, 2.6440999507904053, 2.6440999507904053, 2.6435000896453857, 2.643199920654297, 2.642699956893921, 2.641700029373169, 2.6415998935699463, 2.6403000354766846, 2.639899969100952, 2.639699935913086, 2.6391000747680664, 2.6389000415802, 2.6386001110076904, 2.6373000144958496, 2.637200117111206, 2.636899948120117, 2.636899948120117, 2.6359000205993652, 2.635699987411499, 2.635699987411499, 2.6347999572753906, 2.634500026702881, 2.634399890899658, 2.6331000328063965, 2.6152000427246094, 2.6224000453948975, 2.5703001022338867, 2.5824999809265137, 2.5952999591827393, 2.5660998821258545, 2.543299913406372, 2.360300064086914, 2.2952001094818115, 2.3789000511169434, 1.8040000200271606, 1.461400032043457, 2.0541000366210938, 2.014400005340576, 1.692199945449829, 0.8694000244140625, 0.8855999708175659, 0.24420000612735748, 0.0044999998062849045, 1.9010000228881836, 0.8170999884605408, 0.9077000021934509, 0.2863999903202057, 1.5496000051498413, 1.0261000394821167, 0.4072999954223633, -0.38109999895095825, 0.814300000667572, 0.47679999470710754, 0.9207000136375427, -0.8206999897956848], \"logprob\": [30.0, 29.0, 28.0, 27.0, 26.0, 25.0, 24.0, 23.0, 22.0, 21.0, 20.0, 19.0, 18.0, 17.0, 16.0, 15.0, 14.0, 13.0, 12.0, 11.0, 10.0, 9.0, 8.0, 7.0, 6.0, 5.0, 4.0, 3.0, 2.0, 1.0, -5.152699947357178, -5.61299991607666, -5.665999889373779, -5.9028000831604, -6.039599895477295, -6.249599933624268, -6.315700054168701, -6.34499979019165, -6.341800212860107, -6.525300025939941, -6.742300033569336, -6.811299800872803, -6.814599990844727, -6.824999809265137, -6.92080020904541, -6.968999862670898, -7.002500057220459, -4.699999809265137, -7.039400100708008, -7.089700222015381, -7.112800121307373, -7.0553998947143555, -6.329599857330322, -7.19789981842041, -7.264200210571289, -7.2835001945495605, -7.317500114440918, -7.356500148773193, -7.364099979400635, -7.374599933624268, -6.507400035858154, -4.164100170135498, -6.094099998474121, -5.585700035095215, -6.609499931335449, -6.469799995422363, -6.396399974822998, -4.968699932098389, -4.302499771118164, -5.426400184631348, -4.681600093841553, -3.7815001010894775, -6.26200008392334, -3.4207000732421875, -4.680300235748291, -5.42140007019043, -4.601799964904785, -4.9608001708984375, -5.9492998123168945, -3.737299919128418, -5.646200180053711, -3.7959001064300537, -5.823500156402588, -5.0493998527526855, -3.8371999263763428, -4.000100135803223, -5.017399787902832, -5.368500232696533, -5.9085001945495605, -5.53879976272583, -4.648399829864502, -4.892899990081787, -5.552000045776367, -5.366099834442139, -5.430500030517578, -5.257400035858154, -5.43209981918335, -5.5929999351501465, -5.319300174713135, -5.471499919891357, -5.759200096130371, -5.785699844360352, -5.813899993896484, -5.832600116729736, -5.831299781799316, -5.981200218200684, -5.986599922180176, -6.088799953460693, -6.1321001052856445, -6.158299922943115, -6.158899784088135, -6.432799816131592, -6.439000129699707, -6.479300022125244, -6.6082000732421875, -6.649499893188477, -6.6641998291015625, -6.703800201416016, -6.709199905395508, -6.718999862670898, -6.722799777984619, -6.726900100708008, -6.753699779510498, -6.81689977645874, -6.896500110626221, -6.90339994430542, -6.954999923706055, -6.954800128936768, -4.543700218200684, -5.112500190734863, -4.277699947357178, -3.829900026321411, -5.49429988861084, -4.615200042724609, -5.3942999839782715, -4.319200038909912, -5.659599781036377, -5.703400135040283, -4.462900161743164, -5.221700191497803, -4.6016998291015625, -6.034599781036377, -4.823200225830078, -4.923099994659424, -3.77810001373291, -4.762599945068359, -5.303500175476074, -4.055200099945068, -5.325500011444092, -5.60230016708374, -3.930799961090088, -4.303400039672852, -5.3506999015808105, -5.2052998542785645, -5.127999782562256, -4.986199855804443, -5.153800010681152, -5.267000198364258, -5.140399932861328, -5.509799957275391, -4.699999809265137, -4.993100166320801, -5.1946001052856445, -4.407199859619141, -6.158400058746338, -6.3460001945495605, -6.544099807739258, -6.703400135040283, -6.769499778747559, -6.8420000076293945, -7.10099983215332, -7.169300079345703, -7.1809000968933105, -7.234000205993652, -7.250199794769287, -7.31220006942749, -7.331399917602539, -7.353899955749512, -7.358399868011475, -7.352700233459473, -7.433700084686279, -7.4390997886657715, -7.433300018310547, -7.444399833679199, -7.520199775695801, -7.555500030517578, -7.626200199127197, -7.636000156402588, -7.6631999015808105, -7.669899940490723, -4.8856000900268555, -6.046199798583984, -4.192399978637695, -5.904399871826172, -6.3394999504089355, -5.191699981689453, -5.884099960327148, -5.868000030517578, -7.102200031280518, -2.4595999717712402, -5.149899959564209, -5.392099857330322, -5.844099998474121, -5.956699848175049, -6.155700206756592, -5.325900077819824, -3.381999969482422, -5.016300201416016, -5.71589994430542, -4.788700103759766, -4.2804999351501465, -4.098899841308594, -5.343100070953369, -4.754199981689453, -3.802500009536743, -5.434500217437744, -3.914799928665161, -4.7480998039245605, -4.6768999099731445, -4.3358001708984375, -4.684800148010254, -5.4842000007629395, -5.297900199890137, -5.330699920654297, -5.626999855041504, -5.60260009765625, -5.276299953460693, -5.42609977722168, -5.460999965667725, -4.953199863433838, -6.087100028991699, -6.240099906921387, -6.241499900817871, -6.46619987487793, -5.642099857330322, -6.883699893951416, -6.954100131988525, -7.00629997253418, -6.985599994659424, -3.6196999549865723, -7.189199924468994, -7.213600158691406, -7.237100124359131, -7.27269983291626, -7.271699905395508, -7.290999889373779, -7.298699855804443, -7.343999862670898, -7.359399795532227, -7.429800033569336, -7.430500030517578, -7.450699806213379, -7.498300075531006, -5.059299945831299, -7.566699981689453, -7.578000068664551, -7.5868000984191895, -7.599400043487549, -6.03000020980835, -5.532400131225586, -4.5630998611450195, -6.166900157928467, -5.23390007019043, -3.7488999366760254, -5.815800189971924, -3.4974000453948975, -6.491000175476074, -3.7648000717163086, -4.767300128936768, -4.14109992980957, -5.662300109863281, -4.168799877166748, -4.592199802398682, -5.038700103759766, -5.860599994659424, -4.356500148773193, -4.794400215148926, -5.923799991607666, -4.57919979095459, -4.3684000968933105, -4.293499946594238, -3.808500051498413, -4.944399833679199, -4.849899768829346, -4.9842000007629395, -3.81469988822937, -3.901099920272827, -4.422800064086914, -5.26039981842041, -4.258900165557861, -5.040900230407715, -5.119200229644775, -4.145299911499023, -4.628699779510498, -5.052599906921387, -4.511199951171875, -4.767000198364258, -4.087699890136719, -4.155799865722656, -4.362599849700928, -4.5954999923706055, -5.408299922943115, -5.493899822235107, -5.610000133514404, -4.7434000968933105, -5.747499942779541, -5.909900188446045, -5.948500156402588, -6.10230016708374, -6.476200103759766, -6.60129976272583, -6.68149995803833, -6.697999954223633, -6.718800067901611, -6.795300006866455, -6.807499885559082, -6.901599884033203, -6.935100078582764, -7.002799987792969, -7.021100044250488, -7.050099849700928, -7.128399848937988, -7.111999988555908, -7.135200023651123, -7.161300182342529, -7.225900173187256, -4.562699794769287, -5.868199825286865, -4.204400062561035, -4.501500129699707, -6.4496002197265625, -4.107699871063232, -5.0904998779296875, -3.7369000911712646, -3.58240008354187, -5.703700065612793, -5.3531999588012695, -5.537300109863281, -5.039899826049805, -6.087600231170654, -5.9191999435424805, -3.8598999977111816, -4.624100208282471, -4.399899959564209, -4.47599983215332, -5.109899997711182, -5.559199810028076, -4.281300067901611, -5.102399826049805, -5.366499900817871, -3.974400043487549, -4.54010009765625, -4.193299770355225, -4.900100231170654, -4.315700054168701, -4.894999980926514, -5.209000110626221, -5.215400218963623, -5.169899940490723, -3.1751999855041504, -4.924099922180176, -5.122200012207031, -5.618899822235107, -5.658999919891357, -5.384099960327148, -5.88070011138916, -5.915599822998047, -5.959700107574463, -6.097899913787842, -6.134500026702881, -6.17110013961792, -6.248600006103516, -6.631400108337402, -6.642300128936768, -6.718699932098389, -6.766200065612793, -6.791100025177002, -6.811800003051758, -6.833399772644043, -6.880000114440918, -6.938199996948242, -6.940400123596191, -6.945099830627441, -6.986100196838379, -6.991000175476074, -6.999599933624268, -7.020699977874756, -7.077199935913086, -7.080900192260742, -5.250999927520752, -5.433800220489502, -4.55709981918335, -5.708700180053711, -4.889800071716309, -5.718200206756592, -5.279699802398682, -5.343200206756592, -4.5005998611450195, -6.166299819946289, -2.5578999519348145, -5.797500133514404, -4.658999919891357, -4.616000175476074, -4.363399982452393, -5.947000026702881, -5.548699855804443, -4.865300178527832, -4.58650016784668, -5.019999980926514, -5.66540002822876, -4.405600070953369, -4.404699802398682, -5.524499893188477, -4.611700057983398, -4.6641998291015625, -5.414400100708008, -4.66540002822876, -5.086999893188477, -4.948800086975098, -5.1645002365112305, -4.960100173950195, -5.3292999267578125, -5.339399814605713, -5.379300117492676, -5.407700061798096, -5.403600215911865, -2.31469988822937, -2.8201000690460205, -4.777200222015381, -4.845799922943115, -5.280099868774414, -5.475200176239014, -5.538700103759766, -5.541800022125244, -5.674799919128418, -5.75029993057251, -5.8420000076293945, -6.001100063323975, -6.013500213623047, -6.191100120544434, -6.2444000244140625, -6.259300231933594, -6.330999851226807, -6.349299907684326, -6.388599872589111, -5.065800189971924, -6.5233001708984375, -6.543600082397461, -6.544400215148926, -6.617700099945068, -6.646900177001953, -6.646999835968018, -6.715700149536133, -6.729300022125244, -6.741600036621094, -6.825500011444092, -5.095300197601318, -5.942500114440918, -3.8111000061035156, -5.915900230407715, -6.267199993133545, -6.017399787902832, -5.8368000984191895, -5.303800106048584, -5.3993000984191895, -5.8180999755859375, -4.381999969482422, -3.9293999671936035, -5.46589994430542, -5.512599945068359, -5.212200164794922, -4.497799873352051, -4.585000038146973, -4.289899826049805, -4.496500015258789, -5.579400062561035, -5.08050012588501, -5.128900051116943, -4.902100086212158, -5.469399929046631, -5.325900077819824, -5.161200046539307, -4.990600109100342, -5.321400165557861, -5.3018999099731445, -5.4079999923706055, -5.314000129699707]}, \"token.table\": {\"Topic\": [2, 5, 1, 4, 6, 1, 2, 3, 4, 5, 6, 7, 2, 2, 2, 5, 6, 6, 2, 1, 3, 5, 6, 2, 4, 5, 7, 1, 2, 3, 4, 5, 6, 1, 2, 3, 4, 5, 6, 3, 5, 4, 1, 2, 4, 5, 6, 1, 3, 1, 3, 4, 5, 6, 7, 1, 2, 5, 1, 4, 4, 2, 4, 5, 6, 7, 2, 3, 6, 1, 6, 1, 3, 4, 6, 1, 2, 3, 4, 5, 6, 7, 5, 1, 3, 5, 6, 5, 5, 2, 1, 1, 2, 4, 7, 1, 2, 3, 2, 5, 2, 3, 6, 7, 1, 2, 2, 2, 2, 2, 1, 2, 3, 5, 6, 4, 2, 5, 5, 5, 1, 4, 6, 7, 1, 2, 4, 2, 5, 7, 4, 2, 4, 7, 5, 1, 2, 3, 6, 7, 1, 2, 3, 4, 5, 6, 7, 1, 1, 2, 3, 4, 5, 6, 7, 1, 3, 4, 5, 1, 3, 4, 5, 6, 7, 1, 2, 3, 4, 1, 6, 4, 6, 1, 2, 3, 4, 1, 2, 3, 6, 4, 5, 1, 2, 3, 4, 5, 6, 7, 7, 1, 1, 3, 1, 6, 7, 1, 2, 3, 4, 5, 6, 7, 5, 3, 4, 4, 7, 7, 2, 1, 2, 3, 5, 2, 3, 4, 5, 6, 7, 2, 3, 5, 1, 2, 3, 4, 5, 6, 7, 1, 2, 3, 4, 5, 6, 7, 1, 3, 4, 6, 7, 1, 3, 4, 5, 6, 7, 2, 2, 4, 2, 6, 6, 6, 7, 7, 7, 3, 7, 7, 7, 3, 7, 3, 2, 2, 3, 2, 7, 7, 7, 7, 1, 2, 6, 7, 3, 2, 1, 3, 4, 1, 2, 4, 1, 3, 5, 6, 1, 1, 3, 6, 1, 3, 6, 7, 1, 2, 1, 2, 3, 4, 5, 6, 7, 3, 5, 6, 1, 6, 4, 5, 6, 2, 2, 5, 5, 6, 4, 5, 4, 5, 7, 2, 3, 5, 3, 2, 3, 6, 3, 5, 3, 1, 1, 2, 3, 4, 5, 6, 7, 3, 5, 6, 1, 2, 3, 5, 6, 7, 3, 4, 7, 3, 7, 1, 2, 4, 1, 2, 3, 4, 5, 7, 1, 2, 3, 4, 5, 6, 7, 1, 2, 6, 4, 5, 6, 7, 4, 7, 2, 4, 1, 4, 5, 7, 1, 3, 4, 5, 6, 7, 1, 2, 3, 4, 5, 6, 7, 1, 2, 3, 4, 5, 6, 7, 4, 1, 2, 3, 4, 5, 6, 7, 1, 1, 2, 3, 4, 5, 6, 7, 3, 1, 2, 6, 3, 1, 2, 6, 3, 6, 1, 2, 6, 3, 6, 1, 2, 3, 4, 6, 1, 2, 3, 4, 6, 1, 2, 5, 6, 1, 7, 6, 6, 4, 2, 1, 2, 4, 2, 2, 7, 6, 5, 5, 1, 3, 4, 5, 6, 7, 1, 5, 6, 7, 6, 2, 3, 4, 1, 2, 3, 4, 5, 7, 3, 7, 4, 5, 4, 5, 1, 2, 3, 7, 6, 1, 3, 4, 5, 6, 1, 2, 7, 3, 4, 6, 1, 1, 2, 6, 7, 1, 6, 7, 1, 4, 6, 1, 2, 3, 4, 5, 6, 7, 1, 3, 4, 5, 6, 1, 2, 4, 5, 6, 1, 2, 3, 4, 5, 2, 5, 3, 5, 5, 6, 1, 2, 3, 7, 1, 2, 3, 4, 5, 6, 4, 6, 1, 2, 3, 4, 5, 5, 3, 3, 2, 3, 4, 5, 7, 1, 3, 4, 5, 6, 7, 1, 5, 6, 3, 1, 2, 3, 4, 5, 7, 6, 2, 3, 4, 5, 6, 3, 3, 4, 6, 5, 4, 1, 3, 1, 1, 1, 2, 6, 2, 1, 2, 3, 6, 4, 6, 1, 3, 4, 5, 6, 7, 2, 5, 6, 5, 1, 2, 3, 4, 5, 6, 7, 6, 2, 2, 5, 2, 1, 2, 3, 5, 7, 1, 3, 4, 7, 1, 2, 4, 6, 7, 1, 2, 3, 4, 5, 6, 7, 1, 2, 3, 4, 5, 6, 7, 1, 2, 3, 4, 5, 6, 7, 1, 3, 7, 1, 4, 5, 3, 4, 2, 1, 3, 4, 5, 6, 7, 1, 2, 3, 4, 6, 7, 2, 3, 6, 6, 1, 2, 5, 6, 7, 4, 6, 1, 4, 6, 7, 4, 1, 3, 4, 5, 6, 7, 1, 2, 3, 4, 5, 6, 7, 3, 1, 5, 1, 2, 1, 1, 3, 4, 7, 2, 2, 5, 5, 6, 3, 6, 7, 1, 6, 7, 1, 4, 1, 2, 3, 4, 5, 3, 1, 3, 4, 5, 6, 7, 1, 2, 3, 5, 6, 7, 4, 7, 2, 4, 1, 2, 3, 2, 3, 6, 2, 5, 6, 7, 5, 1, 2, 4, 6, 7, 1, 2, 4, 6, 1, 1, 2, 3, 4, 5, 7, 7, 1, 2, 3, 4, 7, 2, 3, 1, 3, 4, 5, 1, 1, 3, 6, 1, 2, 4, 5, 1, 3, 6, 7, 2, 2, 4, 5, 6, 2, 3, 7, 7, 7, 3, 6, 1, 5, 1, 2, 3, 4, 5, 6, 7, 1, 3, 4, 5, 6, 7, 2, 3, 4, 5, 7, 2, 1, 2, 3, 4, 5, 6, 5, 1, 2, 1, 7, 3, 1, 2, 3, 4, 5, 6, 1, 4, 5, 6, 3, 1, 3, 5, 5, 5, 1, 1, 5, 1, 4, 4, 6, 5, 7, 1, 2, 3, 6, 7, 3, 4, 1, 2, 4, 6, 1, 6, 1, 2, 3, 4, 5, 6, 7, 1, 2, 3, 4, 5, 6, 7, 3, 5, 7, 1, 2, 3, 4, 5, 6, 5, 5, 2, 3, 4, 2, 6, 6, 6, 1, 2, 4, 4, 7, 1, 1, 4, 6, 6, 2, 5, 6, 2, 6, 5, 3, 7, 1, 2, 3, 4, 5, 6, 7, 1, 2, 1, 3, 4, 5, 6, 7, 2, 7, 4, 7], \"Freq\": [0.23417341709136963, 0.766198992729187, 0.6736850142478943, 0.3193441927433014, 0.00680489931255579, 0.09958825260400772, 0.7082823514938354, 0.026795044541358948, 0.014290690422058105, 0.1103062704205513, 0.01920311525464058, 0.021436035633087158, 0.9920454621315002, 0.9987078309059143, 0.9977065324783325, 0.9948589205741882, 0.9970389008522034, 0.9971140027046204, 0.9953741431236267, 0.08137139678001404, 0.8507009744644165, 0.012328999117016792, 0.054247599095106125, 0.24883359670639038, 0.0014900215901434422, 0.6734897494316101, 0.07599110156297684, 0.1609845608472824, 0.06299395859241486, 0.07699261605739594, 0.5847131609916687, 0.032843004912137985, 0.08129989355802536, 0.02184339612722397, 0.3775108754634857, 0.19041742384433746, 0.06505533307790756, 0.3418966233730316, 0.003323995042592287, 0.017915163189172745, 0.9817509055137634, 0.9787099361419678, 0.05641571059823036, 0.10646657645702362, 0.7093914151191711, 0.12237869948148727, 0.0052076042629778385, 0.8372623324394226, 0.1610119789838791, 0.17396403849124908, 0.3724707365036011, 0.15844443440437317, 0.04150594398379326, 0.14725586771965027, 0.10647176951169968, 0.03263692557811737, 0.005328477825969458, 0.9617902636528015, 0.07461844384670258, 0.9241207242012024, 0.9920996427536011, 0.019535649567842484, 0.31012845039367676, 0.13674955070018768, 0.05860694870352745, 0.47373950481414795, 0.06307350844144821, 0.010969306342303753, 0.9241640567779541, 0.9937590956687927, 0.005849943030625582, 0.992969810962677, 0.9836110472679138, 0.9942978620529175, 0.9883920550346375, 0.1979455202817917, 0.05062757804989815, 0.21551302075386047, 0.1244940385222435, 0.2514779567718506, 0.1116296574473381, 0.04827602207660675, 0.9993212819099426, 0.010244026780128479, 0.047805462032556534, 0.8878157138824463, 0.05463481321930885, 0.9949653744697571, 0.9943229556083679, 0.9963226318359375, 0.9963062405586243, 0.1586201936006546, 0.1509450227022171, 0.1560617983341217, 0.5295867919921875, 0.9977617263793945, 0.9964224696159363, 0.9927929043769836, 0.04177173599600792, 0.9559301137924194, 0.9976314306259155, 0.9889196157455444, 0.009153035469353199, 0.988527774810791, 0.962078332901001, 0.03732200339436531, 0.9988909363746643, 0.9968622922897339, 0.996924877166748, 0.9919050931930542, 0.023496512323617935, 0.16447557508945465, 0.0646154060959816, 0.6860981583595276, 0.06109093129634857, 0.9901483058929443, 0.035060759633779526, 0.9646203517913818, 0.9973119497299194, 0.9915006756782532, 0.5696851015090942, 0.40734267234802246, 0.013082537800073624, 0.010109233669936657, 0.7688185572624207, 0.17330402135849, 0.058155715465545654, 0.00841122679412365, 0.9252349138259888, 0.0630842000246048, 0.9844447374343872, 0.4229004383087158, 0.4937809109687805, 0.08338882029056549, 0.983171820640564, 0.6362786889076233, 0.04372028261423111, 0.1281895637512207, 0.16044919192790985, 0.031410686671733856, 0.020306376740336418, 0.5910224318504333, 0.131991446018219, 0.0577128604054451, 0.10420377552509308, 0.016031349077820778, 0.07801923900842667, 0.9945218563079834, 0.08808789402246475, 0.002097330754622817, 0.08808789402246475, 0.7466498017311096, 0.04124750569462776, 0.010719691403210163, 0.02307063899934292, 0.05935006961226463, 0.03482818603515625, 0.8856310248374939, 0.0199018195271492, 0.2632560729980469, 0.6220131516456604, 0.06471449881792068, 0.004398072604089975, 0.012565921992063522, 0.03267139941453934, 0.7655366063117981, 0.07730788737535477, 0.062223419547080994, 0.09427791088819504, 0.9945850968360901, 0.9929578304290771, 0.9946097135543823, 0.9998487234115601, 0.1974334865808487, 0.5420195460319519, 0.2417176365852356, 0.018913021311163902, 0.026357650756835938, 0.08170871436595917, 0.888252854347229, 0.005271530244499445, 0.9823175668716431, 0.9882319569587708, 0.044957127422094345, 0.30317240953445435, 0.14524610340595245, 0.0720466747879982, 0.15965543687343597, 0.09971260279417038, 0.17521752417087555, 0.9856812357902527, 0.9935489892959595, 0.996100902557373, 0.9935123324394226, 0.991205096244812, 0.003726335009559989, 0.9927141666412354, 0.022103717550635338, 0.17552952468395233, 0.661226212978363, 0.10895832628011703, 0.02840977907180786, 0.0031205250415951014, 0.0007151202880777419, 0.9941269159317017, 0.9825751781463623, 0.9893366098403931, 0.982220470905304, 0.9923657774925232, 0.9949004054069519, 0.9918733239173889, 0.056173913180828094, 0.21867702901363373, 0.1344161480665207, 0.5898261070251465, 0.11000911891460419, 0.05019165948033333, 0.4352235496044159, 0.36096739768981934, 0.041940975934267044, 0.000687556981574744, 0.29865530133247375, 0.05369441211223602, 0.6475101113319397, 0.022713972255587578, 0.02360471710562706, 0.020487112924456596, 0.6043698191642761, 0.1425190418958664, 0.07215026766061783, 0.11401523649692535, 0.5514478087425232, 0.03963107988238335, 0.005984180141240358, 0.2634168267250061, 0.06209998205304146, 0.07034233957529068, 0.007113270461559296, 0.7749382257461548, 0.0492735281586647, 0.15509963035583496, 0.020717278122901917, 0.9932864308357239, 0.11892718821763992, 0.1001041829586029, 0.7199800610542297, 0.015828438103199005, 0.04406294971704483, 0.0008555912645533681, 0.9978707432746887, 0.9970161318778992, 0.994868278503418, 0.19046184420585632, 0.808086633682251, 0.9966539144515991, 0.9876407980918884, 0.9957597851753235, 0.998924732208252, 0.998140275478363, 0.030737681314349174, 0.9682369232177734, 0.9980785846710205, 0.9893161654472351, 0.07358729839324951, 0.9198412299156189, 0.9842873215675354, 0.9918921589851379, 0.9941219091415405, 0.9845085740089417, 0.997378945350647, 0.9900966286659241, 0.9862972497940063, 0.9919356107711792, 0.9960365891456604, 0.5498905777931213, 0.01738159731030464, 0.23386149108409882, 0.19751815497875214, 0.9951339960098267, 0.9947675466537476, 0.043988846242427826, 0.0016918787732720375, 0.9542196393013, 0.022268183529376984, 0.18649603426456451, 0.7877370119094849, 0.03791796788573265, 0.8220615386962891, 0.048534996807575226, 0.0925198420882225, 0.9975607395172119, 0.035655852407217026, 0.9078528881072998, 0.0521124005317688, 0.1546231359243393, 0.8270540237426758, 0.015582176856696606, 0.0011986290337517858, 0.01661492884159088, 0.9826543927192688, 0.0048262146301567554, 0.0037537224125117064, 0.9641703963279724, 0.0016087382100522518, 0.009652429260313511, 0.007507444825023413, 0.008579936809837818, 0.9744495749473572, 0.01625889167189598, 0.008671409450471401, 0.9665436148643494, 0.028852049261331558, 0.991908073425293, 0.0052901762537658215, 0.9880138039588928, 0.9953936338424683, 0.05182624235749245, 0.9477649331092834, 0.9878818392753601, 0.010769772343337536, 0.9898186326026917, 0.009775985963642597, 0.9856575131416321, 0.013200770132243633, 0.999748706817627, 0.29342567920684814, 0.5948747396469116, 0.11118082702159882, 0.9965620636940002, 0.9985917210578918, 0.9856265187263489, 0.9885103106498718, 0.9671075940132141, 0.029605334624648094, 0.9974428415298462, 0.9949779510498047, 0.014665549620985985, 0.043996647000312805, 0.267839252948761, 0.199142724275589, 0.17830221354961395, 0.11809626966714859, 0.17753033339977264, 0.666614830493927, 0.33272165060043335, 0.9983314275741577, 0.03843458741903305, 0.04392524063587189, 0.16471965610980988, 0.16609232127666473, 0.2004089206457138, 0.3843458592891693, 0.985700249671936, 0.29643896222114563, 0.7017738819122314, 0.9795578122138977, 0.9887191653251648, 0.950737476348877, 0.04200045019388199, 0.003818222787231207, 0.1596767157316208, 0.6462655067443848, 0.011337990872561932, 0.08314526826143265, 0.09353842586278915, 0.005668995436280966, 0.02249792590737343, 0.02514474093914032, 0.05028948187828064, 0.7093464136123657, 0.08800659328699112, 0.02514474093914032, 0.07940445095300674, 0.937838613986969, 0.04186779260635376, 0.018421828746795654, 0.9136821031570435, 0.0029005780816078186, 0.02320462465286255, 0.05801156535744667, 0.9855005145072937, 0.01159412320703268, 0.9855107069015503, 0.014146086759865284, 0.013885966502130032, 0.9581316709518433, 0.000867872906383127, 0.026904059574007988, 0.08715502172708511, 0.16013172268867493, 0.6826448440551758, 0.01084225159138441, 0.05504527688026428, 0.004170096945017576, 0.19271251559257507, 0.055187199264764786, 0.3269915282726288, 0.14519840478897095, 0.02301925979554653, 0.0879453718662262, 0.16880789399147034, 0.20438972115516663, 0.07202891260385513, 0.3546038568019867, 0.1329764425754547, 0.01662205532193184, 0.10281049460172653, 0.11573876440525055, 0.9911189675331116, 0.41331157088279724, 0.387325644493103, 0.02623223140835762, 0.04150357469916344, 0.0009852481307461858, 0.099510058760643, 0.03115847148001194, 0.9956946969032288, 0.005371157079935074, 0.07721038162708282, 0.19201886653900146, 0.013427892699837685, 0.2262599915266037, 0.4525199830532074, 0.03289833664894104, 0.9941883087158203, 0.12248609960079193, 0.862806499004364, 0.012608863413333893, 0.978005051612854, 0.2709650695323944, 0.057319533079862595, 0.6695963740348816, 0.17203547060489655, 0.8267260193824768, 0.01733175292611122, 0.11265639960765839, 0.8709205985069275, 0.048092857003211975, 0.9487408995628357, 0.27868160605430603, 0.030251622200012207, 0.26951444149017334, 0.020167747512459755, 0.40060481429100037, 0.7480242848396301, 0.17425565421581268, 0.0014167126500979066, 0.04391809180378914, 0.03258439153432846, 0.044850919395685196, 0.8810845613479614, 0.021540245041251183, 0.05222771689295769, 0.9986511468887329, 0.9827578663825989, 0.9987843036651611, 0.9978326559066772, 0.9956943988800049, 0.9959679245948792, 0.05207167938351631, 0.1792631596326828, 0.7682706713676453, 0.996947705745697, 0.09606818854808807, 0.9006392359733582, 0.9810440540313721, 0.9900224208831787, 0.9994984269142151, 0.02937335893511772, 0.48725220561027527, 0.313480406999588, 0.00024683497031219304, 0.07528465986251831, 0.09429095685482025, 0.34553325176239014, 0.04573234170675278, 0.05589508265256882, 0.5513287782669067, 0.9867417812347412, 0.05373996123671532, 0.9404493570327759, 0.9907674789428711, 0.05183541402220726, 0.0666455328464508, 0.13170427083969116, 0.1592087745666504, 0.5823550224304199, 0.008462924510240555, 0.0216713584959507, 0.9752110838890076, 0.08130083978176117, 0.9186197519302368, 0.293091356754303, 0.7059484720230103, 0.6799684762954712, 0.2877039611339569, 0.03182278573513031, 0.9794580936431885, 0.985160231590271, 0.2179567813873291, 0.2138700932264328, 0.45693084597587585, 0.019849635660648346, 0.09126940369606018, 0.08135568350553513, 0.9079875349998474, 0.01016946043819189, 0.005553032737225294, 0.03054168075323105, 0.9634512066841125, 0.9944784045219421, 0.05451738089323044, 0.019528614357113838, 0.0008136922842822969, 0.9251680970191956, 0.17607679963111877, 0.07043071836233139, 0.7483263611793518, 0.011740239337086678, 0.9838320016860962, 0.004696095362305641, 0.06280187517404556, 0.2958886921405792, 0.06280187517404556, 0.26560476422309875, 0.16035577654838562, 0.08154314756393433, 0.07111754268407822, 0.16872209310531616, 0.12034153938293457, 0.545195996761322, 0.09188239276409149, 0.07358722388744354, 0.2483018934726715, 0.10322663187980652, 0.004882340785115957, 0.056495655328035355, 0.5872758626937866, 0.00518167857080698, 0.8523861169815063, 0.00777251785621047, 0.11658776551485062, 0.018135875463485718, 0.11626073718070984, 0.8834502100944519, 0.09714477509260178, 0.9027356505393982, 0.06698092818260193, 0.9310348629951477, 0.030554071068763733, 0.7663630843162537, 0.20257766544818878, 0.0004185489087831229, 0.11055079847574234, 0.43471798300743103, 0.3425922989845276, 0.10594451427459717, 0.0005757854087278247, 0.00633363937959075, 0.9907326698303223, 0.9921496510505676, 0.45192664861679077, 0.025142308324575424, 0.3371354937553406, 0.0002539627021178603, 0.18539278209209442, 0.9983907341957092, 0.9989314079284668, 0.9985005855560303, 0.4261229336261749, 0.024243317544460297, 0.5128394365310669, 0.03263523429632187, 0.003729741321876645, 0.09980467706918716, 0.5186507701873779, 0.19191232323646545, 0.01924254558980465, 0.0799207091331482, 0.0903116837143898, 0.05896817892789841, 0.05054415389895439, 0.8873307108879089, 0.9869678020477295, 0.09340249747037888, 0.46039992570877075, 0.2025098353624344, 0.1909378468990326, 0.04794110357761383, 0.004959424491971731, 0.984935462474823, 0.12327620387077332, 0.5305711030960083, 0.025380395352840424, 0.23567509651184082, 0.08460132032632828, 0.9986952543258667, 0.9976891279220581, 0.03509902209043503, 0.9608356952667236, 0.991180956363678, 0.987329363822937, 0.9967864751815796, 0.9957526922225952, 0.997788667678833, 0.9954667687416077, 0.9073820114135742, 0.05730833858251572, 0.035021763294935226, 0.9976220726966858, 0.49313637614250183, 0.35794898867607117, 0.12328409403562546, 0.02550705336034298, 0.9913529753684998, 0.9847556352615356, 0.057924386113882065, 0.5386641025543213, 0.07166915386915207, 0.1400657445192337, 0.020289897918701172, 0.1714823693037033, 0.08576948195695877, 0.9135447144508362, 0.9919962882995605, 0.990890622138977, 0.1644076257944107, 0.6115431785583496, 0.031020306050777435, 0.0008862944669090211, 0.05362081527709961, 0.11167310178279877, 0.026145685464143753, 0.9968441724777222, 0.9989162087440491, 0.055575914680957794, 0.9418654441833496, 0.9979351162910461, 0.08654970675706863, 0.38545361161231995, 0.4847729504108429, 0.011823730543255806, 0.030741700902581215, 0.11418081074953079, 0.6723034381866455, 0.11247661709785461, 0.10054727643728256, 0.26534897089004517, 0.1786002814769745, 0.03742101043462753, 0.4490521252155304, 0.06973915547132492, 0.04534134641289711, 0.09068269282579422, 0.0007084585377015173, 0.5136324167251587, 0.29967793822288513, 0.048175178468227386, 0.0021253754384815693, 0.3038923144340515, 0.1437709480524063, 0.17759940028190613, 0.04397699236869812, 0.09923014044761658, 0.18098224699497223, 0.05074268579483032, 0.5289965271949768, 0.0027035598177462816, 0.09822934120893478, 0.15770766139030457, 0.0018023732118308544, 0.19105155766010284, 0.01892491988837719, 0.9973478317260742, 0.8863518834114075, 0.11246760934591293, 0.9936405420303345, 0.9974100589752197, 0.9886392951011658, 0.9944414496421814, 0.9984613656997681, 0.9932106733322144, 0.3280043303966522, 0.5777195692062378, 0.009448684751987457, 0.0026996240485459566, 0.039144549518823624, 0.04184417426586151, 0.2532908320426941, 0.03561118617653847, 0.07874585688114166, 0.3129771649837494, 0.15899641811847687, 0.1599995493888855, 0.9393313527107239, 0.028263065963983536, 0.029925599694252014, 0.9971145391464233, 0.16963528096675873, 0.768530547618866, 0.017584145069122314, 0.041374459862709045, 0.004137445706874132, 0.9711143970489502, 0.026246335357427597, 0.5255014896392822, 0.31561970710754395, 0.1174275353550911, 0.040913667529821396, 0.9922310709953308, 0.32464268803596497, 0.07181844115257263, 0.39529335498809814, 0.0011677794391289353, 0.14597243070602417, 0.061308424919843674, 0.002423676894977689, 0.5275536775588989, 0.08563658595085144, 0.06947874277830124, 0.23671245574951172, 0.01777363196015358, 0.0605919249355793, 0.9918795228004456, 0.8491532802581787, 0.15037940442562103, 0.9955482482910156, 0.9970518350601196, 0.9947123527526855, 0.14973750710487366, 0.7525269985198975, 0.023036539554595947, 0.07486875355243683, 0.9980366826057434, 0.0011839787475764751, 0.9969100952148438, 0.9954725503921509, 0.9915869235992432, 0.27994298934936523, 0.7193617224693298, 0.9995737671852112, 0.9871928691864014, 0.060828469693660736, 0.9394619464874268, 0.7761475443840027, 0.22301071882247925, 0.6978662610054016, 0.04242534935474396, 0.038941144943237305, 0.2119217962026596, 0.008812995627522469, 0.9940534234046936, 0.04049437493085861, 0.27855223417282104, 0.08098874986171722, 0.13498125970363617, 0.36076807975769043, 0.10430369526147842, 0.03942185640335083, 0.05666891857981682, 0.09362690895795822, 0.14044037461280823, 0.5642253160476685, 0.10594624280929565, 0.04863821715116501, 0.9435814023017883, 0.19246160984039307, 0.8072695136070251, 0.013222159817814827, 0.22081007063388824, 0.7655630707740784, 0.01398709136992693, 0.9860899448394775, 0.9870898127555847, 0.060666803270578384, 0.8439426422119141, 0.024266719818115234, 0.07010386139154434, 0.9949166178703308, 0.7960090041160583, 0.12007059156894684, 0.07401072233915329, 0.0023620445281267166, 0.0070861331187188625, 0.944538950920105, 0.005694894585758448, 0.000813556369394064, 0.04881338030099869, 0.9980238676071167, 0.030821148306131363, 0.010273715481162071, 0.1837182193994522, 0.06587264686822891, 0.4039987623691559, 0.3051897883415222, 0.9886527061462402, 0.11235214024782181, 0.39179208874702454, 0.47437572479248047, 0.02016576938331127, 0.0009602747159078717, 0.13940457999706268, 0.8568282127380371, 0.044722847640514374, 0.040250565856695175, 0.8229004144668579, 0.0916818380355835, 0.9957134127616882, 0.0284433551132679, 0.0284433551132679, 0.9443193674087524, 0.06269775331020355, 0.04075353965163231, 0.27587011456489563, 0.6207078099250793, 0.09400761872529984, 0.8515984416007996, 0.05253366753458977, 0.9900640845298767, 0.9928267002105713, 0.8636809587478638, 0.06962133944034576, 0.05644973739981651, 0.009408289566636086, 0.05175267159938812, 0.9344232082366943, 0.014375741593539715, 0.9916406273841858, 0.9914639592170715, 0.9906684160232544, 0.98891681432724, 0.9897187352180481, 0.991072416305542, 0.3379068970680237, 0.1951884627342224, 0.2490226924419403, 0.12204525619745255, 0.04208095371723175, 0.04869217425584793, 0.005037121474742889, 0.24147874116897583, 0.17511816322803497, 0.5327278971672058, 0.01843349076807499, 0.032074276357889175, 0.9934595823287964, 0.6034115552902222, 0.0006028087809681892, 0.1482909619808197, 0.20073531568050385, 0.04701908305287361, 0.9924448728561401, 0.244958758354187, 0.689967155456543, 0.0639614537358284, 0.9885857701301575, 0.9832280874252319, 0.012852654792368412, 0.9905931949615479, 0.1308009922504425, 0.8690289855003357, 0.991157591342926, 0.9938790798187256, 0.9913888573646545, 0.11765829473733902, 0.30068230628967285, 0.15575717389583588, 0.05864238739013672, 0.27042731642723083, 0.09674125909805298, 0.9701629877090454, 0.028788218274712563, 0.9929145574569702, 0.9947152733802795, 0.9869322180747986, 0.002749819541350007, 0.9968096017837524, 0.9902434945106506, 0.9974401593208313, 0.9994615316390991, 0.9988915920257568, 0.9966265559196472, 0.9906184077262878, 0.9847949743270874, 0.013248363509774208, 0.9823395013809204, 0.9841764569282532, 0.9863733053207397, 0.9918936491012573, 0.007001569960266352, 0.9542139768600464, 0.007501682266592979, 0.02650594338774681, 0.004501009359955788, 0.990635335445404, 0.9923725724220276, 0.3477141857147217, 0.000762531126383692, 0.000381265563191846, 0.6510744690895081, 0.3497084677219391, 0.6497424244880676, 0.2178792804479599, 0.15232820808887482, 0.09895090758800507, 0.13547222316265106, 0.32213670015335083, 0.01373451016843319, 0.059308115392923355, 0.002676865551620722, 0.13384327292442322, 0.010707462206482887, 0.0033460818231105804, 0.3540154695510864, 0.06625241786241531, 0.4296368956565857, 0.22014103829860687, 0.44490042328834534, 0.3340601921081543, 0.19989442825317383, 0.06297040730714798, 0.06297040730714798, 0.6414194703102112, 0.010983210057020187, 0.02123420685529709, 0.9994441866874695, 0.9985294342041016, 0.589921772480011, 0.4091534912586212, 0.9818230271339417, 0.48158228397369385, 0.5181581377983093, 0.9914988875389099, 0.9849377274513245, 0.19426652789115906, 0.06077612191438675, 0.7445074915885925, 0.994162380695343, 0.9941256046295166, 0.997736930847168, 0.9937108755111694, 0.9865203499794006, 0.9910483360290527, 0.9932658076286316, 0.01346464641392231, 0.01346464641392231, 0.9728206992149353, 0.022481324151158333, 0.9751274585723877, 0.9882216453552246, 0.9831549525260925, 0.9824612736701965, 0.09291697293519974, 0.288297176361084, 0.22847391664981842, 0.035639386624097824, 0.11964651197195053, 0.07446086406707764, 0.15974082052707672, 0.8498312830924988, 0.148752823472023, 0.09673316776752472, 0.3071832060813904, 0.5567695498466492, 0.002215263433754444, 0.025844739750027657, 0.012553160078823566, 0.23499922454357147, 0.7649974822998047, 0.9899844527244568, 0.9921007752418518], \"Term\": [\"abnormal\", \"abnormal\", \"access\", \"access\", \"access\", \"according\", \"according\", \"according\", \"according\", \"according\", \"according\", \"according\", \"accurate\", \"acquiring\", \"acquisition\", \"actor\", \"advertisement\", \"advertising\", \"alarm\", \"alert\", \"alert\", \"alert\", \"alert\", \"algorithm\", \"algorithm\", \"algorithm\", \"algorithm\", \"also\", \"also\", \"also\", \"also\", \"also\", \"also\", \"analysis\", \"analysis\", \"analysis\", \"analysis\", \"analysis\", \"analysis\", \"api\", \"api\", \"appliance\", \"application\", \"application\", \"application\", \"application\", \"application\", \"asset\", \"asset\", \"associated\", \"associated\", \"associated\", \"associated\", \"associated\", \"associated\", \"attack\", \"attack\", \"attack\", \"attempt\", \"attempt\", \"attempted\", \"attribute\", \"attribute\", \"attribute\", \"attribute\", \"attribute\", \"audio\", \"audio\", \"audio\", \"authentication\", \"authentication\", \"authorization\", \"auxiliary\", \"backup\", \"banking\", \"based\", \"based\", \"based\", \"based\", \"based\", \"based\", \"based\", \"behavior\", \"behavioral\", \"behavioral\", \"behavioral\", \"behavioral\", \"behaviors\", \"benign\", \"big\", \"biometric\", \"block\", \"block\", \"block\", \"block\", \"blockchain\", \"body\", \"bus\", \"call\", \"call\", \"camera\", \"campaign\", \"candidate\", \"candidate\", \"card\", \"card\", \"carried\", \"carries\", \"carry\", \"carrying\", \"characteristics\", \"characteristics\", \"characteristics\", \"characteristics\", \"characteristics\", \"child\", \"classification\", \"classification\", \"classifier\", \"classifiers\", \"client\", \"client\", \"client\", \"client\", \"cloud\", \"cloud\", \"cloud\", \"clustering\", \"clustering\", \"clustering\", \"co\", \"code\", \"code\", \"code\", \"comment\", \"communication\", \"communication\", \"communication\", \"communication\", \"communication\", \"comprises\", \"comprises\", \"comprises\", \"comprises\", \"comprises\", \"comprises\", \"comprises\", \"compromise\", \"computer\", \"computer\", \"computer\", \"computer\", \"computer\", \"computer\", \"computer\", \"computing\", \"computing\", \"computing\", \"computing\", \"configured\", \"configured\", \"configured\", \"configured\", \"configured\", \"configured\", \"connection\", \"connection\", \"connection\", \"connection\", \"consumer\", \"contact\", \"container\", \"content\", \"control\", \"control\", \"control\", \"control\", \"controller\", \"controller\", \"controller\", \"controller\", \"copy\", \"corpus\", \"corresponding\", \"corresponding\", \"corresponding\", \"corresponding\", \"corresponding\", \"corresponding\", \"corresponding\", \"count\", \"credentials\", \"cryptocurrency\", \"currency\", \"customer\", \"customer\", \"das\", \"data\", \"data\", \"data\", \"data\", \"data\", \"data\", \"data\", \"de\", \"decentralized\", \"decrypted\", \"decrypting\", \"definition\", \"der\", \"design\", \"detected\", \"detected\", \"detected\", \"detected\", \"detecting\", \"detecting\", \"detecting\", \"detecting\", \"detecting\", \"detecting\", \"detection\", \"detection\", \"detection\", \"determining\", \"determining\", \"determining\", \"determining\", \"determining\", \"determining\", \"determining\", \"device\", \"device\", \"device\", \"device\", \"device\", \"device\", \"device\", \"devices\", \"devices\", \"devices\", \"devices\", \"die\", \"disclosed\", \"disclosed\", \"disclosed\", \"disclosed\", \"disclosed\", \"disclosed\", \"discloses\", \"discloses_kind\", \"disk\", \"display\", \"display\", \"displayed\", \"displays\", \"dns\", \"document\", \"documents\", \"domain\", \"domain\", \"domain_name\", \"domain_names\", \"domains\", \"domains\", \"drawing_figure\", \"driving\", \"drone\", \"edges\", \"efficiency\", \"ein\", \"eine\", \"einen\", \"einer\", \"electronic\", \"electronic\", \"electronic\", \"electronic\", \"embedding\", \"emergency\", \"encrypted\", \"encrypted\", \"encrypted\", \"encryption\", \"encryption\", \"encryption\", \"engine\", \"engine\", \"engine\", \"engine\", \"enterprise\", \"entities\", \"entities\", \"entities\", \"entity\", \"entity\", \"entity\", \"entity\", \"equipment\", \"equipment\", \"event\", \"event\", \"event\", \"event\", \"event\", \"event\", \"event\", \"events\", \"events\", \"events\", \"exchange\", \"exchange\", \"executable\", \"executable\", \"exposure\", \"face\", \"feature\", \"feature\", \"features\", \"features\", \"file\", \"file\", \"files\", \"files\", \"first\", \"flow\", \"flow\", \"flow\", \"flows\", \"following_steps\", \"forensic\", \"fraudulent\", \"functional\", \"functional\", \"game\", \"gateway\", \"generating\", \"generating\", \"generating\", \"generating\", \"generating\", \"generating\", \"generating\", \"graph\", \"graph\", \"graphical\", \"group\", \"group\", \"group\", \"group\", \"group\", \"group\", \"ha\", \"hash\", \"hash\", \"healthcare\", \"icon\", \"id\", \"id\", \"id\", \"identification\", \"identification\", \"identification\", \"identification\", \"identification\", \"identification\", \"identifying\", \"identifying\", \"identifying\", \"identifying\", \"identifying\", \"identifying\", \"identifying\", \"identity\", \"identity\", \"identity\", \"ii\", \"ii\", \"ii\", \"ii\", \"iii\", \"iii\", \"image\", \"image\", \"implemented\", \"implemented\", \"implemented\", \"implemented\", \"include\", \"include\", \"include\", \"include\", \"include\", \"include\", \"includes\", \"includes\", \"includes\", \"includes\", \"includes\", \"includes\", \"includes\", \"including\", \"including\", \"including\", \"including\", \"including\", \"including\", \"including\", \"infected\", \"information\", \"information\", \"information\", \"information\", \"information\", \"information\", \"information\", \"infrastructure\", \"input\", \"input\", \"input\", \"input\", \"input\", \"input\", \"input\", \"insurance\", \"intelligent\", \"intelligent\", \"intelligent\", \"inter\", \"interaction\", \"interaction\", \"interaction\", \"interactions\", \"interactions\", \"interactive\", \"interactive\", \"interactive\", \"interest\", \"interest\", \"interface\", \"interface\", \"interface\", \"interface\", \"interface\", \"internet\", \"internet\", \"internet\", \"internet\", \"internet\", \"invention\", \"invention\", \"invention\", \"invention\", \"iot\", \"ist\", \"item\", \"items\", \"iv\", \"judging\", \"key\", \"key\", \"key\", \"kind\", \"language\", \"language\", \"lbt_type\", \"learned\", \"learning\", \"least\", \"least\", \"least\", \"least\", \"least\", \"least\", \"list\", \"list\", \"list\", \"list\", \"lock\", \"logic\", \"logic\", \"loss_prevention\", \"machine\", \"machine\", \"machine\", \"machine\", \"machine\", \"machine\", \"mail\", \"mail\", \"malicious\", \"malicious\", \"malware\", \"malware\", \"management\", \"management\", \"management\", \"manages\", \"marketing\", \"may\", \"may\", \"may\", \"may\", \"may\", \"means\", \"means\", \"means\", \"media\", \"media\", \"media\", \"merchant\", \"message\", \"message\", \"message\", \"message\", \"messages\", \"messages\", \"messages\", \"metadata\", \"metadata\", \"metadata\", \"method\", \"method\", \"method\", \"method\", \"method\", \"method\", \"method\", \"methods\", \"methods\", \"methods\", \"methods\", \"methods\", \"mobile\", \"mobile\", \"mobile\", \"mobile\", \"mobile\", \"mode\", \"mode\", \"mode\", \"mode\", \"mode\", \"model\", \"model\", \"models\", \"models\", \"modification\", \"modification\", \"module\", \"module\", \"module\", \"module\", \"monitoring\", \"monitoring\", \"monitoring\", \"monitoring\", \"monitoring\", \"monitoring\", \"movie\", \"multimedia\", \"network\", \"network\", \"network\", \"network\", \"network\", \"neural\", \"node\", \"nodes\", \"object\", \"object\", \"object\", \"object\", \"object\", \"one\", \"one\", \"one\", \"one\", \"one\", \"one\", \"online\", \"online\", \"online\", \"ontology\", \"operation\", \"operation\", \"operation\", \"operation\", \"operation\", \"operation\", \"option\", \"output\", \"output\", \"output\", \"output\", \"output\", \"packet\", \"packets\", \"page\", \"page\", \"paper\", \"parent\", \"participant\", \"patient\", \"payment\", \"peer\", \"personal\", \"personal\", \"personal\", \"picture\", \"platform\", \"platform\", \"platform\", \"platform\", \"player\", \"playing\", \"plurality\", \"plurality\", \"plurality\", \"plurality\", \"plurality\", \"plurality\", \"prediction\", \"prediction\", \"predictions\", \"predictive\", \"present\", \"present\", \"present\", \"present\", \"present\", \"present\", \"present\", \"presentation\", \"preset\", \"probability\", \"probability\", \"problem\", \"processing\", \"processing\", \"processing\", \"processing\", \"processing\", \"processor\", \"processor\", \"processor\", \"processor\", \"product\", \"product\", \"product\", \"product\", \"product\", \"program\", \"program\", \"program\", \"program\", \"program\", \"program\", \"program\", \"provided\", \"provided\", \"provided\", \"provided\", \"provided\", \"provided\", \"provided\", \"providing\", \"providing\", \"providing\", \"providing\", \"providing\", \"providing\", \"providing\", \"proxy\", \"query\", \"query\", \"question\", \"ransomware\", \"ratio\", \"raw\", \"readable_media\", \"realize\", \"receive\", \"receive\", \"receive\", \"receive\", \"receive\", \"receive\", \"receiving\", \"receiving\", \"receiving\", \"receiving\", \"receiving\", \"receiving\", \"recognition\", \"recognition\", \"recognition\", \"recommendation\", \"relates\", \"relates\", \"relates\", \"relates\", \"relates\", \"reputation\", \"reputation\", \"request\", \"request\", \"request\", \"request\", \"requirement\", \"response\", \"response\", \"response\", \"response\", \"response\", \"response\", \"result\", \"result\", \"result\", \"result\", \"result\", \"result\", \"result\", \"rf\", \"risk\", \"risk\", \"risks\", \"robot\", \"routing\", \"rules\", \"rules\", \"rules\", \"rules\", \"safety\", \"sample\", \"sample\", \"samples\", \"scm\", \"search\", \"search\", \"second\", \"secret\", \"section\", \"section\", \"secure\", \"secure\", \"security\", \"security\", \"security\", \"security\", \"security\", \"segment\", \"selected\", \"selected\", \"selected\", \"selected\", \"selected\", \"selected\", \"selection\", \"selection\", \"selection\", \"selection\", \"selection\", \"selection\", \"sender\", \"sender\", \"sensitive\", \"sensitive\", \"sensor\", \"sensor\", \"sensor\", \"sensors\", \"sensors\", \"sentiment\", \"sequence\", \"sequence\", \"sequence\", \"sequence\", \"sequences\", \"server\", \"server\", \"server\", \"server\", \"server\", \"service\", \"service\", \"service\", \"service\", \"services\", \"set\", \"set\", \"set\", \"set\", \"set\", \"set\", \"sidelink\", \"signal\", \"signal\", \"signal\", \"signal\", \"signal\", \"signals\", \"signals\", \"signature\", \"signature\", \"signature\", \"signature\", \"smart_contract\", \"social\", \"social\", \"social\", \"software\", \"software\", \"software\", \"software\", \"sources\", \"sources\", \"sources\", \"spam\", \"station\", \"step\", \"step\", \"step\", \"step\", \"stream\", \"stream\", \"stream\", \"string\", \"structural\", \"structured\", \"style\", \"switching\", \"symbols\", \"system\", \"system\", \"system\", \"system\", \"system\", \"system\", \"system\", \"systems\", \"systems\", \"systems\", \"systems\", \"systems\", \"table\", \"target\", \"target\", \"target\", \"target\", \"target\", \"technical_field\", \"technology\", \"technology\", \"technology\", \"telemetry\", \"temporal\", \"temporal\", \"term\", \"terminal\", \"terminal\", \"things\", \"third\", \"tier\", \"time\", \"time\", \"time\", \"time\", \"time\", \"time\", \"token\", \"token\", \"topics\", \"touch\", \"trace\", \"traffic\", \"traffic\", \"train\", \"trained\", \"training\", \"transaction\", \"transactions\", \"tree\", \"trust\", \"trust\", \"trustworthiness\", \"ue\", \"un\", \"und\", \"unit\", \"unit\", \"unit\", \"unit\", \"unit\", \"unmanned_aerial\", \"untrusted\", \"user\", \"user\", \"user\", \"user\", \"users\", \"users\", \"using\", \"using\", \"using\", \"using\", \"using\", \"using\", \"using\", \"value\", \"value\", \"value\", \"value\", \"value\", \"value\", \"value\", \"values\", \"values\", \"values\", \"various\", \"various\", \"various\", \"various\", \"various\", \"various\", \"vector\", \"vectors\", \"vehicle\", \"vehicle\", \"vehicular\", \"video\", \"video\", \"viewer\", \"viewing\", \"virtual\", \"virtual\", \"virtual\", \"vm\", \"von\", \"voting\", \"vulnerabilities\", \"watermark\", \"web_browser\", \"web_page\", \"webpage\", \"webpage\", \"webpage\", \"website\", \"website\", \"weighted\", \"weights\", \"werden\", \"wherein\", \"wherein\", \"wherein\", \"wherein\", \"wherein\", \"wherein\", \"wherein\", \"wireless\", \"wireless\", \"within\", \"within\", \"within\", \"within\", \"within\", \"within\", \"words\", \"words\", \"zone\", \"zu\"]}, \"R\": 30, \"lambda.step\": 0.01, \"plot.opts\": {\"xlab\": \"PC1\", \"ylab\": \"PC2\"}, \"topic.order\": [6, 4, 3, 5, 1, 2, 7]};\n",
       "\n",
       "function LDAvis_load_lib(url, callback){\n",
       "  var s = document.createElement('script');\n",
       "  s.src = url;\n",
       "  s.async = true;\n",
       "  s.onreadystatechange = s.onload = callback;\n",
       "  s.onerror = function(){console.warn(\"failed to load library \" + url);};\n",
       "  document.getElementsByTagName(\"head\")[0].appendChild(s);\n",
       "}\n",
       "\n",
       "if(typeof(LDAvis) !== \"undefined\"){\n",
       "   // already loaded: just create the visualization\n",
       "   !function(LDAvis){\n",
       "       new LDAvis(\"#\" + \"ldavis_el934016990742207042170576994\", ldavis_el934016990742207042170576994_data);\n",
       "   }(LDAvis);\n",
       "}else if(typeof define === \"function\" && define.amd){\n",
       "   // require.js is available: use it to load d3/LDAvis\n",
       "   require.config({paths: {d3: \"https://cdnjs.cloudflare.com/ajax/libs/d3/3.5.5/d3.min\"}});\n",
       "   require([\"d3\"], function(d3){\n",
       "      window.d3 = d3;\n",
       "      LDAvis_load_lib(\"https://cdn.rawgit.com/bmabey/pyLDAvis/files/ldavis.v1.0.0.js\", function(){\n",
       "        new LDAvis(\"#\" + \"ldavis_el934016990742207042170576994\", ldavis_el934016990742207042170576994_data);\n",
       "      });\n",
       "    });\n",
       "}else{\n",
       "    // require.js not available: dynamically load d3 & LDAvis\n",
       "    LDAvis_load_lib(\"https://cdnjs.cloudflare.com/ajax/libs/d3/3.5.5/d3.min.js\", function(){\n",
       "         LDAvis_load_lib(\"https://cdn.rawgit.com/bmabey/pyLDAvis/files/ldavis.v1.0.0.js\", function(){\n",
       "                 new LDAvis(\"#\" + \"ldavis_el934016990742207042170576994\", ldavis_el934016990742207042170576994_data);\n",
       "            })\n",
       "         });\n",
       "}\n",
       "</script>"
      ],
      "text/plain": [
       "PreparedData(topic_coordinates=              x         y  topics  cluster       Freq\n",
       "topic                                                \n",
       "5     -0.179946 -0.081123       1        1  20.578688\n",
       "3     -0.075881  0.231963       2        1  18.945002\n",
       "2     -0.005050 -0.003679       3        1  16.390036\n",
       "4     -0.050084 -0.091809       4        1  14.577234\n",
       "0      0.083261  0.189813       5        1  13.322905\n",
       "1     -0.075515 -0.150293       6        1   9.109165\n",
       "6      0.303214 -0.094871       7        1   7.076979, topic_info=     Category          Freq           Term         Total  loglift  logprob\n",
       "term                                                                      \n",
       "103   Default   7868.000000           user   7868.000000  30.0000  30.0000\n",
       "77    Default   5077.000000          first   5077.000000  29.0000  29.0000\n",
       "16    Default  15382.000000           data  15382.000000  28.0000  28.0000\n",
       "95    Default   3063.000000         second   3063.000000  27.0000  27.0000\n",
       "803   Default   2764.000000        content   2764.000000  26.0000  26.0000\n",
       "418   Default   2864.000000           file   2864.000000  25.0000  25.0000\n",
       "422   Default   3044.000000          model   3044.000000  24.0000  24.0000\n",
       "31    Default   7875.000000        network   7875.000000  23.0000  23.0000\n",
       "270   Default   2509.000000      malicious   2509.000000  22.0000  22.0000\n",
       "32    Default   7795.000000            one   7795.000000  21.0000  21.0000\n",
       "201   Default   4291.000000       computer   4291.000000  20.0000  20.0000\n",
       "450   Default   2813.000000      computing   2813.000000  19.0000  19.0000\n",
       "191   Default   8856.000000         device   8856.000000  18.0000  18.0000\n",
       "214   Default   3389.000000      invention   3389.000000  17.0000  17.0000\n",
       "157   Default   3147.000000      detection   3147.000000  16.0000  16.0000\n",
       "413   Default   3456.000000    application   3456.000000  15.0000  15.0000\n",
       "225   Default   4879.000000       security   4879.000000  14.0000  14.0000\n",
       "97    Default   3309.000000            set   3309.000000  13.0000  13.0000\n",
       "396   Default   1623.000000       learning   1623.000000  12.0000  12.0000\n",
       "48    Default   2458.000000        service   2458.000000  11.0000  11.0000\n",
       "209   Default   1678.000000        feature   1678.000000  10.0000  10.0000\n",
       "137   Default   8119.000000    information   8119.000000   9.0000   9.0000\n",
       "249   Default   1517.000000       behavior   1517.000000   8.0000   8.0000\n",
       "635   Default   1228.000000        message   1228.000000   7.0000   7.0000\n",
       "301   Default   5138.000000            may   5138.000000   6.0000   6.0000\n",
       "21    Default   1864.000000          event   1864.000000   5.0000   5.0000\n",
       "28    Default   4051.000000          least   4051.000000   4.0000   4.0000\n",
       "801   Default   1501.000000         attack   1501.000000   3.0000   3.0000\n",
       "715   Default   1999.000000           unit   1999.000000   2.0000   2.0000\n",
       "259   Default   1454.000000        traffic   1454.000000   1.0000   1.0000\n",
       "...       ...           ...            ...           ...      ...      ...\n",
       "1736   Topic7    134.894714           mail    138.431564   2.6224  -5.9425\n",
       "635    Topic7   1136.769897        message   1228.965820   2.5703  -3.8111\n",
       "4936   Topic7    138.533737        section    147.957031   2.5825  -5.9159\n",
       "3463   Topic7     97.492966         sender    102.799820   2.5953  -6.2672\n",
       "1865   Topic7    125.163597        domains    135.893021   2.5661  -6.0174\n",
       "1386   Topic7    149.944016       language    166.548370   2.5433  -5.8368\n",
       "1529   Topic7    255.489960       messages    340.760406   2.3603  -5.3038\n",
       "3715   Topic7    232.230530           hash    330.590820   2.2952  -5.3993\n",
       "690    Topic7    152.768417          words    200.000656   2.3789  -5.8181\n",
       "551    Topic7    642.290039          value   1494.285034   1.8040  -4.3820\n",
       "97     Topic7   1009.898071            set   3309.416016   1.4614  -3.9294\n",
       "1207   Topic7    217.258774           list    393.594543   2.0541  -5.4659\n",
       "65     Topic7    207.360504          block    390.870789   2.0144  -5.5126\n",
       "81     Topic7    280.015961          group    728.510498   1.6922  -5.2122\n",
       "136    Topic7    572.043152       includes   3388.467041   0.8694  -4.4978\n",
       "347    Topic7    524.291931      plurality   3055.707764   0.8856  -4.5850\n",
       "32     Topic7    704.225159            one   7795.226074   0.2442  -4.2899\n",
       "30     Topic7    572.794250         method   8057.083984   0.0045  -4.4965\n",
       "1590   Topic7    193.953476      attribute    409.507751   1.9010  -5.5794\n",
       "143    Topic7    319.423523      receiving   1993.755615   0.8171  -5.0805\n",
       "202    Topic7    304.347321  corresponding   1734.986328   0.9077  -5.1289\n",
       "28     Topic7    381.797516          least   4051.290039   0.2864  -4.9021\n",
       "552    Topic7    216.514069         values    649.583557   1.5496  -5.4694\n",
       "520    Topic7    249.913971     electronic   1265.706421   1.0261  -5.3259\n",
       "127    Topic7    294.654419     associated   2770.687500   0.4073  -5.1612\n",
       "7      Topic7    349.477844          based   7229.261719  -0.3811  -4.9906\n",
       "151    Topic7    251.038574        wherein   1571.295288   0.8143  -5.3214\n",
       "536    Topic7    255.973999    determining   2245.313965   0.4768  -5.3019\n",
       "80     Topic7    230.224747     generating   1295.553223   0.9207  -5.4080\n",
       "137    Topic7    252.900818    information   8119.782227  -0.8207  -5.3140\n",
       "\n",
       "[487 rows x 6 columns], token_table=       Topic      Freq           Term\n",
       "term                                 \n",
       "797        2  0.234173       abnormal\n",
       "797        5  0.766199       abnormal\n",
       "514        1  0.673685         access\n",
       "514        4  0.319344         access\n",
       "514        6  0.006805         access\n",
       "1          1  0.099588      according\n",
       "1          2  0.708282      according\n",
       "1          3  0.026795      according\n",
       "1          4  0.014291      according\n",
       "1          5  0.110306      according\n",
       "1          6  0.019203      according\n",
       "1          7  0.021436      according\n",
       "1898       2  0.992045       accurate\n",
       "184        2  0.998708      acquiring\n",
       "1249       2  0.997707    acquisition\n",
       "1151       5  0.994859          actor\n",
       "3492       6  0.997039  advertisement\n",
       "6106       6  0.997114    advertising\n",
       "1878       2  0.995374          alarm\n",
       "2535       1  0.081371          alert\n",
       "2535       3  0.850701          alert\n",
       "2535       5  0.012329          alert\n",
       "2535       6  0.054248          alert\n",
       "1001       2  0.248834      algorithm\n",
       "1001       4  0.001490      algorithm\n",
       "1001       5  0.673490      algorithm\n",
       "1001       7  0.075991      algorithm\n",
       "306        1  0.160985           also\n",
       "306        2  0.062994           also\n",
       "306        3  0.076993           also\n",
       "...      ...       ...            ...\n",
       "7595       4  0.986520      watermark\n",
       "3234       6  0.991048    web_browser\n",
       "1519       6  0.993266       web_page\n",
       "286        2  0.013465        webpage\n",
       "286        5  0.013465        webpage\n",
       "286        6  0.972821        webpage\n",
       "863        2  0.022481        website\n",
       "863        6  0.975127        website\n",
       "904        5  0.988222       weighted\n",
       "1465       3  0.983155        weights\n",
       "13039      7  0.982461         werden\n",
       "151        1  0.092917        wherein\n",
       "151        2  0.288297        wherein\n",
       "151        3  0.228474        wherein\n",
       "151        4  0.035639        wherein\n",
       "151        5  0.119647        wherein\n",
       "151        6  0.074461        wherein\n",
       "151        7  0.159741        wherein\n",
       "3632       1  0.849831       wireless\n",
       "3632       2  0.148753       wireless\n",
       "152        1  0.096733         within\n",
       "152        3  0.307183         within\n",
       "152        4  0.556770         within\n",
       "152        5  0.002215         within\n",
       "152        6  0.025845         within\n",
       "152        7  0.012553         within\n",
       "690        2  0.234999          words\n",
       "690        7  0.764997          words\n",
       "2035       4  0.989984           zone\n",
       "6076       7  0.992101             zu\n",
       "\n",
       "[971 rows x 3 columns], R=30, lambda_step=0.01, plot_opts={'xlab': 'PC1', 'ylab': 'PC2'}, topic_order=[6, 4, 3, 5, 1, 2, 7])"
      ]
     },
     "execution_count": 30,
     "metadata": {},
     "output_type": "execute_result"
    }
   ],
   "source": [
    "import pyLDAvis.gensim\n",
    "import pickle \n",
    "import pyLDAvis# Visualize the topics\n",
    "pyLDAvis.enable_notebook()\n",
    "LDAvis_prepared = pyLDAvis.gensim.prepare(lda_model, corpus, id2word)\n",
    "LDAvis_prepared"
   ]
  },
  {
   "cell_type": "code",
   "execution_count": 31,
   "metadata": {},
   "outputs": [],
   "source": [
    "from spacy.lang.en import English"
   ]
  },
  {
   "cell_type": "code",
   "execution_count": 33,
   "metadata": {},
   "outputs": [],
   "source": [
    "stopwords = spacy.lang.en.stop_words.STOP_WORDS\n",
    "\n",
    "texts = [[w for w in text.split(' ') if w not in stopwords] for text in scop.abstract] #tokenization\n",
    "\n",
    "\n",
    "corpus = [id2word.doc2bow(text) for text in texts]"
   ]
  },
  {
   "cell_type": "code",
   "execution_count": 34,
   "metadata": {},
   "outputs": [],
   "source": [
    "topics = [scores[np.argmax([score[1] for score in scores])][0] for scores in lda_model.get_document_topics(corpus)]"
   ]
  },
  {
   "cell_type": "code",
   "execution_count": 35,
   "metadata": {},
   "outputs": [
    {
     "data": {
      "text/plain": [
       "0    3686\n",
       "3    2068\n",
       "5    1557\n",
       "1     307\n",
       "2     269\n",
       "6      58\n",
       "4      36\n",
       "dtype: int64"
      ]
     },
     "execution_count": 35,
     "metadata": {},
     "output_type": "execute_result"
    }
   ],
   "source": [
    "pd.Series(topics).value_counts()"
   ]
  },
  {
   "cell_type": "code",
   "execution_count": 36,
   "metadata": {},
   "outputs": [],
   "source": [
    "texts = data_lemmatized# Term Document Frequency\n",
    "corpus = [id2word.doc2bow(text) for text in texts]# View"
   ]
  },
  {
   "cell_type": "code",
   "execution_count": 37,
   "metadata": {},
   "outputs": [],
   "source": [
    "topics = [scores[np.argmax([score[1] for score in scores])][0] for scores in lda_model.get_document_topics(corpus)]"
   ]
  },
  {
   "cell_type": "code",
   "execution_count": 38,
   "metadata": {},
   "outputs": [
    {
     "data": {
      "text/plain": [
       "5    2280\n",
       "3    1734\n",
       "2    1717\n",
       "4    1394\n",
       "0    1146\n",
       "1     818\n",
       "6     387\n",
       "dtype: int64"
      ]
     },
     "execution_count": 38,
     "metadata": {},
     "output_type": "execute_result"
    }
   ],
   "source": [
    "pd.Series(topics).value_counts()"
   ]
  },
  {
   "cell_type": "code",
   "execution_count": null,
   "metadata": {},
   "outputs": [],
   "source": []
  }
 ],
 "metadata": {
  "kernelspec": {
   "display_name": "Python 3",
   "language": "python",
   "name": "python3"
  },
  "language_info": {
   "codemirror_mode": {
    "name": "ipython",
    "version": 3
   },
   "file_extension": ".py",
   "mimetype": "text/x-python",
   "name": "python",
   "nbconvert_exporter": "python",
   "pygments_lexer": "ipython3",
   "version": "3.7.4"
  }
 },
 "nbformat": 4,
 "nbformat_minor": 2
}
