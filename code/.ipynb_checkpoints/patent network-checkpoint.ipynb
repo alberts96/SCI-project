{
 "cells": [
  {
   "cell_type": "code",
   "execution_count": 1,
   "metadata": {},
   "outputs": [
    {
     "name": "stderr",
     "output_type": "stream",
     "text": [
      "In C:\\Users\\carlo\\Anaconda3\\lib\\site-packages\\matplotlib\\mpl-data\\stylelib\\_classic_test.mplstyle: \n",
      "The text.latex.preview rcparam was deprecated in Matplotlib 3.3 and will be removed two minor releases later.\n",
      "In C:\\Users\\carlo\\Anaconda3\\lib\\site-packages\\matplotlib\\mpl-data\\stylelib\\_classic_test.mplstyle: \n",
      "The mathtext.fallback_to_cm rcparam was deprecated in Matplotlib 3.3 and will be removed two minor releases later.\n",
      "In C:\\Users\\carlo\\Anaconda3\\lib\\site-packages\\matplotlib\\mpl-data\\stylelib\\_classic_test.mplstyle: Support for setting the 'mathtext.fallback_to_cm' rcParam is deprecated since 3.3 and will be removed two minor releases later; use 'mathtext.fallback : 'cm' instead.\n",
      "In C:\\Users\\carlo\\Anaconda3\\lib\\site-packages\\matplotlib\\mpl-data\\stylelib\\_classic_test.mplstyle: \n",
      "The validate_bool_maybe_none function was deprecated in Matplotlib 3.3 and will be removed two minor releases later.\n",
      "In C:\\Users\\carlo\\Anaconda3\\lib\\site-packages\\matplotlib\\mpl-data\\stylelib\\_classic_test.mplstyle: \n",
      "The savefig.jpeg_quality rcparam was deprecated in Matplotlib 3.3 and will be removed two minor releases later.\n",
      "In C:\\Users\\carlo\\Anaconda3\\lib\\site-packages\\matplotlib\\mpl-data\\stylelib\\_classic_test.mplstyle: \n",
      "The keymap.all_axes rcparam was deprecated in Matplotlib 3.3 and will be removed two minor releases later.\n",
      "In C:\\Users\\carlo\\Anaconda3\\lib\\site-packages\\matplotlib\\mpl-data\\stylelib\\_classic_test.mplstyle: \n",
      "The animation.avconv_path rcparam was deprecated in Matplotlib 3.3 and will be removed two minor releases later.\n",
      "In C:\\Users\\carlo\\Anaconda3\\lib\\site-packages\\matplotlib\\mpl-data\\stylelib\\_classic_test.mplstyle: \n",
      "The animation.avconv_args rcparam was deprecated in Matplotlib 3.3 and will be removed two minor releases later.\n"
     ]
    }
   ],
   "source": [
    "import numpy as np\n",
    "import pandas as pd \n",
    "from bs4 import BeautifulSoup\n",
    "import urllib.request\n",
    "import os\n",
    "from google_patent_scraper import scraper_class\n",
    "import json\n",
    "import timeit\n",
    "import networkx as nx\n",
    "import matplotlib.pyplot as plt"
   ]
  },
  {
   "cell_type": "markdown",
   "metadata": {},
   "source": [
    "## Loading patents"
   ]
  },
  {
   "cell_type": "code",
   "execution_count": 2,
   "metadata": {},
   "outputs": [
    {
     "name": "stdout",
     "output_type": "stream",
     "text": [
      "Unnamed: 0            0\n",
      "title                 0\n",
      "pub_date              0\n",
      "citations             0\n",
      "abstract              0\n",
      "class                 0\n",
      "year                  0\n",
      "abstract_processed    0\n",
      "topic                 0\n",
      "dtype: int64\n"
     ]
    },
    {
     "data": {
      "text/html": [
       "<div>\n",
       "<style scoped>\n",
       "    .dataframe tbody tr th:only-of-type {\n",
       "        vertical-align: middle;\n",
       "    }\n",
       "\n",
       "    .dataframe tbody tr th {\n",
       "        vertical-align: top;\n",
       "    }\n",
       "\n",
       "    .dataframe thead th {\n",
       "        text-align: right;\n",
       "    }\n",
       "</style>\n",
       "<table border=\"1\" class=\"dataframe\">\n",
       "  <thead>\n",
       "    <tr style=\"text-align: right;\">\n",
       "      <th></th>\n",
       "      <th>Unnamed: 0</th>\n",
       "      <th>title</th>\n",
       "      <th>pub_date</th>\n",
       "      <th>citations</th>\n",
       "      <th>abstract</th>\n",
       "      <th>class</th>\n",
       "      <th>year</th>\n",
       "      <th>abstract_processed</th>\n",
       "      <th>topic</th>\n",
       "    </tr>\n",
       "    <tr>\n",
       "      <th>code</th>\n",
       "      <th></th>\n",
       "      <th></th>\n",
       "      <th></th>\n",
       "      <th></th>\n",
       "      <th></th>\n",
       "      <th></th>\n",
       "      <th></th>\n",
       "      <th></th>\n",
       "      <th></th>\n",
       "    </tr>\n",
       "  </thead>\n",
       "  <tbody>\n",
       "    <tr>\n",
       "      <td>US8370262B2</td>\n",
       "      <td>0</td>\n",
       "      <td>System and method for performing secure online...</td>\n",
       "      <td>2013-02-05</td>\n",
       "      <td>['US10681025B2', 'CN106664208B', 'AU2012261635...</td>\n",
       "      <td>\\nThe system and method performing secure onli...</td>\n",
       "      <td>G06</td>\n",
       "      <td>2013</td>\n",
       "      <td>\\nthe system and method performing secure onli...</td>\n",
       "      <td>4</td>\n",
       "    </tr>\n",
       "    <tr>\n",
       "      <td>US10237070B2</td>\n",
       "      <td>1</td>\n",
       "      <td>System and method for sharing keys across auth...</td>\n",
       "      <td>2019-03-19</td>\n",
       "      <td>['US10268809B2', 'JP6538821B2', 'KR101721032B1...</td>\n",
       "      <td>\\nA system, apparatus, method, and machine rea...</td>\n",
       "      <td>H04</td>\n",
       "      <td>2019</td>\n",
       "      <td>\\na system apparatus method and machine readab...</td>\n",
       "      <td>4</td>\n",
       "    </tr>\n",
       "    <tr>\n",
       "      <td>US10637853B2</td>\n",
       "      <td>2</td>\n",
       "      <td>Authentication techniques including speech and...</td>\n",
       "      <td>2020-04-28</td>\n",
       "      <td>['US10706421B2', 'US20160269411A1', 'US1021258...</td>\n",
       "      <td>\\nA system, apparatus, method, and machine rea...</td>\n",
       "      <td>H04</td>\n",
       "      <td>2020</td>\n",
       "      <td>\\na system apparatus method and machine readab...</td>\n",
       "      <td>4</td>\n",
       "    </tr>\n",
       "    <tr>\n",
       "      <td>US10558974B2</td>\n",
       "      <td>3</td>\n",
       "      <td>Methods and systems of providing verification ...</td>\n",
       "      <td>2020-02-11</td>\n",
       "      <td>['US20190149537A1', 'US20180308098A1', 'US2018...</td>\n",
       "      <td>\\nA method and system of providing verificatio...</td>\n",
       "      <td>G06</td>\n",
       "      <td>2020</td>\n",
       "      <td>\\na method and system of providing verificatio...</td>\n",
       "      <td>4</td>\n",
       "    </tr>\n",
       "    <tr>\n",
       "      <td>US10769635B2</td>\n",
       "      <td>4</td>\n",
       "      <td>Authentication techniques including speech and...</td>\n",
       "      <td>2020-09-08</td>\n",
       "      <td>['US9531710B2', 'US10706421B2', 'US20160269411...</td>\n",
       "      <td>\\nA system, apparatus, method, and machine rea...</td>\n",
       "      <td>G06</td>\n",
       "      <td>2020</td>\n",
       "      <td>\\na system apparatus method and machine readab...</td>\n",
       "      <td>1</td>\n",
       "    </tr>\n",
       "    <tr>\n",
       "      <td>...</td>\n",
       "      <td>...</td>\n",
       "      <td>...</td>\n",
       "      <td>...</td>\n",
       "      <td>...</td>\n",
       "      <td>...</td>\n",
       "      <td>...</td>\n",
       "      <td>...</td>\n",
       "      <td>...</td>\n",
       "      <td>...</td>\n",
       "    </tr>\n",
       "    <tr>\n",
       "      <td>KR100477956B1</td>\n",
       "      <td>9471</td>\n",
       "      <td>System and method for filtering message edited...</td>\n",
       "      <td>2005-03-23</td>\n",
       "      <td>['US9501746B2', 'US10110519B2', 'US7133898B1',...</td>\n",
       "      <td>\\r\\nA method and system for filtering a messag...</td>\n",
       "      <td>H04</td>\n",
       "      <td>2005</td>\n",
       "      <td>\\r\\na method and system for filtering a messag...</td>\n",
       "      <td>6</td>\n",
       "    </tr>\n",
       "    <tr>\n",
       "      <td>FR3092468A1</td>\n",
       "      <td>9472</td>\n",
       "      <td>Secure registration and building control system</td>\n",
       "      <td>2020-08-07</td>\n",
       "      <td>['US20150173255A1', 'US10147307B2', 'US9135807...</td>\n",
       "      <td>\\r\\n \\r\\n    \\r\\n            [Systme denregis...</td>\n",
       "      <td>H04</td>\n",
       "      <td>2020</td>\n",
       "      <td>\\r\\n \\r\\n    \\r\\n            [systme denregis...</td>\n",
       "      <td>0</td>\n",
       "    </tr>\n",
       "    <tr>\n",
       "      <td>CN105723378B</td>\n",
       "      <td>9473</td>\n",
       "      <td>Protection system including safety regulation ...</td>\n",
       "      <td>2019-06-18</td>\n",
       "      <td>['JP2017034696A', 'CN107852410B', 'CN105210042...</td>\n",
       "      <td>\\nThis disclosure relates to a kind of protect...</td>\n",
       "      <td>H04</td>\n",
       "      <td>2019</td>\n",
       "      <td>\\nthis disclosure relates to a kind of protect...</td>\n",
       "      <td>3</td>\n",
       "    </tr>\n",
       "    <tr>\n",
       "      <td>EP2813983A1</td>\n",
       "      <td>9474</td>\n",
       "      <td>Method and system for managing social interact...</td>\n",
       "      <td>2014-12-17</td>\n",
       "      <td>['US10324776B2', 'EP2883359B1', 'US9536329B2',...</td>\n",
       "      <td>\\r\\nA method for managing social interactions ...</td>\n",
       "      <td>G06</td>\n",
       "      <td>2014</td>\n",
       "      <td>\\r\\na method for managing social interactions ...</td>\n",
       "      <td>6</td>\n",
       "    </tr>\n",
       "    <tr>\n",
       "      <td>WO2006107201A1</td>\n",
       "      <td>9475</td>\n",
       "      <td>Method and system for generating passwords</td>\n",
       "      <td>2006-10-12</td>\n",
       "      <td>['CA2417901C', 'US6845453B2', 'AU2009200408B2'...</td>\n",
       "      <td>\\r\\nThe invention relates to a method for repr...</td>\n",
       "      <td>H04</td>\n",
       "      <td>2006</td>\n",
       "      <td>\\r\\nthe invention relates to a method for repr...</td>\n",
       "      <td>3</td>\n",
       "    </tr>\n",
       "  </tbody>\n",
       "</table>\n",
       "<p>9476 rows × 9 columns</p>\n",
       "</div>"
      ],
      "text/plain": [
       "                Unnamed: 0                                              title  \\\n",
       "code                                                                            \n",
       "US8370262B2              0  System and method for performing secure online...   \n",
       "US10237070B2             1  System and method for sharing keys across auth...   \n",
       "US10637853B2             2  Authentication techniques including speech and...   \n",
       "US10558974B2             3  Methods and systems of providing verification ...   \n",
       "US10769635B2             4  Authentication techniques including speech and...   \n",
       "...                    ...                                                ...   \n",
       "KR100477956B1         9471  System and method for filtering message edited...   \n",
       "FR3092468A1           9472   Secure registration and building control system    \n",
       "CN105723378B          9473  Protection system including safety regulation ...   \n",
       "EP2813983A1           9474  Method and system for managing social interact...   \n",
       "WO2006107201A1        9475        Method and system for generating passwords    \n",
       "\n",
       "                  pub_date                                          citations  \\\n",
       "code                                                                            \n",
       "US8370262B2     2013-02-05  ['US10681025B2', 'CN106664208B', 'AU2012261635...   \n",
       "US10237070B2    2019-03-19  ['US10268809B2', 'JP6538821B2', 'KR101721032B1...   \n",
       "US10637853B2    2020-04-28  ['US10706421B2', 'US20160269411A1', 'US1021258...   \n",
       "US10558974B2    2020-02-11  ['US20190149537A1', 'US20180308098A1', 'US2018...   \n",
       "US10769635B2    2020-09-08  ['US9531710B2', 'US10706421B2', 'US20160269411...   \n",
       "...                    ...                                                ...   \n",
       "KR100477956B1   2005-03-23  ['US9501746B2', 'US10110519B2', 'US7133898B1',...   \n",
       "FR3092468A1     2020-08-07  ['US20150173255A1', 'US10147307B2', 'US9135807...   \n",
       "CN105723378B    2019-06-18  ['JP2017034696A', 'CN107852410B', 'CN105210042...   \n",
       "EP2813983A1     2014-12-17  ['US10324776B2', 'EP2883359B1', 'US9536329B2',...   \n",
       "WO2006107201A1  2006-10-12  ['CA2417901C', 'US6845453B2', 'AU2009200408B2'...   \n",
       "\n",
       "                                                         abstract class  year  \\\n",
       "code                                                                            \n",
       "US8370262B2     \\nThe system and method performing secure onli...   G06  2013   \n",
       "US10237070B2    \\nA system, apparatus, method, and machine rea...   H04  2019   \n",
       "US10637853B2    \\nA system, apparatus, method, and machine rea...   H04  2020   \n",
       "US10558974B2    \\nA method and system of providing verificatio...   G06  2020   \n",
       "US10769635B2    \\nA system, apparatus, method, and machine rea...   G06  2020   \n",
       "...                                                           ...   ...   ...   \n",
       "KR100477956B1   \\r\\nA method and system for filtering a messag...   H04  2005   \n",
       "FR3092468A1      \\r\\n \\r\\n    \\r\\n            [Systme denregis...   H04  2020   \n",
       "CN105723378B    \\nThis disclosure relates to a kind of protect...   H04  2019   \n",
       "EP2813983A1     \\r\\nA method for managing social interactions ...   G06  2014   \n",
       "WO2006107201A1  \\r\\nThe invention relates to a method for repr...   H04  2006   \n",
       "\n",
       "                                               abstract_processed  topic  \n",
       "code                                                                      \n",
       "US8370262B2     \\nthe system and method performing secure onli...      4  \n",
       "US10237070B2    \\na system apparatus method and machine readab...      4  \n",
       "US10637853B2    \\na system apparatus method and machine readab...      4  \n",
       "US10558974B2    \\na method and system of providing verificatio...      4  \n",
       "US10769635B2    \\na system apparatus method and machine readab...      1  \n",
       "...                                                           ...    ...  \n",
       "KR100477956B1   \\r\\na method and system for filtering a messag...      6  \n",
       "FR3092468A1      \\r\\n \\r\\n    \\r\\n            [systme denregis...      0  \n",
       "CN105723378B    \\nthis disclosure relates to a kind of protect...      3  \n",
       "EP2813983A1     \\r\\na method for managing social interactions ...      6  \n",
       "WO2006107201A1  \\r\\nthe invention relates to a method for repr...      3  \n",
       "\n",
       "[9476 rows x 9 columns]"
      ]
     },
     "execution_count": 2,
     "metadata": {},
     "output_type": "execute_result"
    }
   ],
   "source": [
    "ids = pd.read_csv(r\"../data/gp-q2-7topics.csv\",index_col='code',skipinitialspace=True)\n",
    "print(ids.isnull().sum())\n",
    "ids "
   ]
  },
  {
   "cell_type": "markdown",
   "metadata": {},
   "source": [
    "ids = ids[ids.abstract.notna()]\n",
    "#ids = ids[ids['class'].notna()]\n",
    "ids = ids[ids['citations']!='[]']\n",
    "ids['class'] = ids['class'].astype('str').apply(lambda x: x[:4] if len(x) >= 3 else 'NAN')\n",
    "print(ids.isnull().sum())\n"
   ]
  },
  {
   "cell_type": "code",
   "execution_count": 3,
   "metadata": {},
   "outputs": [
    {
     "data": {
      "text/plain": [
       "G06      4726\n",
       "H04      3304\n",
       "other    1446\n",
       "Name: class, dtype: int64"
      ]
     },
     "execution_count": 3,
     "metadata": {},
     "output_type": "execute_result"
    }
   ],
   "source": [
    "ids['class'] = [cl if cl=='G06' or cl=='H04' else 'other' for cl in ids['class']  ]\n",
    "ids['class'].value_counts()"
   ]
  },
  {
   "cell_type": "code",
   "execution_count": 4,
   "metadata": {},
   "outputs": [
    {
     "data": {
      "text/html": [
       "<div>\n",
       "<style scoped>\n",
       "    .dataframe tbody tr th:only-of-type {\n",
       "        vertical-align: middle;\n",
       "    }\n",
       "\n",
       "    .dataframe tbody tr th {\n",
       "        vertical-align: top;\n",
       "    }\n",
       "\n",
       "    .dataframe thead th {\n",
       "        text-align: right;\n",
       "    }\n",
       "</style>\n",
       "<table border=\"1\" class=\"dataframe\">\n",
       "  <thead>\n",
       "    <tr style=\"text-align: right;\">\n",
       "      <th>topic</th>\n",
       "      <th>0</th>\n",
       "      <th>1</th>\n",
       "      <th>2</th>\n",
       "      <th>3</th>\n",
       "      <th>4</th>\n",
       "      <th>5</th>\n",
       "      <th>6</th>\n",
       "    </tr>\n",
       "    <tr>\n",
       "      <th>class</th>\n",
       "      <th></th>\n",
       "      <th></th>\n",
       "      <th></th>\n",
       "      <th></th>\n",
       "      <th></th>\n",
       "      <th></th>\n",
       "      <th></th>\n",
       "    </tr>\n",
       "  </thead>\n",
       "  <tbody>\n",
       "    <tr>\n",
       "      <td>G06</td>\n",
       "      <td>696</td>\n",
       "      <td>480</td>\n",
       "      <td>391</td>\n",
       "      <td>770</td>\n",
       "      <td>897</td>\n",
       "      <td>958</td>\n",
       "      <td>534</td>\n",
       "    </tr>\n",
       "    <tr>\n",
       "      <td>H04</td>\n",
       "      <td>406</td>\n",
       "      <td>249</td>\n",
       "      <td>252</td>\n",
       "      <td>293</td>\n",
       "      <td>689</td>\n",
       "      <td>1107</td>\n",
       "      <td>308</td>\n",
       "    </tr>\n",
       "    <tr>\n",
       "      <td>other</td>\n",
       "      <td>119</td>\n",
       "      <td>99</td>\n",
       "      <td>146</td>\n",
       "      <td>700</td>\n",
       "      <td>88</td>\n",
       "      <td>227</td>\n",
       "      <td>67</td>\n",
       "    </tr>\n",
       "  </tbody>\n",
       "</table>\n",
       "</div>"
      ],
      "text/plain": [
       "topic    0    1    2    3    4     5    6\n",
       "class                                    \n",
       "G06    696  480  391  770  897   958  534\n",
       "H04    406  249  252  293  689  1107  308\n",
       "other  119   99  146  700   88   227   67"
      ]
     },
     "execution_count": 4,
     "metadata": {},
     "output_type": "execute_result"
    }
   ],
   "source": [
    "ids['class_topic'] = [ cl + '_' + str(topic) for (cl,topic) in ids[['class','topic']].values]\n",
    "pd.crosstab(ids['class'],ids['topic'])"
   ]
  },
  {
   "cell_type": "markdown",
   "metadata": {},
   "source": [
    "## Building the network"
   ]
  },
  {
   "cell_type": "code",
   "execution_count": 5,
   "metadata": {},
   "outputs": [],
   "source": [
    "G = nx.Graph()\n",
    "\n",
    "for code, patent in ids.iterrows():\n",
    "    patent['class_topic'] = patent['class'] + '_' + str(patent['topic'])\n",
    "    if patent['citations'] != '[]': #citation is a string represetnation of a list \n",
    "        for l in str(patent['citations'][1:-1]).split(','):\n",
    "            link = l.replace(\" \",\"\")[1:-1]\n",
    "            if link in ids.index and link!=code: \n",
    "                G.add_edge(code, str(link) )"
   ]
  },
  {
   "cell_type": "code",
   "execution_count": 6,
   "metadata": {},
   "outputs": [
    {
     "data": {
      "image/png": "[encoded data removed]",
      "text/plain": [
       "<Figure size 432x288 with 1 Axes>"
      ]
     },
     "metadata": {
      "needs_background": "light"
     },
     "output_type": "display_data"
    },
    {
     "name": "stdout",
     "output_type": "stream",
     "text": [
      "density:  0.0006411086026523331\n",
      "average clustering coefficient:  0.10546879732181237\n"
     ]
    }
   ],
   "source": [
    "plt.plot(nx.degree_histogram(G))\n",
    "plt.show()\n",
    "print('density: ', nx.density(G))\n",
    "print('average clustering coefficient: ', nx.average_clustering(G))"
   ]
  },
  {
   "cell_type": "code",
   "execution_count": 7,
   "metadata": {},
   "outputs": [
    {
     "name": "stdout",
     "output_type": "stream",
     "text": [
      "number of nodes:  9476\n"
     ]
    },
    {
     "data": {
      "text/plain": [
       "H04_5      1107\n",
       "G06_5       958\n",
       "G06_4       897\n",
       "G06_3       770\n",
       "other_3     700\n",
       "G06_0       696\n",
       "H04_4       689\n",
       "G06_6       534\n",
       "G06_1       480\n",
       "H04_0       406\n",
       "G06_2       391\n",
       "H04_6       308\n",
       "H04_3       293\n",
       "H04_2       252\n",
       "H04_1       249\n",
       "other_5     227\n",
       "other_2     146\n",
       "other_0     119\n",
       "other_1      99\n",
       "other_4      88\n",
       "other_6      67\n",
       "dtype: int64"
      ]
     },
     "execution_count": 7,
     "metadata": {},
     "output_type": "execute_result"
    }
   ],
   "source": [
    "ids['class']=ids['class'].astype('str')\n",
    "\n",
    "nx.set_node_attributes(G, 'NA', name='class')\n",
    "for node in ids.index:\n",
    "    nx.set_node_attributes(G, {node: str(ids.loc[node,'class'])}, name='class')\n",
    "    nx.set_node_attributes(G, {node: str(ids.loc[node,'topic'])}, name='topic')\n",
    "    nx.set_node_attributes(G, {node: str(ids.loc[node,'class_topic'])}, name='class_topic')\n",
    "                           \n",
    "print('number of nodes: ', len(G.nodes))\n",
    "pd.Series( [G.nodes[node]['class_topic'] for node in G.nodes]).value_counts()"
   ]
  },
  {
   "cell_type": "code",
   "execution_count": 8,
   "metadata": {},
   "outputs": [],
   "source": [
    "nx.write_graphml(G, \"../data/7topics.graphml\")"
   ]
  },
  {
   "cell_type": "markdown",
   "metadata": {},
   "source": [
    "# Components"
   ]
  },
  {
   "cell_type": "code",
   "execution_count": 9,
   "metadata": {},
   "outputs": [
    {
     "name": "stdout",
     "output_type": "stream",
     "text": [
      "average componets size:  24.359897172236504\n",
      "[8104, 120, 68, 45, 22, 18, 17]\n"
     ]
    }
   ],
   "source": [
    "G = nx.read_graphml(\"../data/7topics.graphml\") #when reading you should change the attibute names\n",
    "components =  [c for c in sorted(nx.connected_components(G), key=len, reverse=True)]\n",
    "avg_size = np.average([len(c) for c in components])\n",
    "print('average componets size: ', avg_size)\n",
    "print([len(c) for c in components[:7]])"
   ]
  },
  {
   "cell_type": "code",
   "execution_count": 10,
   "metadata": {},
   "outputs": [
    {
     "name": "stdout",
     "output_type": "stream",
     "text": [
      "8104 0.1136870783151341\n",
      "120 0.5639412318862846\n",
      "68 0.020647653000594176\n",
      "45 0.0\n"
     ]
    }
   ],
   "source": [
    "Large = components[0]\n",
    "L = G.subgraph(Large)\n",
    "nx.write_graphml(L, \"../data/LargeComp7topics.graphml\")\n",
    "\n",
    "mediums = [c for c in components[1:] if len(c) >= avg_size]\n",
    "ms = G.subgraph([node  for c in mediums for node in c])\n",
    "nx.write_graphml(ms, \"../data/mediumComps7topics.graphml\")\n",
    "\n",
    "smalls = [c for c in components[1:] if len(c) < avg_size]\n",
    "ss = G.subgraph([node  for c in smalls for node in c])\n",
    "nx.write_graphml(ss, \"../data/smallmComps7topics.graphml\")\n",
    "\n",
    "print(len(Large),nx.average_clustering(G,Large))\n",
    "for c in mediums: print(len(c),nx.average_clustering(G,c))"
   ]
  },
  {
   "cell_type": "code",
   "execution_count": 11,
   "metadata": {},
   "outputs": [
    {
     "data": {
      "text/plain": [
       "389"
      ]
     },
     "execution_count": 11,
     "metadata": {},
     "output_type": "execute_result"
    }
   ],
   "source": [
    "len(components)"
   ]
  },
  {
   "cell_type": "code",
   "execution_count": 23,
   "metadata": {},
   "outputs": [
    {
     "name": "stdout",
     "output_type": "stream",
     "text": [
      "\n",
      "\n",
      "\n",
      "Provision of content to mobile communication facilities based on contextual data and behavior data related to a part of mobile content \n",
      "Contextual mobile content placement on a mobile communication facility \n",
      "Mobile dynamic advertisement creation and placement \n",
      "Contextual mobile content placement on a mobile communication facility \n",
      "Integrating subscription content into mobile search results \n",
      "Methods and systems for mobile coupon tracking \n",
      "Mobile pay per call \n",
      "Mobile search services related to direct identifiers \n",
      "Mobile dynamic advertisement creation and placement \n",
      "Mobile comparison shopping \n",
      "System for retrieving mobile communication facility user data from a plurality of providers \n",
      "Managing sponsored content based on transaction history \n",
      "Mobile dynamic advertisement creation and placement \n",
      "Mobile User Profile Creation based on User Browse Behaviors \n",
      "Search query address redirection on a mobile communication facility \n",
      "User transaction history influenced search results \n",
      "Presentation of Sponsored Content Based on Device Characteristics \n",
      "Presentation of search results to mobile devices based on viewing history \n",
      "System for targeting advertising content to a plurality of mobile communication facilities \n",
      "Mobile search service discovery \n",
      "Creation of a mobile search suggestion dictionary \n",
      "Increasing mobile interactivity \n",
      "System for retrieving mobile communication facility user data from a plurality of providers \n",
      "Mobile searching method, system and equipment \n",
      "Mobile content cross-inventory yield optimization \n",
      "System for targeting advertising content to a plurality of mobile communication facilities \n",
      "Revenue models associated with syndication of a behavioral profile using a monetization platform \n",
      "Managing sponsored content based on device characteristics \n",
      "System for retrieving mobile communication facility user data from a plurality of providers \n",
      "System for retrieving mobile communication facility user data from a plurality of providers \n",
      "Mobile search result clustering \n",
      "Associating mobile and non mobile web content \n",
      "Mobile Communication Facility Usage Pattern Geographic Based Advertising \n",
      "Mobile pay-per-call campaign creation \n",
      "Multimodal search query processing \n",
      "Using a mobile communication facility for offline ad searching \n",
      "Preventing mobile communication facility click fraud \n",
      "Using Mobile Communication Facility Device Data Within a Monetization Platform \n",
      "Use of dynamic content generation parameters based on previous performance of those parameters \n",
      "Managing sponsored content based on usage history \n",
      "Targeting mobile sponsored content within a social network \n",
      "Rendering targeted advertisement on mobile communication facilities \n",
      "Aggregation and enrichment of behavioral profile data using a monetization platform \n",
      "System for retrieving mobile communication facility user data from a plurality of providers \n",
      "Client libraries for mobile content \n",
      "Authorized mobile content search results \n",
      "Syndication of a behavioral profile using a monetization platform \n",
      "Contextual targeting of content using a monetization platform \n",
      "Exclusivity bidding for mobile sponsored content \n",
      "Expected value and prioritization of mobile content \n",
      "Action functionality for mobile content search results \n",
      "System for targeting advertising content to a plurality of mobile communication facilities \n",
      "Managing sponsored content based on user characteristics \n",
      "Search results of mobile content by combination of algorithmic review and editorial review \n",
      "Combined algorithmic and editorial-reviewed mobile content search results \n",
      "Location based presentation of mobile content \n",
      "Mobile payment facilitation \n",
      "Realtime surveying within mobile sponsored content \n",
      "Mobile Campaign Creation \n",
      "System for targeting advertising content to a plurality of mobile communication facilities \n",
      "Methods and systems of mobile query classification \n",
      "Calculation and presentation of mobile content expected value \n",
      "System for targeting advertising content to a plurality of mobile communication facilities \n",
      "Mobile search substring query completion \n",
      "Location influenced search results \n",
      "Interactive Mobile Advertisement Banners \n",
      "Methods and systems for mobile coupon placement \n",
      "Presentation of sponsored content on mobile device based on transaction event \n",
      "Mobile website analyzer \n",
      "Presentation of Interactive Mobile Sponsor Content \n",
      "Methods and systems for mobile coupon placement \n",
      "Management of multiple advertising inventories using a monetization platform \n",
      "Mobile communication facility usage and social network creation \n",
      "Targeted advertising to specified mobile communication facilities \n",
      "Mobile search service instant activation \n",
      "User history influenced search results \n",
      "System for retrieving mobile communication facility user data from a plurality of providers \n",
      "Embedding sponsored content in mobile applications \n",
      "Idle screen advertising \n",
      "Using wireless carrier data to influence mobile search results \n",
      "Dynamic bidding and expected value \n",
      "Mobile comparison shopping \n",
      "Mobile campaign creation \n",
      "Combining mobile and transcoded content in a mobile search result \n",
      "System for Targeting Advertising to Mobile Communication Facilities Using Third Party Data \n",
      "Exclusivity bidding for mobile sponsored content \n",
      "Behavior-based mobile content placement on a mobile communication facility \n",
      "Interactive mobile advertisement banners \n",
      "Managing Sponsored Content Based on Transaction History \n",
      "System for targeting advertising content to a plurality of mobile communication facilities \n",
      "System for retrieving mobile communication facility user data from a plurality of providers \n",
      "Presentation of search results to mobile devices based on television viewing history \n",
      "System for targeting advertising content to a plurality of mobile communication facilities \n",
      "Mobile pay-per-call campaign creation \n",
      "System for targeting advertising content to a plurality of mobile communication facilities \n",
      "Mobile advertisement syndication \n",
      "Categorization of a mobile user profile based on browse behavior \n",
      "Use Of Dynamic Content Generation Parameters Based On Previous Performance Of Those Parameters \n",
      "User characteristic influenced search results \n",
      "On-off handset search box \n",
      "Mobile search service instant activation \n",
      "Embedding a nonsponsored mobile content within a sponsored mobile content \n",
      "Mobile content cross-inventory yield optimization \n",
      "Managing payment for sponsored content presented to mobile communication facilities \n",
      "Mobile content spidering and compatibility determination \n",
      "Methods and systems of mobile dynamic content presentation \n",
      "Similarity based location mapping of mobile comm facility users \n",
      "Realtime surveying within mobile sponsored content \n",
      "Mobile communication facility characteristic influenced search results \n",
      "Revenue models associated with syndication of a behavioral profile using a monetization platform \n",
      "Syndication of a behavioral profile associated with an availability condition using a monetization platform \n",
      "Location based mobile shopping affinity program \n",
      "Using mobile application data within a monetization platform \n",
      "Management of multiple advertising inventories using a monetization platform \n",
      "Managing sponsored content for delivery to mobile communication facilities \n",
      "Interaction analysis and prioritization of mobile content \n",
      "Physical navigation of a mobile search application \n",
      "Predictive text completion for a mobile communication facility \n",
      "System for targeting advertising content to a plurality of mobile communication facilities \n",
      "Aggregation of behavioral profile data using a monetization platform \n",
      "\n",
      "\n",
      "\n",
      "Social and interactive applications for mass media \n",
      "Retrieving video annotation metadata using a p2p network and copyright free indexes \n",
      "social and interactive applications for mass media \n",
      "Agnostic media delivery system \n",
      "Information processing device and information processing system \n",
      "Video and audio content on demand according to time of broadcast \n",
      "Devices and method for providing remote control hints on a display \n",
      "Inserting personalized information into digital content \n",
      "Method, apparatus, computer device and storage medium for processing short video data \n",
      "Multimedia data processing method and device, computer equipment and storage medium \n",
      "Cross-platform predictive popularity ratings for use in interactive television applications \n",
      "Method and system for determining content treatment \n",
      "Adaptive method and apparatus for automatically customizing enhanced program content to user preferences \n",
      "System and method for creating and distributing multimedia content \n",
      "Emergency broadcasting system based on cloud platform and operation method thereof \n",
      "Automated voice translation dubbing for prerecorded video \n",
      "Media library in interactive media guidance application \n",
      "Named entity disambiguation for providing TV content enrichment \n",
      "Internet video streaming system \n",
      "Method and apparatus for delivery of targeted video programming \n",
      "The prompting for the media content quoted in other media contents \n",
      "Multifunction Multimedia Device \n",
      "Content interaction methods and systems employing portable devices \n",
      "Recommender system with consistent profile application \n",
      "Multimedia content recognition with local and cloud-based machine learning \n",
      "Providing Enrichment Data That is a Video Segment \n",
      "Multifunction multimedia device \n",
      "Secondary content insertion apparatus and methods \n",
      "The creating of anew content by the extracting multimedia core \n",
      "Multimedia content recognition with local and cloud-assisted machine learning \n",
      "System and method for dynamically enabling and disabling biometric devices \n",
      "Systems and methods for providing context-specific media assets \n",
      "Method and system for detecting commercial breaks \n",
      "Progressive download or streaming of digital media securely through a localized container and communication protocol proxy \n",
      "Device and Method for Providing a Television Sequence \n",
      "System and method for communicating streaming audio to a telephone device \n",
      "Media methods and systems \n",
      "Devices, systems and methods for dynamically selecting or generating textual titles for enrichment data of video content items \n",
      "Tamper prevention and detection for video provided over a network to a client \n",
      "Systems and methods for episode tracking in an interactive media environment \n",
      "Systems and methods for automatic vehicle navigation with voice, not incorporated \n",
      "Personal media channel apparatus and methods \n",
      "Real time, on the fly, distribution of pre-selected electronic content \n",
      "Personal image information protection system based on Layered framework \n",
      "There is multifunctional display apparatus and the control method thereof of channel map \n",
      "System and method for indexing and annotation of video content \n",
      "Generating presentation slides with distilled content \n",
      "Tv side bar user interface \n",
      "Methods and devices for clarifying audible video content \n",
      "Systems and methods for episode tracking in an interactive media environment \n",
      "Media streaming \n",
      "Tv side bar user interface \n",
      "Recording and playback system based on multimedia content fingerprints \n",
      "System and method for managing streaming services \n",
      "Apparatus and methods for blockchain-based verification \n",
      "Electronic device, information providing system, information providing method, and recording medium \n",
      "Targeted video advertising \n",
      "Video games on demand with anti-piracy security \n",
      "Automated system for remote producing and transmitting the image and message for multi purpose/customer/media \n",
      "Personal content server apparatus and methods \n",
      "Systems, apparatus, and methods for scalable low-latency viewing of broadcast digital content streams of live events, and synchronization of event information with viewed streams, via multiple internet channels \n",
      "Classified content auditing terminal system \n",
      "Methods and apparatus for providing virtual content over a network \n",
      "Smart mechanism for blocking media responsive to user environment \n",
      "Digital network-based video tagging system \n",
      "Video ads acquisition methods and device \n",
      "Following online social behavior to enhance search experience \n",
      "User interface for creating tags synchronized with a video playback \n",
      "\n",
      "\n",
      "\n",
      "Steganography methods employing embedded calibration data \n",
      "Documents and apparatus to encode documents \n",
      "Hiding and detecting auxiliary data in media materials and signals \n",
      "Imagery having technical exposure data steganographically encoded therein \n",
      "Watermarked business cards and methods \n",
      "Steganographic system \n",
      "Methods for controlling rendering of images and video \n",
      "Tile-based digital watermarking techniques \n",
      "Error processing of steganographic message signals \n",
      "Methods and arrangements employing digital content items \n",
      "Emulsion products and imagery employing steganography \n",
      "Method and apparatus for robust information coding \n",
      "Steganographic decoding with transform to spatial domain \n",
      "Methods for analyzing electronic media including video and audio \n",
      "Method for increasing the functionality of a media player/recorder device or an application program \n",
      "Decoding steganographic messages embedded in media signals \n",
      "Audio and video signal processing \n",
      "Hiding and detecting messages in media signals \n",
      "Controlling a device based upon steganographically encoded data \n",
      "Methods for controlling systems using control signals embedded in empirical data \n",
      "Embedding information related to a subject of an identification document in the identification document \n",
      "Methods for audio watermarking and decoding \n",
      "Methods for surveying dissemination of proprietary empirical data \n",
      "Method and apparatus for transaction card security utilizing embedded image data \n",
      "Counteracting geometric distortions in watermarking \n",
      "Method and system for preventing reproduction of documents \n",
      "Method of inserting/overlaying markers, data packets and objects relative to viewable content and enabling live social networking, N-dimensional virtual environments and/or other value derivable from the content \n",
      "Steganographic encoding and decoding of auxiliary codes in media signals \n",
      "Method and apparatus responsive to a code signal conveyed through a graphic image \n",
      "Methods for monitoring audio and images on the internet \n",
      "Arrangement for embedding subliminal data in imaging \n",
      "Methods and systems for processing digital media content \n",
      "Enhanced Input Peripheral \n",
      "Authentication using a digital watermark \n",
      "Inserting watermarks into portions of digital signals \n",
      "Background watermark processing \n",
      "Background watermark processing \n",
      "Audio processing \n",
      "Digital authentication with analog documents \n",
      "Method and apparatus for discerning image distortion by reference to encoded marker signals \n",
      "Paper products and physical objects as means to access and control a computer or to navigate over or act as a portal on a network \n",
      "Methods for surveying dissemination of proprietary empirical data \n",
      "Network linking methods and apparatus \n",
      "Methods and arrangements employing digital content items \n",
      "Linking of computers based on optical sensing of digital data \n"
     ]
    }
   ],
   "source": [
    "for c in mediums:\n",
    "    print('\\n\\n')\n",
    "    for node in c:\n",
    "        print(ids.loc[node,'title'])"
   ]
  },
  {
   "cell_type": "code",
   "execution_count": 20,
   "metadata": {},
   "outputs": [
    {
     "name": "stdout",
     "output_type": "stream",
     "text": [
      "\n",
      "\n",
      "                 120\n",
      "mobile           102\n",
      "content           51\n",
      "communication     33\n",
      "search            25\n",
      "                ... \n",
      "on-off             1\n",
      "fraud              1\n",
      "interaction        1\n",
      "sponsor            1\n",
      "transcoded         1\n",
      "Length: 181, dtype: int64\n",
      "\n",
      "\n",
      "             68\n",
      "content      22\n",
      "system       17\n",
      "video        16\n",
      "media        15\n",
      "             ..\n",
      "assets        1\n",
      "treatment     1\n",
      "time          1\n",
      "equipment     1\n",
      "behavior      1\n",
      "Length: 228, dtype: int64\n",
      "\n",
      "\n",
      "               45\n",
      "methods        13\n",
      "data           11\n",
      "digital         8\n",
      "signals         8\n",
      "               ..\n",
      "materials       1\n",
      "cards           1\n",
      "portions        1\n",
      "viewable        1\n",
      "application     1\n",
      "Length: 139, dtype: int64\n"
     ]
    }
   ],
   "source": [
    "import spacy\n",
    "from spacy.lang.en import English \n",
    "stopwords = spacy.lang.en.stop_words.STOP_WORDS\n",
    "for c in mediums:\n",
    "    print('\\n')\n",
    "    titles = [[w.lower() for w in title.split(' ') if w not in stopwords] for title in ids.loc[c,'title']]\n",
    "    titles = [w  for title in titles for w in title]\n",
    "    print(pd.Series(titles).value_counts())"
   ]
  },
  {
   "cell_type": "code",
   "execution_count": null,
   "metadata": {},
   "outputs": [],
   "source": []
  },
  {
   "cell_type": "code",
   "execution_count": null,
   "metadata": {},
   "outputs": [],
   "source": []
  },
  {
   "cell_type": "markdown",
   "metadata": {},
   "source": [
    "We analyse titles of medium size components to find something intersting.\n",
    "But we eill focus on the unique large component found.\n",
    "# Large component"
   ]
  },
  {
   "cell_type": "code",
   "execution_count": 24,
   "metadata": {},
   "outputs": [
    {
     "name": "stdout",
     "output_type": "stream",
     "text": [
      "9476\n",
      "8104\n"
     ]
    }
   ],
   "source": [
    "L = nx.read_graphml( \"../data/LargeComp7topics.graphml\")\n",
    "print(len(G))\n",
    "print(len(L))"
   ]
  },
  {
   "cell_type": "markdown",
   "metadata": {},
   "source": [
    "# CORES"
   ]
  },
  {
   "cell_type": "code",
   "execution_count": 25,
   "metadata": {},
   "outputs": [
    {
     "name": "stdout",
     "output_type": "stream",
     "text": [
      "1     2589\n",
      "2     1587\n",
      "3      918\n",
      "4      708\n",
      "5      573\n",
      "6      480\n",
      "8      407\n",
      "7      321\n",
      "9      138\n",
      "11      89\n",
      "10      77\n",
      "13      63\n",
      "12      53\n",
      "14      51\n",
      "15      50\n",
      "dtype: int64\n"
     ]
    }
   ],
   "source": [
    "G = L.copy()\n",
    "cores = nx.core_number(G)\n",
    "print(pd.Series(cores).value_counts())\n",
    "for node in G.nodes:\n",
    "     nx.set_node_attributes(G, {node: cores[node]}, name='core')\n",
    "nx.write_graphml(G, \"../data/L_cores.graphml\")"
   ]
  },
  {
   "cell_type": "code",
   "execution_count": 26,
   "metadata": {},
   "outputs": [],
   "source": [
    "ids['core'] = [0 for patent in ids.index]\n",
    "for patent in cores.keys():\n",
    "    ids.loc[patent,'core'] = cores[node]\n",
    "    "
   ]
  },
  {
   "cell_type": "markdown",
   "metadata": {},
   "source": [
    "## Community detection "
   ]
  },
  {
   "cell_type": "markdown",
   "metadata": {},
   "source": [
    "Louvain is is not to computationally expensive and we can use it on the entire net."
   ]
  },
  {
   "cell_type": "code",
   "execution_count": 45,
   "metadata": {},
   "outputs": [],
   "source": [
    "import community as community_louvain\n",
    "import matplotlib.cm as cm\n",
    "import matplotlib.pyplot as plt\n",
    "import networkx as nx\n",
    "\n",
    "\n",
    "\n",
    "# compute the best partition\n",
    "partition = community_louvain.best_partition(G)\n",
    "nx.set_node_attributes(G,{node: partition[node] for node in partition},'louvain')"
   ]
  },
  {
   "cell_type": "code",
   "execution_count": 46,
   "metadata": {},
   "outputs": [],
   "source": [
    "for node in G.nodes:\n",
    "    ids.loc[node,'louvain'] = G.nodes[node]['louvain']\n",
    "\n",
    "ids.to_csv('../data/gp-q2-7topics-louvain.csv')\n",
    "nx.write_graphml(G,'../data/louvain.graphml')"
   ]
  },
  {
   "cell_type": "code",
   "execution_count": 47,
   "metadata": {},
   "outputs": [
    {
     "data": {
      "text/plain": [
       "2.0     1604\n",
       "5.0      881\n",
       "10.0     803\n",
       "0.0      729\n",
       "9.0      640\n",
       "8.0      513\n",
       "14.0     455\n",
       "1.0      434\n",
       "11.0     353\n",
       "15.0     326\n",
       "3.0      281\n",
       "12.0     208\n",
       "16.0     195\n",
       "4.0      175\n",
       "13.0     106\n",
       "7.0       92\n",
       "6.0       78\n",
       "21.0      60\n",
       "25.0      58\n",
       "18.0      56\n",
       "23.0      10\n",
       "19.0       8\n",
       "24.0       8\n",
       "27.0       7\n",
       "26.0       7\n",
       "20.0       7\n",
       "17.0       6\n",
       "22.0       4\n",
       "Name: louvain, dtype: int64"
      ]
     },
     "execution_count": 47,
     "metadata": {},
     "output_type": "execute_result"
    }
   ],
   "source": [
    "ids.louvain.value_counts()"
   ]
  },
  {
   "cell_type": "code",
   "execution_count": 68,
   "metadata": {},
   "outputs": [],
   "source": [
    "partitions = [[node for node in partition if partition[node] == part] for part in list(pd.Series([key for key in partition.values()]).unique())]\n",
    "partitions =  [c for c in sorted(partitions, key=len, reverse=True)]"
   ]
  },
  {
   "cell_type": "code",
   "execution_count": 72,
   "metadata": {},
   "outputs": [
    {
     "ename": "NetworkXError",
     "evalue": "`partition` is not a valid partition of the nodes of G",
     "output_type": "error",
     "traceback": [
      "\u001b[1;31m---------------------------------------------------------------------------\u001b[0m",
      "\u001b[1;31mNetworkXError\u001b[0m                             Traceback (most recent call last)",
      "\u001b[1;32m<ipython-input-72-1d6f1c77317f>\u001b[0m in \u001b[0;36m<module>\u001b[1;34m\u001b[0m\n\u001b[0;32m      1\u001b[0m \u001b[1;32mfor\u001b[0m \u001b[0mc\u001b[0m \u001b[1;32min\u001b[0m \u001b[0mpartitions\u001b[0m\u001b[1;33m:\u001b[0m\u001b[1;33m\u001b[0m\u001b[1;33m\u001b[0m\u001b[0m\n\u001b[1;32m----> 2\u001b[1;33m     \u001b[0mprint\u001b[0m\u001b[1;33m(\u001b[0m\u001b[0mnx\u001b[0m\u001b[1;33m.\u001b[0m\u001b[0mcommunity\u001b[0m\u001b[1;33m.\u001b[0m\u001b[0mcoverage\u001b[0m\u001b[1;33m(\u001b[0m\u001b[0mG\u001b[0m\u001b[1;33m,\u001b[0m\u001b[0mc\u001b[0m\u001b[1;33m)\u001b[0m\u001b[1;33m,\u001b[0m\u001b[0mnx\u001b[0m\u001b[1;33m.\u001b[0m\u001b[0mcommunity\u001b[0m\u001b[1;33m.\u001b[0m\u001b[0mmodularity\u001b[0m\u001b[1;33m(\u001b[0m\u001b[0mG\u001b[0m\u001b[1;33m,\u001b[0m \u001b[0mc\u001b[0m\u001b[1;33m)\u001b[0m\u001b[1;33m,\u001b[0m\u001b[0mnx\u001b[0m\u001b[1;33m.\u001b[0m\u001b[0mcommunity\u001b[0m\u001b[1;33m.\u001b[0m\u001b[0mperformance\u001b[0m\u001b[1;33m(\u001b[0m\u001b[0mG\u001b[0m\u001b[1;33m,\u001b[0m \u001b[0mc\u001b[0m\u001b[1;33m)\u001b[0m\u001b[1;33m)\u001b[0m\u001b[1;33m\u001b[0m\u001b[1;33m\u001b[0m\u001b[0m\n\u001b[0m",
      "\u001b[1;32m~\\Anaconda3\\lib\\site-packages\\networkx\\algorithms\\community\\quality.py\u001b[0m in \u001b[0;36mnew_func\u001b[1;34m(*args, **kw)\u001b[0m\n\u001b[0;32m     70\u001b[0m         \u001b[1;31m# Here we assume that the first two arguments are (G, partition).\u001b[0m\u001b[1;33m\u001b[0m\u001b[1;33m\u001b[0m\u001b[1;33m\u001b[0m\u001b[0m\n\u001b[0;32m     71\u001b[0m         \u001b[1;32mif\u001b[0m \u001b[1;32mnot\u001b[0m \u001b[0mis_partition\u001b[0m\u001b[1;33m(\u001b[0m\u001b[1;33m*\u001b[0m\u001b[0margs\u001b[0m\u001b[1;33m[\u001b[0m\u001b[1;33m:\u001b[0m\u001b[1;36m2\u001b[0m\u001b[1;33m]\u001b[0m\u001b[1;33m)\u001b[0m\u001b[1;33m:\u001b[0m\u001b[1;33m\u001b[0m\u001b[1;33m\u001b[0m\u001b[0m\n\u001b[1;32m---> 72\u001b[1;33m             raise nx.NetworkXError('`partition` is not a valid partition of'\n\u001b[0m\u001b[0;32m     73\u001b[0m                                    ' the nodes of G')\n\u001b[0;32m     74\u001b[0m         \u001b[1;32mreturn\u001b[0m \u001b[0mfunc\u001b[0m\u001b[1;33m(\u001b[0m\u001b[1;33m*\u001b[0m\u001b[0margs\u001b[0m\u001b[1;33m,\u001b[0m \u001b[1;33m**\u001b[0m\u001b[0mkw\u001b[0m\u001b[1;33m)\u001b[0m\u001b[1;33m\u001b[0m\u001b[1;33m\u001b[0m\u001b[0m\n",
      "\u001b[1;31mNetworkXError\u001b[0m: `partition` is not a valid partition of the nodes of G"
     ]
    }
   ],
   "source": [
    "for c in partitions: \n",
    "    print(nx.community.coverage(G,c),nx.community.modularity(G, c),nx.community.performance(G, c))"
   ]
  },
  {
   "cell_type": "code",
   "execution_count": 54,
   "metadata": {},
   "outputs": [
    {
     "ename": "IndexError",
     "evalue": "list assignment index out of range",
     "output_type": "error",
     "traceback": [
      "\u001b[1;31m---------------------------------------------------------------------------\u001b[0m",
      "\u001b[1;31mIndexError\u001b[0m                                Traceback (most recent call last)",
      "\u001b[1;32m<ipython-input-54-1cd7a2f4d2fe>\u001b[0m in \u001b[0;36m<module>\u001b[1;34m\u001b[0m\n\u001b[0;32m      1\u001b[0m \u001b[0mx\u001b[0m \u001b[1;33m=\u001b[0m \u001b[1;33m[\u001b[0m\u001b[1;33m]\u001b[0m\u001b[1;33m\u001b[0m\u001b[1;33m\u001b[0m\u001b[0m\n\u001b[0;32m      2\u001b[0m \u001b[1;31m#§print(nx.community.coverage(G, c),nx.community.modularity(G, c),nx.community.performance(G, c))\u001b[0m\u001b[1;33m\u001b[0m\u001b[1;33m\u001b[0m\u001b[1;33m\u001b[0m\u001b[0m\n\u001b[1;32m----> 3\u001b[1;33m \u001b[0mx\u001b[0m\u001b[1;33m[\u001b[0m\u001b[1;36m3\u001b[0m\u001b[1;33m]\u001b[0m \u001b[1;33m=\u001b[0m \u001b[1;36m5\u001b[0m\u001b[1;33m\u001b[0m\u001b[1;33m\u001b[0m\u001b[0m\n\u001b[0m",
      "\u001b[1;31mIndexError\u001b[0m: list assignment index out of range"
     ]
    }
   ],
   "source": [
    "x = []\n",
    "#§print(nx.community.coverage(G, c),nx.community.modularity(G, c),nx.community.performance(G, c))\n",
    "\n"
   ]
  },
  {
   "cell_type": "code",
   "execution_count": 82,
   "metadata": {},
   "outputs": [],
   "source": [
    "df = ids.loc[ids.index.isin(G.nodes)]"
   ]
  },
  {
   "cell_type": "code",
   "execution_count": 87,
   "metadata": {},
   "outputs": [
    {
     "data": {
      "text/plain": [
       "True"
      ]
     },
     "execution_count": 87,
     "metadata": {},
     "output_type": "execute_result"
    }
   ],
   "source": [
    "df.loc['US8370262B2','topic'] ==4"
   ]
  },
  {
   "cell_type": "code",
   "execution_count": 93,
   "metadata": {},
   "outputs": [],
   "source": [
    "for t in range(7):\n",
    "    SGts = []\n",
    "    SG = G.subgraph(df[df.topic==t].index)\n",
    "    SGts.append(SG.copy())\n",
    "    "
   ]
  },
  {
   "cell_type": "code",
   "execution_count": 92,
   "metadata": {},
   "outputs": [
    {
     "data": {
      "text/plain": [
       "5    2066\n",
       "4    1587\n",
       "3    1287\n",
       "0    1173\n",
       "6     779\n",
       "2     657\n",
       "1     555\n",
       "Name: topic, dtype: int64"
      ]
     },
     "execution_count": 92,
     "metadata": {},
     "output_type": "execute_result"
    }
   ],
   "source": [
    "df.topic.value_counts()"
   ]
  },
  {
   "cell_type": "code",
   "execution_count": null,
   "metadata": {},
   "outputs": [],
   "source": []
  },
  {
   "cell_type": "code",
   "execution_count": 94,
   "metadata": {},
   "outputs": [
    {
     "name": "stdout",
     "output_type": "stream",
     "text": [
      "779\n"
     ]
    }
   ],
   "source": [
    "for net in SGts:print(len(net))"
   ]
  },
  {
   "cell_type": "code",
   "execution_count": 31,
   "metadata": {},
   "outputs": [
    {
     "name": "stdout",
     "output_type": "stream",
     "text": [
      "1249\n"
     ]
    }
   ],
   "source": [
    "SG = G.subgraph([node for node in G.nodes if G.nodes[node]['core']>=7 ] )\n",
    "print(len(SG))"
   ]
  },
  {
   "cell_type": "code",
   "execution_count": 44,
   "metadata": {},
   "outputs": [],
   "source": [
    "communities =  [c for c in sorted(nx.community.girvan_newman(SG), key=len, reverse=True)]"
   ]
  },
  {
   "cell_type": "code",
   "execution_count": 49,
   "metadata": {},
   "outputs": [
    {
     "name": "stdout",
     "output_type": "stream",
     "text": [
      "Time:  0.2934261999998853\n"
     ]
    }
   ],
   "source": [
    "import timeit\n",
    "start = timeit.default_timer()  \n",
    "communities =  [c for c in sorted(nx.community.k_clique_communities(SG,10), key=len, reverse=True)]\n",
    "   \n",
    "stop = timeit.default_timer()    \n",
    "print('Time: ', stop - start) "
   ]
  },
  {
   "cell_type": "code",
   "execution_count": 50,
   "metadata": {},
   "outputs": [
    {
     "data": {
      "text/plain": [
       "[]"
      ]
     },
     "execution_count": 50,
     "metadata": {},
     "output_type": "execute_result"
    }
   ],
   "source": [
    "communities"
   ]
  },
  {
   "cell_type": "code",
   "execution_count": 47,
   "metadata": {},
   "outputs": [
    {
     "name": "stdout",
     "output_type": "stream",
     "text": [
      "[101, 100, 99, 98, 97, 96, 95, 94, 93, 92, 91, 90, 89, 88, 87, 86, 85, 84, 83, 82, 81, 80, 79, 78, 77, 76, 75, 74, 73, 72, 71, 70, 69, 68, 67, 66, 65, 64, 63, 62, 61, 60, 59, 58, 57, 56, 55, 54, 53, 52, 51, 50, 49, 48, 47, 46, 45, 44, 43, 42, 41, 40, 39, 38, 37, 36, 35, 34, 33, 32, 31, 30, 29, 28, 27, 26, 25, 24, 23, 22, 21, 20, 19, 18, 17, 16, 15, 14, 13, 12, 11, 10, 9, 8, 7, 6, 5, 4, 3, 2]\n"
     ]
    }
   ],
   "source": [
    "print([len(c) for c in communities])"
   ]
  },
  {
   "cell_type": "code",
   "execution_count": 54,
   "metadata": {},
   "outputs": [
    {
     "name": "stdout",
     "output_type": "stream",
     "text": [
      "[[12, 12, 11, 11, 12, 11, 11, 11, 15, 11, 12, 12, 12, 11, 11, 12, 11, 11, 11, 11, 11, 11, 11, 11, 12, 11, 12, 11, 11, 11, 11, 11, 12, 12, 12, 11, 12, 11, 15, 12, 12, 11, 11, 11, 12, 11, 11, 12, 11, 11, 11, 11, 11, 11, 11, 11, 12, 11, 12, 11, 11, 11, 12, 11, 12, 11, 12, 12, 11, 11, 11, 11, 12, 12, 11, 11, 12, 11, 11, 12, 11, 11, 15, 12, 11, 12, 12, 11, 11, 12, 12, 12, 12, 11, 11, 12, 12], [11], [11], [11], [12]]\n"
     ]
    }
   ],
   "source": [
    "print([[len(i) for i in c] for c in communities[-4]])"
   ]
  },
  {
   "cell_type": "code",
   "execution_count": 56,
   "metadata": {},
   "outputs": [
    {
     "data": {
      "text/plain": [
       "({'US10073864B1',\n",
       "  'US10073968B1',\n",
       "  'US10114947B1',\n",
       "  'US10162962B1',\n",
       "  'US10193903B1',\n",
       "  'US10250617B1',\n",
       "  'US10262135B1',\n",
       "  'US10278074B1',\n",
       "  'US10284587B1',\n",
       "  'US10318742B1',\n",
       "  'US10326772B2',\n",
       "  'US10339308B1',\n",
       "  'US10425435B1',\n",
       "  'US10430442B2',\n",
       "  'US10489587B1',\n",
       "  'US10592662B1',\n",
       "  'US10887339B1',\n",
       "  'US20190311136A1',\n",
       "  'US8756432B1',\n",
       "  'US8806625B1',\n",
       "  'US9100426B1',\n",
       "  'US9100440B1',\n",
       "  'US9116768B1',\n",
       "  'US9141790B2',\n",
       "  'US9148441B1',\n",
       "  'US9160766B2',\n",
       "  'US9166997B1',\n",
       "  'US9223966B1',\n",
       "  'US9256739B1',\n",
       "  'US9294284B1',\n",
       "  'US9300693B1',\n",
       "  'US9398042B1',\n",
       "  'US9401925B1',\n",
       "  'US9407664B1',\n",
       "  'US9485272B1',\n",
       "  'US9529990B2',\n",
       "  'US9548988B1',\n",
       "  'US9569617B1',\n",
       "  'US9659176B1',\n",
       "  'US9729579B1',\n",
       "  'US9736178B1',\n",
       "  'US9742801B1',\n",
       "  'US9798876B1',\n",
       "  'US9800606B1',\n",
       "  'US9838405B1',\n",
       "  'US9846772B1',\n",
       "  'US9852289B1',\n",
       "  'US9934378B1',\n",
       "  'US9948663B1',\n",
       "  'US9998480B1'},\n",
       " {'US10210330B1'},\n",
       " {'US8739284B1'},\n",
       " {'US9178904B1'},\n",
       " {'US20200169570A1'},\n",
       " {'US9246944B1'},\n",
       " {'US10803188B1'},\n",
       " {'US10706167B1'},\n",
       " {'US9065849B1'},\n",
       " {'US10867035B1'},\n",
       " {'US9800560B1'},\n",
       " {'US9330273B2'},\n",
       " {'US9185119B1'},\n",
       " {'US9800590B1'},\n",
       " {'US9483643B1'},\n",
       " {'US10331879B1'},\n",
       " {'US9900330B1'},\n",
       " {'US8806641B1'},\n",
       " {'US9734341B1'},\n",
       " {'US9253214B1'},\n",
       " {'US10212602B2'},\n",
       " {'US10089469B1'},\n",
       " {'US10290033B1'},\n",
       " {'US9805115B1'},\n",
       " {'US9323924B1'},\n",
       " {'US10735468B1'},\n",
       " {'US9754086B1'},\n",
       " {'US9171156B1'},\n",
       " {'US9332025B1'},\n",
       " {'US9166995B1'},\n",
       " {'US9734312B1'},\n",
       " {'US10367845B1'},\n",
       " {'US9756007B1'},\n",
       " {'US9311481B1'},\n",
       " {'US10114944B1'},\n",
       " {'US8627469B1'},\n",
       " {'US8561193B1'},\n",
       " {'US10771482B1'},\n",
       " {'US10547637B1'},\n",
       " {'US10079835B1'},\n",
       " {'US9122869B1'},\n",
       " {'US9203850B1'},\n",
       " {'US20200082081A1'},\n",
       " {'US10542017B1'},\n",
       " {'US9171152B1'},\n",
       " {'CN108701188A'},\n",
       " {'US9336384B2'},\n",
       " {'US10546123B1'},\n",
       " {'US10530809B1'},\n",
       " {'US9703956B1'},\n",
       " {'US10891374B1'},\n",
       " {'US10437994B1'})"
      ]
     },
     "execution_count": 56,
     "metadata": {},
     "output_type": "execute_result"
    }
   ],
   "source": [
    "communities[49]"
   ]
  },
  {
   "cell_type": "code",
   "execution_count": 71,
   "metadata": {},
   "outputs": [],
   "source": []
  },
  {
   "cell_type": "code",
   "execution_count": 74,
   "metadata": {},
   "outputs": [
    {
     "data": {
      "text/plain": [
       "1    27\n",
       "0    25\n",
       "4    19\n",
       "2    17\n",
       "3    13\n",
       "dtype: int64"
      ]
     },
     "execution_count": 74,
     "metadata": {},
     "output_type": "execute_result"
    }
   ],
   "source": [
    "pd.Series(partition).value_counts()"
   ]
  },
  {
   "cell_type": "code",
   "execution_count": 73,
   "metadata": {},
   "outputs": [
    {
     "data": {
      "text/plain": [
       "8104"
      ]
     },
     "execution_count": 73,
     "metadata": {},
     "output_type": "execute_result"
    }
   ],
   "source": [
    "len(G)"
   ]
  },
  {
   "cell_type": "code",
   "execution_count": 58,
   "metadata": {},
   "outputs": [],
   "source": [
    "import networkx as nx\n",
    "from itertools import chain, combinations\n",
    "import matplotlib.pyplot as plt\n",
    "from scipy.cluster.hierarchy import dendrogram\n"
   ]
  },
  {
   "cell_type": "code",
   "execution_count": 62,
   "metadata": {},
   "outputs": [
    {
     "name": "stdout",
     "output_type": "stream",
     "text": [
      "17820.0202598\n",
      "17820.0747051\n",
      "17832.8313714\n",
      "17832.8334909\n",
      "17832.8430427\n",
      "17832.8508225\n",
      "17832.8827475\n"
     ]
    },
    {
     "ename": "KeyError",
     "evalue": "('US10210330B1', 'US10284587B1')",
     "output_type": "error",
     "traceback": [
      "\u001b[1;31m---------------------------------------------------------------------------\u001b[0m",
      "\u001b[1;31mKeyError\u001b[0m                                  Traceback (most recent call last)",
      "\u001b[1;32m<ipython-input-62-2c0ef47c2a58>\u001b[0m in \u001b[0;36m<module>\u001b[1;34m\u001b[0m\n\u001b[0;32m     81\u001b[0m         \u001b[0mz\u001b[0m \u001b[1;33m=\u001b[0m \u001b[0mtuple\u001b[0m\u001b[1;33m(\u001b[0m\u001b[0msorted\u001b[0m\u001b[1;33m(\u001b[0m\u001b[0msubtree\u001b[0m\u001b[1;33m[\u001b[0m\u001b[0mx\u001b[0m\u001b[1;33m]\u001b[0m \u001b[1;33m+\u001b[0m \u001b[0msubtree\u001b[0m\u001b[1;33m[\u001b[0m\u001b[0my\u001b[0m\u001b[1;33m]\u001b[0m\u001b[1;33m)\u001b[0m\u001b[1;33m)\u001b[0m\u001b[1;33m\u001b[0m\u001b[1;33m\u001b[0m\u001b[0m\n\u001b[0;32m     82\u001b[0m         \u001b[0mi\u001b[0m\u001b[1;33m,\u001b[0m \u001b[0mj\u001b[0m \u001b[1;33m=\u001b[0m \u001b[0mindex\u001b[0m\u001b[1;33m[\u001b[0m\u001b[0mtuple\u001b[0m\u001b[1;33m(\u001b[0m\u001b[0msorted\u001b[0m\u001b[1;33m(\u001b[0m\u001b[0msubtree\u001b[0m\u001b[1;33m[\u001b[0m\u001b[0mx\u001b[0m\u001b[1;33m]\u001b[0m\u001b[1;33m)\u001b[0m\u001b[1;33m)\u001b[0m\u001b[1;33m]\u001b[0m\u001b[1;33m,\u001b[0m \u001b[0mindex\u001b[0m\u001b[1;33m[\u001b[0m\u001b[0mtuple\u001b[0m\u001b[1;33m(\u001b[0m\u001b[0msorted\u001b[0m\u001b[1;33m(\u001b[0m\u001b[0msubtree\u001b[0m\u001b[1;33m[\u001b[0m\u001b[0my\u001b[0m\u001b[1;33m]\u001b[0m\u001b[1;33m)\u001b[0m\u001b[1;33m)\u001b[0m\u001b[1;33m]\u001b[0m\u001b[1;33m\u001b[0m\u001b[1;33m\u001b[0m\u001b[0m\n\u001b[1;32m---> 83\u001b[1;33m         \u001b[0mZ\u001b[0m\u001b[1;33m.\u001b[0m\u001b[0mappend\u001b[0m\u001b[1;33m(\u001b[0m\u001b[1;33m[\u001b[0m\u001b[0mi\u001b[0m\u001b[1;33m,\u001b[0m \u001b[0mj\u001b[0m\u001b[1;33m,\u001b[0m \u001b[0mget_merge_height\u001b[0m\u001b[1;33m(\u001b[0m\u001b[0msubtree\u001b[0m\u001b[1;33m[\u001b[0m\u001b[0mn\u001b[0m\u001b[1;33m]\u001b[0m\u001b[1;33m)\u001b[0m\u001b[1;33m,\u001b[0m \u001b[0mlen\u001b[0m\u001b[1;33m(\u001b[0m\u001b[0mz\u001b[0m\u001b[1;33m)\u001b[0m\u001b[1;33m]\u001b[0m\u001b[1;33m)\u001b[0m \u001b[1;31m# <-- float is required by the dendrogram function\u001b[0m\u001b[1;33m\u001b[0m\u001b[1;33m\u001b[0m\u001b[0m\n\u001b[0m\u001b[0;32m     84\u001b[0m         \u001b[0mindex\u001b[0m\u001b[1;33m[\u001b[0m\u001b[0mz\u001b[0m\u001b[1;33m]\u001b[0m \u001b[1;33m=\u001b[0m \u001b[0mk\u001b[0m\u001b[1;33m\u001b[0m\u001b[1;33m\u001b[0m\u001b[0m\n\u001b[0;32m     85\u001b[0m         \u001b[0msubtree\u001b[0m\u001b[1;33m[\u001b[0m\u001b[0mz\u001b[0m\u001b[1;33m]\u001b[0m \u001b[1;33m=\u001b[0m \u001b[0mlist\u001b[0m\u001b[1;33m(\u001b[0m\u001b[0mz\u001b[0m\u001b[1;33m)\u001b[0m\u001b[1;33m\u001b[0m\u001b[1;33m\u001b[0m\u001b[0m\n",
      "\u001b[1;32m<ipython-input-62-2c0ef47c2a58>\u001b[0m in \u001b[0;36mget_merge_height\u001b[1;34m(sub)\u001b[0m\n\u001b[0;32m     46\u001b[0m     \u001b[0mmin_rank\u001b[0m\u001b[1;33m,\u001b[0m \u001b[0mmax_rank\u001b[0m \u001b[1;33m=\u001b[0m \u001b[0mmin\u001b[0m\u001b[1;33m(\u001b[0m\u001b[0mother_same_len_merges\u001b[0m\u001b[1;33m.\u001b[0m\u001b[0mvalues\u001b[0m\u001b[1;33m(\u001b[0m\u001b[1;33m)\u001b[0m\u001b[1;33m)\u001b[0m\u001b[1;33m,\u001b[0m \u001b[0mmax\u001b[0m\u001b[1;33m(\u001b[0m\u001b[0mother_same_len_merges\u001b[0m\u001b[1;33m.\u001b[0m\u001b[0mvalues\u001b[0m\u001b[1;33m(\u001b[0m\u001b[1;33m)\u001b[0m\u001b[1;33m)\u001b[0m\u001b[1;33m\u001b[0m\u001b[1;33m\u001b[0m\u001b[0m\n\u001b[0;32m     47\u001b[0m     \u001b[0mrange\u001b[0m \u001b[1;33m=\u001b[0m \u001b[1;33m(\u001b[0m\u001b[0mmax_rank\u001b[0m\u001b[1;33m-\u001b[0m\u001b[0mmin_rank\u001b[0m\u001b[1;33m)\u001b[0m \u001b[1;32mif\u001b[0m \u001b[0mmax_rank\u001b[0m \u001b[1;33m>\u001b[0m \u001b[0mmin_rank\u001b[0m \u001b[1;32melse\u001b[0m \u001b[1;36m1\u001b[0m\u001b[1;33m\u001b[0m\u001b[1;33m\u001b[0m\u001b[0m\n\u001b[1;32m---> 48\u001b[1;33m     \u001b[1;32mreturn\u001b[0m \u001b[0mfloat\u001b[0m\u001b[1;33m(\u001b[0m\u001b[0mlen\u001b[0m\u001b[1;33m(\u001b[0m\u001b[0msub\u001b[0m\u001b[1;33m)\u001b[0m\u001b[1;33m)\u001b[0m \u001b[1;33m+\u001b[0m \u001b[1;36m0.8\u001b[0m \u001b[1;33m*\u001b[0m \u001b[1;33m(\u001b[0m\u001b[0msubset_rank_dict\u001b[0m\u001b[1;33m[\u001b[0m\u001b[0msub_tuple\u001b[0m\u001b[1;33m]\u001b[0m \u001b[1;33m-\u001b[0m \u001b[0mmin_rank\u001b[0m\u001b[1;33m)\u001b[0m \u001b[1;33m/\u001b[0m \u001b[0mrange\u001b[0m\u001b[1;33m\u001b[0m\u001b[1;33m\u001b[0m\u001b[0m\n\u001b[0m\u001b[0;32m     49\u001b[0m \u001b[1;33m\u001b[0m\u001b[0m\n\u001b[0;32m     50\u001b[0m \u001b[1;31m# finally using @mdml's magic, slightly modified:\u001b[0m\u001b[1;33m\u001b[0m\u001b[1;33m\u001b[0m\u001b[1;33m\u001b[0m\u001b[0m\n",
      "\u001b[1;31mKeyError\u001b[0m: ('US10210330B1', 'US10284587B1')"
     ]
    }
   ],
   "source": [
    "print(timeit.default_timer() )\n",
    "# building initial dict of node_id to each possible subset:\n",
    "node_id = 0\n",
    "init_node2community_dict = {node_id: communities[0][0].union(communities[0][1])}\n",
    "for comm in communities:\n",
    "    for subset in list(comm):\n",
    "        if subset not in init_node2community_dict.values():\n",
    "            node_id += 1\n",
    "            init_node2community_dict[node_id] = subset\n",
    "            \n",
    "print(timeit.default_timer() )\n",
    "# turning this dictionary to the desired format in @mdml's answer\n",
    "node_id_to_children = {e: [] for e in init_node2community_dict.keys()}\n",
    "for node_id1, node_id2 in combinations(init_node2community_dict.keys(), 2):\n",
    "    for node_id_parent, group in init_node2community_dict.items():\n",
    "        if len(init_node2community_dict[node_id1].intersection(init_node2community_dict[node_id2])) == 0 and group == init_node2community_dict[node_id1].union(init_node2community_dict[node_id2]):\n",
    "            node_id_to_children[node_id_parent].append(node_id1)\n",
    "            node_id_to_children[node_id_parent].append(node_id2)\n",
    "            \n",
    "print(timeit.default_timer() )\n",
    "# also recording node_labels dict for the correct label for dendrogram leaves\n",
    "node_labels = dict()\n",
    "for node_id, group in init_node2community_dict.items():\n",
    "    if len(group) == 1:\n",
    "        node_labels[node_id] = list(group)[0]\n",
    "    else:\n",
    "        node_labels[node_id] = ''\n",
    "\n",
    "print(timeit.default_timer() )\n",
    "# also needing a subset to rank dict to later know within all k-length merges which came first\n",
    "subset_rank_dict = dict()\n",
    "rank = 0\n",
    "for e in communities[::-1]:\n",
    "    for p in list(e):\n",
    "        if tuple(p) not in subset_rank_dict:\n",
    "            subset_rank_dict[tuple(sorted(p))] = rank\n",
    "            rank += 1\n",
    "subset_rank_dict[tuple(sorted(chain.from_iterable(communities[-1])))] = rank\n",
    "\n",
    "print(timeit.default_timer() )\n",
    "# my function to get a merge height so that it is unique (probably not that efficient)\n",
    "def get_merge_height(sub):\n",
    "    sub_tuple = tuple(sorted([node_labels[i] for i in sub]))\n",
    "    n = len(sub_tuple)\n",
    "    other_same_len_merges = {k: v for k, v in subset_rank_dict.items() if len(k) == n}\n",
    "    min_rank, max_rank = min(other_same_len_merges.values()), max(other_same_len_merges.values())\n",
    "    range = (max_rank-min_rank) if max_rank > min_rank else 1\n",
    "    return float(len(sub)) + 0.8 * (subset_rank_dict[sub_tuple] - min_rank) / range\n",
    "\n",
    "# finally using @mdml's magic, slightly modified:\n",
    "DG           = nx.DiGraph(node_id_to_children)\n",
    "nodes       = DG.nodes()\n",
    "leaves      = set( n for n in nodes if DG.out_degree(n) == 0 )\n",
    "inner_nodes = [ n for n in nodes if DG.out_degree(n) > 0 ]\n",
    "\n",
    "\n",
    "print(timeit.default_timer() )\n",
    "# Compute the size of each subtree\n",
    "subtree = dict( (n, [n]) for n in leaves )\n",
    "for u in inner_nodes:\n",
    "    children = set()\n",
    "    node_list = list(node_id_to_children[u])\n",
    "    while len(node_list) > 0:\n",
    "        v = node_list.pop(0)\n",
    "        children.add( v )\n",
    "        node_list += node_id_to_children[v]\n",
    "    subtree[u] = sorted(children & leaves)\n",
    "\n",
    "inner_nodes.sort(key=lambda n: len(subtree[n])) # <-- order inner nodes ascending by subtree size, root is last\n",
    "\n",
    "print(timeit.default_timer() )\n",
    "# Construct the linkage matrix\n",
    "leaves = sorted(leaves)\n",
    "index  = dict( (tuple([n]), i) for i, n in enumerate(leaves) )\n",
    "Z = []\n",
    "k = len(leaves)\n",
    "for i, n in enumerate(inner_nodes):\n",
    "    children = node_id_to_children[n]\n",
    "    x = children[0]\n",
    "    for y in children[1:]:\n",
    "        z = tuple(sorted(subtree[x] + subtree[y]))\n",
    "        i, j = index[tuple(sorted(subtree[x]))], index[tuple(sorted(subtree[y]))]\n",
    "        Z.append([i, j, get_merge_height(subtree[n]), len(z)]) # <-- float is required by the dendrogram function\n",
    "        index[z] = k\n",
    "        subtree[z] = list(z)\n",
    "        x = z\n",
    "        k += 1\n",
    "\n",
    "print(timeit.default_timer() )\n",
    "# dendrogram\n",
    "plt.figure()\n",
    "dendrogram(Z, labels=[node_labels[node_id] for node_id in leaves])\n",
    "plt.savefig('dendrogram.png')"
   ]
  },
  {
   "cell_type": "code",
   "execution_count": 68,
   "metadata": {},
   "outputs": [
    {
     "data": {
      "text/plain": [
       "{0: [1, 2],\n",
       " 1: [],\n",
       " 2: [],\n",
       " 3: [],\n",
       " 4: [],\n",
       " 5: [],\n",
       " 6: [],\n",
       " 7: [],\n",
       " 8: [],\n",
       " 9: [],\n",
       " 10: [],\n",
       " 11: [],\n",
       " 12: [],\n",
       " 13: [],\n",
       " 14: [],\n",
       " 15: [],\n",
       " 16: [],\n",
       " 17: [],\n",
       " 18: [],\n",
       " 19: [],\n",
       " 20: [],\n",
       " 21: [],\n",
       " 22: [],\n",
       " 23: [],\n",
       " 24: [],\n",
       " 25: [],\n",
       " 26: [],\n",
       " 27: [],\n",
       " 28: [],\n",
       " 29: [],\n",
       " 30: [],\n",
       " 31: [],\n",
       " 32: [],\n",
       " 33: [],\n",
       " 34: [],\n",
       " 35: [],\n",
       " 36: [],\n",
       " 37: [],\n",
       " 38: [],\n",
       " 39: [],\n",
       " 40: [],\n",
       " 41: [],\n",
       " 42: [],\n",
       " 43: [],\n",
       " 44: [],\n",
       " 45: [],\n",
       " 46: [],\n",
       " 47: [],\n",
       " 48: [],\n",
       " 49: [],\n",
       " 50: [],\n",
       " 51: [],\n",
       " 52: [],\n",
       " 53: [],\n",
       " 54: [],\n",
       " 55: [],\n",
       " 56: [],\n",
       " 57: [],\n",
       " 58: [],\n",
       " 59: [],\n",
       " 60: [],\n",
       " 61: [],\n",
       " 62: [],\n",
       " 63: [],\n",
       " 64: [],\n",
       " 65: [],\n",
       " 66: [],\n",
       " 67: [],\n",
       " 68: [],\n",
       " 69: [],\n",
       " 70: [],\n",
       " 71: [],\n",
       " 72: [],\n",
       " 73: [],\n",
       " 74: [],\n",
       " 75: [],\n",
       " 76: [],\n",
       " 77: [],\n",
       " 78: [],\n",
       " 79: [],\n",
       " 80: [],\n",
       " 81: [],\n",
       " 82: [],\n",
       " 83: [],\n",
       " 84: [],\n",
       " 85: [],\n",
       " 86: [],\n",
       " 87: [],\n",
       " 88: [],\n",
       " 89: [],\n",
       " 90: [],\n",
       " 91: [],\n",
       " 92: [],\n",
       " 93: [],\n",
       " 94: [],\n",
       " 95: [],\n",
       " 96: [],\n",
       " 97: [],\n",
       " 98: [],\n",
       " 99: [],\n",
       " 100: [],\n",
       " 101: [],\n",
       " 102: [79, 91],\n",
       " 103: [77, 102],\n",
       " 104: [69, 103],\n",
       " 105: [60, 104],\n",
       " 106: [11, 105],\n",
       " 107: [66, 106],\n",
       " 108: [44, 107],\n",
       " 109: [37, 108],\n",
       " 110: [99, 109],\n",
       " 111: [53, 110],\n",
       " 112: [14, 111],\n",
       " 113: [67, 112],\n",
       " 114: [52, 113],\n",
       " 115: [36, 114],\n",
       " 116: [54, 115],\n",
       " 117: [31, 116],\n",
       " 118: [38, 117],\n",
       " 119: [83, 118],\n",
       " 120: [29, 119],\n",
       " 121: [73, 120],\n",
       " 122: [50, 121],\n",
       " 123: [20, 122],\n",
       " 124: [58, 123],\n",
       " 125: [8, 124],\n",
       " 126: [70, 125],\n",
       " 127: [62, 126],\n",
       " 128: [7, 127],\n",
       " 129: [49, 128],\n",
       " 130: [18, 129],\n",
       " 131: [40, 130],\n",
       " 132: [35, 131],\n",
       " 133: [74, 132],\n",
       " 134: [47, 133],\n",
       " 135: [75, 134],\n",
       " 136: [48, 135],\n",
       " 137: [39, 136],\n",
       " 138: [95, 137],\n",
       " 139: [71, 138],\n",
       " 140: [28, 139],\n",
       " 141: [5, 140],\n",
       " 142: [85, 141],\n",
       " 143: [6, 142],\n",
       " 144: [81, 143],\n",
       " 145: [24, 144],\n",
       " 146: [22, 145],\n",
       " 147: [97, 146],\n",
       " 148: [1, 147],\n",
       " 149: [89, 148],\n",
       " 150: [94, 149],\n",
       " 151: [101, 150],\n",
       " 152: [13, 151],\n",
       " 153: [32, 152],\n",
       " 154: [34, 153],\n",
       " 155: [4, 154],\n",
       " 156: [84, 155],\n",
       " 157: [92, 156],\n",
       " 158: [93, 157],\n",
       " 159: [80, 158],\n",
       " 160: [82, 159],\n",
       " 161: [88, 160],\n",
       " 162: [27, 161],\n",
       " 163: [3, 162],\n",
       " 164: [23, 163],\n",
       " 165: [12, 164],\n",
       " 166: [78, 165],\n",
       " 167: [90, 166],\n",
       " 168: [10, 167],\n",
       " 169: [26, 168],\n",
       " 170: [9, 169],\n",
       " 171: [41, 170],\n",
       " 172: [63, 171],\n",
       " 173: [98, 172],\n",
       " 174: [57, 173],\n",
       " 175: [86, 174],\n",
       " 176: [87, 175],\n",
       " 177: [46, 176],\n",
       " 178: [65, 177],\n",
       " 179: [56, 178],\n",
       " 180: [76, 179],\n",
       " 181: [61, 180],\n",
       " 182: [42, 181],\n",
       " 183: [21, 182],\n",
       " 184: [19, 183],\n",
       " 185: [33, 184],\n",
       " 186: [16, 185],\n",
       " 187: [51, 186],\n",
       " 188: [15, 187],\n",
       " 189: [43, 188],\n",
       " 190: [72, 189],\n",
       " 191: [30, 190],\n",
       " 192: [64, 191],\n",
       " 193: [25, 192],\n",
       " 194: [96, 193],\n",
       " 195: [2, 194],\n",
       " 196: [45, 195],\n",
       " 197: [55, 196],\n",
       " 198: [100, 197],\n",
       " 199: [59, 198],\n",
       " 200: [17, 199]}"
      ]
     },
     "execution_count": 68,
     "metadata": {},
     "output_type": "execute_result"
    }
   ],
   "source": [
    "node_id_to_children"
   ]
  },
  {
   "cell_type": "code",
   "execution_count": 70,
   "metadata": {},
   "outputs": [
    {
     "data": {
      "text/plain": [
       "NodeView((0, 1, 2, 3, 4, 5, 6, 7, 8, 9, 10, 11, 12, 13, 14, 15, 16, 17, 18, 19, 20, 21, 22, 23, 24, 25, 26, 27, 28, 29, 30, 31, 32, 33, 34, 35, 36, 37, 38, 39, 40, 41, 42, 43, 44, 45, 46, 47, 48, 49, 50, 51, 52, 53, 54, 55, 56, 57, 58, 59, 60, 61, 62, 63, 64, 65, 66, 67, 68, 69, 70, 71, 72, 73, 74, 75, 76, 77, 78, 79, 80, 81, 82, 83, 84, 85, 86, 87, 88, 89, 90, 91, 92, 93, 94, 95, 96, 97, 98, 99, 100, 101, 102, 103, 104, 105, 106, 107, 108, 109, 110, 111, 112, 113, 114, 115, 116, 117, 118, 119, 120, 121, 122, 123, 124, 125, 126, 127, 128, 129, 130, 131, 132, 133, 134, 135, 136, 137, 138, 139, 140, 141, 142, 143, 144, 145, 146, 147, 148, 149, 150, 151, 152, 153, 154, 155, 156, 157, 158, 159, 160, 161, 162, 163, 164, 165, 166, 167, 168, 169, 170, 171, 172, 173, 174, 175, 176, 177, 178, 179, 180, 181, 182, 183, 184, 185, 186, 187, 188, 189, 190, 191, 192, 193, 194, 195, 196, 197, 198, 199, 200))"
      ]
     },
     "execution_count": 70,
     "metadata": {},
     "output_type": "execute_result"
    }
   ],
   "source": [
    "DG.nodes"
   ]
  },
  {
   "cell_type": "code",
   "execution_count": null,
   "metadata": {},
   "outputs": [],
   "source": []
  }
 ],
 "metadata": {
  "kernelspec": {
   "display_name": "Python 3",
   "language": "python",
   "name": "python3"
  },
  "language_info": {
   "codemirror_mode": {
    "name": "ipython",
    "version": 3
   },
   "file_extension": ".py",
   "mimetype": "text/x-python",
   "name": "python",
   "nbconvert_exporter": "python",
   "pygments_lexer": "ipython3",
   "version": "3.7.4"
  }
 },
 "nbformat": 4,
 "nbformat_minor": 2
}
