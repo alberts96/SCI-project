{
 "cells": [
  {
   "cell_type": "markdown",
   "metadata": {
    "id": "4ITvyYx54g5C"
   },
   "source": [
    "## Classification with sklearn\n"
   ]
  },
  {
   "cell_type": "code",
   "execution_count": 1,
   "metadata": {},
   "outputs": [],
   "source": [
    "import numpy as np\n",
    "import pandas as pd\n",
    "import re "
   ]
  },
  {
   "cell_type": "markdown",
   "metadata": {
    "id": "b1J4daS74g5D"
   },
   "source": [
    "## loading a dataset"
   ]
  },
  {
   "cell_type": "code",
   "execution_count": 3,
   "metadata": {},
   "outputs": [
    {
     "name": "stdout",
     "output_type": "stream",
     "text": [
      "id                                0\n",
      "title                             0\n",
      "assignee                         15\n",
      "inventor/author                 383\n",
      "priority date                   324\n",
      "filing/creation date              6\n",
      "publication date                  1\n",
      "grant date                    13623\n",
      "result link                       0\n",
      "representative figure link    10002\n",
      "code.1                            0\n",
      "citations                         0\n",
      "abstract                        796\n",
      "class                          3384\n",
      "dtype: int64\n"
     ]
    },
    {
     "data": {
      "text/plain": [
       "H04L63    2608\n",
       "G06F21    2434\n",
       "G06F16    1192\n",
       "G06Q30     882\n",
       "G06K9/     806\n",
       "          ... \n",
       "B41M3/       1\n",
       "B64D43       1\n",
       "H01J9/       1\n",
       "B41L21       1\n",
       "H02B13       1\n",
       "Name: class, Length: 906, dtype: int64"
      ]
     },
     "execution_count": 3,
     "metadata": {},
     "output_type": "execute_result"
    }
   ],
   "source": [
    "\n",
    "ids = pd.read_csv(r\"../patents/gp-query2-plus.csv\",index_col='code',skipinitialspace=True)\n",
    "print(ids.isnull().sum())\n",
    "ids['class'].value_counts()"
   ]
  },
  {
   "cell_type": "code",
   "execution_count": 4,
   "metadata": {},
   "outputs": [
    {
     "name": "stdout",
     "output_type": "stream",
     "text": [
      "id                                0\n",
      "title                             0\n",
      "assignee                          5\n",
      "inventor/author                 369\n",
      "priority date                   315\n",
      "filing/creation date              1\n",
      "publication date                  0\n",
      "grant date                    13565\n",
      "result link                       0\n",
      "representative figure link     9736\n",
      "code.1                            0\n",
      "citations                         0\n",
      "abstract                          0\n",
      "class                             0\n",
      "dtype: int64\n"
     ]
    },
    {
     "data": {
      "text/plain": [
       "G06    9582\n",
       "NA     6895\n",
       "H04    5300\n",
       "Name: class, dtype: int64"
      ]
     },
     "execution_count": 4,
     "metadata": {},
     "output_type": "execute_result"
    }
   ],
   "source": [
    "ids = ids[ids.abstract.notna()]\n",
    "ids[\"class\"].fillna(value=\"NA\",inplace = True)\n",
    "ids['class'] = ids['class'].astype('str').apply(lambda x: x[:3] if len(x) >= 3 else 'NA')\n",
    "ids[\"class\"] = ids[\"class\"].apply(lambda x: 'NA' if x != 'G06' and x != 'H04' else x)\n",
    "ids['abstract'].str.replace(r'[^\\x00-\\x7F]+', '') #dorp chinese character\n",
    "\n",
    "print(ids.isnull().sum())\n",
    "ids['class'].value_counts()"
   ]
  },
  {
   "cell_type": "code",
   "execution_count": 5,
   "metadata": {},
   "outputs": [],
   "source": [
    "#use this if you want to try a binary classification\n",
    "ids = ids[ids['class']!='NA']"
   ]
  },
  {
   "cell_type": "code",
   "execution_count": 5,
   "metadata": {},
   "outputs": [],
   "source": [
    "from sklearn.model_selection import train_test_split\n",
    "\n",
    "X = ids['abstract'].values\n",
    "y = ids['class'].values\n",
    "\n",
    "x_train, x_test, y_train, y_test = train_test_split(\n",
    "    X, y, test_size=0.3, random_state=42)\n"
   ]
  },
  {
   "cell_type": "code",
   "execution_count": 6,
   "metadata": {
    "id": "70X8gxqX4g5T"
   },
   "outputs": [
    {
     "data": {
      "text/plain": [
       "(15243, 15243, 6534, 6534)"
      ]
     },
     "execution_count": 6,
     "metadata": {},
     "output_type": "execute_result"
    }
   ],
   "source": [
    "len(x_train),len(y_train),len(x_test),len(y_test)"
   ]
  },
  {
   "cell_type": "code",
   "execution_count": 7,
   "metadata": {
    "id": "62X87ZY84g5Z"
   },
   "outputs": [
    {
     "data": {
      "text/plain": [
       "{'G06', 'H04', 'NA'}"
      ]
     },
     "execution_count": 7,
     "metadata": {},
     "output_type": "execute_result"
    }
   ],
   "source": [
    "set(y_train)"
   ]
  },
  {
   "cell_type": "code",
   "execution_count": 8,
   "metadata": {
    "id": "8c26tzsE4g5p"
   },
   "outputs": [],
   "source": [
    "from sklearn.feature_extraction.text import TfidfTransformer, CountVectorizer\n",
    "from sklearn.feature_selection import SelectKBest, chi2\n",
    "from sklearn.pipeline import Pipeline\n",
    "from sklearn.naive_bayes import MultinomialNB\n",
    "from sklearn.tree import DecisionTreeClassifier\n",
    "from sklearn.svm import LinearSVC"
   ]
  },
  {
   "cell_type": "markdown",
   "metadata": {
    "id": "2VWoWZd_7uIe"
   },
   "source": [
    "## Tokenization\n",
    "\n",
    "Try the following two cells removing the min_df parameter"
   ]
  },
  {
   "cell_type": "code",
   "execution_count": null,
   "metadata": {
    "id": "Vk5Cvvyc4g5r"
   },
   "outputs": [
    {
     "name": "stdout",
     "output_type": "stream",
     "text": [
      "fit\n"
     ]
    }
   ],
   "source": [
    "vect = CountVectorizer(min_df=5)  # tokenization and frequency count\n",
    "\n",
    "print('fit')\n",
    "vect.fit(x_train)\n",
    "print('transform')\n",
    "X_train_tok = vect.transform(x_train)\n",
    "print('done')\n",
    "\n",
    "# the two steps above can be condensed in a single step that processes train\n",
    "# data only once.\n",
    "\n",
    "# print('fit_transform')\n",
    "# X_train_tok = vect.fit_transform(x_train)\n",
    "# print('done')\n",
    "\n",
    "X_test_tok =vect.transform(x_test)"
   ]
  },
  {
   "cell_type": "code",
   "execution_count": null,
   "metadata": {
    "id": "D1x3p0T271jX"
   },
   "outputs": [],
   "source": [
    "len(vect.vocabulary_)"
   ]
  },
  {
   "cell_type": "code",
   "execution_count": null,
   "metadata": {
    "id": "PxwBNFrT8UQ0"
   },
   "outputs": [],
   "source": [
    "vect.vocabulary_"
   ]
  },
  {
   "cell_type": "code",
   "execution_count": 178,
   "metadata": {
    "id": "ipJykPr14g5u"
   },
   "outputs": [
    {
     "data": {
      "text/plain": [
       "['10',\n",
       " '100',\n",
       " '101',\n",
       " '102',\n",
       " '103',\n",
       " '104',\n",
       " '105',\n",
       " '106',\n",
       " '108',\n",
       " '11',\n",
       " '110',\n",
       " '111',\n",
       " '112',\n",
       " '113',\n",
       " '114',\n",
       " '115',\n",
       " '116',\n",
       " '118',\n",
       " '12',\n",
       " '120',\n",
       " '121',\n",
       " '122',\n",
       " '13',\n",
       " '130',\n",
       " '14',\n",
       " '140',\n",
       " '141',\n",
       " '15',\n",
       " '150',\n",
       " '155',\n",
       " '16',\n",
       " '160',\n",
       " '17',\n",
       " '170',\n",
       " '18',\n",
       " '180',\n",
       " '19',\n",
       " '190',\n",
       " '1a',\n",
       " '20',\n",
       " '200',\n",
       " '201',\n",
       " '202',\n",
       " '203',\n",
       " '204',\n",
       " '205',\n",
       " '206',\n",
       " '208',\n",
       " '21',\n",
       " '210',\n",
       " '22',\n",
       " '220',\n",
       " '23',\n",
       " '230',\n",
       " '24',\n",
       " '240',\n",
       " '25',\n",
       " '26',\n",
       " '260',\n",
       " '27',\n",
       " '28',\n",
       " '2a',\n",
       " '2d',\n",
       " '2nd',\n",
       " '30',\n",
       " '300',\n",
       " '301',\n",
       " '302',\n",
       " '304',\n",
       " '306',\n",
       " '31',\n",
       " '310',\n",
       " '32',\n",
       " '320',\n",
       " '33',\n",
       " '330',\n",
       " '34',\n",
       " '35',\n",
       " '36',\n",
       " '360',\n",
       " '3d',\n",
       " '3rd',\n",
       " '40',\n",
       " '400',\n",
       " '401',\n",
       " '402',\n",
       " '404',\n",
       " '410',\n",
       " '412',\n",
       " '42',\n",
       " '420',\n",
       " '4g',\n",
       " '4th',\n",
       " '50',\n",
       " '500',\n",
       " '510',\n",
       " '52',\n",
       " '520',\n",
       " '54',\n",
       " '56',\n",
       " '58',\n",
       " '5g',\n",
       " '5th',\n",
       " '60',\n",
       " '600',\n",
       " '602',\n",
       " '604',\n",
       " '606',\n",
       " '62',\n",
       " '64',\n",
       " '70',\n",
       " '802',\n",
       " '90',\n",
       " '95',\n",
       " 'aa',\n",
       " 'ability',\n",
       " 'able',\n",
       " 'abnormal',\n",
       " 'abnormalities',\n",
       " 'abnormality',\n",
       " 'abnormity',\n",
       " 'about',\n",
       " 'above',\n",
       " 'absence',\n",
       " 'absent',\n",
       " 'absolute',\n",
       " 'abstract',\n",
       " 'abstracted',\n",
       " 'abstracting',\n",
       " 'abstraction',\n",
       " 'abstractions',\n",
       " 'abundant',\n",
       " 'abuse',\n",
       " 'ac',\n",
       " 'accelerate',\n",
       " 'accelerated',\n",
       " 'accelerates',\n",
       " 'accelerating',\n",
       " 'acceleration',\n",
       " 'accelerator',\n",
       " 'accelerometer',\n",
       " 'accept',\n",
       " 'acceptability',\n",
       " 'acceptable',\n",
       " 'acceptance',\n",
       " 'accepted',\n",
       " 'accepting',\n",
       " 'accepts',\n",
       " 'access',\n",
       " 'accessed',\n",
       " 'accesses',\n",
       " 'accessibility',\n",
       " 'accessible',\n",
       " 'accessing',\n",
       " 'accessory',\n",
       " 'accident',\n",
       " 'accidents',\n",
       " 'accommodate',\n",
       " 'accompanying',\n",
       " 'accomplish',\n",
       " 'accomplished',\n",
       " 'accord',\n",
       " 'accordance',\n",
       " 'according',\n",
       " 'accordingly',\n",
       " 'account',\n",
       " 'accountability',\n",
       " 'accounting',\n",
       " 'accounts',\n",
       " 'accumulated',\n",
       " 'accumulating',\n",
       " 'accumulation',\n",
       " 'accuracy',\n",
       " 'accurate',\n",
       " 'accurately',\n",
       " 'achieve',\n",
       " 'achieved',\n",
       " 'achievement',\n",
       " 'achieves',\n",
       " 'achieving',\n",
       " 'acknowledgement',\n",
       " 'acoustic',\n",
       " 'acquire',\n",
       " 'acquired',\n",
       " 'acquires',\n",
       " 'acquiring',\n",
       " 'acquisition',\n",
       " 'across',\n",
       " 'act',\n",
       " 'acted',\n",
       " 'acting',\n",
       " 'action',\n",
       " 'actionable',\n",
       " 'actions',\n",
       " 'activate',\n",
       " 'activated',\n",
       " 'activates',\n",
       " 'activating',\n",
       " 'activation',\n",
       " 'activator',\n",
       " 'active',\n",
       " 'actively',\n",
       " 'activities',\n",
       " 'activity',\n",
       " 'actor',\n",
       " 'actors',\n",
       " 'acts',\n",
       " 'actual',\n",
       " 'actually',\n",
       " 'actuator',\n",
       " 'actuators',\n",
       " 'ad',\n",
       " 'adapt',\n",
       " 'adaptability',\n",
       " 'adaptable',\n",
       " 'adaptation',\n",
       " 'adapted',\n",
       " 'adapting',\n",
       " 'adaptive',\n",
       " 'adaptively',\n",
       " 'add',\n",
       " 'added',\n",
       " 'adding',\n",
       " 'addition',\n",
       " 'additional',\n",
       " 'additionally',\n",
       " 'address',\n",
       " 'addressable',\n",
       " 'addressed',\n",
       " 'addresses',\n",
       " 'addressing',\n",
       " 'adds',\n",
       " 'adjacent',\n",
       " 'adjust',\n",
       " 'adjustable',\n",
       " 'adjusted',\n",
       " 'adjusting',\n",
       " 'adjustment',\n",
       " 'adjustments',\n",
       " 'adjusts',\n",
       " 'administered',\n",
       " 'administering',\n",
       " 'administration',\n",
       " 'administrative',\n",
       " 'administrator',\n",
       " 'administrators',\n",
       " 'admission',\n",
       " 'adopt',\n",
       " 'adopted',\n",
       " 'adopting',\n",
       " 'adoption',\n",
       " 'adopts',\n",
       " 'ads',\n",
       " 'advance',\n",
       " 'advanced',\n",
       " 'advantage',\n",
       " 'advantageous',\n",
       " 'advantageously',\n",
       " 'advantages',\n",
       " 'adversarial',\n",
       " 'adversary',\n",
       " 'adverse',\n",
       " 'adversely',\n",
       " 'advertised',\n",
       " 'advertisement',\n",
       " 'advertisements',\n",
       " 'advertiser',\n",
       " 'advertisers',\n",
       " 'advertising',\n",
       " 'advice',\n",
       " 'advising',\n",
       " 'advisor',\n",
       " 'aerial',\n",
       " 'aes',\n",
       " 'affairs',\n",
       " 'affect',\n",
       " 'affected',\n",
       " 'affecting',\n",
       " 'affiliated',\n",
       " 'affinity',\n",
       " 'affixed',\n",
       " 'aforementioned',\n",
       " 'after',\n",
       " 'again',\n",
       " 'against',\n",
       " 'age',\n",
       " 'agencies',\n",
       " 'agency',\n",
       " 'agent',\n",
       " 'agents',\n",
       " 'aggregate',\n",
       " 'aggregated',\n",
       " 'aggregates',\n",
       " 'aggregating',\n",
       " 'aggregation',\n",
       " 'aggregations',\n",
       " 'aggregator',\n",
       " 'agnostic',\n",
       " 'agreement',\n",
       " 'agreements',\n",
       " 'agricultural',\n",
       " 'ai',\n",
       " 'aid',\n",
       " 'aided',\n",
       " 'aids',\n",
       " 'aim',\n",
       " 'aimed',\n",
       " 'aiming',\n",
       " 'aims',\n",
       " 'air',\n",
       " 'aircraft',\n",
       " 'airport',\n",
       " 'airspace',\n",
       " 'alarm',\n",
       " 'alarmed',\n",
       " 'alarming',\n",
       " 'alarms',\n",
       " 'alert',\n",
       " 'alerted',\n",
       " 'alerting',\n",
       " 'alerts',\n",
       " 'algorithm',\n",
       " 'algorithmic',\n",
       " 'algorithms',\n",
       " 'alia',\n",
       " 'aligned',\n",
       " 'aligning',\n",
       " 'alignment',\n",
       " 'all',\n",
       " 'alleviate',\n",
       " 'alliance',\n",
       " 'allocate',\n",
       " 'allocated',\n",
       " 'allocates',\n",
       " 'allocating',\n",
       " 'allocation',\n",
       " 'allow',\n",
       " 'allowable',\n",
       " 'allowed',\n",
       " 'allowing',\n",
       " 'allows',\n",
       " 'almost',\n",
       " 'alone',\n",
       " 'along',\n",
       " 'alphabet',\n",
       " 'alphanumeric',\n",
       " 'already',\n",
       " 'als',\n",
       " 'also',\n",
       " 'alter',\n",
       " 'alteration',\n",
       " 'altered',\n",
       " 'altering',\n",
       " 'alternate',\n",
       " 'alternately',\n",
       " 'alternative',\n",
       " 'alternatively',\n",
       " 'altitude',\n",
       " 'always',\n",
       " 'ambient',\n",
       " 'ambiguities',\n",
       " 'ambiguity',\n",
       " 'ambiguous',\n",
       " 'amendment',\n",
       " 'among',\n",
       " 'amongst',\n",
       " 'amount',\n",
       " 'amounts',\n",
       " 'amplification',\n",
       " 'amplitude',\n",
       " 'an',\n",
       " 'analog',\n",
       " 'analyse',\n",
       " 'analysed',\n",
       " 'analyses',\n",
       " 'analysing',\n",
       " 'analysis',\n",
       " 'analyst',\n",
       " 'analysts',\n",
       " 'analytic',\n",
       " 'analytical',\n",
       " 'analytics',\n",
       " 'analyze',\n",
       " 'analyzed',\n",
       " 'analyzer',\n",
       " 'analyzes',\n",
       " 'analyzing',\n",
       " 'anchor',\n",
       " 'and',\n",
       " 'andere',\n",
       " 'android',\n",
       " 'angle',\n",
       " 'angles',\n",
       " 'animal',\n",
       " 'animated',\n",
       " 'animation',\n",
       " 'ann',\n",
       " 'annotated',\n",
       " 'annotating',\n",
       " 'annotation',\n",
       " 'annotations',\n",
       " 'announcement',\n",
       " 'anomalies',\n",
       " 'anomalous',\n",
       " 'anomaly',\n",
       " 'anonymity',\n",
       " 'anonymization',\n",
       " 'anonymized',\n",
       " 'anonymous',\n",
       " 'anonymously',\n",
       " 'another',\n",
       " 'answer',\n",
       " 'answered',\n",
       " 'answering',\n",
       " 'answers',\n",
       " 'antenna',\n",
       " 'antennae',\n",
       " 'antennas',\n",
       " 'anti',\n",
       " 'anticipated',\n",
       " 'antivirus',\n",
       " 'antwort',\n",
       " 'any',\n",
       " 'anyone',\n",
       " 'anytime',\n",
       " 'anywhere',\n",
       " 'anzahl',\n",
       " 'ap',\n",
       " 'apart',\n",
       " 'api',\n",
       " 'apis',\n",
       " 'apk',\n",
       " 'app',\n",
       " 'apparatus',\n",
       " 'apparatuses',\n",
       " 'apparent',\n",
       " 'appear',\n",
       " 'appearance',\n",
       " 'appearing',\n",
       " 'appears',\n",
       " 'appended',\n",
       " 'appliance',\n",
       " 'appliances',\n",
       " 'applicability',\n",
       " 'applicable',\n",
       " 'application',\n",
       " 'applications',\n",
       " 'applied',\n",
       " 'applies',\n",
       " 'apply',\n",
       " 'applying',\n",
       " 'appointment',\n",
       " 'appraisal',\n",
       " 'approach',\n",
       " 'approaches',\n",
       " 'approaching',\n",
       " 'appropriate',\n",
       " 'appropriately',\n",
       " 'approval',\n",
       " 'approve',\n",
       " 'approved',\n",
       " 'approving',\n",
       " 'approximate',\n",
       " 'approximation',\n",
       " 'apps',\n",
       " 'apt',\n",
       " 'ar',\n",
       " 'arbitrarily',\n",
       " 'arbitrary',\n",
       " 'arbitration',\n",
       " 'arc',\n",
       " 'architecture',\n",
       " 'architectures',\n",
       " 'archive',\n",
       " 'archived',\n",
       " 'archives',\n",
       " 'archiving',\n",
       " 'arcs',\n",
       " 'are',\n",
       " 'area',\n",
       " 'areas',\n",
       " 'argument',\n",
       " 'arithmetic',\n",
       " 'arm',\n",
       " 'around',\n",
       " 'arrange',\n",
       " 'arranged',\n",
       " 'arrangement',\n",
       " 'arrangements',\n",
       " 'arranges',\n",
       " 'arranging',\n",
       " 'array',\n",
       " 'arrays',\n",
       " 'arrival',\n",
       " 'arrive',\n",
       " 'arrives',\n",
       " 'arriving',\n",
       " 'arrow',\n",
       " 'art',\n",
       " 'artefact',\n",
       " 'article',\n",
       " 'articles',\n",
       " 'articulamentum',\n",
       " 'artifact',\n",
       " 'artifacts',\n",
       " 'artificial',\n",
       " 'artificially',\n",
       " 'as',\n",
       " 'ascertain',\n",
       " 'ascertaining',\n",
       " 'ask',\n",
       " 'asked',\n",
       " 'asking',\n",
       " 'asks',\n",
       " 'aspect',\n",
       " 'aspects',\n",
       " 'assemble',\n",
       " 'assembled',\n",
       " 'assembling',\n",
       " 'assembly',\n",
       " 'assertion',\n",
       " 'assertions',\n",
       " 'assess',\n",
       " 'assessed',\n",
       " 'assesses',\n",
       " 'assessing',\n",
       " 'assessment',\n",
       " 'assessments',\n",
       " 'asset',\n",
       " 'assets',\n",
       " 'assign',\n",
       " 'assigned',\n",
       " 'assigning',\n",
       " 'assignment',\n",
       " 'assignments',\n",
       " 'assigns',\n",
       " 'assist',\n",
       " 'assistance',\n",
       " 'assistant',\n",
       " 'assistants',\n",
       " 'assisted',\n",
       " 'assisting',\n",
       " 'assists',\n",
       " 'associate',\n",
       " 'associated',\n",
       " 'associates',\n",
       " 'associating',\n",
       " 'association',\n",
       " 'associations',\n",
       " 'associative',\n",
       " 'assumed',\n",
       " 'assuming',\n",
       " 'assurance',\n",
       " 'asymmetric',\n",
       " 'asynchronous',\n",
       " 'at',\n",
       " 'attached',\n",
       " 'attaching',\n",
       " 'attachment',\n",
       " 'attachments',\n",
       " 'attack',\n",
       " 'attacked',\n",
       " 'attacker',\n",
       " 'attackers',\n",
       " 'attacking',\n",
       " 'attacks',\n",
       " 'attained',\n",
       " 'attempt',\n",
       " 'attempted',\n",
       " 'attempting',\n",
       " 'attempts',\n",
       " 'attention',\n",
       " 'attestation',\n",
       " 'attitude',\n",
       " 'attributable',\n",
       " 'attribute',\n",
       " 'attributed',\n",
       " 'attributes',\n",
       " 'attributing',\n",
       " 'attribution',\n",
       " 'atypical',\n",
       " 'au',\n",
       " 'auction',\n",
       " 'audible',\n",
       " 'audience',\n",
       " 'audio',\n",
       " 'audiovisual',\n",
       " 'audit',\n",
       " 'auditing',\n",
       " 'auditory',\n",
       " 'auf',\n",
       " 'aufweisen',\n",
       " 'aufweist',\n",
       " 'augment',\n",
       " 'augmentation',\n",
       " 'augmented',\n",
       " 'augmenting',\n",
       " 'aus',\n",
       " 'ausgeführt',\n",
       " 'ausgewählten',\n",
       " 'auszuführen',\n",
       " 'autgmentability',\n",
       " 'authentic',\n",
       " 'authenticate',\n",
       " 'authenticated',\n",
       " 'authenticates',\n",
       " 'authenticating',\n",
       " 'authentication',\n",
       " 'authenticator',\n",
       " 'authenticity',\n",
       " 'author',\n",
       " 'authored',\n",
       " 'authorities',\n",
       " 'authority',\n",
       " 'authorization',\n",
       " 'authorize',\n",
       " 'authorized',\n",
       " 'authorizes',\n",
       " 'authorizing',\n",
       " 'authors',\n",
       " 'auto',\n",
       " 'autoencoder',\n",
       " 'autoencoders',\n",
       " 'automata',\n",
       " 'automate',\n",
       " 'automated',\n",
       " 'automatic',\n",
       " 'automatically',\n",
       " 'automating',\n",
       " 'automation',\n",
       " 'automaton',\n",
       " 'automobile',\n",
       " 'automotive',\n",
       " 'autonomic',\n",
       " 'autonomous',\n",
       " 'autonomously',\n",
       " 'autonomy',\n",
       " 'auxiliary',\n",
       " 'av',\n",
       " 'availability',\n",
       " 'available',\n",
       " 'avatar',\n",
       " 'avatars',\n",
       " 'average',\n",
       " 'averaged',\n",
       " 'avoid',\n",
       " 'avoided',\n",
       " 'avoiding',\n",
       " 'avoids',\n",
       " 'aware',\n",
       " 'awareness',\n",
       " 'away',\n",
       " 'axes',\n",
       " 'axis',\n",
       " 'back',\n",
       " 'backbone',\n",
       " 'backed',\n",
       " 'backend',\n",
       " 'background',\n",
       " 'backing',\n",
       " 'backup',\n",
       " 'backups',\n",
       " 'backward',\n",
       " 'bad',\n",
       " 'bag',\n",
       " 'balance',\n",
       " 'balanced',\n",
       " 'balancing',\n",
       " 'ballot',\n",
       " 'band',\n",
       " 'bands',\n",
       " 'bandwidth',\n",
       " 'bank',\n",
       " 'banking',\n",
       " 'bar',\n",
       " 'barcode',\n",
       " 'barrier',\n",
       " 'base',\n",
       " 'based',\n",
       " 'baseline',\n",
       " 'bases',\n",
       " 'basic',\n",
       " 'basierend',\n",
       " 'basis',\n",
       " 'batch',\n",
       " 'battery',\n",
       " 'bayesian',\n",
       " 'bb',\n",
       " 'be',\n",
       " 'beacon',\n",
       " 'beam',\n",
       " 'bearing',\n",
       " 'because',\n",
       " 'become',\n",
       " 'becomes',\n",
       " 'been',\n",
       " 'before',\n",
       " 'begin',\n",
       " 'beginning',\n",
       " 'begins',\n",
       " 'behalf',\n",
       " 'behavior',\n",
       " 'behavioral',\n",
       " 'behaviors',\n",
       " 'behaviour',\n",
       " 'behavioural',\n",
       " 'behind',\n",
       " 'bei',\n",
       " 'being',\n",
       " 'beinhaltet',\n",
       " 'belief',\n",
       " 'belong',\n",
       " 'belonging',\n",
       " 'belongs',\n",
       " 'below',\n",
       " 'benchmark',\n",
       " 'beneficial',\n",
       " 'benefit',\n",
       " 'benefits',\n",
       " 'benign',\n",
       " 'benutzer',\n",
       " 'bereitgestellt',\n",
       " 'best',\n",
       " 'bestimmen',\n",
       " 'bestimmt',\n",
       " 'betrifft',\n",
       " 'better',\n",
       " 'between',\n",
       " 'beyond',\n",
       " 'bi',\n",
       " 'bias',\n",
       " 'biases',\n",
       " 'bid',\n",
       " 'bidder',\n",
       " 'bidding',\n",
       " 'bidirectional',\n",
       " 'bids',\n",
       " 'big',\n",
       " 'bill',\n",
       " 'billing',\n",
       " 'bills',\n",
       " 'bimodal',\n",
       " 'binary',\n",
       " 'binding',\n",
       " 'binocular',\n",
       " 'bins',\n",
       " 'bio',\n",
       " 'biological',\n",
       " 'biometric',\n",
       " 'biometrics',\n",
       " 'bios',\n",
       " 'bit',\n",
       " 'bitmap',\n",
       " 'bits',\n",
       " 'black',\n",
       " 'blacklist',\n",
       " 'blank',\n",
       " 'blended',\n",
       " 'blind',\n",
       " 'block',\n",
       " 'blockchain',\n",
       " 'blockchains',\n",
       " 'blocked',\n",
       " 'blocking',\n",
       " 'blocks',\n",
       " 'blog',\n",
       " 'bluetooth',\n",
       " 'blurred',\n",
       " 'board',\n",
       " 'boarding',\n",
       " 'boards',\n",
       " 'bodies',\n",
       " 'body',\n",
       " 'bonded',\n",
       " 'bony',\n",
       " 'book',\n",
       " 'booking',\n",
       " 'bookmark',\n",
       " 'books',\n",
       " 'boolean',\n",
       " 'boosted',\n",
       " 'boosting',\n",
       " 'boot',\n",
       " 'booting',\n",
       " 'bootstrapping',\n",
       " 'border',\n",
       " 'borrower',\n",
       " 'bot',\n",
       " 'both',\n",
       " 'botnet',\n",
       " 'botnets',\n",
       " 'bots',\n",
       " 'bottom',\n",
       " 'bought',\n",
       " 'bound',\n",
       " 'boundaries',\n",
       " 'boundary',\n",
       " 'bounding',\n",
       " 'bounds',\n",
       " 'box',\n",
       " 'boxes',\n",
       " 'bracket',\n",
       " 'brain',\n",
       " 'branch',\n",
       " 'branches',\n",
       " 'brand',\n",
       " 'brands',\n",
       " 'breach',\n",
       " 'breaches',\n",
       " 'break',\n",
       " 'breaker',\n",
       " 'breaking',\n",
       " 'breaks',\n",
       " 'bridge',\n",
       " 'bridges',\n",
       " 'brightness',\n",
       " 'bring',\n",
       " 'bringing',\n",
       " 'brings',\n",
       " 'broad',\n",
       " 'broadband',\n",
       " 'broadcast',\n",
       " 'broadcasted',\n",
       " 'broadcasting',\n",
       " 'broadcasts',\n",
       " 'broken',\n",
       " 'broker',\n",
       " 'brought',\n",
       " 'browse',\n",
       " 'browser',\n",
       " 'browsers',\n",
       " 'browses',\n",
       " 'browsing',\n",
       " 'bucket',\n",
       " 'buckets',\n",
       " 'buckling',\n",
       " 'budget',\n",
       " 'buffer',\n",
       " 'buffering',\n",
       " 'bugs',\n",
       " 'build',\n",
       " 'builder',\n",
       " 'building',\n",
       " 'buildings',\n",
       " 'builds',\n",
       " 'built',\n",
       " 'bulk',\n",
       " 'bundled',\n",
       " 'burden',\n",
       " 'burst',\n",
       " 'bus',\n",
       " 'buses',\n",
       " 'business',\n",
       " 'businesses',\n",
       " 'but',\n",
       " 'button',\n",
       " 'buttons',\n",
       " 'buy',\n",
       " 'buyer',\n",
       " 'buyers',\n",
       " 'buying',\n",
       " 'buys',\n",
       " 'by',\n",
       " 'bypass',\n",
       " 'bypassing',\n",
       " 'byte',\n",
       " 'bytecode',\n",
       " 'bytes',\n",
       " 'ca',\n",
       " 'cable',\n",
       " 'cables',\n",
       " 'cache',\n",
       " 'cached',\n",
       " 'caches',\n",
       " 'caching',\n",
       " 'calculate',\n",
       " 'calculated',\n",
       " 'calculates',\n",
       " 'calculating',\n",
       " 'calculation',\n",
       " 'calculations',\n",
       " 'calculator',\n",
       " 'calendar',\n",
       " 'calibration',\n",
       " 'call',\n",
       " 'called',\n",
       " 'caller',\n",
       " 'callers',\n",
       " 'calling',\n",
       " 'calls',\n",
       " 'camera',\n",
       " 'cameras',\n",
       " 'campaign',\n",
       " 'campaigns',\n",
       " 'campus',\n",
       " 'can',\n",
       " 'cancellation',\n",
       " 'candidate',\n",
       " 'candidates',\n",
       " 'cannot',\n",
       " 'canonical',\n",
       " 'capabilities',\n",
       " 'capability',\n",
       " 'capable',\n",
       " 'capacities',\n",
       " 'capacity',\n",
       " 'capital',\n",
       " 'captcha',\n",
       " 'caption',\n",
       " 'capture',\n",
       " 'captured',\n",
       " 'captures',\n",
       " 'capturing',\n",
       " 'car',\n",
       " 'card',\n",
       " 'cardholder',\n",
       " 'cards',\n",
       " 'care',\n",
       " 'career',\n",
       " 'cargo',\n",
       " 'carried',\n",
       " 'carrier',\n",
       " 'carriers',\n",
       " 'carries',\n",
       " 'carry',\n",
       " 'carrying',\n",
       " 'cars',\n",
       " 'cas',\n",
       " 'cascade',\n",
       " 'cascaded',\n",
       " 'cascading',\n",
       " 'case',\n",
       " 'cases',\n",
       " 'cash',\n",
       " 'catalog',\n",
       " 'catalogs',\n",
       " 'catch',\n",
       " 'categories',\n",
       " 'categorization',\n",
       " 'categorize',\n",
       " 'categorized',\n",
       " 'categorizes',\n",
       " 'categorizing',\n",
       " 'category',\n",
       " 'causality',\n",
       " 'cause',\n",
       " 'caused',\n",
       " 'causes',\n",
       " 'causing',\n",
       " 'cc',\n",
       " 'cctv',\n",
       " 'ce',\n",
       " 'cell',\n",
       " 'cells',\n",
       " 'cellular',\n",
       " 'center',\n",
       " 'centered',\n",
       " 'centers',\n",
       " 'central',\n",
       " 'centralized',\n",
       " 'centrally',\n",
       " 'centre',\n",
       " 'centric',\n",
       " 'centroid',\n",
       " 'certain',\n",
       " 'certainty',\n",
       " 'certificate',\n",
       " 'certificates',\n",
       " 'certification',\n",
       " 'certified',\n",
       " 'certifying',\n",
       " 'chain',\n",
       " 'chains',\n",
       " 'challenge',\n",
       " 'challenges',\n",
       " 'chance',\n",
       " 'change',\n",
       " 'changeable',\n",
       " 'changed',\n",
       " 'changes',\n",
       " 'changing',\n",
       " 'channel',\n",
       " 'channels',\n",
       " 'character',\n",
       " 'characterised',\n",
       " 'characteristic',\n",
       " 'characteristics',\n",
       " 'characterization',\n",
       " 'characterizations',\n",
       " 'characterize',\n",
       " 'characterized',\n",
       " 'characterizes',\n",
       " 'characterizing',\n",
       " 'characters',\n",
       " 'charge',\n",
       " 'chargeback',\n",
       " 'charged',\n",
       " 'charges',\n",
       " 'charging',\n",
       " 'chart',\n",
       " ...]"
      ]
     },
     "execution_count": 178,
     "metadata": {},
     "output_type": "execute_result"
    }
   ],
   "source": [
    "vect.get_feature_names()"
   ]
  },
  {
   "cell_type": "code",
   "execution_count": 179,
   "metadata": {
    "id": "X2lgD7Y04g5x"
   },
   "outputs": [
    {
     "data": {
      "text/plain": [
       "<1x7314 sparse matrix of type '<class 'numpy.int64'>'\n",
       "\twith 39 stored elements in Compressed Sparse Row format>"
      ]
     },
     "execution_count": 179,
     "metadata": {},
     "output_type": "execute_result"
    }
   ],
   "source": [
    "X_train_tok[0,:]"
   ]
  },
  {
   "cell_type": "code",
   "execution_count": 180,
   "metadata": {
    "id": "2mik5K904g51"
   },
   "outputs": [
    {
     "name": "stdout",
     "output_type": "stream",
     "text": [
      "  (0, 370)\t1\n",
      "  (0, 388)\t4\n",
      "  (0, 450)\t1\n",
      "  (0, 606)\t1\n",
      "  (0, 788)\t1\n",
      "  (0, 862)\t4\n",
      "  (0, 1065)\t5\n",
      "  (0, 1226)\t1\n",
      "  (0, 1872)\t2\n",
      "  (0, 2574)\t2\n",
      "  (0, 2581)\t1\n",
      "  (0, 2626)\t1\n",
      "  (0, 2760)\t1\n",
      "  (0, 2761)\t1\n",
      "  (0, 2763)\t1\n",
      "  (0, 2766)\t1\n",
      "  (0, 2873)\t1\n",
      "  (0, 2881)\t1\n",
      "  (0, 3043)\t1\n",
      "  (0, 3317)\t2\n",
      "  (0, 3671)\t1\n",
      "  (0, 3951)\t2\n",
      "  (0, 3967)\t1\n",
      "  (0, 4168)\t1\n",
      "  (0, 4377)\t2\n",
      "  (0, 4702)\t2\n",
      "  (0, 4851)\t1\n",
      "  (0, 5033)\t1\n",
      "  (0, 5152)\t1\n",
      "  (0, 5306)\t2\n",
      "  (0, 5316)\t3\n",
      "  (0, 5609)\t1\n",
      "  (0, 5879)\t7\n",
      "  (0, 5896)\t1\n",
      "  (0, 5952)\t2\n",
      "  (0, 6232)\t1\n",
      "  (0, 6245)\t2\n",
      "  (0, 6460)\t1\n",
      "  (0, 6466)\t1\n"
     ]
    }
   ],
   "source": [
    "print(X_train_tok[0,:])"
   ]
  },
  {
   "cell_type": "markdown",
   "metadata": {
    "id": "nopxC-YP4g54"
   },
   "source": [
    "Some scikit-learn modules implement an inverse_transform method to reconstruct input from their output.\n",
    "Let's print out the feature names and their frequency for a document. Note that frequency info is lost."
   ]
  },
  {
   "cell_type": "code",
   "execution_count": 181,
   "metadata": {
    "id": "zjh8ymz_4g55"
   },
   "outputs": [
    {
     "data": {
      "text/plain": [
       "[array(['an', 'and', 'applying', 'authenticating', 'both', 'by', 'client',\n",
       "        'concatenated', 'disposable', 'from', 'function', 'generated',\n",
       "        'hash', 'hashed', 'hashing', 'having', 'id', 'identifier',\n",
       "        'initialization', 'known', 'method', 'of', 'on', 'password',\n",
       "        'possessed', 'random', 'registered', 'resulting', 'said',\n",
       "        'sequence', 'server', 'storing', 'the', 'therein', 'to', 'valid',\n",
       "        'variable', 'with', 'word'], dtype='<U18')]"
      ]
     },
     "execution_count": 181,
     "metadata": {},
     "output_type": "execute_result"
    }
   ],
   "source": [
    "vect.inverse_transform(X_train_tok[0,:])"
   ]
  },
  {
   "cell_type": "markdown",
   "metadata": {
    "id": "FziDW-YRBGRP"
   },
   "source": [
    "Let's attach frequency data to features"
   ]
  },
  {
   "cell_type": "code",
   "execution_count": 182,
   "metadata": {
    "id": "_gU1QgQx88iR"
   },
   "outputs": [
    {
     "name": "stdout",
     "output_type": "stream",
     "text": [
      "an 1\n",
      "and 4\n",
      "applying 1\n",
      "authenticating 1\n",
      "both 1\n",
      "by 4\n",
      "client 5\n",
      "concatenated 1\n",
      "disposable 2\n",
      "from 2\n",
      "function 1\n",
      "generated 1\n",
      "hash 1\n",
      "hashed 1\n",
      "hashing 1\n",
      "having 1\n",
      "id 1\n",
      "identifier 1\n",
      "initialization 1\n",
      "known 2\n",
      "method 1\n",
      "of 2\n",
      "on 1\n",
      "password 1\n",
      "possessed 2\n",
      "random 2\n",
      "registered 1\n",
      "resulting 1\n",
      "said 1\n",
      "sequence 2\n",
      "server 3\n",
      "storing 1\n",
      "the 7\n",
      "therein 1\n",
      "to 2\n",
      "valid 1\n",
      "variable 2\n",
      "with 1\n",
      "word 1\n"
     ]
    }
   ],
   "source": [
    "for feat,freq in zip(vect.inverse_transform(X_train_tok[0,:])[0],X_train_tok[0,:].data):\n",
    "  print(feat,freq)"
   ]
  },
  {
   "cell_type": "markdown",
   "metadata": {
    "id": "UHFnwDZO7Ucs"
   },
   "source": [
    "## Feature selection\n",
    "\n",
    "This is the first element where we use the labels, because it is a supervised method."
   ]
  },
  {
   "cell_type": "code",
   "execution_count": 183,
   "metadata": {
    "id": "_G6-jLSx4g5-"
   },
   "outputs": [],
   "source": [
    "bin_sel = SelectKBest(chi2, k=5000)  # feature selection\n",
    "bin_sel.fit(X_train_tok,y_train_bin)\n",
    "X_train_sel_bin = bin_sel.transform(X_train_tok)\n",
    "X_test_sel_bin = bin_sel.transform(X_test_tok)"
   ]
  },
  {
   "cell_type": "code",
   "execution_count": 184,
   "metadata": {
    "id": "C_tPAeRm4g6C"
   },
   "outputs": [
    {
     "data": {
      "text/plain": [
       "array([False,  True, False, ..., False,  True,  True])"
      ]
     },
     "execution_count": 184,
     "metadata": {},
     "output_type": "execute_result"
    }
   ],
   "source": [
    "bin_sel.get_support()"
   ]
  },
  {
   "cell_type": "code",
   "execution_count": 185,
   "metadata": {
    "id": "R_PneJ3w4g6G"
   },
   "outputs": [
    {
     "data": {
      "text/plain": [
       "<9970x5000 sparse matrix of type '<class 'numpy.int64'>'\n",
       "\twith 472077 stored elements in Compressed Sparse Row format>"
      ]
     },
     "execution_count": 185,
     "metadata": {},
     "output_type": "execute_result"
    }
   ],
   "source": [
    "X_train_sel_bin"
   ]
  },
  {
   "cell_type": "code",
   "execution_count": 186,
   "metadata": {
    "id": "PcZ-oyJYBlTI"
   },
   "outputs": [
    {
     "data": {
      "text/plain": [
       "<1x5000 sparse matrix of type '<class 'numpy.int64'>'\n",
       "\twith 32 stored elements in Compressed Sparse Row format>"
      ]
     },
     "execution_count": 186,
     "metadata": {},
     "output_type": "execute_result"
    }
   ],
   "source": [
    "X_train_sel_bin[0,:]"
   ]
  },
  {
   "cell_type": "code",
   "execution_count": 187,
   "metadata": {
    "id": "uVS4Y3cr4g6L"
   },
   "outputs": [
    {
     "name": "stdout",
     "output_type": "stream",
     "text": [
      "  (0, 233)\t1\n",
      "  (0, 242)\t4\n",
      "  (0, 386)\t1\n",
      "  (0, 521)\t1\n",
      "  (0, 727)\t5\n",
      "  (0, 827)\t1\n",
      "  (0, 1279)\t2\n",
      "  (0, 1734)\t2\n",
      "  (0, 1739)\t1\n",
      "  (0, 1770)\t1\n",
      "  (0, 1853)\t1\n",
      "  (0, 1856)\t1\n",
      "  (0, 1931)\t1\n",
      "  (0, 1936)\t1\n",
      "  (0, 2045)\t1\n",
      "  (0, 2231)\t2\n",
      "  (0, 2478)\t1\n",
      "  (0, 2664)\t2\n",
      "  (0, 2676)\t1\n",
      "  (0, 2820)\t1\n",
      "  (0, 2969)\t2\n",
      "  (0, 3201)\t2\n",
      "  (0, 3308)\t1\n",
      "  (0, 3515)\t1\n",
      "  (0, 3623)\t2\n",
      "  (0, 3630)\t3\n",
      "  (0, 3844)\t1\n",
      "  (0, 4037)\t7\n",
      "  (0, 4275)\t1\n",
      "  (0, 4284)\t2\n",
      "  (0, 4432)\t1\n",
      "  (0, 4437)\t1\n"
     ]
    }
   ],
   "source": [
    "print(X_train_sel_bin[0,:])"
   ]
  },
  {
   "cell_type": "markdown",
   "metadata": {
    "id": "7Za9mLr17DRm"
   },
   "source": [
    "The feature selection module has an inverse transform method so that we can map selected feature back to the original large feature space"
   ]
  },
  {
   "cell_type": "code",
   "execution_count": 188,
   "metadata": {
    "id": "OBK9OqB0673F"
   },
   "outputs": [
    {
     "data": {
      "text/plain": [
       "<1x7314 sparse matrix of type '<class 'numpy.int64'>'\n",
       "\twith 32 stored elements in Compressed Sparse Column format>"
      ]
     },
     "execution_count": 188,
     "metadata": {},
     "output_type": "execute_result"
    }
   ],
   "source": [
    "bin_sel.inverse_transform(X_train_sel_bin[0,:])"
   ]
  },
  {
   "cell_type": "code",
   "execution_count": 189,
   "metadata": {
    "id": "tDR_BxTG7Ov-"
   },
   "outputs": [
    {
     "name": "stdout",
     "output_type": "stream",
     "text": [
      "[array(['an', 'and', 'authenticating', 'both', 'client', 'concatenated',\n",
      "       'disposable', 'from', 'function', 'generated', 'hashed', 'having',\n",
      "       'id', 'identifier', 'initialization', 'known', 'method', 'of',\n",
      "       'on', 'password', 'possessed', 'random', 'registered', 'said',\n",
      "       'sequence', 'server', 'storing', 'the', 'valid', 'variable',\n",
      "       'with', 'word'], dtype='<U18')]\n"
     ]
    }
   ],
   "source": [
    "print(vect.inverse_transform(bin_sel.inverse_transform(X_train_sel_bin[0,:])))"
   ]
  },
  {
   "cell_type": "markdown",
   "metadata": {
    "id": "2jqGqAmC7P1c"
   },
   "source": [
    "## Weighting"
   ]
  },
  {
   "cell_type": "code",
   "execution_count": 190,
   "metadata": {
    "id": "UdGwiuCW4g6P"
   },
   "outputs": [],
   "source": [
    "tfidf = TfidfTransformer()  # weighting\n",
    "tfidf.fit(X_train_sel_bin)\n",
    "X_train_vec_bin = tfidf.transform(X_train_sel_bin)\n",
    "X_test_vec_bin =tfidf.transform(X_test_sel_bin)"
   ]
  },
  {
   "cell_type": "code",
   "execution_count": 191,
   "metadata": {
    "id": "hL7RI16F4g6R"
   },
   "outputs": [
    {
     "name": "stdout",
     "output_type": "stream",
     "text": [
      "  (0, 4437)\t0.11870564192152047\n",
      "  (0, 4432)\t0.03833626718717423\n",
      "  (0, 4284)\t0.2625343359275649\n",
      "  (0, 4275)\t0.13508789011625466\n",
      "  (0, 4037)\t0.1615430428113228\n",
      "  (0, 3844)\t0.0893228356278042\n",
      "  (0, 3630)\t0.21245865130565886\n",
      "  (0, 3623)\t0.20997711320361134\n",
      "  (0, 3515)\t0.10750602335397783\n",
      "  (0, 3308)\t0.12316213163426466\n",
      "  (0, 3201)\t0.2361828915751481\n",
      "  (0, 2969)\t0.35492603937440637\n",
      "  (0, 2820)\t0.1294482875948872\n",
      "  (0, 2676)\t0.03462464102940085\n",
      "  (0, 2664)\t0.048282834564967736\n",
      "  (0, 2478)\t0.037807885336414\n",
      "  (0, 2231)\t0.21577911550133275\n",
      "  (0, 2045)\t0.1597347952655581\n",
      "  (0, 1936)\t0.10594457754762421\n",
      "  (0, 1931)\t0.12685519123993202\n",
      "  (0, 1856)\t0.08260477115883841\n",
      "  (0, 1853)\t0.17746301968720318\n",
      "  (0, 1770)\t0.07621898659605944\n",
      "  (0, 1739)\t0.0917550344616764\n",
      "  (0, 1734)\t0.083011263882389\n",
      "  (0, 1279)\t0.36404607039777825\n",
      "  (0, 827)\t0.18202303519888913\n",
      "  (0, 727)\t0.42758432389411427\n",
      "  (0, 521)\t0.10788955775066637\n",
      "  (0, 386)\t0.12116912111396187\n",
      "  (0, 242)\t0.09442730423021907\n",
      "  (0, 233)\t0.03475196759185327\n"
     ]
    }
   ],
   "source": [
    "print(X_train_vec_bin[0,:])"
   ]
  },
  {
   "cell_type": "code",
   "execution_count": 192,
   "metadata": {
    "id": "ZQhAOByVBtId"
   },
   "outputs": [
    {
     "name": "stdout",
     "output_type": "stream",
     "text": [
      "an 0.11870564192152047 1\n",
      "and 0.03833626718717423 4\n",
      "authenticating 0.2625343359275649 1\n",
      "both 0.13508789011625466 1\n",
      "client 0.1615430428113228 5\n",
      "concatenated 0.0893228356278042 1\n",
      "disposable 0.21245865130565886 2\n",
      "from 0.20997711320361134 2\n",
      "function 0.10750602335397783 1\n",
      "generated 0.12316213163426466 1\n",
      "hashed 0.2361828915751481 1\n",
      "having 0.35492603937440637 1\n",
      "id 0.1294482875948872 1\n",
      "identifier 0.03462464102940085 1\n",
      "initialization 0.048282834564967736 1\n",
      "known 0.037807885336414 2\n",
      "method 0.21577911550133275 1\n",
      "of 0.1597347952655581 2\n",
      "on 0.10594457754762421 1\n",
      "password 0.12685519123993202 1\n",
      "possessed 0.08260477115883841 2\n",
      "random 0.17746301968720318 2\n",
      "registered 0.07621898659605944 1\n",
      "said 0.0917550344616764 1\n",
      "sequence 0.083011263882389 2\n",
      "server 0.36404607039777825 3\n",
      "storing 0.18202303519888913 1\n",
      "the 0.42758432389411427 7\n",
      "valid 0.10788955775066637 1\n",
      "variable 0.12116912111396187 2\n",
      "with 0.09442730423021907 1\n",
      "word 0.03475196759185327 1\n"
     ]
    }
   ],
   "source": [
    "for feat,weight,freq in zip(vect.inverse_transform(bin_sel.inverse_transform(X_train_vec_bin[0,:]))[0],X_train_vec_bin[0,:].data,X_train_sel_bin[0,:].data):\n",
    "  print(feat,weight,freq)"
   ]
  },
  {
   "cell_type": "markdown",
   "metadata": {
    "id": "YnoJ4nKpCjKI"
   },
   "source": [
    "## Learning algorithm"
   ]
  },
  {
   "cell_type": "code",
   "execution_count": 193,
   "metadata": {
    "id": "S_okA1Ms4g6T"
   },
   "outputs": [],
   "source": [
    "svm_bin = LinearSVC()  # linear svm with default parameters\n",
    "svm_bin_clf = svm_bin.fit(X_train_vec_bin,y_train_bin)\n",
    "bin_predictions = svm_bin_clf.predict(X_test_vec_bin)"
   ]
  },
  {
   "cell_type": "code",
   "execution_count": 194,
   "metadata": {
    "id": "WhprQb044g6X"
   },
   "outputs": [
    {
     "data": {
      "text/plain": [
       "4912"
      ]
     },
     "execution_count": 194,
     "metadata": {},
     "output_type": "execute_result"
    }
   ],
   "source": [
    "len(bin_predictions)"
   ]
  },
  {
   "cell_type": "code",
   "execution_count": 195,
   "metadata": {
    "id": "txJRiT3y4g6Z"
   },
   "outputs": [
    {
     "data": {
      "text/plain": [
       "array([False,  True,  True, ...,  True, False, False])"
      ]
     },
     "execution_count": 195,
     "metadata": {},
     "output_type": "execute_result"
    }
   ],
   "source": [
    "bin_predictions"
   ]
  },
  {
   "cell_type": "markdown",
   "metadata": {
    "id": "4O3PFCjz4g6b"
   },
   "source": [
    "## Evaluation of accuracy"
   ]
  },
  {
   "cell_type": "code",
   "execution_count": 196,
   "metadata": {
    "id": "S-xBzyB24g6b"
   },
   "outputs": [
    {
     "name": "stdout",
     "output_type": "stream",
     "text": [
      "0.7748371335504886\n"
     ]
    }
   ],
   "source": [
    "correct = 0\n",
    "for prediction,true_label in zip(bin_predictions, y_test_bin):\n",
    "    if prediction==true_label:\n",
    "        correct += 1\n",
    "print(correct/len(bin_predictions))"
   ]
  },
  {
   "cell_type": "markdown",
   "metadata": {
    "id": "l_heVYmB4g6e"
   },
   "source": [
    "## Using sklearn pipeline object"
   ]
  },
  {
   "cell_type": "code",
   "execution_count": 197,
   "metadata": {
    "id": "RXKht0yn4g6f"
   },
   "outputs": [
    {
     "name": "stdout",
     "output_type": "stream",
     "text": [
      "0.7734120521172638\n"
     ]
    }
   ],
   "source": [
    "bin_pipeline = Pipeline([\n",
    "    ('vect', CountVectorizer()),  # feature extraction\n",
    "    ('sel', SelectKBest(chi2, k=5000)),  # feature selection\n",
    "    ('tfidf', TfidfTransformer()),  # weighting\n",
    "    ('learner', LinearSVC())  # learning algorithm\n",
    "])\n",
    "\n",
    "bin_pipeline.fit(x_train,y_train_bin)\n",
    "bin_predictions = bin_pipeline.predict(x_test)\n",
    "correct = 0\n",
    "for prediction,true_label in zip(bin_predictions, y_test_bin):\n",
    "    if prediction==true_label:\n",
    "        correct += 1\n",
    "print(correct/len(bin_predictions))"
   ]
  },
  {
   "cell_type": "code",
   "execution_count": 198,
   "metadata": {
    "id": "VJYsmcs-4g6h"
   },
   "outputs": [
    {
     "name": "stdout",
     "output_type": "stream",
     "text": [
      "Classification report:\n",
      "              precision    recall  f1-score   support\n",
      "\n",
      "       False       0.70      0.63      0.66      1718\n",
      "        True       0.81      0.85      0.83      3194\n",
      "\n",
      "    accuracy                           0.77      4912\n",
      "   macro avg       0.75      0.74      0.74      4912\n",
      "weighted avg       0.77      0.77      0.77      4912\n",
      "\n",
      "Confusion matrix:\n",
      "[[1076  642]\n",
      " [ 471 2723]]\n"
     ]
    }
   ],
   "source": [
    "from sklearn.metrics import confusion_matrix, classification_report\n",
    "print('Classification report:')\n",
    "print(classification_report(y_test_bin, bin_predictions))\n",
    "print('Confusion matrix:')\n",
    "cm = confusion_matrix(y_test_bin, bin_predictions)\n",
    "print(cm)"
   ]
  },
  {
   "cell_type": "markdown",
   "metadata": {
    "id": "C5tBkYkQKCx5"
   },
   "source": [
    "## Inspecting the pipeline\n",
    "\n",
    "We can have a look at the parameters of the supervised method of the pipeline to understand how it determines its classification decisions.\n",
    "\n"
   ]
  },
  {
   "cell_type": "code",
   "execution_count": 149,
   "metadata": {
    "id": "JCXw4sBWKGmq"
   },
   "outputs": [],
   "source": [
    "tokenizer = bin_pipeline.named_steps['vect']\n",
    "selector = bin_pipeline.named_steps['sel']\n",
    "classifier = bin_pipeline.named_steps['learner']"
   ]
  },
  {
   "cell_type": "markdown",
   "metadata": {
    "id": "1b7_u7ZdMA40"
   },
   "source": [
    "First we look at the feature selection function.\n",
    "We get the chi^2 score assigned to every feature."
   ]
  },
  {
   "cell_type": "code",
   "execution_count": 150,
   "metadata": {
    "id": "xPkxt22uKFp3"
   },
   "outputs": [
    {
     "data": {
      "text/plain": [
       "28921"
      ]
     },
     "execution_count": 150,
     "metadata": {},
     "output_type": "execute_result"
    }
   ],
   "source": [
    "feature_names = tokenizer.get_feature_names()\n",
    "feats_w_score = list()\n",
    "for index,(selected,score) in enumerate(zip(selector.get_support(),selector.scores_)):\n",
    "    feats_w_score.append((score,selected,feature_names[index]))\n",
    "feats_w_score = sorted(feats_w_score)\n",
    "len(feats_w_score)"
   ]
  },
  {
   "cell_type": "markdown",
   "metadata": {
    "id": "6R8YA5UQMJCN"
   },
   "source": [
    "This are the 100 less and most informative features"
   ]
  },
  {
   "cell_type": "code",
   "execution_count": 151,
   "metadata": {
    "id": "rRfOn0prLXEN"
   },
   "outputs": [
    {
     "data": {
      "text/plain": [
       "([(1.0499603702783994e-05, False, 'prior'),\n",
       "  (1.5603029105104712e-05, False, 'electromagnetic'),\n",
       "  (1.5603029105104712e-05, False, 'operative'),\n",
       "  (1.5603029105104712e-05, False, 'therefrom'),\n",
       "  (5.6638861181300644e-05, False, 'concurrently'),\n",
       "  (5.6638861181300644e-05, False, 'hiding'),\n",
       "  (5.6638861181300644e-05, False, 'lightweight'),\n",
       "  (5.6638861181300644e-05, False, 'limitation'),\n",
       "  (5.6638861181300644e-05, False, 'localized'),\n",
       "  (5.6638861181300644e-05, False, 'rack'),\n",
       "  (5.6638861181300644e-05, False, '단말로'),\n",
       "  (0.00011327772236260129, False, 'lens'),\n",
       "  (0.00019441232471464838, False, 'also'),\n",
       "  (0.00027721326214418044, False, '220'),\n",
       "  (0.00027721326214418044, False, 'allocate'),\n",
       "  (0.00027721326214418044, False, 'ausgewählten'),\n",
       "  (0.00027721326214418044, False, 'digit'),\n",
       "  (0.00027721326214418044, False, 'elapsed'),\n",
       "  (0.00027721326214418044, False, 'games'),\n",
       "  (0.00027721326214418044, False, 'hazard'),\n",
       "  (0.00027721326214418044, False, 'infer'),\n",
       "  (0.00027721326214418044, False, 'preselected'),\n",
       "  (0.00027721326214418044, False, 'reasonably'),\n",
       "  (0.00027721326214418044, False, 'refer'),\n",
       "  (0.00027721326214418044, False, 'safeguarding'),\n",
       "  (0.00027721326214418044, False, 'terminated'),\n",
       "  (0.00027721326214418044, False, 'volumes'),\n",
       "  (0.00027721326214418044, False, 'wants'),\n",
       "  (0.00027721326214418044, False, '이에'),\n",
       "  (0.00027721326214418044, False, '특징'),\n",
       "  (0.0002836373391246421, False, 'aspect'),\n",
       "  (0.00035788175197179993, False, 'by'),\n",
       "  (0.00042782252953108235, False, 'combination'),\n",
       "  (0.0005256041643625645, False, 'associate'),\n",
       "  (0.0005256041643625645, False, 'exception'),\n",
       "  (0.0005256041643625645, False, 'thresholds'),\n",
       "  (0.0005256041643625645, False, 'verifies'),\n",
       "  (0.0005266312372133168, False, 'define'),\n",
       "  (0.0005544265242883609, False, 'acts'),\n",
       "  (0.0005544265242883609, False, 'counts'),\n",
       "  (0.0005544265242883609, False, 'illustrative'),\n",
       "  (0.0005544265242883609, False, 'theft'),\n",
       "  (0.0005544265242883609, False, '유해'),\n",
       "  (0.0006457927605499421, False, 'terminal'),\n",
       "  (0.0007619461191574004, False, 'enables'),\n",
       "  (0.0007894570311340498, False, 'connections'),\n",
       "  (0.0008011807350758013, False, 'performance'),\n",
       "  (0.0008424640961074824, False, 'plurality'),\n",
       "  (0.0009077632967275285, False, '114'),\n",
       "  (0.0009077632967275285, False, 'attributing'),\n",
       "  (0.0009077632967275285, False, 'bereitgestellt'),\n",
       "  (0.0009077632967275285, False, 'cabin'),\n",
       "  (0.0009077632967275285, False, 'decodes'),\n",
       "  (0.0009077632967275285, False, 'designate'),\n",
       "  (0.0009077632967275285, False, 'dump'),\n",
       "  (0.0009077632967275285, False, 'guides'),\n",
       "  (0.0009077632967275285, False, 'hooking'),\n",
       "  (0.0009077632967275285, False, 'indirectly'),\n",
       "  (0.0009077632967275285, False, 'lifecycle'),\n",
       "  (0.0009077632967275285, False, 'malignant'),\n",
       "  (0.0009077632967275285, False, 'moves'),\n",
       "  (0.0009077632967275285, False, 'nth'),\n",
       "  (0.0009077632967275285, False, 'practicability'),\n",
       "  (0.0009077632967275285, False, 'reconstructing'),\n",
       "  (0.0009077632967275285, False, 'reveal'),\n",
       "  (0.0009077632967275285, False, 'seamless'),\n",
       "  (0.0009077632967275285, False, 'technological'),\n",
       "  (0.0009077632967275285, False, 'threaten'),\n",
       "  (0.0009077632967275285, False, '그리고'),\n",
       "  (0.0009077632967275285, False, '단말기를'),\n",
       "  (0.0009077632967275285, False, '새로운'),\n",
       "  (0.0009077632967275285, False, '수행할'),\n",
       "  (0.0009077632967275285, False, '장치로부터'),\n",
       "  (0.0009975906880452538, False, 'modules'),\n",
       "  (0.001051208328725129, False, '하나'),\n",
       "  (0.0011999642730335437, False, 'multidimensional'),\n",
       "  (0.0013860663107209113, False, 'parts'),\n",
       "  (0.0018117871471586607, False, 'implementing'),\n",
       "  (0.001815526593455057, False, 'contexts'),\n",
       "  (0.001815526593455057, False, 'erfindung'),\n",
       "  (0.001815526593455057, False, 'generalized'),\n",
       "  (0.001815526593455057, False, 'handheld'),\n",
       "  (0.001815526593455057, False, 'magnitude'),\n",
       "  (0.001815526593455057, False, 'operably'),\n",
       "  (0.001815526593455057, False, 'redundant'),\n",
       "  (0.001815526593455057, False, '결과를'),\n",
       "  (0.001815526593455057, False, '이상'),\n",
       "  (0.001815526593455057, False, '해킹'),\n",
       "  (0.0019404928350092484, False, 'near'),\n",
       "  (0.0019628566254501793, False, 'grade'),\n",
       "  (0.0019628566254501793, False, 'virtualized'),\n",
       "  (0.0020752216574676805, False, 'low'),\n",
       "  (0.0022177060971534436, False, 'contained'),\n",
       "  (0.0022177060971534436, False, 'how'),\n",
       "  (0.0026537257583108204, False, '101'),\n",
       "  (0.0026537257583108204, False, 'circle'),\n",
       "  (0.0026537257583108204, False, 'feeding'),\n",
       "  (0.0026537257583108204, False, 'listing'),\n",
       "  (0.0026537257583108204, False, 'regard'),\n",
       "  (0.0027085068578278472, False, 'extended')],\n",
       " [(94.12937990402048, True, 'recipient'),\n",
       "  (94.14812288036175, True, 'endpoints'),\n",
       "  (94.72090824636268, True, 'interworking'),\n",
       "  (95.36705429886209, True, 'id'),\n",
       "  (95.56992210774433, True, 'transaction'),\n",
       "  (97.52161190683799, True, 'method'),\n",
       "  (97.88363404699606, True, 'software'),\n",
       "  (97.98017634126562, True, 'and'),\n",
       "  (98.23918503314638, True, 'machine'),\n",
       "  (99.75962575323067, True, 'flows'),\n",
       "  (105.19022498307058, True, 'membership'),\n",
       "  (105.5856511449997, True, 'dimensional'),\n",
       "  (106.48059084723268, True, 'object'),\n",
       "  (108.40691478767957, True, 'dns'),\n",
       "  (108.61576282458152, True, 'internet'),\n",
       "  (109.05665893534555, True, 'television'),\n",
       "  (109.60011915420155, True, 'purchase'),\n",
       "  (110.20433015542159, True, 'word'),\n",
       "  (110.61550621854506, True, 'phishing'),\n",
       "  (112.51541336944922, True, 'prediction'),\n",
       "  (114.32707650568702, True, 'endpoint'),\n",
       "  (114.49824793773632, True, 'input'),\n",
       "  (115.7370706024395, True, 'encrypted'),\n",
       "  (116.65624331748029, True, 'recognition'),\n",
       "  (116.7772809100687, True, 'request'),\n",
       "  (117.34970151900244, True, 'article'),\n",
       "  (117.75207528747514, True, 'vector'),\n",
       "  (123.84661779195389, True, 'router'),\n",
       "  (123.9225568374153, True, 'routing'),\n",
       "  (124.12865852937631, True, 'email'),\n",
       "  (124.69834365755423, True, 'broadcast'),\n",
       "  (124.85036371924888, True, 'face'),\n",
       "  (127.4788169240556, True, 'learning'),\n",
       "  (128.0776648986373, True, 'feature'),\n",
       "  (128.59182777373184, True, 'messages'),\n",
       "  (129.21845843219452, True, 'transmitting'),\n",
       "  (136.14480289302614, True, 'server'),\n",
       "  (140.83042696883683, True, 'threats'),\n",
       "  (141.43549754786918, True, 'query'),\n",
       "  (141.59490377942754, True, 'language'),\n",
       "  (141.82419969579377, True, 'channel'),\n",
       "  (145.43951990849703, True, 'communications'),\n",
       "  (148.25368831030144, True, 'text'),\n",
       "  (148.2675434398378, True, 'caller'),\n",
       "  (150.36208306272624, True, 'address'),\n",
       "  (151.17933164134251, True, 'product'),\n",
       "  (151.22434938400443, True, 'advertisement'),\n",
       "  (156.88508026813247, True, 'database'),\n",
       "  (165.7897746370612, True, 'gateway'),\n",
       "  (166.74228426475977, True, 'connection'),\n",
       "  (167.95612671254452, True, 'search'),\n",
       "  (168.59805714218, True, 'firewall'),\n",
       "  (168.89389526600513, True, 'encryption'),\n",
       "  (172.34973658101427, True, 'home'),\n",
       "  (173.83509362184304, True, 'name'),\n",
       "  (174.84363781395416, True, 'transmission'),\n",
       "  (176.7363031039208, True, 'service'),\n",
       "  (179.0855170380727, True, 'intrusion'),\n",
       "  (181.10956099439454, True, 'signal'),\n",
       "  (182.58898025464552, True, 'telephone'),\n",
       "  (183.16522212325293, True, 'session'),\n",
       "  (185.08384119378874, True, 'invention'),\n",
       "  (186.55149270902393, True, 'station'),\n",
       "  (197.7655238811086, True, 'domain'),\n",
       "  (201.22216829559602, True, 'file'),\n",
       "  (201.40208532765735, True, 'video'),\n",
       "  (201.57390734742916, True, 'training'),\n",
       "  (202.30975000432028, True, 'cyber'),\n",
       "  (205.8688373328992, True, 'sample'),\n",
       "  (208.75668676440606, True, 'ip'),\n",
       "  (213.92302089627344, True, 'protocol'),\n",
       "  (218.63078651296104, True, 'neural'),\n",
       "  (219.36319952851943, True, 'code'),\n",
       "  (219.3763139564336, True, 'document'),\n",
       "  (223.40668317188786, True, 'anomaly'),\n",
       "  (225.96393438835722, True, 'client'),\n",
       "  (226.45726767780627, True, 'iot'),\n",
       "  (242.11170176571653, True, 'flow'),\n",
       "  (252.94409189361912, True, 'call'),\n",
       "  (259.5659198940294, True, 'of'),\n",
       "  (272.20011347135755, True, 'authentication'),\n",
       "  (276.24452716007454, True, 'node'),\n",
       "  (288.35105870255967, True, 'devices'),\n",
       "  (289.4733868666811, True, 'packets'),\n",
       "  (300.6951705861471, True, 'threat'),\n",
       "  (331.3501778182544, True, 'information'),\n",
       "  (344.4733179574363, True, 'key'),\n",
       "  (372.51397322025196, True, 'payment'),\n",
       "  (379.9670226621338, True, 'model'),\n",
       "  (410.64212003794364, True, 'attack'),\n",
       "  (446.130912747848, True, 'access'),\n",
       "  (461.1184512715563, True, 'message'),\n",
       "  (504.02203173034866, True, 'wireless'),\n",
       "  (514.0461797323052, True, 'image'),\n",
       "  (528.4326456522024, True, 'packet'),\n",
       "  (645.8696757303393, True, 'communication'),\n",
       "  (690.2658786052118, True, 'security'),\n",
       "  (783.436628574505, True, 'device'),\n",
       "  (922.9463680369918, True, 'traffic'),\n",
       "  (2395.4600815901667, True, 'network')])"
      ]
     },
     "execution_count": 151,
     "metadata": {},
     "output_type": "execute_result"
    }
   ],
   "source": [
    "feats_w_score[:100],feats_w_score[-100:]"
   ]
  },
  {
   "cell_type": "markdown",
   "metadata": {
    "id": "tvMEnIUIMPOS"
   },
   "source": [
    "Then we look at the parameters of the linear classification model.\n",
    "Values with highest absolute values are those which contribute the most to the classification decision. Values close to zero are less important."
   ]
  },
  {
   "cell_type": "code",
   "execution_count": 152,
   "metadata": {
    "id": "3Vh7f5gjLXbq"
   },
   "outputs": [
    {
     "data": {
      "text/plain": [
       "4957"
      ]
     },
     "execution_count": 152,
     "metadata": {},
     "output_type": "execute_result"
    }
   ],
   "source": [
    "feats_w_classifier_weight = list()\n",
    "for index,weight in enumerate(selector.inverse_transform(classifier.coef_)[0]):\n",
    "    if weight!=0:\n",
    "        feats_w_classifier_weight.append((weight,feature_names[index]))\n",
    "feats_w_classifier_weight = sorted(feats_w_classifier_weight)\n",
    "len(feats_w_classifier_weight)"
   ]
  },
  {
   "cell_type": "markdown",
   "metadata": {
    "id": "oGTRTJUBNV1U"
   },
   "source": [
    "These are the feature that most contribute to a positive decision"
   ]
  },
  {
   "cell_type": "code",
   "execution_count": 153,
   "metadata": {
    "id": "xLTtt2XfLW0X"
   },
   "outputs": [
    {
     "data": {
      "text/plain": [
       "[(1.046849775115165, 'piece'),\n",
       " (1.0495550540567105, 'qualifying'),\n",
       " (1.050692904816471, 'discriminator'),\n",
       " (1.0525053168805685, 'applied'),\n",
       " (1.0531476053263282, '100'),\n",
       " (1.062007752758507, 'avatar'),\n",
       " (1.0628936765716415, 'cues'),\n",
       " (1.0629870098807936, '악성'),\n",
       " (1.067159085016332, 'conducting'),\n",
       " (1.068401708255899, 'coordinate'),\n",
       " (1.070556278778731, 'forecast'),\n",
       " (1.0706442360854953, 'discussions'),\n",
       " (1.0720620007353354, 'lineage'),\n",
       " (1.0727234118520628, 'resolves'),\n",
       " (1.0752503407854401, 'financial'),\n",
       " (1.082391633074612, 'weather'),\n",
       " (1.089101314671491, 'capabilities'),\n",
       " (1.0920794592038665, 'error'),\n",
       " (1.0938383851479576, 'intensive'),\n",
       " (1.1007260741550586, 'bids'),\n",
       " (1.1039886330620845, 'nfa'),\n",
       " (1.1056089621470522, '발명의'),\n",
       " (1.1124838129169936, 'sentence'),\n",
       " (1.1137933891997394, 'sampled'),\n",
       " (1.1148374997696056, 'wind'),\n",
       " (1.1193506245270355, 'task'),\n",
       " (1.1245757792747262, 'bid'),\n",
       " (1.1254209580004009, 'alignment'),\n",
       " (1.1284555830484946, 'autonomic'),\n",
       " (1.1332751134915608, 'workflows'),\n",
       " (1.1374781109427634, 'modifications'),\n",
       " (1.1374792889763137, 'advertising'),\n",
       " (1.1396222723340357, 'upgrading'),\n",
       " (1.1451652762265432, 'orientation'),\n",
       " (1.1455545244080403, 'promoter'),\n",
       " (1.1472820072549381, 'instructions'),\n",
       " (1.1509871759177448, '40'),\n",
       " (1.1518105649702195, 'matrix'),\n",
       " (1.1534795879179662, 'click'),\n",
       " (1.1542957984278204, 'conduct'),\n",
       " (1.1654387379219113, 'currency'),\n",
       " (1.173924885722549, 'persons'),\n",
       " (1.1763447679659318, 'missing'),\n",
       " (1.1782461911717814, 'express'),\n",
       " (1.1827267214798185, 'retention'),\n",
       " (1.1848868075548682, 'pull'),\n",
       " (1.214498027949253, 'mask'),\n",
       " (1.2184800853606876, 'finger'),\n",
       " (1.2224491449968318, 'programmable'),\n",
       " (1.2359832094508343, 'introduction'),\n",
       " (1.241431280960651, 'compliance'),\n",
       " (1.243940710787807, 'layout'),\n",
       " (1.2476348470705763, 'auto'),\n",
       " (1.258413672500563, 'reflected'),\n",
       " (1.2650864261130907, 'effective'),\n",
       " (1.2667865731726662, 'gesture'),\n",
       " (1.2688322870236832, 'chunks'),\n",
       " (1.2715815327196711, 'must'),\n",
       " (1.281870143288035, 'vessel'),\n",
       " (1.2846857753524752, 'voter'),\n",
       " (1.295909207248257, 'stereo'),\n",
       " (1.2980245163865332, 'grouped'),\n",
       " (1.3051045117500424, 'weaknesses'),\n",
       " (1.324224169786826, 'bitstream'),\n",
       " (1.3409528166162588, 'accident'),\n",
       " (1.3445619387637155, 'influence'),\n",
       " (1.346483347678336, 'interesting'),\n",
       " (1.3781457843458937, 'neural'),\n",
       " (1.3813621881336442, 'graphics'),\n",
       " (1.3866142588102768, 'student'),\n",
       " (1.388159760491687, 'issuing'),\n",
       " (1.3993344869667634, 'license'),\n",
       " (1.4003810436236248, 'sale'),\n",
       " (1.4070836583849513, 'snapshots'),\n",
       " (1.4189711705392536, 'bus'),\n",
       " (1.420089835734322, 'auf'),\n",
       " (1.4311282973212363, 'database'),\n",
       " (1.4386639194317552, 'foundation'),\n",
       " (1.4419580375914822, 'interpretation'),\n",
       " (1.449807336302904, 'participation'),\n",
       " (1.451128778566714, 'people'),\n",
       " (1.4691145627490507, 'enabling'),\n",
       " (1.4881422322344735, 'authority'),\n",
       " (1.489720067837771, 'interview'),\n",
       " (1.4920729468972647, 'launch'),\n",
       " (1.499989272599906, 'marketing'),\n",
       " (1.5012215791991501, 'spaces'),\n",
       " (1.5265634161840413, 'involvement'),\n",
       " (1.527426834250992, 'screening'),\n",
       " (1.538503897159282, 'relevancy'),\n",
       " (1.5905696114676215, 'goods'),\n",
       " (1.6001866505416047, 'published'),\n",
       " (1.6041685343914696, 'antivirus'),\n",
       " (1.6192860225909431, 'banking'),\n",
       " (1.6383875554447656, 'limit'),\n",
       " (1.6663116177147954, 'reward'),\n",
       " (1.668306585152506, 'pc'),\n",
       " (1.7222279652220034, 'failures'),\n",
       " (1.7459032359281592, 'payment'),\n",
       " (1.7952983096932458, 'reader')]"
      ]
     },
     "execution_count": 153,
     "metadata": {},
     "output_type": "execute_result"
    }
   ],
   "source": [
    "feats_w_classifier_weight[-100:]"
   ]
  },
  {
   "cell_type": "markdown",
   "metadata": {
    "id": "Ma0lTZK6NbTu"
   },
   "source": [
    "These are the features that most contribute to a negative decision."
   ]
  },
  {
   "cell_type": "code",
   "execution_count": 154,
   "metadata": {
    "id": "dT9TNnfLNeSO"
   },
   "outputs": [
    {
     "data": {
      "text/plain": [
       "[(-1.9064797012468377, 'television'),\n",
       " (-1.8817840845028113, 'shooting'),\n",
       " (-1.8339057503610863, 'fingerprinting'),\n",
       " (-1.7727677154037347, 'tv'),\n",
       " (-1.7208736293688627, 'decoy'),\n",
       " (-1.7092549260513634, 'injected'),\n",
       " (-1.6353883879856157, 'authorisation'),\n",
       " (-1.628043983343766, 'cyberthreat'),\n",
       " (-1.6099334212393934, 'motions'),\n",
       " (-1.595772506556672, 'home'),\n",
       " (-1.5859559835569765, 'honeypot'),\n",
       " (-1.5792496060106833, 'phishing'),\n",
       " (-1.575766369249608, 'characterizes'),\n",
       " (-1.5724686697142638, 'publicly'),\n",
       " (-1.5703413626095286, 'encrypting'),\n",
       " (-1.5471414699498403, 'correlated'),\n",
       " (-1.5311146561026545, 'network'),\n",
       " (-1.5303432736052838, 'endpoints'),\n",
       " (-1.5027572319277338, 'telecommunications'),\n",
       " (-1.5025349012455622, 'multifunctional'),\n",
       " (-1.5012197241055076, 'username'),\n",
       " (-1.4909574423159204, 'intrusion'),\n",
       " (-1.4352400462281316, 'viewing'),\n",
       " (-1.4153820691952113, 'tendency'),\n",
       " (-1.4044368750644387, 'characterizations'),\n",
       " (-1.3944801035782146, '360'),\n",
       " (-1.3810665822911483, 'remedial'),\n",
       " (-1.3778684076149799, 'whitelist'),\n",
       " (-1.3666401181215801, 'caption'),\n",
       " (-1.362382125062629, 'policies'),\n",
       " (-1.358906097019835, 'telephonic'),\n",
       " (-1.3527646846422965, 'successive'),\n",
       " (-1.3498523868073569, 'illegitimate'),\n",
       " (-1.3387889234025203, 'preemptively'),\n",
       " (-1.3295464232151806, 'ipv6'),\n",
       " (-1.3284978783596277, 'conference'),\n",
       " (-1.326405396383359, 'decode'),\n",
       " (-1.3235086242386582, 'topology'),\n",
       " (-1.320419199231675, 'splitting'),\n",
       " (-1.319817574022628, 'attacked'),\n",
       " (-1.3188338863517424, 'disposable'),\n",
       " (-1.3038188459136613, 'tokenized'),\n",
       " (-1.3031348629543495, 'firewall'),\n",
       " (-1.292952906656434, 'compatible'),\n",
       " (-1.2923348982900453, 'cybersecurity'),\n",
       " (-1.2788108069132853, 'av'),\n",
       " (-1.265012323346501, 'pink'),\n",
       " (-1.2581356765801681, 'ran'),\n",
       " (-1.2540800267961534, 'bot'),\n",
       " (-1.2238183045494193, 'attached'),\n",
       " (-1.2088849311466348, 'caller'),\n",
       " (-1.2011060513309402, 'offender'),\n",
       " (-1.2009979728808744, 'allowing'),\n",
       " (-1.199251335607961, 'geolocation'),\n",
       " (-1.1937832272496067, 'cancellation'),\n",
       " (-1.192603551611219, 'safeguard'),\n",
       " (-1.1852785293099772, 'sheet'),\n",
       " (-1.1822724746424007, 'zones'),\n",
       " (-1.1811550351588291, 'hashes'),\n",
       " (-1.178684913191112, 'supplemental'),\n",
       " (-1.1705036278247423, 'cyberattack'),\n",
       " (-1.1673182186435995, 'denial'),\n",
       " (-1.1669991824071981, 'puf'),\n",
       " (-1.1663140802766094, 'carry'),\n",
       " (-1.1652635405249403, 'evaluating'),\n",
       " (-1.1625292785485266, 'packet'),\n",
       " (-1.162383020918039, 'tutorial'),\n",
       " (-1.1617809851890548, 'operable'),\n",
       " (-1.1574034087038747, 'listings'),\n",
       " (-1.1551951509413703, 'dtds'),\n",
       " (-1.15434628943677, 'connect'),\n",
       " (-1.1518719329913114, 'followed'),\n",
       " (-1.1504202720570125, 'anomaly'),\n",
       " (-1.1484501516917636, 'proactive'),\n",
       " (-1.148426903941441, 'authorizes'),\n",
       " (-1.1448275414049642, 'v2x'),\n",
       " (-1.141650010825351, 'speech'),\n",
       " (-1.1398967109448463, 'dsl'),\n",
       " (-1.1385516734110102, 'elevated'),\n",
       " (-1.1368320184097378, 'pu'),\n",
       " (-1.1337574244445432, 'signing'),\n",
       " (-1.1315508339347893, 'convert'),\n",
       " (-1.1312475611854, 'prescribed'),\n",
       " (-1.1304139282283185, 'enrichment'),\n",
       " (-1.1303534585664554, 'nginx'),\n",
       " (-1.1256346167306688, 'aggregates'),\n",
       " (-1.1238958816005038, 'stage'),\n",
       " (-1.1228834217960306, 'applet'),\n",
       " (-1.1223762729162001, 'reporting'),\n",
       " (-1.121170647906293, 'remnant'),\n",
       " (-1.1202772772480485, 'forth'),\n",
       " (-1.118472061363325, 'own'),\n",
       " (-1.1159414342564227, 'broadcast'),\n",
       " (-1.1130235535081512, 'browsing'),\n",
       " (-1.1128027387111916, 'telephone'),\n",
       " (-1.1075474038736872, 'did'),\n",
       " (-1.1052993438847079, 'manipulated'),\n",
       " (-1.1038432031137413, 'playback'),\n",
       " (-1.1031342186952395, 'station'),\n",
       " (-1.100549060409216, 'schemes')]"
      ]
     },
     "execution_count": 154,
     "metadata": {},
     "output_type": "execute_result"
    }
   ],
   "source": [
    "feats_w_classifier_weight[:100]"
   ]
  },
  {
   "cell_type": "markdown",
   "metadata": {
    "id": "ZJ8qwGxGKlFG"
   },
   "source": [
    "## Testing other classifiers\n",
    "\n",
    "### Decision tree"
   ]
  },
  {
   "cell_type": "code",
   "execution_count": 155,
   "metadata": {
    "id": "qSUxX-ykKqJM"
   },
   "outputs": [
    {
     "name": "stdout",
     "output_type": "stream",
     "text": [
      "Classification report:\n",
      "              precision    recall  f1-score   support\n",
      "\n",
      "       False       0.54      0.56      0.55      1718\n",
      "        True       0.76      0.75      0.75      3194\n",
      "\n",
      "    accuracy                           0.68      4912\n",
      "   macro avg       0.65      0.65      0.65      4912\n",
      "weighted avg       0.68      0.68      0.68      4912\n",
      "\n",
      "Confusion matrix:\n",
      "[[ 957  761]\n",
      " [ 810 2384]]\n"
     ]
    }
   ],
   "source": [
    "dt_bin_pipeline = Pipeline([\n",
    "    ('vect', CountVectorizer()),  # feature extraction\n",
    "    ('sel', SelectKBest(chi2, k=5000)),  # feature selection\n",
    "    ('tfidf', TfidfTransformer()),  # weighting\n",
    "    ('learner', DecisionTreeClassifier())  # learning algorithm\n",
    "])\n",
    "\n",
    "dt_bin_pipeline.fit(x_train,y_train_bin)\n",
    "bin_predictions = dt_bin_pipeline.predict(x_test)\n",
    "\n",
    "print('Classification report:')\n",
    "print(classification_report(y_test_bin, bin_predictions))\n",
    "print('Confusion matrix:')\n",
    "cm = confusion_matrix(y_test_bin, bin_predictions)\n",
    "print(cm)"
   ]
  },
  {
   "cell_type": "markdown",
   "metadata": {
    "id": "h-QPQUXSRIf0"
   },
   "source": [
    "We can try to visualize the tree, but there are too many dimension to have a structure that is really inspectable (I'm referring to the font size, but to the number of nodes of the tree!).\n",
    "\n",
    "DT visualization works on low dimensional data (see https://scikit-learn.org/stable/modules/tree.html#classification)"
   ]
  },
  {
   "cell_type": "code",
   "execution_count": 88,
   "metadata": {
    "id": "fhxd-9zGOL7M"
   },
   "outputs": [
    {
     "name": "stderr",
     "output_type": "stream",
     "text": [
      "In C:\\Users\\carlo\\Anaconda3\\lib\\site-packages\\matplotlib\\mpl-data\\stylelib\\_classic_test.mplstyle: \n",
      "The text.latex.preview rcparam was deprecated in Matplotlib 3.3 and will be removed two minor releases later.\n",
      "In C:\\Users\\carlo\\Anaconda3\\lib\\site-packages\\matplotlib\\mpl-data\\stylelib\\_classic_test.mplstyle: \n",
      "The mathtext.fallback_to_cm rcparam was deprecated in Matplotlib 3.3 and will be removed two minor releases later.\n",
      "In C:\\Users\\carlo\\Anaconda3\\lib\\site-packages\\matplotlib\\mpl-data\\stylelib\\_classic_test.mplstyle: Support for setting the 'mathtext.fallback_to_cm' rcParam is deprecated since 3.3 and will be removed two minor releases later; use 'mathtext.fallback : 'cm' instead.\n",
      "In C:\\Users\\carlo\\Anaconda3\\lib\\site-packages\\matplotlib\\mpl-data\\stylelib\\_classic_test.mplstyle: \n",
      "The validate_bool_maybe_none function was deprecated in Matplotlib 3.3 and will be removed two minor releases later.\n",
      "In C:\\Users\\carlo\\Anaconda3\\lib\\site-packages\\matplotlib\\mpl-data\\stylelib\\_classic_test.mplstyle: \n",
      "The savefig.jpeg_quality rcparam was deprecated in Matplotlib 3.3 and will be removed two minor releases later.\n",
      "In C:\\Users\\carlo\\Anaconda3\\lib\\site-packages\\matplotlib\\mpl-data\\stylelib\\_classic_test.mplstyle: \n",
      "The keymap.all_axes rcparam was deprecated in Matplotlib 3.3 and will be removed two minor releases later.\n",
      "In C:\\Users\\carlo\\Anaconda3\\lib\\site-packages\\matplotlib\\mpl-data\\stylelib\\_classic_test.mplstyle: \n",
      "The animation.avconv_path rcparam was deprecated in Matplotlib 3.3 and will be removed two minor releases later.\n",
      "In C:\\Users\\carlo\\Anaconda3\\lib\\site-packages\\matplotlib\\mpl-data\\stylelib\\_classic_test.mplstyle: \n",
      "The animation.avconv_args rcparam was deprecated in Matplotlib 3.3 and will be removed two minor releases later.\n"
     ]
    },
    {
     "data": {
      "text/plain": [
       "<Figure size 2400x2400 with 1 Axes>"
      ]
     },
     "metadata": {},
     "output_type": "display_data"
    }
   ],
   "source": [
    "from sklearn.tree import plot_tree\n",
    "import matplotlib.pyplot as plt\n",
    "fig, ax = plt.subplots(figsize=(24, 24))\n",
    "plot_tree(dt_bin_pipeline.named_steps['learner'])\n",
    "plt.show()"
   ]
  },
  {
   "cell_type": "markdown",
   "metadata": {
    "id": "I-A-GRT2Rpx6"
   },
   "source": [
    "### Naive Bayes\n",
    "\n",
    "NB uses a multinomial model based on term frequencies, we can skip the tfidf module."
   ]
  },
  {
   "cell_type": "code",
   "execution_count": 156,
   "metadata": {
    "id": "Z07gZuFtRrHg"
   },
   "outputs": [
    {
     "name": "stdout",
     "output_type": "stream",
     "text": [
      "Classification report:\n",
      "              precision    recall  f1-score   support\n",
      "\n",
      "       False       0.65      0.76      0.70      1718\n",
      "        True       0.86      0.78      0.81      3194\n",
      "\n",
      "    accuracy                           0.77      4912\n",
      "   macro avg       0.75      0.77      0.76      4912\n",
      "weighted avg       0.78      0.77      0.77      4912\n",
      "\n",
      "Confusion matrix:\n",
      "[[1299  419]\n",
      " [ 710 2484]]\n"
     ]
    }
   ],
   "source": [
    "nb_bin_pipeline = Pipeline([\n",
    "    ('vect', CountVectorizer()),  # feature extraction\n",
    "    ('sel', SelectKBest(chi2, k=5000)),  # feature selection\n",
    "    ('learner', MultinomialNB())  # learning algorithm\n",
    "])\n",
    "\n",
    "nb_bin_pipeline.fit(x_train,y_train_bin)\n",
    "bin_predictions = nb_bin_pipeline.predict(x_test)\n",
    "\n",
    "print('Classification report:')\n",
    "print(classification_report(y_test_bin, bin_predictions))\n",
    "print('Confusion matrix:')\n",
    "cm = confusion_matrix(y_test_bin, bin_predictions)\n",
    "print(cm)"
   ]
  },
  {
   "cell_type": "code",
   "execution_count": 157,
   "metadata": {
    "id": "b2P0xp4KRqYp"
   },
   "outputs": [],
   "source": [
    "tokenizer = nb_bin_pipeline.named_steps['vect']\n",
    "selector = nb_bin_pipeline.named_steps['sel']\n",
    "classifier = nb_bin_pipeline.named_steps['learner']\n"
   ]
  },
  {
   "cell_type": "markdown",
   "metadata": {
    "id": "vza7RhZwUruQ"
   },
   "source": [
    "NB model stores log values of priors and likelihoods"
   ]
  },
  {
   "cell_type": "code",
   "execution_count": 158,
   "metadata": {
    "id": "AWviX39KUpfS"
   },
   "outputs": [
    {
     "data": {
      "text/plain": [
       "(array([-1.02365928, -0.44515935]),\n",
       " array([[ -9.42161213, -10.84872849,  -8.83382547, ..., -11.2541936 ,\n",
       "         -12.64048796, -11.03105004],\n",
       "        [ -8.67357467, -12.14967336, -10.02940982, ..., -13.24828564,\n",
       "         -10.94570055, -13.24828564]]),\n",
       " 5000)"
      ]
     },
     "execution_count": 158,
     "metadata": {},
     "output_type": "execute_result"
    }
   ],
   "source": [
    "classifier.class_log_prior_,classifier.feature_log_prob_, len(classifier.feature_log_prob_[0])"
   ]
  },
  {
   "cell_type": "markdown",
   "metadata": {
    "id": "NliswasKUpJf"
   },
   "source": [
    "In NB a key factor for decision is the ratio between the likelihood for positive and negative decision.\n",
    "\n",
    "The next cell exploits numpy to perform element-by-element division between log probabilities of p(w|class=1) and p(w|class=0), producing a vector of such ratios."
   ]
  },
  {
   "cell_type": "code",
   "execution_count": 159,
   "metadata": {
    "id": "FnNFViKlWd2Z"
   },
   "outputs": [],
   "source": [
    "ratio = classifier.feature_log_prob_[0]/classifier.feature_log_prob_[1]"
   ]
  },
  {
   "cell_type": "code",
   "execution_count": 160,
   "metadata": {
    "id": "Fl26kPT-VcZR"
   },
   "outputs": [
    {
     "data": {
      "text/plain": [
       "5000"
      ]
     },
     "execution_count": 160,
     "metadata": {},
     "output_type": "execute_result"
    }
   ],
   "source": [
    "feats_w_classifier_weight = list()\n",
    "feature_names = tokenizer.get_feature_names()\n",
    "for index,weight in enumerate(selector.inverse_transform([ratio])[0]):\n",
    "    if weight!=0:\n",
    "        feats_w_classifier_weight.append((weight,feature_names[index]))\n",
    "feats_w_classifier_weight = sorted(feats_w_classifier_weight)\n",
    "len(feats_w_classifier_weight)"
   ]
  },
  {
   "cell_type": "markdown",
   "metadata": {
    "id": "yeC1pC2kXjj2"
   },
   "source": [
    "This are the most relevant features for a positive decision"
   ]
  },
  {
   "cell_type": "code",
   "execution_count": 161,
   "metadata": {
    "id": "1ji_oDB8WGTt"
   },
   "outputs": [
    {
     "data": {
      "text/plain": [
       "[(1.25523306617932, 'ideas'),\n",
       " (1.25523306617932, 'datei'),\n",
       " (1.25523306617932, 'bids'),\n",
       " (1.2544216308021805, 'study'),\n",
       " (1.2538383267897504, 'pedestrian'),\n",
       " (1.2538383267897504, 'money'),\n",
       " (1.2538383267897504, 'gpu'),\n",
       " (1.2516525692595708, 'commodity'),\n",
       " (1.2514321067899263, 'subjects'),\n",
       " (1.251143407987406, 'topic'),\n",
       " (1.2499504262986565, '카드'),\n",
       " (1.2499504262986565, '마케팅'),\n",
       " (1.2499504262986565, '뉴스'),\n",
       " (1.2499504262986565, 'tf'),\n",
       " (1.2499504262986565, 'stroke'),\n",
       " (1.2499504262986565, 'idf'),\n",
       " (1.2499504262986565, 'generative'),\n",
       " (1.2497994685765097, 'column'),\n",
       " (1.249430744282014, 'neural'),\n",
       " (1.2477907700971618, 'natural'),\n",
       " (1.2464981546344915, 'particle'),\n",
       " (1.2464981546344915, 'incremental'),\n",
       " (1.2464981546344915, 'fund'),\n",
       " (1.2444801920497817, 'unclassified'),\n",
       " (1.2444801920497817, 'singleton'),\n",
       " (1.2444801920497817, 'paragraph'),\n",
       " (1.2444801920497817, 'modality'),\n",
       " (1.2444801920497817, 'hobby'),\n",
       " (1.2444801920497817, 'gan'),\n",
       " (1.2444801920497817, 'fitness'),\n",
       " (1.2444801920497817, 'finance'),\n",
       " (1.2444801920497817, 'discriminator'),\n",
       " (1.2444801920497817, 'artefact'),\n",
       " (1.2444383073012883, 'hot'),\n",
       " (1.2433876468072378, 'sns'),\n",
       " (1.2431291599093248, 'settlement'),\n",
       " (1.2388064776738603, '이체'),\n",
       " (1.2388064776738603, '모델을'),\n",
       " (1.2388064776738603, 'vending'),\n",
       " (1.2388064776738603, 'van'),\n",
       " (1.2388064776738603, 'questionnaire'),\n",
       " (1.2388064776738603, 'pii'),\n",
       " (1.2388064776738603, 'handwriting'),\n",
       " (1.2388064776738603, 'green'),\n",
       " (1.2388064776738603, 'bios'),\n",
       " (1.237352186197702, 'price'),\n",
       " (1.236565255272624, 'semantic'),\n",
       " (1.2329112075653827, 'witness'),\n",
       " (1.2329112075653827, 'tensor'),\n",
       " (1.2329112075653827, 'estate'),\n",
       " (1.2329112075653827, 'english'),\n",
       " (1.2329112075653827, 'decompiling'),\n",
       " (1.2329112075653827, 'cosmetic'),\n",
       " (1.2329112075653827, 'buyers'),\n",
       " (1.2329112075653827, 'bearing'),\n",
       " (1.2325820396885965, 'stem'),\n",
       " (1.2325820396885965, 'merchants'),\n",
       " (1.2325820396885965, 'dnn'),\n",
       " (1.2325820396885965, 'coefficient'),\n",
       " (1.2308597095503542, 'investment'),\n",
       " (1.2308597095503542, 'intake'),\n",
       " (1.2289068913114656, 'viewpoint'),\n",
       " (1.2289068913114656, 'restored'),\n",
       " (1.2289068913114656, 'relevancy'),\n",
       " (1.2276854062441502, 'answer'),\n",
       " (1.227623608580844, 'document'),\n",
       " (1.2274727583360694, 'opinion'),\n",
       " (1.2267736863482133, '이슈'),\n",
       " (1.2267736863482133, '보행자'),\n",
       " (1.2267736863482133, '거래를'),\n",
       " (1.2267736863482133, 'vein'),\n",
       " (1.2267736863482133, 'tickets'),\n",
       " (1.2267736863482133, 'postings'),\n",
       " (1.2267736863482133, 'nfa'),\n",
       " (1.2267736863482133, 'groundwater'),\n",
       " (1.2267736863482133, 'fruits'),\n",
       " (1.2267736863482133, 'borrower'),\n",
       " (1.2267736863482133, 'avatars'),\n",
       " (1.225298468248019, 'teaching'),\n",
       " (1.2251448581898612, 'snapshots'),\n",
       " (1.2251448581898612, 'profit'),\n",
       " (1.2251448581898612, 'logistics'),\n",
       " (1.2251448581898612, 'facts'),\n",
       " (1.2249005609311647, 'answers'),\n",
       " (1.2237442670660243, '분석'),\n",
       " (1.2231181082983438, 'language'),\n",
       " (1.221291083827223, '생체'),\n",
       " (1.221291083827223, 'promotes'),\n",
       " (1.221291083827223, 'modal'),\n",
       " (1.2203700567102158, '이미지에'),\n",
       " (1.2203700567102158, '어플리케이션'),\n",
       " (1.2203700567102158, '계좌'),\n",
       " (1.2203700567102158, '개의'),\n",
       " (1.2203700567102158, 'trademark'),\n",
       " (1.2203700567102158, 'themes'),\n",
       " (1.2203700567102158, 'smog'),\n",
       " (1.2203700567102158, 'recruitment'),\n",
       " (1.2203700567102158, 'ratios'),\n",
       " (1.2203700567102158, 'pipelined'),\n",
       " (1.2203700567102158, 'mural'),\n",
       " (1.2203700567102158, 'failures'),\n",
       " (1.2203700567102158, 'expertise'),\n",
       " (1.2203700567102158, 'dinner'),\n",
       " (1.2203700567102158, 'cyborg'),\n",
       " (1.2203700567102158, 'bon'),\n",
       " (1.2203700567102158, 'apk'),\n",
       " (1.2195433832899385, 'sentences'),\n",
       " (1.2195433832899385, 'interpretation'),\n",
       " (1.2195433832899385, 'brain'),\n",
       " (1.2178607828229153, 'missing'),\n",
       " (1.2178607828229153, 'license'),\n",
       " (1.2176117485810927, 'classes'),\n",
       " (1.2173402765011554, 'plans'),\n",
       " (1.2173402765011554, 'grader'),\n",
       " (1.2173402765011554, 'absolute'),\n",
       " (1.2165881327282615, 'versions'),\n",
       " (1.2165881327282615, 'bias'),\n",
       " (1.2136726075969473, 'widget'),\n",
       " (1.2136726075969473, 'walletting'),\n",
       " (1.2136726075969473, 'transparency'),\n",
       " (1.2136726075969473, 'subtracting'),\n",
       " (1.2136726075969473, 'subspace'),\n",
       " (1.2136726075969473, 'sensibility'),\n",
       " (1.2136726075969473, 'pop'),\n",
       " (1.2136726075969473, 'polarity'),\n",
       " (1.2136726075969473, 'opcode'),\n",
       " (1.2136726075969473, 'mentor'),\n",
       " (1.2136726075969473, 'intangible'),\n",
       " (1.2136726075969473, 'flame'),\n",
       " (1.2136726075969473, 'fisrt'),\n",
       " (1.2136726075969473, 'entrepreneurial'),\n",
       " (1.2136726075969473, 'disturbance'),\n",
       " (1.2136726075969473, 'dismissal'),\n",
       " (1.2136726075969473, 'consent'),\n",
       " (1.2136726075969473, 'bolt'),\n",
       " (1.213578135917405, '데이터의'),\n",
       " (1.2132866546670977, 'registers'),\n",
       " (1.2132866546670977, 'gradient'),\n",
       " (1.2132866546670977, 'disease'),\n",
       " (1.2117286272266106, 'insurance'),\n",
       " (1.2105110000785912, 'formula'),\n",
       " (1.2105110000785912, 'compensation'),\n",
       " (1.209579539150011, 'intention'),\n",
       " (1.20939229390797, 'click'),\n",
       " (1.2092274373811556, 'printing'),\n",
       " (1.2084016926342696, 'sample'),\n",
       " (1.207384165778652, 'put'),\n",
       " (1.207384165778652, 'food'),\n",
       " (1.207384165778652, 'cash'),\n",
       " (1.2066488798779555, '캡차'),\n",
       " (1.2066488798779555, '줄기세포'),\n",
       " (1.2066488798779555, '유무형'),\n",
       " (1.2066488798779555, '보유량'),\n",
       " (1.2066488798779555, '벡터를'),\n",
       " (1.2066488798779555, 'trader'),\n",
       " (1.2066488798779555, 'subquery'),\n",
       " (1.2066488798779555, 'staff'),\n",
       " (1.2066488798779555, 'sell'),\n",
       " (1.2066488798779555, 'seeker'),\n",
       " (1.2066488798779555, 's130'),\n",
       " (1.2066488798779555, 's120'),\n",
       " (1.2066488798779555, 's110'),\n",
       " (1.2066488798779555, 'rent'),\n",
       " (1.2066488798779555, 'mood'),\n",
       " (1.2066488798779555, 'marine'),\n",
       " (1.2066488798779555, 'lifting'),\n",
       " (1.2066488798779555, 'lbp'),\n",
       " (1.2066488798779555, 'invoice'),\n",
       " (1.2066488798779555, 'decomposition'),\n",
       " (1.2066488798779555, 'clause'),\n",
       " (1.2054576756791067, '3d'),\n",
       " (1.2054281280570798, 'advertiser'),\n",
       " (1.205060197089034, 'banking'),\n",
       " (1.204845000235948, 'experts'),\n",
       " (1.2010333608163521, 'spot'),\n",
       " (1.2009402319571822, 'wind'),\n",
       " (1.2009402319571822, 'finger'),\n",
       " (1.2004423275643854, 'variant'),\n",
       " (1.2004423275643854, 'portfolio'),\n",
       " (1.1992604932843025, '전환'),\n",
       " (1.1992604932843025, '의상'),\n",
       " (1.1992604932843025, '융선'),\n",
       " (1.1992604932843025, '멤버십'),\n",
       " (1.1992604932843025, '가치를'),\n",
       " (1.1992604932843025, '가짜'),\n",
       " (1.1992604932843025, 'xr'),\n",
       " (1.1992604932843025, 'widgets'),\n",
       " (1.1992604932843025, 's140'),\n",
       " (1.1992604932843025, 'reactive'),\n",
       " (1.1992604932843025, 'rail'),\n",
       " (1.1992604932843025, 'preparing'),\n",
       " (1.1992604932843025, 'payer'),\n",
       " (1.1992604932843025, 'nonlinear'),\n",
       " (1.1992604932843025, 'matrices'),\n",
       " (1.1992604932843025, 'io'),\n",
       " (1.1992604932843025, 'grey'),\n",
       " (1.1992604932843025, 'gift'),\n",
       " (1.1992604932843025, 'expandable'),\n",
       " (1.1992604932843025, 'emr'),\n",
       " (1.1992604932843025, 'ecological'),\n",
       " (1.1992604932843025, 'decoration'),\n",
       " (1.1992604932843025, 'dalvik'),\n",
       " (1.1992604932843025, 'corrupted'),\n",
       " (1.1992604932843025, 'compilation'),\n",
       " (1.1992604932843025, 'boolean'),\n",
       " (1.1992604932843025, 'behind'),\n",
       " (1.1992604932843025, 'angles'),\n",
       " (1.19834537539969, 'piece'),\n",
       " (1.1981868526358193, 'financial'),\n",
       " (1.1980360098368559, 'advertisement'),\n",
       " (1.1976170246530942, 'orientation'),\n",
       " (1.1969927757969376, 'expert'),\n",
       " (1.1969302608389352, 'touch'),\n",
       " (1.1960456509875594, 'companies'),\n",
       " (1.1959073696485196, 'scientific'),\n",
       " (1.1959073696485196, 'involvement'),\n",
       " (1.1947578167228436, 'employee'),\n",
       " (1.194696034937506, 'commerce'),\n",
       " (1.1942218596226566, 'foundation'),\n",
       " (1.1937135369289567, 'accident'),\n",
       " (1.1918849219931993, 'dictionary'),\n",
       " (1.1914935387147958, 'phrase'),\n",
       " (1.191461582501978, '패턴을'),\n",
       " (1.191461582501978, '판매'),\n",
       " (1.191461582501978, '지식'),\n",
       " (1.191461582501978, '주는'),\n",
       " (1.191461582501978, '입력되는'),\n",
       " (1.191461582501978, '이벤트를'),\n",
       " (1.191461582501978, '에서'),\n",
       " (1.191461582501978, 'vessel'),\n",
       " (1.191461582501978, 'park'),\n",
       " (1.191461582501978, 'paraphrase'),\n",
       " (1.191461582501978, 'morphological'),\n",
       " (1.191461582501978, 'mine'),\n",
       " (1.191461582501978, 'longevity'),\n",
       " (1.191461582501978, 'increment'),\n",
       " (1.191461582501978, 'imager'),\n",
       " (1.191461582501978, 'handwritten'),\n",
       " (1.191461582501978, 'grammatical'),\n",
       " (1.191461582501978, 'fisheye'),\n",
       " (1.191461582501978, 'explanation'),\n",
       " (1.191461582501978, 'dps'),\n",
       " (1.191461582501978, 'discount'),\n",
       " (1.191461582501978, 'datection'),\n",
       " (1.191461582501978, 'correlithm'),\n",
       " (1.191461582501978, 'columns'),\n",
       " (1.191461582501978, 'clickbait'),\n",
       " (1.191461582501978, 'civil'),\n",
       " (1.191461582501978, 'chatterbot'),\n",
       " (1.191461582501978, 'canonical'),\n",
       " (1.1913634391296934, 'news'),\n",
       " (1.1912306896893659, 'sw'),\n",
       " (1.1912306896893659, 'resisting'),\n",
       " (1.1912306896893659, 'funds'),\n",
       " (1.191123193474431, 'advertising'),\n",
       " (1.1894034184229112, 'shopping'),\n",
       " (1.189146177666931, 'archive'),\n",
       " (1.1872974271825751, 'plan'),\n",
       " (1.187200634255109, 'sampled'),\n",
       " (1.1871459650663658, 'people'),\n",
       " (1.186511810169177, 'bid'),\n",
       " (1.1864172701846811, 'population'),\n",
       " (1.186401762849634, 'senses'),\n",
       " (1.186401762849634, 'red'),\n",
       " (1.186401762849634, 'displayable'),\n",
       " (1.186401762849634, 'bidding'),\n",
       " (1.1859751290671527, 'patient'),\n",
       " (1.1851429226422314, 'brand'),\n",
       " (1.1848628944627975, 'project'),\n",
       " (1.184600038836656, 'matrix'),\n",
       " (1.184104540826697, 'product'),\n",
       " (1.1835662758349268, 'garbage'),\n",
       " (1.1835662758349268, 'filling'),\n",
       " (1.1835607375116675, 'word'),\n",
       " (1.1831966735436932, '터치'),\n",
       " (1.1831966735436932, '전문가의'),\n",
       " (1.1831966735436932, '자산'),\n",
       " (1.1831966735436932, '은행'),\n",
       " (1.1831966735436932, '암호화폐를'),\n",
       " (1.1831966735436932, '악질'),\n",
       " (1.1831966735436932, '신경망'),\n",
       " (1.1831966735436932, '불꽃'),\n",
       " (1.1831966735436932, '관심'),\n",
       " (1.1831966735436932, '가치에'),\n",
       " (1.1831966735436932, 'visit'),\n",
       " (1.1831966735436932, 'tis'),\n",
       " (1.1831966735436932, 'taillight'),\n",
       " (1.1831966735436932, 'tactile'),\n",
       " (1.1831966735436932, 'tableware'),\n",
       " (1.1831966735436932, 'subtraction'),\n",
       " (1.1831966735436932, 'securities'),\n",
       " (1.1831966735436932, 's400'),\n",
       " (1.1831966735436932, 'rubbish'),\n",
       " (1.1831966735436932, 'rop'),\n",
       " (1.1831966735436932, 'rgb'),\n",
       " (1.1831966735436932, 'promoter'),\n",
       " (1.1831966735436932, 'prices'),\n",
       " (1.1831966735436932, 'prescription'),\n",
       " (1.1831966735436932, 'predictor'),\n",
       " (1.1831966735436932, 'poi'),\n",
       " (1.1831966735436932, 'pdf'),\n",
       " (1.1831966735436932, 'payee'),\n",
       " (1.1831966735436932, 'paragraphs'),\n",
       " (1.1831966735436932, 'ocs'),\n",
       " (1.1831966735436932, 'microscope'),\n",
       " (1.1831966735436932, 'meal'),\n",
       " (1.1831966735436932, 'marketplace'),\n",
       " (1.1831966735436932, 'lottery'),\n",
       " (1.1831966735436932, 'investor'),\n",
       " (1.1831966735436932, 'investigative'),\n",
       " (1.1831966735436932, 'harr'),\n",
       " (1.1831966735436932, 'hall'),\n",
       " (1.1831966735436932, 'fulfillment'),\n",
       " (1.1831966735436932, 'freight'),\n",
       " (1.1831966735436932, 'floating'),\n",
       " (1.1831966735436932, 'entrant'),\n",
       " (1.1831966735436932, 'emissions'),\n",
       " (1.1831966735436932, 'een'),\n",
       " (1.1831966735436932, 'distilled'),\n",
       " (1.1831966735436932, 'dispenser'),\n",
       " (1.1831966735436932, 'disassembled'),\n",
       " (1.1831966735436932, 'darknet'),\n",
       " (1.1831966735436932, 'da'),\n",
       " (1.1831966735436932, 'crane'),\n",
       " (1.1831966735436932, 'coupon'),\n",
       " (1.1831966735436932, 'conflicts'),\n",
       " (1.1831966735436932, 'concurrent'),\n",
       " (1.1831966735436932, 'clicked'),\n",
       " (1.1831966735436932, 'clauses'),\n",
       " (1.1831966735436932, 'chromosome'),\n",
       " (1.1831966735436932, 'chemical'),\n",
       " (1.1831966735436932, 'checkpoint'),\n",
       " (1.1831966735436932, 'chance'),\n",
       " (1.1831966735436932, 'arbitrator'),\n",
       " (1.1831966735436932, 'alternatives'),\n",
       " (1.1821837076737116, 'dimension'),\n",
       " (1.181408799044119, 'palm'),\n",
       " (1.181408799044119, 'eg'),\n",
       " (1.181408799044119, 'annotations'),\n",
       " (1.18115534178425, 'grid'),\n",
       " (1.1803389272499583, 'pay'),\n",
       " (1.1797477380593642, 'ratio'),\n",
       " (1.178652739232792, 'negative'),\n",
       " (1.1786089469600047, 'promotion'),\n",
       " (1.1772908872670154, 'image'),\n",
       " (1.1772900295174809, 'differential'),\n",
       " (1.1762773692542745, 'errors'),\n",
       " (1.1762385276969662, '승인'),\n",
       " (1.1762385276969662, 'editable'),\n",
       " (1.1762385276969662, 'constituent'),\n",
       " (1.1760265635943687, 'posting'),\n",
       " (1.1760265635943687, 'country'),\n",
       " (1.1754885229238778, 'recommendation'),\n",
       " (1.174646363670707, 'words'),\n",
       " (1.1743977391651463, '전쟁'),\n",
       " (1.1743977391651463, '이동'),\n",
       " (1.1743977391651463, '수행함에'),\n",
       " (1.1743977391651463, '소프트웨어'),\n",
       " (1.1743977391651463, '사전'),\n",
       " (1.1743977391651463, '비정형'),\n",
       " (1.1743977391651463, '분산거래를'),\n",
       " (1.1743977391651463, '보상'),\n",
       " (1.1743977391651463, '문자'),\n",
       " (1.1743977391651463, '단계적'),\n",
       " (1.1743977391651463, '광고주'),\n",
       " (1.1743977391651463, '결제를'),\n",
       " (1.1743977391651463, 'wolf'),\n",
       " (1.1743977391651463, 'weaknesses'),\n",
       " (1.1743977391651463, 'wallets'),\n",
       " (1.1743977391651463, 'vrm'),\n",
       " (1.1743977391651463, 'visits'),\n",
       " (1.1743977391651463, 'urging'),\n",
       " (1.1743977391651463, 'unpacking'),\n",
       " (1.1743977391651463, 'tissue'),\n",
       " (1.1743977391651463, 'synapse'),\n",
       " (1.1743977391651463, 'sweat'),\n",
       " (1.1743977391651463, 'stimuli'),\n",
       " (1.1743977391651463, 'stereo'),\n",
       " (1.1743977391651463, 'stamped'),\n",
       " (1.1743977391651463, 'sift'),\n",
       " (1.1743977391651463, 'shapes'),\n",
       " (1.1743977391651463, 'sc'),\n",
       " (1.1743977391651463, 'rumour'),\n",
       " (1.1743977391651463, 'ride'),\n",
       " (1.1743977391651463, 'relief'),\n",
       " (1.1743977391651463, 'pull'),\n",
       " (1.1743977391651463, 'psychological'),\n",
       " (1.1743977391651463, 'prerequisite'),\n",
       " (1.1743977391651463, 'opinions'),\n",
       " (1.1743977391651463, 'official'),\n",
       " (1.1743977391651463, 'objectivity'),\n",
       " (1.1743977391651463, 'noun'),\n",
       " (1.1743977391651463, 'mastery'),\n",
       " (1.1743977391651463, 'lip'),\n",
       " (1.1743977391651463, 'kba'),\n",
       " (1.1743977391651463, 'harmfulness'),\n",
       " (1.1743977391651463, 'gun'),\n",
       " (1.1743977391651463, 'geometry'),\n",
       " (1.1743977391651463, 'farmhouse'),\n",
       " (1.1743977391651463, 'excavates'),\n",
       " (1.1743977391651463, 'etl'),\n",
       " (1.1743977391651463, 'elevation'),\n",
       " (1.1743977391651463, 'eds'),\n",
       " (1.1743977391651463, 'dst'),\n",
       " (1.1743977391651463, 'dma'),\n",
       " (1.1743977391651463, 'dependencies'),\n",
       " (1.1743977391651463, 'deletes'),\n",
       " (1.1743977391651463, 'crawl'),\n",
       " (1.1743977391651463, 'copied'),\n",
       " (1.1743977391651463, 'commentary'),\n",
       " (1.1743977391651463, 'beverage'),\n",
       " (1.1743977391651463, 'berührungsbildschirmanzeige'),\n",
       " (1.1743977391651463, 'backups'),\n",
       " (1.1743977391651463, 'advice'),\n",
       " (1.1743977391651463, 'advantageous'),\n",
       " (1.1743977391651463, 'acceptability'),\n",
       " (1.1741802474396632, 'trade'),\n",
       " (1.1736422474843333, 'market'),\n",
       " (1.1732021327577744, 'reading'),\n",
       " (1.1728459442127908, 'index'),\n",
       " (1.1725030650078376, 'survey'),\n",
       " (1.172434294368327, 'research'),\n",
       " (1.1722665831578714, 'icon'),\n",
       " (1.172110512308101, 'gray'),\n",
       " (1.1710686469991392, 'descriptor'),\n",
       " (1.1710439164936501, 'precision'),\n",
       " (1.1710067112051237, 'pc'),\n",
       " (1.1710067112051237, 'narrative'),\n",
       " (1.1708759341524964, '분류'),\n",
       " (1.1708759341524964, 'transcription'),\n",
       " (1.1708759341524964, 'ssd'),\n",
       " (1.1708759341524964, 'sql'),\n",
       " (1.1708759341524964, 'searchable'),\n",
       " (1.1708759341524964, 'reproducible'),\n",
       " (1.1708759341524964, 'histogram'),\n",
       " (1.1707551095615718, 'face'),\n",
       " (1.1697303450565337, 'sampling'),\n",
       " (1.169443679242326, 'prediction'),\n",
       " (1.169296811631712, '가상'),\n",
       " (1.1691370208086145, 'influence'),\n",
       " (1.168342547033756, 'printed'),\n",
       " (1.168342547033756, 'meaning'),\n",
       " (1.1680890158941886, 'reflection'),\n",
       " (1.1680890158941886, 'published'),\n",
       " (1.1680890158941886, 'outcomes'),\n",
       " (1.1680890158941886, 'mouse'),\n",
       " (1.1680890158941886, 'culture'),\n",
       " (1.1677931974782088, 'mentioned'),\n",
       " (1.1677861634885078, 'gesture'),\n",
       " (1.1677861634885078, 'articles'),\n",
       " (1.1670735414780613, 'corpus'),\n",
       " (1.1669011040695163, 'we'),\n",
       " (1.1655682732290968, 'appearance'),\n",
       " (1.1653039339896412, 'weather'),\n",
       " (1.1653039339896412, 'ultra'),\n",
       " (1.1653039339896412, 'dirty'),\n",
       " (1.1653039339896412, 'buy'),\n",
       " (1.1649800167677777, '인식하는'),\n",
       " (1.1649800167677777, '이미지의'),\n",
       " (1.1649800167677777, '영역에서'),\n",
       " (1.1649800167677777, '영상인식'),\n",
       " (1.1649800167677777, '비교'),\n",
       " (1.1649800167677777, '분석부'),\n",
       " (1.1649800167677777, '문장'),\n",
       " (1.1649800167677777, '리워드'),\n",
       " (1.1649800167677777, '구성'),\n",
       " (1.1649800167677777, '거래용'),\n",
       " (1.1649800167677777, '가치'),\n",
       " (1.1649800167677777, 'workflows'),\n",
       " (1.1649800167677777, 'welding'),\n",
       " (1.1649800167677777, 'walking'),\n",
       " (1.1649800167677777, 'vectorized'),\n",
       " (1.1649800167677777, 'us'),\n",
       " (1.1649800167677777, 'tally'),\n",
       " (1.1649800167677777, 'sweating'),\n",
       " (1.1649800167677777, 'supermarket'),\n",
       " (1.1649800167677777, 'subregion'),\n",
       " (1.1649800167677777, 'stms'),\n",
       " (1.1649800167677777, 'stipulation'),\n",
       " (1.1649800167677777, 'sold'),\n",
       " (1.1649800167677777, 'shorten'),\n",
       " (1.1649800167677777, 'shelf'),\n",
       " (1.1649800167677777, 'sells'),\n",
       " (1.1649800167677777, 'sec'),\n",
       " (1.1649800167677777, 'schritt'),\n",
       " (1.1649800167677777, 's500'),\n",
       " (1.1649800167677777, 'raid'),\n",
       " (1.1649800167677777, 'radioactivity'),\n",
       " (1.1649800167677777, 'plates'),\n",
       " (1.1649800167677777, 'planner'),\n",
       " (1.1649800167677777, 'passages'),\n",
       " (1.1649800167677777, 'participle'),\n",
       " (1.1649800167677777, 'organize'),\n",
       " (1.1649800167677777, 'mim'),\n",
       " (1.1649800167677777, 'millisecond'),\n",
       " (1.1649800167677777, 'mi'),\n",
       " (1.1649800167677777, 'laundering'),\n",
       " (1.1649800167677777, 'late'),\n",
       " (1.1649800167677777, 'land'),\n",
       " (1.1649800167677777, 'korean'),\n",
       " (1.1649800167677777, 'interpretations'),\n",
       " (1.1649800167677777, 'ideographical'),\n",
       " (1.1649800167677777, 'hough'),\n",
       " (1.1649800167677777, 'hotfile'),\n",
       " (1.1649800167677777, 'healthy'),\n",
       " (1.1649800167677777, 'hazardous'),\n",
       " (1.1649800167677777, 'germination'),\n",
       " (1.1649800167677777, 'genuine'),\n",
       " (1.1649800167677777, 'facilitator'),\n",
       " (1.1649800167677777, 'excavated'),\n",
       " (1.1649800167677777, 'examinee'),\n",
       " (1.1649800167677777, 'deduplicating'),\n",
       " (1.1649800167677777, 'decompiled'),\n",
       " (1.1649800167677777, 'dataspace'),\n",
       " (1.1649800167677777, 'csc'),\n",
       " (1.1649800167677777, 'crucial'),\n",
       " (1.1649800167677777, 'catastrophic'),\n",
       " (1.1649800167677777, 'brings'),\n",
       " (1.1649800167677777, 'books'),\n",
       " (1.1649800167677777, 'blur'),\n",
       " (1.1649800167677777, 'betting'),\n",
       " (1.1649800167677777, 'authoritativeness'),\n",
       " (1.1649800167677777, 'articulamentum'),\n",
       " (1.1649800167677777, 'animal'),\n",
       " (1.1649800167677777, 'anatomical'),\n",
       " (1.1649800167677777, 'abstracting'),\n",
       " (1.1649800167677777, '203'),\n",
       " (1.1644557947791807, 'political'),\n",
       " (1.1640332439601306, '이미지'),\n",
       " (1.163992270457953, '있어서'),\n",
       " (1.163955348100235, '컴퓨팅'),\n",
       " (1.163955348100235, 'standardized'),\n",
       " (1.163955348100235, 'pooling'),\n",
       " (1.163955348100235, 'antivirus'),\n",
       " (1.1627438175013796, 'regression'),\n",
       " (1.1627438175013796, 'plate'),\n",
       " (1.1622214072249064, 'wallet'),\n",
       " (1.1619990682921284, 'confrontation'),\n",
       " (1.1618895679472205, 'task'),\n",
       " (1.1616362327747023, 'ticket'),\n",
       " (1.1610715017669822, 'upgrading'),\n",
       " (1.1610715017669822, 'thought'),\n",
       " (1.1597020919544263, '고객'),\n",
       " (1.1597020919544263, 'collision'),\n",
       " (1.1596063043474913, 'documents'),\n",
       " (1.1595635251988157, 'instrument'),\n",
       " (1.1595635251988157, 'forecast'),\n",
       " (1.159502966673077, '분석을'),\n",
       " (1.159502966673077, '대하여'),\n",
       " (1.159502966673077, 'translating'),\n",
       " (1.159502966673077, 'transformations'),\n",
       " (1.159502966673077, 'staging'),\n",
       " (1.159502966673077, 'intellectual'),\n",
       " (1.159502966673077, 'bonding'),\n",
       " (1.159502966673077, 'boarding'),\n",
       " (1.15927583169652, 'coordinate'),\n",
       " (1.1590541922391064, 'travel'),\n",
       " (1.1586764303953014, 'search'),\n",
       " (1.1582330700263501, 'query'),\n",
       " (1.1580695002646268, 'credit'),\n",
       " (1.1577092281002967, 'dimensional'),\n",
       " (1.1576095739536174, 'th'),\n",
       " (1.1576095739536174, 'sorted'),\n",
       " (1.1572483501637867, 'training'),\n",
       " (1.1568642682314898, 'keyword'),\n",
       " (1.1552158029544706, 'error'),\n",
       " (1.1550785336055056, 'model'),\n",
       " (1.1548359008795321, '１０'),\n",
       " (1.1548359008795321, '화폐를'),\n",
       " (1.1548359008795321, '호스트'),\n",
       " (1.1548359008795321, '프로파일링'),\n",
       " (1.1548359008795321, '프로젝트'),\n",
       " (1.1548359008795321, '추천'),\n",
       " (1.1548359008795321, '절대경력정보를'),\n",
       " (1.1548359008795321, '은닉'),\n",
       " (1.1548359008795321, '유틸리티'),\n",
       " (1.1548359008795321, '연구원'),\n",
       " (1.1548359008795321, '수행'),\n",
       " (1.1548359008795321, '선정된'),\n",
       " (1.1548359008795321, '보상해'),\n",
       " (1.1548359008795321, '무인'),\n",
       " (1.1548359008795321, '국회'),\n",
       " (1.1548359008795321, '구매'),\n",
       " (1.1548359008795321, '검출하는'),\n",
       " (1.1548359008795321, 'welfare'),\n",
       " (1.1548359008795321, 'vmeds'),\n",
       " (1.1548359008795321, 'visa'),\n",
       " (1.1548359008795321, 'useless'),\n",
       " (1.1548359008795321, 'tribe'),\n",
       " (1.1548359008795321, 'summarization'),\n",
       " (1.1548359008795321, 'subtask'),\n",
       " (1.1548359008795321, 'substantial'),\n",
       " (1.1548359008795321, 'subspaces'),\n",
       " (1.1548359008795321, 'stripe'),\n",
       " (1.1548359008795321, 'stocks'),\n",
       " (1.1548359008795321, 'standardization'),\n",
       " (1.1548359008795321, 'spliced'),\n",
       " (1.1548359008795321, 'sixth'),\n",
       " (1.1548359008795321, 'seekers'),\n",
       " (1.1548359008795321, 'salvage'),\n",
       " (1.1548359008795321, 'runoff'),\n",
       " (1.1548359008795321, 'researcher'),\n",
       " (1.1548359008795321, 'refinement'),\n",
       " (1.1548359008795321, 'reconciliation'),\n",
       " (1.1548359008795321, 'qualifying'),\n",
       " (1.1548359008795321, 'pronunciation'),\n",
       " (1.1548359008795321, 'printable'),\n",
       " (1.1548359008795321, 'pooler'),\n",
       " (1.1548359008795321, 'pays'),\n",
       " (1.1548359008795321, 'patients'),\n",
       " (1.1548359008795321, 'panels'),\n",
       " (1.1548359008795321, 'overlapped'),\n",
       " (1.1548359008795321, 'outfit'),\n",
       " (1.1548359008795321, 'opcodes'),\n",
       " (1.1548359008795321, 'newsletter'),\n",
       " (1.1548359008795321, 'morpheme'),\n",
       " (1.1548359008795321, 'mnemonic'),\n",
       " (1.1548359008795321, 'mixture'),\n",
       " (1.1548359008795321, 'mall'),\n",
       " (1.1548359008795321, 'magnanimity'),\n",
       " (1.1548359008795321, 'macroblocks'),\n",
       " (1.1548359008795321, 'limitations'),\n",
       " (1.1548359008795321, 'likes'),\n",
       " (1.1548359008795321, 'lender'),\n",
       " (1.1548359008795321, 'interrelated'),\n",
       " (1.1548359008795321, 'inquires'),\n",
       " (1.1548359008795321, 'informatie'),\n",
       " (1.1548359008795321, 'imputation'),\n",
       " (1.1548359008795321, 'impulsive'),\n",
       " (1.1548359008795321, 'hardwired'),\n",
       " (1.1548359008795321, 'genoemde'),\n",
       " (1.1548359008795321, 'formulation'),\n",
       " (1.1548359008795321, 'factual'),\n",
       " (1.1548359008795321, 'exchanger'),\n",
       " (1.1548359008795321, 'ends'),\n",
       " (1.1548359008795321, 'embeddings'),\n",
       " (1.1548359008795321, 'economics'),\n",
       " (1.1548359008795321, 'drift'),\n",
       " (1.1548359008795321, 'donation'),\n",
       " (1.1548359008795321, 'directive'),\n",
       " (1.1548359008795321, 'dex'),\n",
       " (1.1548359008795321, 'designer'),\n",
       " (1.1548359008795321, 'dark'),\n",
       " (1.1548359008795321, 'cs'),\n",
       " (1.1548359008795321, 'cryptocurrencies'),\n",
       " (1.1548359008795321, 'countries'),\n",
       " (1.1548359008795321, 'counselor'),\n",
       " (1.1548359008795321, 'contraband'),\n",
       " (1.1548359008795321, 'compensates'),\n",
       " (1.1548359008795321, 'compensated'),\n",
       " (1.1548359008795321, 'colored'),\n",
       " (1.1548359008795321, 'chatroom'),\n",
       " (1.1548359008795321, 'caches'),\n",
       " (1.1548359008795321, 'bundle'),\n",
       " (1.1548359008795321, 'bracket'),\n",
       " (1.1548359008795321, 'bird'),\n",
       " (1.1548359008795321, 'bchain'),\n",
       " (1.1548359008795321, 'ballots'),\n",
       " (1.1548359008795321, 'bait'),\n",
       " (1.1548359008795321, 'backtesting'),\n",
       " (1.1548359008795321, 'backing'),\n",
       " (1.1548359008795321, 'attraction'),\n",
       " (1.1548359008795321, 'attendance'),\n",
       " (1.1548359008795321, 'arbitration'),\n",
       " (1.1548359008795321, 'alternately'),\n",
       " (1.1548359008795321, '604'),\n",
       " (1.1548359008795321, '401'),\n",
       " (1.1548359008795321, '311'),\n",
       " (1.1544118158130152, 'job'),\n",
       " (1.1543487059386783, 'materials'),\n",
       " (1.1540658021757144, 'poll'),\n",
       " (1.1540658021757144, 'agricultural'),\n",
       " (1.1539681506712618, 'difference'),\n",
       " (1.1539472039398564, 'publisher'),\n",
       " (1.1537157952569466, 'structural'),\n",
       " (1.1537157952569466, 'diagnosis'),\n",
       " (1.153596103934639, 'review'),\n",
       " (1.153596103934639, 'fact'),\n",
       " (1.1534681962466566, 'text'),\n",
       " (1.1534504831177472, 'recency'),\n",
       " (1.1534504831177472, 'persistence'),\n",
       " (1.1534504831177472, 'nearest'),\n",
       " (1.1534504831177472, 'manpower'),\n",
       " (1.1534504831177472, 'labor'),\n",
       " (1.1534504831177472, 'bio'),\n",
       " (1.1534504831177472, 'bins'),\n",
       " (1.1531169007662234, 'depth'),\n",
       " (1.152329937065697, 'map'),\n",
       " (1.1517131860066754, 'fragment'),\n",
       " (1.1517131860066754, 'auto'),\n",
       " (1.1510415396399034, 'knowledge'),\n",
       " (1.1509125349084377, 'planning'),\n",
       " (1.1509125349084377, 'limit'),\n",
       " (1.1509125349084377, 'hotel'),\n",
       " (1.1508030757595697, 'restoration'),\n",
       " (1.1508030757595697, 'outdoor'),\n",
       " (1.1504356116953878, 'revenue'),\n",
       " (1.1504356116953878, 'preparation'),\n",
       " (1.149779028006576, 'accuracy'),\n",
       " (1.1497629434459484, 'recognizing'),\n",
       " (1.1493518920265409, 'fusion'),\n",
       " (1.1490321431108985, 'shape'),\n",
       " (1.1490321431108985, 'promoted'),\n",
       " (1.1490321431108985, 'professional'),\n",
       " (1.147788468695169, 'putting'),\n",
       " (1.1471202918180843, '식별'),\n",
       " (1.1471202918180843, '상세하게는'),\n",
       " (1.1471202918180843, '산출하는'),\n",
       " (1.1471202918180843, '검출'),\n",
       " (1.1471202918180843, '검색'),\n",
       " (1.1471202918180843, 'situational'),\n",
       " (1.1471202918180843, 'returning'),\n",
       " (1.1471202918180843, 'renewal'),\n",
       " (1.1471202918180843, 'profits'),\n",
       " (1.1471202918180843, 'payments'),\n",
       " (1.1471202918180843, 'merchandise'),\n",
       " (1.1471202918180843, 'magazine'),\n",
       " (1.1471202918180843, 'finished'),\n",
       " (1.1471202918180843, 'figures'),\n",
       " (1.1471202918180843, 'doctor'),\n",
       " (1.1471202918180843, 'collateral'),\n",
       " (1.1471202918180843, 'chatting'),\n",
       " (1.1471202918180843, 'advertisers'),\n",
       " (1.1461380315260046, 'iterative'),\n",
       " (1.1457367792097586, 'vision'),\n",
       " (1.145561148631487, 'extraction'),\n",
       " (1.1451523761433973, 'class'),\n",
       " (1.1443281054572225, 'color'),\n",
       " (1.143825726808121, '환경을'),\n",
       " (1.143825726808121, '홍채'),\n",
       " (1.143825726808121, '행복지수'),\n",
       " (1.143825726808121, '항목'),\n",
       " (1.143825726808121, '표준'),\n",
       " (1.143825726808121, '판매에'),\n",
       " (1.143825726808121, '태그'),\n",
       " (1.143825726808121, '최적의'),\n",
       " (1.143825726808121, '자연어'),\n",
       " (1.143825726808121, '이익의'),\n",
       " (1.143825726808121, '이용자'),\n",
       " (1.143825726808121, '음성을'),\n",
       " (1.143825726808121, '스케일링'),\n",
       " (1.143825726808121, '설정'),\n",
       " (1.143825726808121, '선정하는'),\n",
       " (1.143825726808121, '생성되는'),\n",
       " (1.143825726808121, '분산원장'),\n",
       " (1.143825726808121, '복원'),\n",
       " (1.143825726808121, '복수'),\n",
       " (1.143825726808121, '발행하는'),\n",
       " (1.143825726808121, '목표를'),\n",
       " (1.143825726808121, '마이닝'),\n",
       " (1.143825726808121, '랜덤'),\n",
       " (1.143825726808121, '기초한'),\n",
       " (1.143825726808121, '금융거래자의'),\n",
       " (1.143825726808121, '고객의'),\n",
       " (1.143825726808121, '간호'),\n",
       " (1.143825726808121, '課題'),\n",
       " (1.143825726808121, '動作は'),\n",
       " (1.143825726808121, 'xgboost'),\n",
       " (1.143825726808121, 'workgroup'),\n",
       " (1.143825726808121, 'weighing'),\n",
       " (1.143825726808121, 'visualize'),\n",
       " (1.143825726808121, 'utensil'),\n",
       " (1.143825726808121, 'unobserved'),\n",
       " (1.143825726808121, 'unlocking'),\n",
       " (1.143825726808121, 'underwear'),\n",
       " (1.143825726808121, 'trie'),\n",
       " (1.143825726808121, 'transformer'),\n",
       " (1.143825726808121, 'touches'),\n",
       " (1.143825726808121, 'tort'),\n",
       " (1.143825726808121, 'testimony'),\n",
       " (1.143825726808121, 'tattoo'),\n",
       " (1.143825726808121, 'summarizes'),\n",
       " (1.143825726808121, 'summarizations'),\n",
       " (1.143825726808121, 'subgroup'),\n",
       " (1.143825726808121, 'sps'),\n",
       " (1.143825726808121, 'softmax'),\n",
       " (1.143825726808121, 'slogans'),\n",
       " (1.143825726808121, 'separator'),\n",
       " (1.143825726808121, 'sdk'),\n",
       " (1.143825726808121, 's170'),\n",
       " (1.143825726808121, 's160'),\n",
       " (1.143825726808121, 's150'),\n",
       " (1.143825726808121, 'rock'),\n",
       " (1.143825726808121, 'rmpt'),\n",
       " (1.143825726808121, 'repayment'),\n",
       " (1.143825726808121, 'relr'),\n",
       " (1.143825726808121, 'relevanten'),\n",
       " (1.143825726808121, 'radiation'),\n",
       " (1.143825726808121, 'quote'),\n",
       " (1.143825726808121, 'pretreated'),\n",
       " (1.143825726808121, 'poverty'),\n",
       " (1.143825726808121, 'png'),\n",
       " (1.143825726808121, 'perceptive'),\n",
       " (1.143825726808121, 'pcie'),\n",
       " (1.143825726808121, 'otsu'),\n",
       " (1.143825726808121, 'organism'),\n",
       " (1.143825726808121, 'nonvolatile'),\n",
       " (1.143825726808121, 'neuen'),\n",
       " (1.143825726808121, 'mr'),\n",
       " (1.143825726808121, 'meat'),\n",
       " (1.143825726808121, 'mbr'),\n",
       " (1.143825726808121, 'macros'),\n",
       " (1.143825726808121, 'locatie'),\n",
       " (1.143825726808121, 'lies'),\n",
       " (1.143825726808121, 'kudzu'),\n",
       " (1.143825726808121, 'km'),\n",
       " (1.143825726808121, 'jukebox'),\n",
       " (1.143825726808121, 'jecheonbo'),\n",
       " (1.143825726808121, 'intersection'),\n",
       " (1.143825726808121, 'interesting'),\n",
       " (1.143825726808121, 'inductive'),\n",
       " (1.143825726808121, 'impute'),\n",
       " (1.143825726808121, 'het'),\n",
       " (1.143825726808121, 'hardcopy'),\n",
       " (1.143825726808121, 'gabor'),\n",
       " (1.143825726808121, 'folgendes'),\n",
       " (1.143825726808121, 'fms'),\n",
       " (1.143825726808121, 'fireman'),\n",
       " (1.143825726808121, 'expectations'),\n",
       " (1.143825726808121, 'equivalence'),\n",
       " (1.143825726808121, 'dtc'),\n",
       " (1.143825726808121, 'drugs'),\n",
       " (1.143825726808121, 'doppler'),\n",
       " (1.143825726808121, 'donee'),\n",
       " (1.143825726808121, 'district'),\n",
       " (1.143825726808121, 'disarm'),\n",
       " (1.143825726808121, 'departments'),\n",
       " (1.143825726808121, 'demonstrated'),\n",
       " (1.143825726808121, 'deduction'),\n",
       " (1.143825726808121, 'dbf'),\n",
       " (1.143825726808121, 'cycles'),\n",
       " (1.143825726808121, 'curricula'),\n",
       " (1.143825726808121, 'crop'),\n",
       " (1.143825726808121, 'credits'),\n",
       " (1.143825726808121, 'corporations'),\n",
       " (1.143825726808121, 'corner'),\n",
       " (1.143825726808121, 'considerations'),\n",
       " (1.143825726808121, 'competing'),\n",
       " (1.143825726808121, 'colours'),\n",
       " (1.143825726808121, 'cndot'),\n",
       " (1.143825726808121, 'cloudbasierten'),\n",
       " (1.143825726808121, 'clothes'),\n",
       " (1.143825726808121, 'cbct'),\n",
       " (1.143825726808121, 'carcass'),\n",
       " (1.143825726808121, 'camouflage'),\n",
       " (1.143825726808121, 'budget'),\n",
       " (1.143825726808121, 'bringing'),\n",
       " (1.143825726808121, 'breeding'),\n",
       " (1.143825726808121, 'brands'),\n",
       " (1.143825726808121, 'bond'),\n",
       " (1.143825726808121, 'bitstream'),\n",
       " (1.143825726808121, 'beautiful'),\n",
       " (1.143825726808121, 'beat'),\n",
       " (1.143825726808121, 'axes'),\n",
       " (1.143825726808121, 'aviation'),\n",
       " (1.143825726808121, 'augmentation'),\n",
       " (1.143825726808121, 'artwork'),\n",
       " (1.143825726808121, 'aquatic'),\n",
       " (1.143825726808121, 'anwendungen'),\n",
       " (1.143825726808121, 'annual'),\n",
       " (1.143825726808121, 'ambiguous'),\n",
       " (1.143825726808121, 'ambiguity'),\n",
       " (1.143825726808121, 'aging'),\n",
       " (1.143825726808121, 'advocate'),\n",
       " (1.143825726808121, 'advert'),\n",
       " (1.143825726808121, 'accelerators'),\n",
       " (1.143825726808121, '606'),\n",
       " (1.143825726808121, '57'),\n",
       " (1.143825726808121, '47'),\n",
       " (1.143825726808121, '212'),\n",
       " (1.143525949563794, 'keyboard'),\n",
       " (1.143118983290432, 'again'),\n",
       " (1.143016939907165, 'optimal'),\n",
       " (1.1428955743700977, 'spaces'),\n",
       " (1.1428955743700977, 'grading'),\n",
       " (1.1428955743700977, 'express'),\n",
       " (1.1428955743700977, 'expanding'),\n",
       " (1.1417062842994214, 'compliance'),\n",
       " (1.1416659673602692, 'treatment'),\n",
       " (1.1413145173618076, '악성코드'),\n",
       " (1.1413145173618076, '구성된'),\n",
       " (1.1413145173618076, 'photograph'),\n",
       " (1.1413145173618076, 'argument'),\n",
       " (1.1411714139155156, 'trained'),\n",
       " (1.140587797444928, 'sense'),\n",
       " (1.140501363268114, 'outcome'),\n",
       " (1.1404817135555219, 'searcher'),\n",
       " (1.1404817135555219, 'reconfigurable'),\n",
       " (1.1404817135555219, 'purchases'),\n",
       " (1.1404817135555219, 'humidity'),\n",
       " (1.1404817135555219, 'guideline'),\n",
       " (1.1404817135555219, 'excavation'),\n",
       " (1.1404817135555219, 'earthquake'),\n",
       " (1.1404817135555219, 'automata'),\n",
       " (1.1404817135555219, 'ann'),\n",
       " (1.1401952854963888, 'candidate'),\n",
       " (1.1398889456559909, 'engines'),\n",
       " (1.1393011512103914, 'propagation'),\n",
       " (1.1389743140405106, '타겟'),\n",
       " (1.1389743140405106, '사용자에게'),\n",
       " (1.1389743140405106, 'icons'),\n",
       " (1.1389743140405106, 'electricity'),\n",
       " (1.1389743140405106, 'designs'),\n",
       " (1.138289884831331, 'transportation'),\n",
       " (1.138289884831331, 'captcha'),\n",
       " (1.1380502505295063, 'theory'),\n",
       " (1.1380502505295063, 'repeated'),\n",
       " (1.1379464484771482, 'child'),\n",
       " (1.1378137790297487, 'writing'),\n",
       " (1.1376969259965815, 'driver'),\n",
       " (1.1367281780639222, 'retrieval'),\n",
       " (1.1367281780639222, 'family'),\n",
       " (1.1366393391650123, 'age'),\n",
       " (1.1363197130637697, 'paid'),\n",
       " (1.1363197130637697, 'hyper'),\n",
       " (1.1363197130637697, 'authors'),\n",
       " (1.135298809097592, 'fields'),\n",
       " (1.1348747267196229, 'government'),\n",
       " (1.1346569644060256, 'expressions'),\n",
       " (1.1344840556008178, 'material'),\n",
       " (1.1341457968552071, 'game'),\n",
       " (1.1335900548185618, 'scenes'),\n",
       " (1.1335900548185618, 'programmable'),\n",
       " (1.1335900548185618, 'passenger'),\n",
       " (1.1335898080445252, 'accurately'),\n",
       " (1.133498472661458, '제시된'),\n",
       " (1.133498472661458, '일부를'),\n",
       " (1.133498472661458, '영역에'),\n",
       " (1.133498472661458, '수행하여'),\n",
       " (1.133498472661458, '센싱'),\n",
       " (1.133498472661458, '바탕으로'),\n",
       " (1.133498472661458, '모델'),\n",
       " (1.133498472661458, 'substrate'),\n",
       " (1.133498472661458, 'stacked'),\n",
       " (1.133498472661458, 'quantifying'),\n",
       " (1.133498472661458, 'pollution'),\n",
       " (1.133498472661458, 'liquid'),\n",
       " (1.133498472661458, 'fitting'),\n",
       " (1.133498472661458, 'chooses'),\n",
       " (1.133498472661458, 'children'),\n",
       " (1.133498472661458, 'benchmark'),\n",
       " (1.133498472661458, 'backed'),\n",
       " (1.133498472661458, 'achievement'),\n",
       " (1.133065815070794, 'database'),\n",
       " (1.1320515289705837, 'scoring'),\n",
       " (1.1319021938605789, 'recognized'),\n",
       " (1.131876983600056, 'trip'),\n",
       " (1.131876983600056, 'science'),\n",
       " (1.1317633087877674, '함으로써'),\n",
       " (1.1317633087877674, '플랫폼'),\n",
       " (1.1317633087877674, '품사'),\n",
       " (1.1317633087877674, '판별하여'),\n",
       " (1.1317633087877674, '특징에'),\n",
       " (1.1317633087877674, '코스메틱'),\n",
       " (1.1317633087877674, '추천하는'),\n",
       " (1.1317633087877674, '준비'),\n",
       " (1.1317633087877674, '제어부가'),\n",
       " (1.1317633087877674, '제n'),\n",
       " (1.1317633087877674, '정보로부터'),\n",
       " (1.1317633087877674, '자동차'),\n",
       " (1.1317633087877674, '입력을'),\n",
       " (1.1317633087877674, '요소'),\n",
       " (1.1317633087877674, '연동하는'),\n",
       " (1.1317633087877674, '연구'),\n",
       " (1.1317633087877674, '어플리케이션의'),\n",
       " (1.1317633087877674, '액션'),\n",
       " (1.1317633087877674, '상담원'),\n",
       " (1.1317633087877674, '블록에'),\n",
       " (1.1317633087877674, '보안키를'),\n",
       " (1.1317633087877674, '법률안'),\n",
       " (1.1317633087877674, '목표관리'),\n",
       " (1.1317633087877674, '도출하는'),\n",
       " (1.1317633087877674, '기준에'),\n",
       " (1.1317633087877674, '기법에'),\n",
       " (1.1317633087877674, '기밀문서'),\n",
       " (1.1317633087877674, '기능'),\n",
       " (1.1317633087877674, '관점'),\n",
       " (1.1317633087877674, '공간'),\n",
       " (1.1317633087877674, '경우에는'),\n",
       " (1.1317633087877674, '객체가'),\n",
       " (1.1317633087877674, '개발'),\n",
       " (1.1317633087877674, 'writer'),\n",
       " (1.1317633087877674, 'wildfire'),\n",
       " (1.1317633087877674, 'vmm'),\n",
       " (1.1317633087877674, 'verbs'),\n",
       " (1.1317633087877674, 'vectorizing'),\n",
       " (1.1317633087877674, 'vbng'),\n",
       " (1.1317633087877674, 'valleys'),\n",
       " (1.1317633087877674, 'upsell'),\n",
       " (1.1317633087877674, 'unifying'),\n",
       " (1.1317633087877674, 'understood'),\n",
       " (1.1317633087877674, 'uncivil'),\n",
       " (1.1317633087877674, 'turing'),\n",
       " (1.1317633087877674, 'transgression'),\n",
       " (1.1317633087877674, 'tpms'),\n",
       " (1.1317633087877674, 'tomography'),\n",
       " (1.1317633087877674, 'timeout'),\n",
       " (1.1317633087877674, 'tabulation'),\n",
       " (1.1317633087877674, 'synaptic'),\n",
       " (1.1317633087877674, 'superimposition'),\n",
       " ...]"
      ]
     },
     "execution_count": 161,
     "metadata": {},
     "output_type": "execute_result"
    }
   ],
   "source": [
    "feats_w_classifier_weight[-100::-1]"
   ]
  },
  {
   "cell_type": "markdown",
   "metadata": {
    "id": "c7rnjWY0XrYj"
   },
   "source": [
    "These are the most relevat features for a negative decision."
   ]
  },
  {
   "cell_type": "code",
   "execution_count": 162,
   "metadata": {
    "id": "520pEG9jXr31"
   },
   "outputs": [
    {
     "data": {
      "text/plain": [
       "[(0.6925237196931254, 'el'),\n",
       " (0.6949201579318467, 'dispositivo'),\n",
       " (0.6973951817729916, '트래픽'),\n",
       " (0.6999541205358534, 'decoy'),\n",
       " (0.7026028647397787, 'cuenta'),\n",
       " (0.7053479477753017, 'sidelink'),\n",
       " (0.7111570798550793, 'grip'),\n",
       " (0.7145524203019042, 'caller'),\n",
       " (0.7208061299243305, 'cyberthreat'),\n",
       " (0.7208061299243305, 'unsymmetrical'),\n",
       " (0.7243175288241765, '가전제품'),\n",
       " (0.7277997905604594, '기관'),\n",
       " (0.7280002818596109, 'lpwan'),\n",
       " (0.7280002818596109, 'wlan'),\n",
       " (0.7314601726774573, 'interworking'),\n",
       " (0.7318719748292674, 'mc'),\n",
       " (0.7358347129889187, 'institutional'),\n",
       " (0.7359530478619208, 'forwarder'),\n",
       " (0.7359530478619208, 'los'),\n",
       " (0.7359530478619208, 'sip'),\n",
       " (0.7359530478619208, 'tether'),\n",
       " (0.7359530478619208, 'una'),\n",
       " (0.7359530478619208, '엣지'),\n",
       " (0.7367777092131462, '고유'),\n",
       " (0.7402042807499921, 'firewall'),\n",
       " (0.7402674486361976, 'modem'),\n",
       " (0.7402674486361976, 'uso'),\n",
       " (0.7402674486361976, 'waps'),\n",
       " (0.7402674486361976, '분할된'),\n",
       " (0.7448434838641423, 'callers'),\n",
       " (0.7448434838641423, 'dca'),\n",
       " (0.7482449028643031, 'traffic'),\n",
       " (0.7497149459440086, 'ae'),\n",
       " (0.7497149459440086, 'dsl'),\n",
       " (0.7497149459440086, 'ics'),\n",
       " (0.7497149459440086, 'micronet'),\n",
       " (0.7497149459440086, '비디오'),\n",
       " (0.7497149459440086, '조회'),\n",
       " (0.7499423613424997, 'vpn'),\n",
       " (0.7501541124090048, 'routers'),\n",
       " (0.7504188153011282, 'con'),\n",
       " (0.7504188153011282, 'dom'),\n",
       " (0.7505332052562037, 'honeypot'),\n",
       " (0.7505332052562037, 'tunnel'),\n",
       " (0.7526112124706117, 'multicast'),\n",
       " (0.7549226289107958, 'applet'),\n",
       " (0.7549226289107958, 'chirp'),\n",
       " (0.7549226289107958, 'cracked'),\n",
       " (0.7549226289107958, 'historial'),\n",
       " (0.7549226289107958, 'primera'),\n",
       " (0.7549226289107958, '가정'),\n",
       " (0.7549226289107958, '분리'),\n",
       " (0.7549226289107958, '애플리케이션에'),\n",
       " (0.7549226289107958, '화분'),\n",
       " (0.7553152323391118, 'packet'),\n",
       " (0.7583281938122792, 'packets'),\n",
       " (0.7605164071660039, '2z'),\n",
       " (0.7605164071660039, 'advertised'),\n",
       " (0.7605164071660039, 'cb'),\n",
       " (0.7605164071660039, 'kytoon'),\n",
       " (0.7605164071660039, 'listings'),\n",
       " (0.7605164071660039, 'middlebox'),\n",
       " (0.7605164071660039, 'pssch'),\n",
       " (0.7605164071660039, 'registrado'),\n",
       " (0.7605164071660039, 'ssb'),\n",
       " (0.7605164071660039, 'unmanaged'),\n",
       " (0.7647078559733744, 'conference'),\n",
       " (0.7659034371546527, 'illegitimate'),\n",
       " (0.7665581479485402, 'asn'),\n",
       " (0.7665581479485402, 'datagram'),\n",
       " (0.7665581479485402, 'datos'),\n",
       " (0.7665581479485402, 'deauthentication'),\n",
       " (0.7665581479485402, 'ixc'),\n",
       " (0.7665581479485402, 'nic'),\n",
       " (0.7665581479485402, 'noc'),\n",
       " (0.7665581479485402, 'pollen'),\n",
       " (0.7665581479485402, 'teleconference'),\n",
       " (0.7665581479485402, '토큰에'),\n",
       " (0.7681919009556982, 'uplink'),\n",
       " (0.7708314218563845, 'endpoints'),\n",
       " (0.7710736511237255, 'vehicular'),\n",
       " (0.771432588858054, 'home'),\n",
       " (0.7722340464739655, 'mms'),\n",
       " (0.7722340464739655, 'multifunctional'),\n",
       " (0.7722773433056378, 'abusive'),\n",
       " (0.7722773433056378, 'dr'),\n",
       " (0.7722773433056378, 'unrecognized'),\n",
       " (0.7731258940953474, 'activator'),\n",
       " (0.7731258940953474, 'antennae'),\n",
       " (0.7731258940953474, 'confined'),\n",
       " (0.7731258940953474, 'harq'),\n",
       " (0.7731258940953474, 'hinting'),\n",
       " (0.7731258940953474, 'homes'),\n",
       " (0.7731258940953474, 'https'),\n",
       " (0.7731258940953474, 'lamppost'),\n",
       " (0.7731258940953474, 'lure'),\n",
       " (0.7731258940953474, 'offender'),\n",
       " (0.7731258940953474, 'pinx'),\n",
       " (0.7731258940953474, 'renderers'),\n",
       " (0.7731258940953474, 'segundo')]"
      ]
     },
     "execution_count": 162,
     "metadata": {},
     "output_type": "execute_result"
    }
   ],
   "source": [
    "feats_w_classifier_weight[:100]"
   ]
  },
  {
   "cell_type": "markdown",
   "metadata": {
    "id": "2KCHhR_bExfa"
   },
   "source": [
    "# Multi-class single-label classification"
   ]
  },
  {
   "cell_type": "markdown",
   "metadata": {
    "id": "BUl_XQlGE53g"
   },
   "source": [
    "Tokenization does not change from the binary problem, as the dataset is the same."
   ]
  },
  {
   "cell_type": "markdown",
   "metadata": {
    "id": "9-vKvHMkE073"
   },
   "source": [
    "## Feature selection\n",
    "\n",
    "Here we use single-label labels"
   ]
  },
  {
   "cell_type": "code",
   "execution_count": 15,
   "metadata": {
    "id": "DYXqOJy7E075"
   },
   "outputs": [],
   "source": [
    "sel = SelectKBest(chi2, k=5000)  # feature selection\n",
    "sel.fit(X_train_tok,y_train)\n",
    "X_train_sel = sel.transform(X_train_tok)\n",
    "X_test_sel = sel.transform(X_test_tok)"
   ]
  },
  {
   "cell_type": "code",
   "execution_count": 16,
   "metadata": {
    "id": "9uZCJLrGE08G"
   },
   "outputs": [
    {
     "data": {
      "text/plain": [
       "array([ True,  True, False, ..., False, False,  True])"
      ]
     },
     "execution_count": 16,
     "metadata": {},
     "output_type": "execute_result"
    }
   ],
   "source": [
    "sel.get_support()"
   ]
  },
  {
   "cell_type": "code",
   "execution_count": 17,
   "metadata": {
    "id": "gLT0SCitE08L"
   },
   "outputs": [
    {
     "data": {
      "text/plain": [
       "<14590x5000 sparse matrix of type '<class 'numpy.int64'>'\n",
       "\twith 736531 stored elements in Compressed Sparse Row format>"
      ]
     },
     "execution_count": 17,
     "metadata": {},
     "output_type": "execute_result"
    }
   ],
   "source": [
    "X_train_sel"
   ]
  },
  {
   "cell_type": "code",
   "execution_count": 18,
   "metadata": {
    "id": "DyK7_GdjE08W"
   },
   "outputs": [
    {
     "data": {
      "text/plain": [
       "<1x5000 sparse matrix of type '<class 'numpy.int64'>'\n",
       "\twith 57 stored elements in Compressed Sparse Row format>"
      ]
     },
     "execution_count": 18,
     "metadata": {},
     "output_type": "execute_result"
    }
   ],
   "source": [
    "X_train_sel[0,:]"
   ]
  },
  {
   "cell_type": "code",
   "execution_count": 19,
   "metadata": {
    "id": "MJIlACkxE08b"
   },
   "outputs": [
    {
     "name": "stdout",
     "output_type": "stream",
     "text": [
      "  (0, 132)\t2\n",
      "  (0, 147)\t1\n",
      "  (0, 230)\t2\n",
      "  (0, 250)\t1\n",
      "  (0, 264)\t3\n",
      "  (0, 313)\t1\n",
      "  (0, 358)\t1\n",
      "  (0, 422)\t3\n",
      "  (0, 424)\t1\n",
      "  (0, 438)\t1\n",
      "  (0, 480)\t2\n",
      "  (0, 488)\t1\n",
      "  (0, 905)\t1\n",
      "  (0, 907)\t1\n",
      "  (0, 934)\t2\n",
      "  (0, 990)\t1\n",
      "  (0, 1135)\t3\n",
      "  (0, 1240)\t1\n",
      "  (0, 1289)\t1\n",
      "  (0, 1497)\t1\n",
      "  (0, 1559)\t1\n",
      "  (0, 1621)\t1\n",
      "  (0, 1814)\t1\n",
      "  (0, 1956)\t1\n",
      "  (0, 2003)\t1\n",
      "  :\t:\n",
      "  (0, 2662)\t1\n",
      "  (0, 2685)\t1\n",
      "  (0, 2812)\t2\n",
      "  (0, 2841)\t3\n",
      "  (0, 2864)\t1\n",
      "  (0, 3166)\t2\n",
      "  (0, 3168)\t1\n",
      "  (0, 3246)\t1\n",
      "  (0, 3415)\t1\n",
      "  (0, 3473)\t1\n",
      "  (0, 3497)\t1\n",
      "  (0, 3703)\t2\n",
      "  (0, 3734)\t1\n",
      "  (0, 3759)\t1\n",
      "  (0, 3763)\t1\n",
      "  (0, 4133)\t6\n",
      "  (0, 4134)\t1\n",
      "  (0, 4213)\t10\n",
      "  (0, 4250)\t1\n",
      "  (0, 4454)\t7\n",
      "  (0, 4456)\t1\n",
      "  (0, 4527)\t1\n",
      "  (0, 4621)\t1\n",
      "  (0, 4636)\t1\n",
      "  (0, 4650)\t1\n"
     ]
    }
   ],
   "source": [
    "print(X_train_sel[0,:])"
   ]
  },
  {
   "cell_type": "markdown",
   "metadata": {
    "id": "u1qbRIgeE08g"
   },
   "source": [
    "Selected feature differ from the binary case, as now they have to be informative with respect to a different set of labels."
   ]
  },
  {
   "cell_type": "code",
   "execution_count": 20,
   "metadata": {
    "id": "EVbxoMzcE08l"
   },
   "outputs": [
    {
     "name": "stdout",
     "output_type": "stream",
     "text": [
      "[array(['activities', 'additional', 'also', 'an', 'and', 'appearance',\n",
      "       'as', 'authentication', 'authenticity', 'average', 'based', 'be',\n",
      "       'compute', 'computer', 'confidence', 'context', 'data',\n",
      "       'determine', 'disclosed', 'engine', 'example', 'face', 'gait',\n",
      "       'heuristic', 'how', 'in', 'include', 'is', 'made', 'may', 'method',\n",
      "       'monitoring', 'more', 'movements', 'on', 'or', 'other',\n",
      "       'predictive', 'preemptively', 'programmed', 'receives',\n",
      "       'regarding', 'relevant', 'score', 'security', 'sensitive',\n",
      "       'sensors', 'system', 'systems', 'the', 'thus', 'user', 'users',\n",
      "       'vision', 'when', 'will', 'with'], dtype='<U23')]\n"
     ]
    }
   ],
   "source": [
    "print(vect.inverse_transform(sel.inverse_transform(X_train_sel[0,:])))"
   ]
  },
  {
   "cell_type": "markdown",
   "metadata": {
    "id": "bqtNzTeME08o"
   },
   "source": [
    "## Weighting"
   ]
  },
  {
   "cell_type": "code",
   "execution_count": 21,
   "metadata": {
    "id": "kddCsL0dE08o"
   },
   "outputs": [],
   "source": [
    "tfidf = TfidfTransformer()  # weighting\n",
    "tfidf.fit(X_train_sel)\n",
    "X_train_vec = tfidf.transform(X_train_sel)\n",
    "X_test_vec =tfidf.transform(X_test_sel)"
   ]
  },
  {
   "cell_type": "code",
   "execution_count": 22,
   "metadata": {
    "id": "iTQeGJJrE08q"
   },
   "outputs": [
    {
     "name": "stdout",
     "output_type": "stream",
     "text": [
      "  (0, 4650)\t0.034272298568714096\n",
      "  (0, 4636)\t0.09441563442789391\n",
      "  (0, 4621)\t0.06222415493203917\n",
      "  (0, 4527)\t0.12091226230577407\n",
      "  (0, 4456)\t0.08109826660544252\n",
      "  (0, 4454)\t0.34343175641297063\n",
      "  (0, 4250)\t0.10444083330306983\n",
      "  (0, 4213)\t0.2098293130559417\n",
      "  (0, 4134)\t0.0583023914838006\n",
      "  (0, 4133)\t0.22569164369898215\n",
      "  (0, 3763)\t0.10112786007181591\n",
      "  (0, 3759)\t0.1133982148558292\n",
      "  (0, 3734)\t0.06417650906055922\n",
      "  (0, 3703)\t0.1845377564700082\n",
      "  (0, 3497)\t0.09815259091710517\n",
      "  (0, 3473)\t0.10838838490452433\n",
      "  (0, 3415)\t0.08428770084936733\n",
      "  (0, 3246)\t0.12556817813384408\n",
      "  (0, 3168)\t0.17856473617256763\n",
      "  (0, 3166)\t0.25444401455767124\n",
      "  (0, 2864)\t0.06025679643819927\n",
      "  (0, 2841)\t0.11318451484390893\n",
      "  (0, 2812)\t0.06373517689641844\n",
      "  (0, 2685)\t0.1471623486233739\n",
      "  (0, 2662)\t0.05262046952507982\n",
      "  :\t:\n",
      "  (0, 2003)\t0.11968098028110531\n",
      "  (0, 1956)\t0.15067277433141268\n",
      "  (0, 1814)\t0.16922589454070208\n",
      "  (0, 1621)\t0.09870197780775031\n",
      "  (0, 1559)\t0.08125720457436793\n",
      "  (0, 1497)\t0.09539358743868143\n",
      "  (0, 1289)\t0.06312193144805782\n",
      "  (0, 1240)\t0.06982790469292266\n",
      "  (0, 1135)\t0.11785880028143918\n",
      "  (0, 990)\t0.10371859858230141\n",
      "  (0, 934)\t0.23514491103999968\n",
      "  (0, 907)\t0.056214065394377684\n",
      "  (0, 905)\t0.13635108229602771\n",
      "  (0, 488)\t0.03976257020505832\n",
      "  (0, 480)\t0.07871228227827023\n",
      "  (0, 438)\t0.13252031165829034\n",
      "  (0, 424)\t0.13069602445925688\n",
      "  (0, 422)\t0.2627578572936257\n",
      "  (0, 358)\t0.04547826034956724\n",
      "  (0, 313)\t0.13128640273970454\n",
      "  (0, 264)\t0.06410727234926107\n",
      "  (0, 250)\t0.03194567743810638\n",
      "  (0, 230)\t0.12022588922074352\n",
      "  (0, 147)\t0.09958671748470396\n",
      "  (0, 132)\t0.22807590244780057\n"
     ]
    }
   ],
   "source": [
    "print(X_train_vec[0,:])"
   ]
  },
  {
   "cell_type": "code",
   "execution_count": 23,
   "metadata": {
    "id": "U-7IAy_2E08s"
   },
   "outputs": [
    {
     "name": "stdout",
     "output_type": "stream",
     "text": [
      "activities 0.034272298568714096\n",
      "additional 0.09441563442789391\n",
      "also 0.06222415493203917\n",
      "an 0.12091226230577407\n",
      "and 0.08109826660544252\n",
      "appearance 0.34343175641297063\n",
      "as 0.10444083330306983\n",
      "authentication 0.2098293130559417\n",
      "authenticity 0.0583023914838006\n",
      "average 0.22569164369898215\n",
      "based 0.10112786007181591\n",
      "be 0.1133982148558292\n",
      "compute 0.06417650906055922\n",
      "computer 0.1845377564700082\n",
      "confidence 0.09815259091710517\n",
      "context 0.10838838490452433\n",
      "data 0.08428770084936733\n",
      "determine 0.12556817813384408\n",
      "disclosed 0.17856473617256763\n",
      "engine 0.25444401455767124\n",
      "example 0.06025679643819927\n",
      "face 0.11318451484390893\n",
      "gait 0.06373517689641844\n",
      "heuristic 0.1471623486233739\n",
      "how 0.05262046952507982\n",
      "in 0.07234580545317308\n",
      "include 0.03557971313596843\n",
      "is 0.22413141851956067\n",
      "made 0.09217845430916606\n",
      "may 0.08278330533398488\n",
      "method 0.061691253819134\n",
      "monitoring 0.026788405829879864\n",
      "more 0.11968098028110531\n",
      "movements 0.15067277433141268\n",
      "on 0.16922589454070208\n",
      "or 0.09870197780775031\n",
      "other 0.08125720457436793\n",
      "predictive 0.09539358743868143\n",
      "preemptively 0.06312193144805782\n",
      "programmed 0.06982790469292266\n",
      "receives 0.11785880028143918\n",
      "regarding 0.10371859858230141\n",
      "relevant 0.23514491103999968\n",
      "score 0.056214065394377684\n",
      "security 0.13635108229602771\n",
      "sensitive 0.03976257020505832\n",
      "sensors 0.07871228227827023\n",
      "system 0.13252031165829034\n",
      "systems 0.13069602445925688\n",
      "the 0.2627578572936257\n",
      "thus 0.04547826034956724\n",
      "user 0.13128640273970454\n",
      "users 0.06410727234926107\n",
      "vision 0.03194567743810638\n",
      "when 0.12022588922074352\n",
      "will 0.09958671748470396\n",
      "with 0.22807590244780057\n"
     ]
    }
   ],
   "source": [
    "for feat,weight in zip(vect.inverse_transform(sel.inverse_transform(X_train_vec[0,:]))[0],X_train_vec[0,:].data):\n",
    "  print(feat,weight)"
   ]
  },
  {
   "cell_type": "markdown",
   "metadata": {
    "id": "hUEjfuYlE08u"
   },
   "source": [
    "## Learning algorithm\n",
    "\n",
    "Linear SVM implement multi-class single-label using a one-vs-rest approach"
   ]
  },
  {
   "cell_type": "code",
   "execution_count": 24,
   "metadata": {
    "id": "gyIr1ypPE08u"
   },
   "outputs": [],
   "source": [
    "learner = LinearSVC()  # linear svm with default parameters\n",
    "classifier = learner.fit(X_train_vec,y_train)\n",
    "predictions = classifier.predict(X_test_vec)"
   ]
  },
  {
   "cell_type": "code",
   "execution_count": 25,
   "metadata": {
    "id": "H_zL5N2-E08w"
   },
   "outputs": [
    {
     "data": {
      "text/plain": [
       "7187"
      ]
     },
     "execution_count": 25,
     "metadata": {},
     "output_type": "execute_result"
    }
   ],
   "source": [
    "len(predictions)"
   ]
  },
  {
   "cell_type": "code",
   "execution_count": 26,
   "metadata": {
    "id": "TqnqooVyE080"
   },
   "outputs": [
    {
     "data": {
      "text/plain": [
       "array(['H04', 'NA', 'G06', ..., 'NA', 'NA', 'NA'], dtype=object)"
      ]
     },
     "execution_count": 26,
     "metadata": {},
     "output_type": "execute_result"
    }
   ],
   "source": [
    "predictions"
   ]
  },
  {
   "cell_type": "markdown",
   "metadata": {
    "id": "rfxllwx8E083"
   },
   "source": [
    "## Evaluation of accuracy"
   ]
  },
  {
   "cell_type": "code",
   "execution_count": 27,
   "metadata": {
    "id": "FAJWosMxE084"
   },
   "outputs": [
    {
     "name": "stdout",
     "output_type": "stream",
     "text": [
      "0.6847085014609712\n"
     ]
    }
   ],
   "source": [
    "correct = 0\n",
    "for prediction,true_label in zip(predictions, y_test):\n",
    "    if prediction==true_label:\n",
    "        correct += 1\n",
    "print(correct/len(predictions))"
   ]
  },
  {
   "cell_type": "markdown",
   "metadata": {
    "id": "Ay23cQTUE087"
   },
   "source": [
    "## Using sklearn pipeline object"
   ]
  },
  {
   "cell_type": "code",
   "execution_count": 41,
   "metadata": {
    "id": "y3y7s_LKE087"
   },
   "outputs": [
    {
     "name": "stdout",
     "output_type": "stream",
     "text": [
      "0.6867956031723946\n"
     ]
    }
   ],
   "source": [
    "pipeline = Pipeline([\n",
    "    ('vect', CountVectorizer()),  # feature extraction\n",
    "    ('sel', SelectKBest(chi2, k=3000)),  # feature selection\n",
    "    ('tfidf', TfidfTransformer()),  # weighting\n",
    "    ('learner', LinearSVC())  # learning algorithm\n",
    "])\n",
    "\n",
    "classifier = pipeline.fit(x_train,y_train)\n",
    "predictions = classifier.predict(x_test)\n",
    "correct = 0\n",
    "for prediction,true_label in zip(predictions, y_test):\n",
    "    if prediction==true_label:\n",
    "        correct += 1\n",
    "print(correct/len(predictions))"
   ]
  },
  {
   "cell_type": "code",
   "execution_count": 42,
   "metadata": {
    "id": "s-rQMii8E089"
   },
   "outputs": [
    {
     "name": "stdout",
     "output_type": "stream",
     "text": [
      "Classification report:\n",
      "              precision    recall  f1-score   support\n",
      "\n",
      "         G06       0.68      0.75      0.71      3149\n",
      "         H04       0.64      0.57      0.60      1767\n",
      "          NA       0.74      0.69      0.71      2271\n",
      "\n",
      "    accuracy                           0.69      7187\n",
      "   macro avg       0.69      0.67      0.68      7187\n",
      "weighted avg       0.69      0.69      0.69      7187\n",
      "\n",
      "Confusion matrix:\n",
      "[[2374  406  369]\n",
      " [ 590 1002  175]\n",
      " [ 549  162 1560]]\n"
     ]
    }
   ],
   "source": [
    "from sklearn.metrics import confusion_matrix, classification_report\n",
    "print('Classification report:')\n",
    "print(classification_report(y_test, predictions))\n",
    "print('Confusion matrix:')\n",
    "cm = confusion_matrix(y_test, predictions)\n",
    "print(cm)"
   ]
  },
  {
   "cell_type": "markdown",
   "metadata": {
    "id": "hD-76IqUZ7Vp"
   },
   "source": [
    "The classification score for the binary classifier we learned earlier is different, though it is trained on exactly the same data. Why?"
   ]
  },
  {
   "cell_type": "markdown",
   "metadata": {
    "id": "DkxDjHG-aSyo"
   },
   "source": [
    "We try a linear svm with one-vs-one model.\n",
    "\n",
    "LinearSVC does not implement OvO.\n",
    "\n",
    "We can wrap it into a OneVsOneClassifier that can be applied to any classifier.\n",
    "\n",
    "(Note that other classifiers natively implement OvO, e.g., sklearn.svm.SVC)"
   ]
  },
  {
   "cell_type": "code",
   "execution_count": 47,
   "metadata": {
    "id": "m7OH-NU6E08_"
   },
   "outputs": [],
   "source": [
    "from sklearn.multiclass import OneVsOneClassifier\n",
    "from sklearn.feature_extraction.text import TfidfVectorizer\n",
    "\n",
    "pipeline = Pipeline([\n",
    "    ('vect', TfidfVectorizer()),  # feature extraction\n",
    "    ('sel', SelectKBest(chi2, k=5000)),  # feature selection\n",
    "    ('tfidf', TfidfTransformer()),  # weighting\n",
    "    ('learner', OneVsOneClassifier(LinearSVC()))  # learning algorithm\n",
    "])\n",
    "\n",
    "classifier = pipeline.fit(x_train,y_train)\n",
    "predictions = classifier.predict(x_test)"
   ]
  },
  {
   "cell_type": "code",
   "execution_count": 48,
   "metadata": {
    "id": "ewi5pJIraQPo"
   },
   "outputs": [
    {
     "name": "stdout",
     "output_type": "stream",
     "text": [
      "Classification report:\n",
      "              precision    recall  f1-score   support\n",
      "\n",
      "         G06       0.67      0.72      0.70      3149\n",
      "         H04       0.63      0.57      0.60      1767\n",
      "          NA       0.71      0.69      0.70      2271\n",
      "\n",
      "    accuracy                           0.68      7187\n",
      "   macro avg       0.67      0.66      0.67      7187\n",
      "weighted avg       0.67      0.68      0.67      7187\n",
      "\n",
      "Confusion matrix:\n",
      "[[2279  433  437]\n",
      " [ 567 1008  192]\n",
      " [ 535  168 1568]]\n"
     ]
    }
   ],
   "source": [
    "from sklearn.metrics import confusion_matrix, classification_report\n",
    "print('Classification report:')\n",
    "print(classification_report(y_test, predictions))\n",
    "print('Confusion matrix:')\n",
    "cm = confusion_matrix(y_test, predictions)\n",
    "print(cm)"
   ]
  },
  {
   "cell_type": "markdown",
   "metadata": {
    "id": "OuYEx5SEpcYo"
   },
   "source": [
    "# Saving classifiers\n",
    "\n",
    "Fitted classifiers (both single object and pipelines), as any scikit object, can be saved and the load for successive reuse.\n",
    "\n",
    "NOTE: saving a file on Colab saves it on the temporary virtual machine on the cloud, to get a persistent copy additional code is require see https://colab.research.google.com/notebooks/io.ipynb"
   ]
  },
  {
   "cell_type": "code",
   "execution_count": null,
   "metadata": {
    "id": "kKq5z7stnzze"
   },
   "outputs": [],
   "source": [
    "import pickle"
   ]
  },
  {
   "cell_type": "code",
   "execution_count": null,
   "metadata": {
    "id": "nmv27GDzqEji"
   },
   "outputs": [],
   "source": [
    "with open('news_en_classifier.pkl',mode='bw') as outputfile:\n",
    "  pickle.dump(pipeline,outputfile)"
   ]
  },
  {
   "cell_type": "code",
   "execution_count": null,
   "metadata": {
    "id": "J4uvKaSaqKvl"
   },
   "outputs": [],
   "source": [
    "with open('news_en_classifier.pkl',mode='br') as inputfile:\n",
    "  pipeline = pickle.load(inputfile)"
   ]
  },
  {
   "cell_type": "code",
   "execution_count": null,
   "metadata": {
    "id": "kz9Md3G6rI5q"
   },
   "outputs": [],
   "source": [
    "pipeline"
   ]
  },
  {
   "cell_type": "code",
   "execution_count": null,
   "metadata": {
    "id": "NdONvx-4rOG2"
   },
   "outputs": [],
   "source": [
    "from google.colab import files\n",
    "\n",
    "files.download('news_en_classifier.pkl')"
   ]
  },
  {
   "cell_type": "code",
   "execution_count": null,
   "metadata": {
    "id": "A1C9OSs9dn4L"
   },
   "outputs": [],
   "source": [
    "files.upload()"
   ]
  },
  {
   "cell_type": "code",
   "execution_count": null,
   "metadata": {
    "id": "iWW76u5EdzqX"
   },
   "outputs": [],
   "source": [
    "with open('news_en_classifier (1).pkl',mode='br') as inputfile:\n",
    "  pipeline2 = pickle.load(inputfile)\n",
    "pipeline2"
   ]
  },
  {
   "cell_type": "code",
   "execution_count": null,
   "metadata": {
    "id": "5kQl_2CpfYLK"
   },
   "outputs": [],
   "source": []
  }
 ],
 "metadata": {
  "colab": {
   "name": "06.1 - Classification - sklearn.ipynb",
   "provenance": []
  },
  "kernelspec": {
   "display_name": "Python 3",
   "language": "python",
   "name": "python3"
  },
  "language_info": {
   "codemirror_mode": {
    "name": "ipython",
    "version": 3
   },
   "file_extension": ".py",
   "mimetype": "text/x-python",
   "name": "python",
   "nbconvert_exporter": "python",
   "pygments_lexer": "ipython3",
   "version": "3.7.4"
  }
 },
 "nbformat": 4,
 "nbformat_minor": 1
}
