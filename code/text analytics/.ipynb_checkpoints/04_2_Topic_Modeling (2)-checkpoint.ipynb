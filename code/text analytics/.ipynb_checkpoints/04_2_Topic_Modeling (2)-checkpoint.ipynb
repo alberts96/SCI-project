{
 "cells": [
  {
   "cell_type": "markdown",
   "metadata": {
    "id": "Y8Il3_ItSiYm"
   },
   "source": [
    "# Topic modeling\n",
    "Let's perform LDA on a collection of reviews"
   ]
  },
  {
   "cell_type": "code",
   "execution_count": 1,
   "metadata": {
    "id": "Tx87Ht3ESiYo"
   },
   "outputs": [],
   "source": [
    "import urllib.request\n",
    "import os\n",
    "\n",
    "def download_file(url,local_file, force=False):\n",
    "    \"\"\"\n",
    "    Helper function to download a file and store it locally\n",
    "    \"\"\"\n",
    "    if not os.path.exists(local_file) or force:\n",
    "        print('Downloading')\n",
    "        with urllib.request.urlopen(url) as opener, \\\n",
    "             open(local_file, mode='w', encoding='utf-8') as outfile:\n",
    "                    outfile.write(opener.read().decode('utf-8'))\n",
    "        print('done')\n",
    "    else:\n",
    "        print('Already downloaded')"
   ]
  },
  {
   "cell_type": "code",
   "execution_count": 2,
   "metadata": {
    "id": "OOUv0Nk5SiYw"
   },
   "outputs": [
    {
     "name": "stdout",
     "output_type": "stream",
     "text": [
      "Downloading\n",
      "done\n"
     ]
    }
   ],
   "source": [
    "review_file = 'news_en_train_small.csv'\n",
    "download_file('http://www.esuli.it/demo/data/news_en_train_small.csv', review_file)"
   ]
  },
  {
   "cell_type": "code",
   "execution_count": 3,
   "metadata": {
    "id": "r1RjPSDQSiY4"
   },
   "outputs": [
    {
     "ename": "IndexError",
     "evalue": "list index out of range",
     "output_type": "error",
     "traceback": [
      "\u001b[1;31m---------------------------------------------------------------------------\u001b[0m",
      "\u001b[1;31mIndexError\u001b[0m                                Traceback (most recent call last)",
      "\u001b[1;32m<ipython-input-3-709ce5fe7d93>\u001b[0m in \u001b[0;36m<module>\u001b[1;34m\u001b[0m\n\u001b[0;32m      4\u001b[0m     \u001b[0mreader\u001b[0m \u001b[1;33m=\u001b[0m \u001b[0mcsv\u001b[0m\u001b[1;33m.\u001b[0m\u001b[0mreader\u001b[0m\u001b[1;33m(\u001b[0m\u001b[0minfile\u001b[0m\u001b[1;33m)\u001b[0m\u001b[1;33m\u001b[0m\u001b[1;33m\u001b[0m\u001b[0m\n\u001b[0;32m      5\u001b[0m     \u001b[1;32mfor\u001b[0m \u001b[0mrow\u001b[0m \u001b[1;32min\u001b[0m \u001b[0mreader\u001b[0m\u001b[1;33m:\u001b[0m\u001b[1;33m\u001b[0m\u001b[1;33m\u001b[0m\u001b[0m\n\u001b[1;32m----> 6\u001b[1;33m         \u001b[0mx_train\u001b[0m\u001b[1;33m.\u001b[0m\u001b[0mappend\u001b[0m\u001b[1;33m(\u001b[0m\u001b[0mrow\u001b[0m\u001b[1;33m[\u001b[0m\u001b[1;36m0\u001b[0m\u001b[1;33m]\u001b[0m\u001b[1;33m)\u001b[0m\u001b[1;33m\u001b[0m\u001b[1;33m\u001b[0m\u001b[0m\n\u001b[0m",
      "\u001b[1;31mIndexError\u001b[0m: list index out of range"
     ]
    }
   ],
   "source": [
    "import csv\n",
    "x_train = list()\n",
    "with open(review_file, encoding='utf-8', newline='') as infile:\n",
    "    reader = csv.reader(infile)\n",
    "    for row in reader:\n",
    "        x_train.append(row[0])"
   ]
  },
  {
   "cell_type": "code",
   "execution_count": 4,
   "metadata": {
    "id": "bXUtl0-ISiY9"
   },
   "outputs": [
    {
     "data": {
      "text/plain": [
       "\"Nigerian women's bobsled team make Winter Olympic history\\r\\r\\nUpdated 1752 GMT (0152 HKT) November 17, 2017\\r\\r\\nOlympic flame arrives in Seoul\\r\\r\\nOlympic flame arrives in Seoul\\r\\r\\nNigeria women's bobsled te\""
      ]
     },
     "execution_count": 4,
     "metadata": {},
     "output_type": "execute_result"
    }
   ],
   "source": [
    "x_train[0][:200]"
   ]
  },
  {
   "cell_type": "markdown",
   "metadata": {
    "id": "4vgrQnpbSiZA"
   },
   "source": [
    "We perform tokenization removing frequent words, stopwords, rare words, and counting frequencies.\n",
    "\n",
    "Every document is converted from a string to a set of the words it is composed of, each one associated with its frequency in the document."
   ]
  },
  {
   "cell_type": "code",
   "execution_count": null,
   "metadata": {
    "id": "wvwdMky_SiZB"
   },
   "outputs": [],
   "source": [
    "from sklearn.feature_extraction.text import CountVectorizer\n",
    "import nltk\n",
    "nltk.download('stopwords')\n",
    "from nltk.corpus import stopwords\n",
    "\n",
    "it_stopwords = stopwords.words('english')\n",
    "\n",
    "tf_vectorizer = CountVectorizer(stop_words=it_stopwords, max_df=0.5, min_df=5,max_features = 1000, ngram_range=(1,2))\n",
    "tf = tf_vectorizer.fit_transform(x_train)"
   ]
  },
  {
   "cell_type": "code",
   "execution_count": null,
   "metadata": {
    "id": "WZR10x29SiZG"
   },
   "outputs": [],
   "source": [
    "from sklearn.decomposition import LatentDirichletAllocation\n",
    "\n",
    "n_components = 8\n",
    "\n",
    "lda = LatentDirichletAllocation(n_components=n_components, max_iter=10,\n",
    "                                learning_method = 'batch',\n",
    "                                n_jobs=-1,verbose=1)\n",
    "lda.fit(tf)\n"
   ]
  },
  {
   "cell_type": "code",
   "execution_count": null,
   "metadata": {
    "id": "S_okkSUlSiZL"
   },
   "outputs": [],
   "source": [
    "def print_top_words(model, feature_names, n_top_words):\n",
    "    for topic_idx, topic in enumerate(model.components_):\n",
    "        message = f'Topic {topic_idx}: '\n",
    "        message += ', '.join([feature_names[i]\n",
    "                             for i in topic.argsort()[:-n_top_words - 1:-1]])\n",
    "        print(message)\n",
    "    print()"
   ]
  },
  {
   "cell_type": "code",
   "execution_count": null,
   "metadata": {
    "id": "fTjdKxqFSiZR"
   },
   "outputs": [],
   "source": [
    "n_top_words = 20\n",
    "tf_feature_names = tf_vectorizer.get_feature_names()\n",
    "print_top_words(lda, tf_feature_names, n_top_words)"
   ]
  },
  {
   "cell_type": "markdown",
   "metadata": {
    "id": "gvc1jYOMSiZU"
   },
   "source": [
    "## Projecting documents into topics\n",
    "The transform methods of the LDA model, transforms the tf vectors of documents into topic vectors.\n",
    "The weights of a topic vector for a document indicates how the content of a document can be considered to be originated by the various topics."
   ]
  },
  {
   "cell_type": "code",
   "execution_count": null,
   "metadata": {
    "id": "L-rtJ9Z7SiZW"
   },
   "outputs": [],
   "source": [
    "doc_topics = lda.transform(tf)\n",
    "doc_topics"
   ]
  },
  {
   "cell_type": "code",
   "execution_count": null,
   "metadata": {
    "id": "WaUvWf6a-15z"
   },
   "outputs": [],
   "source": [
    "doc_topics.shape"
   ]
  },
  {
   "cell_type": "markdown",
   "metadata": {
    "id": "3su7eJkieXFu"
   },
   "source": [
    "The highest weighted topic is the one the document may be assigned to."
   ]
  },
  {
   "cell_type": "code",
   "execution_count": null,
   "metadata": {
    "id": "3ky7-M8xSiZa"
   },
   "outputs": [],
   "source": [
    "import numpy as np\n",
    "\n",
    "np.argmax(doc_topics,axis=1)"
   ]
  },
  {
   "cell_type": "code",
   "execution_count": null,
   "metadata": {
    "id": "sOYQDmm3eDnJ"
   },
   "outputs": [],
   "source": []
  }
 ],
 "metadata": {
  "colab": {
   "name": "04.2 - Topic Modeling.ipynb",
   "provenance": []
  },
  "kernelspec": {
   "display_name": "Python 3",
   "language": "python",
   "name": "python3"
  },
  "language_info": {
   "codemirror_mode": {
    "name": "ipython",
    "version": 3
   },
   "file_extension": ".py",
   "mimetype": "text/x-python",
   "name": "python",
   "nbconvert_exporter": "python",
   "pygments_lexer": "ipython3",
   "version": "3.7.4"
  }
 },
 "nbformat": 4,
 "nbformat_minor": 1
}
