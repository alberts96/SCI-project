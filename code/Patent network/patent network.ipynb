{
 "cells": [
  {
   "cell_type": "markdown",
   "metadata": {},
   "source": [
    "# PATENT NETWORK"
   ]
  },
  {
   "cell_type": "code",
   "execution_count": 2,
   "metadata": {},
   "outputs": [],
   "source": [
    "import numpy as np\n",
    "import pandas as pd \n",
    "import json\n",
    "import timeit\n",
    "import networkx as nx\n",
    "import matplotlib.pyplot as plt"
   ]
  },
  {
   "cell_type": "markdown",
   "metadata": {},
   "source": [
    "## Loading patents"
   ]
  },
  {
   "cell_type": "code",
   "execution_count": 3,
   "metadata": {},
   "outputs": [
    {
     "name": "stdout",
     "output_type": "stream",
     "text": [
      "Unnamed: 0            0\n",
      "title                 0\n",
      "pub_date              0\n",
      "citations             0\n",
      "abstract              0\n",
      "class                 0\n",
      "year                  0\n",
      "abstract_processed    0\n",
      "topic                 0\n",
      "dtype: int64\n"
     ]
    },
    {
     "data": {
      "text/html": [
       "<div>\n",
       "<style scoped>\n",
       "    .dataframe tbody tr th:only-of-type {\n",
       "        vertical-align: middle;\n",
       "    }\n",
       "\n",
       "    .dataframe tbody tr th {\n",
       "        vertical-align: top;\n",
       "    }\n",
       "\n",
       "    .dataframe thead th {\n",
       "        text-align: right;\n",
       "    }\n",
       "</style>\n",
       "<table border=\"1\" class=\"dataframe\">\n",
       "  <thead>\n",
       "    <tr style=\"text-align: right;\">\n",
       "      <th></th>\n",
       "      <th>Unnamed: 0</th>\n",
       "      <th>title</th>\n",
       "      <th>pub_date</th>\n",
       "      <th>citations</th>\n",
       "      <th>abstract</th>\n",
       "      <th>class</th>\n",
       "      <th>year</th>\n",
       "      <th>abstract_processed</th>\n",
       "      <th>topic</th>\n",
       "    </tr>\n",
       "    <tr>\n",
       "      <th>code</th>\n",
       "      <th></th>\n",
       "      <th></th>\n",
       "      <th></th>\n",
       "      <th></th>\n",
       "      <th></th>\n",
       "      <th></th>\n",
       "      <th></th>\n",
       "      <th></th>\n",
       "      <th></th>\n",
       "    </tr>\n",
       "  </thead>\n",
       "  <tbody>\n",
       "    <tr>\n",
       "      <td>US8370262B2</td>\n",
       "      <td>0</td>\n",
       "      <td>System and method for performing secure online...</td>\n",
       "      <td>2013-02-05</td>\n",
       "      <td>['US10681025B2', 'CN106664208B', 'AU2012261635...</td>\n",
       "      <td>\\nThe system and method performing secure onli...</td>\n",
       "      <td>G06</td>\n",
       "      <td>2013</td>\n",
       "      <td>\\nthe system and method performing secure onli...</td>\n",
       "      <td>4</td>\n",
       "    </tr>\n",
       "    <tr>\n",
       "      <td>US10237070B2</td>\n",
       "      <td>1</td>\n",
       "      <td>System and method for sharing keys across auth...</td>\n",
       "      <td>2019-03-19</td>\n",
       "      <td>['US10268809B2', 'JP6538821B2', 'KR101721032B1...</td>\n",
       "      <td>\\nA system, apparatus, method, and machine rea...</td>\n",
       "      <td>H04</td>\n",
       "      <td>2019</td>\n",
       "      <td>\\na system apparatus method and machine readab...</td>\n",
       "      <td>4</td>\n",
       "    </tr>\n",
       "    <tr>\n",
       "      <td>US10637853B2</td>\n",
       "      <td>2</td>\n",
       "      <td>Authentication techniques including speech and...</td>\n",
       "      <td>2020-04-28</td>\n",
       "      <td>['US10706421B2', 'US20160269411A1', 'US1021258...</td>\n",
       "      <td>\\nA system, apparatus, method, and machine rea...</td>\n",
       "      <td>H04</td>\n",
       "      <td>2020</td>\n",
       "      <td>\\na system apparatus method and machine readab...</td>\n",
       "      <td>4</td>\n",
       "    </tr>\n",
       "    <tr>\n",
       "      <td>US10558974B2</td>\n",
       "      <td>3</td>\n",
       "      <td>Methods and systems of providing verification ...</td>\n",
       "      <td>2020-02-11</td>\n",
       "      <td>['US20190149537A1', 'US20180308098A1', 'US2018...</td>\n",
       "      <td>\\nA method and system of providing verificatio...</td>\n",
       "      <td>G06</td>\n",
       "      <td>2020</td>\n",
       "      <td>\\na method and system of providing verificatio...</td>\n",
       "      <td>4</td>\n",
       "    </tr>\n",
       "    <tr>\n",
       "      <td>US10769635B2</td>\n",
       "      <td>4</td>\n",
       "      <td>Authentication techniques including speech and...</td>\n",
       "      <td>2020-09-08</td>\n",
       "      <td>['US9531710B2', 'US10706421B2', 'US20160269411...</td>\n",
       "      <td>\\nA system, apparatus, method, and machine rea...</td>\n",
       "      <td>G06</td>\n",
       "      <td>2020</td>\n",
       "      <td>\\na system apparatus method and machine readab...</td>\n",
       "      <td>1</td>\n",
       "    </tr>\n",
       "    <tr>\n",
       "      <td>...</td>\n",
       "      <td>...</td>\n",
       "      <td>...</td>\n",
       "      <td>...</td>\n",
       "      <td>...</td>\n",
       "      <td>...</td>\n",
       "      <td>...</td>\n",
       "      <td>...</td>\n",
       "      <td>...</td>\n",
       "      <td>...</td>\n",
       "    </tr>\n",
       "    <tr>\n",
       "      <td>KR100477956B1</td>\n",
       "      <td>9471</td>\n",
       "      <td>System and method for filtering message edited...</td>\n",
       "      <td>2005-03-23</td>\n",
       "      <td>['US9501746B2', 'US10110519B2', 'US7133898B1',...</td>\n",
       "      <td>\\r\\nA method and system for filtering a messag...</td>\n",
       "      <td>H04</td>\n",
       "      <td>2005</td>\n",
       "      <td>\\r\\na method and system for filtering a messag...</td>\n",
       "      <td>6</td>\n",
       "    </tr>\n",
       "    <tr>\n",
       "      <td>FR3092468A1</td>\n",
       "      <td>9472</td>\n",
       "      <td>Secure registration and building control system</td>\n",
       "      <td>2020-08-07</td>\n",
       "      <td>['US20150173255A1', 'US10147307B2', 'US9135807...</td>\n",
       "      <td>\\r\\n \\r\\n    \\r\\n            [Systme denregis...</td>\n",
       "      <td>H04</td>\n",
       "      <td>2020</td>\n",
       "      <td>\\r\\n \\r\\n    \\r\\n            [systme denregis...</td>\n",
       "      <td>0</td>\n",
       "    </tr>\n",
       "    <tr>\n",
       "      <td>CN105723378B</td>\n",
       "      <td>9473</td>\n",
       "      <td>Protection system including safety regulation ...</td>\n",
       "      <td>2019-06-18</td>\n",
       "      <td>['JP2017034696A', 'CN107852410B', 'CN105210042...</td>\n",
       "      <td>\\nThis disclosure relates to a kind of protect...</td>\n",
       "      <td>H04</td>\n",
       "      <td>2019</td>\n",
       "      <td>\\nthis disclosure relates to a kind of protect...</td>\n",
       "      <td>3</td>\n",
       "    </tr>\n",
       "    <tr>\n",
       "      <td>EP2813983A1</td>\n",
       "      <td>9474</td>\n",
       "      <td>Method and system for managing social interact...</td>\n",
       "      <td>2014-12-17</td>\n",
       "      <td>['US10324776B2', 'EP2883359B1', 'US9536329B2',...</td>\n",
       "      <td>\\r\\nA method for managing social interactions ...</td>\n",
       "      <td>G06</td>\n",
       "      <td>2014</td>\n",
       "      <td>\\r\\na method for managing social interactions ...</td>\n",
       "      <td>6</td>\n",
       "    </tr>\n",
       "    <tr>\n",
       "      <td>WO2006107201A1</td>\n",
       "      <td>9475</td>\n",
       "      <td>Method and system for generating passwords</td>\n",
       "      <td>2006-10-12</td>\n",
       "      <td>['CA2417901C', 'US6845453B2', 'AU2009200408B2'...</td>\n",
       "      <td>\\r\\nThe invention relates to a method for repr...</td>\n",
       "      <td>H04</td>\n",
       "      <td>2006</td>\n",
       "      <td>\\r\\nthe invention relates to a method for repr...</td>\n",
       "      <td>3</td>\n",
       "    </tr>\n",
       "  </tbody>\n",
       "</table>\n",
       "<p>9476 rows × 9 columns</p>\n",
       "</div>"
      ],
      "text/plain": [
       "                Unnamed: 0                                              title  \\\n",
       "code                                                                            \n",
       "US8370262B2              0  System and method for performing secure online...   \n",
       "US10237070B2             1  System and method for sharing keys across auth...   \n",
       "US10637853B2             2  Authentication techniques including speech and...   \n",
       "US10558974B2             3  Methods and systems of providing verification ...   \n",
       "US10769635B2             4  Authentication techniques including speech and...   \n",
       "...                    ...                                                ...   \n",
       "KR100477956B1         9471  System and method for filtering message edited...   \n",
       "FR3092468A1           9472   Secure registration and building control system    \n",
       "CN105723378B          9473  Protection system including safety regulation ...   \n",
       "EP2813983A1           9474  Method and system for managing social interact...   \n",
       "WO2006107201A1        9475        Method and system for generating passwords    \n",
       "\n",
       "                  pub_date                                          citations  \\\n",
       "code                                                                            \n",
       "US8370262B2     2013-02-05  ['US10681025B2', 'CN106664208B', 'AU2012261635...   \n",
       "US10237070B2    2019-03-19  ['US10268809B2', 'JP6538821B2', 'KR101721032B1...   \n",
       "US10637853B2    2020-04-28  ['US10706421B2', 'US20160269411A1', 'US1021258...   \n",
       "US10558974B2    2020-02-11  ['US20190149537A1', 'US20180308098A1', 'US2018...   \n",
       "US10769635B2    2020-09-08  ['US9531710B2', 'US10706421B2', 'US20160269411...   \n",
       "...                    ...                                                ...   \n",
       "KR100477956B1   2005-03-23  ['US9501746B2', 'US10110519B2', 'US7133898B1',...   \n",
       "FR3092468A1     2020-08-07  ['US20150173255A1', 'US10147307B2', 'US9135807...   \n",
       "CN105723378B    2019-06-18  ['JP2017034696A', 'CN107852410B', 'CN105210042...   \n",
       "EP2813983A1     2014-12-17  ['US10324776B2', 'EP2883359B1', 'US9536329B2',...   \n",
       "WO2006107201A1  2006-10-12  ['CA2417901C', 'US6845453B2', 'AU2009200408B2'...   \n",
       "\n",
       "                                                         abstract class  year  \\\n",
       "code                                                                            \n",
       "US8370262B2     \\nThe system and method performing secure onli...   G06  2013   \n",
       "US10237070B2    \\nA system, apparatus, method, and machine rea...   H04  2019   \n",
       "US10637853B2    \\nA system, apparatus, method, and machine rea...   H04  2020   \n",
       "US10558974B2    \\nA method and system of providing verificatio...   G06  2020   \n",
       "US10769635B2    \\nA system, apparatus, method, and machine rea...   G06  2020   \n",
       "...                                                           ...   ...   ...   \n",
       "KR100477956B1   \\r\\nA method and system for filtering a messag...   H04  2005   \n",
       "FR3092468A1      \\r\\n \\r\\n    \\r\\n            [Systme denregis...   H04  2020   \n",
       "CN105723378B    \\nThis disclosure relates to a kind of protect...   H04  2019   \n",
       "EP2813983A1     \\r\\nA method for managing social interactions ...   G06  2014   \n",
       "WO2006107201A1  \\r\\nThe invention relates to a method for repr...   H04  2006   \n",
       "\n",
       "                                               abstract_processed  topic  \n",
       "code                                                                      \n",
       "US8370262B2     \\nthe system and method performing secure onli...      4  \n",
       "US10237070B2    \\na system apparatus method and machine readab...      4  \n",
       "US10637853B2    \\na system apparatus method and machine readab...      4  \n",
       "US10558974B2    \\na method and system of providing verificatio...      4  \n",
       "US10769635B2    \\na system apparatus method and machine readab...      1  \n",
       "...                                                           ...    ...  \n",
       "KR100477956B1   \\r\\na method and system for filtering a messag...      6  \n",
       "FR3092468A1      \\r\\n \\r\\n    \\r\\n            [systme denregis...      0  \n",
       "CN105723378B    \\nthis disclosure relates to a kind of protect...      3  \n",
       "EP2813983A1     \\r\\na method for managing social interactions ...      6  \n",
       "WO2006107201A1  \\r\\nthe invention relates to a method for repr...      3  \n",
       "\n",
       "[9476 rows x 9 columns]"
      ]
     },
     "execution_count": 3,
     "metadata": {},
     "output_type": "execute_result"
    }
   ],
   "source": [
    "ids = pd.read_csv(r\"../../data/gp-q2-7topics.csv\",index_col='code',skipinitialspace=True)\n",
    "print(ids.isnull().sum())\n",
    "ids "
   ]
  },
  {
   "cell_type": "code",
   "execution_count": 4,
   "metadata": {},
   "outputs": [
    {
     "data": {
      "text/plain": [
       "G06      4726\n",
       "H04      3304\n",
       "other    1446\n",
       "Name: class, dtype: int64"
      ]
     },
     "execution_count": 4,
     "metadata": {},
     "output_type": "execute_result"
    }
   ],
   "source": [
    "ids['class'] = [cl if cl=='G06' or cl=='H04' else 'other' for cl in ids['class']  ]\n",
    "ids['class'].value_counts()"
   ]
  },
  {
   "cell_type": "code",
   "execution_count": 5,
   "metadata": {},
   "outputs": [
    {
     "data": {
      "text/html": [
       "<div>\n",
       "<style scoped>\n",
       "    .dataframe tbody tr th:only-of-type {\n",
       "        vertical-align: middle;\n",
       "    }\n",
       "\n",
       "    .dataframe tbody tr th {\n",
       "        vertical-align: top;\n",
       "    }\n",
       "\n",
       "    .dataframe thead th {\n",
       "        text-align: right;\n",
       "    }\n",
       "</style>\n",
       "<table border=\"1\" class=\"dataframe\">\n",
       "  <thead>\n",
       "    <tr style=\"text-align: right;\">\n",
       "      <th>topic</th>\n",
       "      <th>0</th>\n",
       "      <th>1</th>\n",
       "      <th>2</th>\n",
       "      <th>3</th>\n",
       "      <th>4</th>\n",
       "      <th>5</th>\n",
       "      <th>6</th>\n",
       "    </tr>\n",
       "    <tr>\n",
       "      <th>class</th>\n",
       "      <th></th>\n",
       "      <th></th>\n",
       "      <th></th>\n",
       "      <th></th>\n",
       "      <th></th>\n",
       "      <th></th>\n",
       "      <th></th>\n",
       "    </tr>\n",
       "  </thead>\n",
       "  <tbody>\n",
       "    <tr>\n",
       "      <td>G06</td>\n",
       "      <td>696</td>\n",
       "      <td>480</td>\n",
       "      <td>391</td>\n",
       "      <td>770</td>\n",
       "      <td>897</td>\n",
       "      <td>958</td>\n",
       "      <td>534</td>\n",
       "    </tr>\n",
       "    <tr>\n",
       "      <td>H04</td>\n",
       "      <td>406</td>\n",
       "      <td>249</td>\n",
       "      <td>252</td>\n",
       "      <td>293</td>\n",
       "      <td>689</td>\n",
       "      <td>1107</td>\n",
       "      <td>308</td>\n",
       "    </tr>\n",
       "    <tr>\n",
       "      <td>other</td>\n",
       "      <td>119</td>\n",
       "      <td>99</td>\n",
       "      <td>146</td>\n",
       "      <td>700</td>\n",
       "      <td>88</td>\n",
       "      <td>227</td>\n",
       "      <td>67</td>\n",
       "    </tr>\n",
       "  </tbody>\n",
       "</table>\n",
       "</div>"
      ],
      "text/plain": [
       "topic    0    1    2    3    4     5    6\n",
       "class                                    \n",
       "G06    696  480  391  770  897   958  534\n",
       "H04    406  249  252  293  689  1107  308\n",
       "other  119   99  146  700   88   227   67"
      ]
     },
     "execution_count": 5,
     "metadata": {},
     "output_type": "execute_result"
    }
   ],
   "source": [
    "ids['class_topic'] = [ cl + '_' + str(topic) for (cl,topic) in ids[['class','topic']].values]\n",
    "pd.crosstab(ids['class'],ids['topic'])"
   ]
  },
  {
   "cell_type": "markdown",
   "metadata": {},
   "source": [
    "## Building the network"
   ]
  },
  {
   "cell_type": "code",
   "execution_count": 6,
   "metadata": {},
   "outputs": [],
   "source": [
    "G = nx.Graph()\n",
    "\n",
    "for code, patent in ids.iterrows():\n",
    "    patent['class_topic'] = patent['class'] + '_' + str(patent['topic'])\n",
    "    if patent['citations'] != '[]': #citation is a string represetnation of a list \n",
    "        for l in str(patent['citations'][1:-1]).split(','):\n",
    "            link = l.replace(\" \",\"\")[1:-1]\n",
    "            if link in ids.index and link!=code: \n",
    "                G.add_edge(code, str(link) )"
   ]
  },
  {
   "cell_type": "code",
   "execution_count": 7,
   "metadata": {},
   "outputs": [
    {
     "data": {
      "image/png": "[encoded data removed]",
      "text/plain": [
       "<Figure size 432x288 with 1 Axes>"
      ]
     },
     "metadata": {
      "needs_background": "light"
     },
     "output_type": "display_data"
    },
    {
     "name": "stdout",
     "output_type": "stream",
     "text": [
      "density:  0.0006411086026523331\n",
      "average clustering coefficient:  0.10546879732181237\n"
     ]
    }
   ],
   "source": [
    "plt.plot(nx.degree_histogram(G))\n",
    "plt.show()\n",
    "print('density: ', nx.density(G))\n",
    "print('average clustering coefficient: ', nx.average_clustering(G))"
   ]
  },
  {
   "cell_type": "code",
   "execution_count": 8,
   "metadata": {},
   "outputs": [
    {
     "name": "stdout",
     "output_type": "stream",
     "text": [
      "number of nodes:  9476\n"
     ]
    },
    {
     "data": {
      "text/plain": [
       "H04_5      1107\n",
       "G06_5       958\n",
       "G06_4       897\n",
       "G06_3       770\n",
       "other_3     700\n",
       "G06_0       696\n",
       "H04_4       689\n",
       "G06_6       534\n",
       "G06_1       480\n",
       "H04_0       406\n",
       "G06_2       391\n",
       "H04_6       308\n",
       "H04_3       293\n",
       "H04_2       252\n",
       "H04_1       249\n",
       "other_5     227\n",
       "other_2     146\n",
       "other_0     119\n",
       "other_1      99\n",
       "other_4      88\n",
       "other_6      67\n",
       "dtype: int64"
      ]
     },
     "execution_count": 8,
     "metadata": {},
     "output_type": "execute_result"
    }
   ],
   "source": [
    "ids['class']=ids['class'].astype('str')\n",
    "\n",
    "nx.set_node_attributes(G, 'NA', name='class')\n",
    "for node in ids.index:\n",
    "    nx.set_node_attributes(G, {node: str(ids.loc[node,'class'])}, name='class')\n",
    "    nx.set_node_attributes(G, {node: str(ids.loc[node,'topic'])}, name='topic')\n",
    "    nx.set_node_attributes(G, {node: str(ids.loc[node,'class_topic'])}, name='class_topic')\n",
    "                           \n",
    "print('number of nodes: ', len(G.nodes))\n",
    "pd.Series( [G.nodes[node]['class_topic'] for node in G.nodes]).value_counts()"
   ]
  },
  {
   "cell_type": "markdown",
   "metadata": {},
   "source": [
    "# Components"
   ]
  },
  {
   "cell_type": "code",
   "execution_count": 11,
   "metadata": {},
   "outputs": [
    {
     "name": "stdout",
     "output_type": "stream",
     "text": [
      "average componets size:  24.359897172236504\n",
      "[8104, 120, 68, 45, 22, 18, 17] etc...\n"
     ]
    }
   ],
   "source": [
    "components =  [c for c in sorted(nx.connected_components(G), key=len, reverse=True)]\n",
    "avg_size = np.average([len(c) for c in components])\n",
    "print('average componets size: ', avg_size)\n",
    "print([len(c) for c in components[:7]],'etc...')"
   ]
  },
  {
   "cell_type": "code",
   "execution_count": 13,
   "metadata": {},
   "outputs": [
    {
     "name": "stdout",
     "output_type": "stream",
     "text": [
      "8104 0.11368707831513401\n",
      "120 0.5639412318862849\n",
      "68 0.020647653000594176\n",
      "45 0.0\n"
     ]
    }
   ],
   "source": [
    "Large = components[0]\n",
    "L = G.subgraph(Large)\n",
    "nx.write_graphml(L, \"../../data/LargeComp7topics.graphml\")\n",
    "\n",
    "mediums = [c for c in components[1:] if len(c) >= avg_size]\n",
    "ms = G.subgraph([node  for c in mediums for node in c])\n",
    "nx.write_graphml(ms, \"../../data/mediumComps7topics.graphml\")\n",
    "\n",
    "smalls = [c for c in components[1:] if len(c) < avg_size]\n",
    "ss = G.subgraph([node  for c in smalls for node in c])\n",
    "nx.write_graphml(ss, \"../../data/smallmComps7topics.graphml\")\n",
    "\n",
    "print(len(Large),nx.average_clustering(G,Large))\n",
    "for c in mediums: print(len(c),nx.average_clustering(G,c))"
   ]
  },
  {
   "cell_type": "code",
   "execution_count": 14,
   "metadata": {},
   "outputs": [
    {
     "data": {
      "text/plain": [
       "389"
      ]
     },
     "execution_count": 14,
     "metadata": {},
     "output_type": "execute_result"
    }
   ],
   "source": [
    "len(components)"
   ]
  },
  {
   "cell_type": "code",
   "execution_count": 15,
   "metadata": {},
   "outputs": [
    {
     "name": "stdout",
     "output_type": "stream",
     "text": [
      "\n",
      "\n",
      "                 120\n",
      "mobile           102\n",
      "content           51\n",
      "communication     33\n",
      "search            25\n",
      "                ... \n",
      "availability       1\n",
      "box                1\n",
      "television         1\n",
      "predictive         1\n",
      "transcoded         1\n",
      "Length: 181, dtype: int64\n",
      "\n",
      "\n",
      "                68\n",
      "content         22\n",
      "system          17\n",
      "video           16\n",
      "methods         15\n",
      "                ..\n",
      "short            1\n",
      "pre-selected     1\n",
      "prevention       1\n",
      "progressive      1\n",
      "popularity       1\n",
      "Length: 228, dtype: int64\n",
      "\n",
      "\n",
      "                45\n",
      "methods         13\n",
      "data            11\n",
      "digital          8\n",
      "signals          8\n",
      "                ..\n",
      "live             1\n",
      "act              1\n",
      "preventing       1\n",
      "environments     1\n",
      "techniques       1\n",
      "Length: 139, dtype: int64\n"
     ]
    }
   ],
   "source": [
    "import spacy\n",
    "from spacy.lang.en import English \n",
    "stopwords = spacy.lang.en.stop_words.STOP_WORDS\n",
    "for c in mediums:\n",
    "    print('\\n')\n",
    "    titles = [[w.lower() for w in title.split(' ') if w not in stopwords] for title in ids.loc[c,'title']]\n",
    "    titles = [w  for title in titles for w in title]\n",
    "    print(pd.Series(titles).value_counts())"
   ]
  },
  {
   "cell_type": "markdown",
   "metadata": {},
   "source": [
    "We analyse titles of medium size components to find something intersting.\n",
    "But we eill focus on the unique large component found.\n",
    "# Large component"
   ]
  },
  {
   "cell_type": "code",
   "execution_count": 17,
   "metadata": {},
   "outputs": [
    {
     "name": "stdout",
     "output_type": "stream",
     "text": [
      "9476\n",
      "8104\n"
     ]
    }
   ],
   "source": [
    "L = nx.read_graphml( \"../../data/LargeComp7topics.graphml\")\n",
    "print(len(G))\n",
    "print(len(L))"
   ]
  },
  {
   "cell_type": "markdown",
   "metadata": {},
   "source": [
    "# CORES"
   ]
  },
  {
   "cell_type": "code",
   "execution_count": 19,
   "metadata": {},
   "outputs": [
    {
     "name": "stdout",
     "output_type": "stream",
     "text": [
      "1     2589\n",
      "2     1587\n",
      "3      918\n",
      "4      708\n",
      "5      573\n",
      "6      480\n",
      "8      407\n",
      "7      321\n",
      "9      138\n",
      "11      89\n",
      "10      77\n",
      "13      63\n",
      "12      53\n",
      "14      51\n",
      "15      50\n",
      "dtype: int64\n"
     ]
    }
   ],
   "source": [
    "G = L.copy()\n",
    "cores = nx.core_number(G)\n",
    "print(pd.Series(cores).value_counts())\n",
    "for node in G.nodes:\n",
    "     nx.set_node_attributes(G, {node: cores[node]}, name='core')"
   ]
  },
  {
   "cell_type": "code",
   "execution_count": 20,
   "metadata": {},
   "outputs": [],
   "source": [
    "ids['core'] = [0 for patent in ids.index]\n",
    "for patent in cores.keys():\n",
    "    ids.loc[patent,'core'] = cores[node]\n",
    "    "
   ]
  },
  {
   "cell_type": "markdown",
   "metadata": {},
   "source": [
    "## Community detection "
   ]
  },
  {
   "cell_type": "markdown",
   "metadata": {},
   "source": [
    "[Louvain](https://en.wikipedia.org/wiki/Louvain_method) is is not to computationally expensive and we can use it on the entire net."
   ]
  },
  {
   "cell_type": "code",
   "execution_count": 21,
   "metadata": {},
   "outputs": [],
   "source": [
    "import community as community_louvain\n",
    "import matplotlib.cm as cm\n",
    "import matplotlib.pyplot as plt\n",
    "import networkx as nx\n",
    "\n",
    "\n",
    "\n",
    "# compute the best partition\n",
    "partition = community_louvain.best_partition(G)\n",
    "nx.set_node_attributes(G,{node: partition[node] for node in partition},'louvain')"
   ]
  },
  {
   "cell_type": "code",
   "execution_count": 22,
   "metadata": {},
   "outputs": [],
   "source": [
    "for node in G.nodes:\n",
    "    ids.loc[node,'louvain'] = G.nodes[node]['louvain']"
   ]
  },
  {
   "cell_type": "code",
   "execution_count": 23,
   "metadata": {},
   "outputs": [
    {
     "data": {
      "text/plain": [
       "4.0     991\n",
       "8.0     888\n",
       "12.0    799\n",
       "5.0     700\n",
       "0.0     655\n",
       "2.0     602\n",
       "14.0    506\n",
       "3.0     492\n",
       "1.0     452\n",
       "16.0    395\n",
       "15.0    375\n",
       "6.0     283\n",
       "20.0    188\n",
       "7.0     183\n",
       "17.0    138\n",
       "10.0    127\n",
       "13.0    106\n",
       "9.0      79\n",
       "27.0     58\n",
       "23.0     23\n",
       "24.0     10\n",
       "18.0     10\n",
       "21.0      8\n",
       "26.0      8\n",
       "19.0      8\n",
       "22.0      7\n",
       "11.0      6\n",
       "28.0      4\n",
       "25.0      3\n",
       "Name: louvain, dtype: int64"
      ]
     },
     "execution_count": 23,
     "metadata": {},
     "output_type": "execute_result"
    }
   ],
   "source": [
    "ids.louvain.value_counts()"
   ]
  },
  {
   "cell_type": "code",
   "execution_count": 24,
   "metadata": {},
   "outputs": [],
   "source": [
    "partitions = [[node for node in partition if partition[node] == part] for part in list(pd.Series([key for key in partition.values()]).unique())]\n",
    "partitions =  [c for c in sorted(partitions, key=len, reverse=True)]"
   ]
  },
  {
   "cell_type": "code",
   "execution_count": 25,
   "metadata": {},
   "outputs": [],
   "source": [
    "df = ids.loc[ids.index.isin(G.nodes)]"
   ]
  },
  {
   "cell_type": "markdown",
   "metadata": {},
   "source": [
    "### Community Cores"
   ]
  },
  {
   "cell_type": "code",
   "execution_count": 26,
   "metadata": {},
   "outputs": [
    {
     "name": "stdout",
     "output_type": "stream",
     "text": [
      "8104\n",
      "9476\n"
     ]
    },
    {
     "data": {
      "text/plain": [
       "Unnamed: 0               0\n",
       "title                    0\n",
       "pub_date                 0\n",
       "citations                0\n",
       "abstract                 0\n",
       "class                    0\n",
       "year                     0\n",
       "abstract_processed       0\n",
       "topic                    0\n",
       "class_topic              0\n",
       "core                     0\n",
       "louvain               1372\n",
       "dtype: int64"
      ]
     },
     "execution_count": 26,
     "metadata": {},
     "output_type": "execute_result"
    }
   ],
   "source": [
    "\n",
    "print(len(G))\n",
    "print(len(ids))\n",
    "ids.isnull().sum()"
   ]
  },
  {
   "cell_type": "code",
   "execution_count": 27,
   "metadata": {},
   "outputs": [],
   "source": [
    "ids = ids[ids.louvain.notna()]"
   ]
  },
  {
   "cell_type": "code",
   "execution_count": 28,
   "metadata": {},
   "outputs": [],
   "source": [
    "for community in ids['louvain'].astype(int).unique() :\n",
    "    globals()['LC'+str(community)] = G.subgraph([node for node in G.nodes if G.nodes[node]['louvain']==community])\n",
    "LCs = [globals()['LC'+str(community)] for community in ids['louvain'].astype(int).unique() ]\n",
    "LCs = [G.subgraph([node for node in G.nodes if G.nodes[node]['louvain']==community]) for community in ids['louvain'].astype(int).unique()]"
   ]
  },
  {
   "cell_type": "code",
   "execution_count": 29,
   "metadata": {},
   "outputs": [
    {
     "name": "stderr",
     "output_type": "stream",
     "text": [
      "C:\\Users\\carlo\\Anaconda3\\lib\\site-packages\\pandas\\core\\indexing.py:376: SettingWithCopyWarning: \n",
      "A value is trying to be set on a copy of a slice from a DataFrame.\n",
      "Try using .loc[row_indexer,col_indexer] = value instead\n",
      "\n",
      "See the caveats in the documentation: http://pandas.pydata.org/pandas-docs/stable/user_guide/indexing.html#returning-a-view-versus-a-copy\n",
      "  self.obj[key] = _infer_fill_value(value)\n",
      "C:\\Users\\carlo\\Anaconda3\\lib\\site-packages\\pandas\\core\\indexing.py:494: SettingWithCopyWarning: \n",
      "A value is trying to be set on a copy of a slice from a DataFrame.\n",
      "Try using .loc[row_indexer,col_indexer] = value instead\n",
      "\n",
      "See the caveats in the documentation: http://pandas.pydata.org/pandas-docs/stable/user_guide/indexing.html#returning-a-view-versus-a-copy\n",
      "  self.obj[item] = s\n"
     ]
    }
   ],
   "source": [
    "for LC in LCs:\n",
    "    LCcores = nx.core_number(LC)\n",
    "    for node in LC.nodes:\n",
    "        nx.set_node_attributes(LC, {node: LCcores[node]}, name='LCcore')\n",
    "        nx.set_node_attributes(G,{node:LCcores[node]},'LCcore')\n",
    "        ids.loc[node,'LCcore'] = LCcores[node]\n"
   ]
  },
  {
   "cell_type": "code",
   "execution_count": 30,
   "metadata": {},
   "outputs": [
    {
     "name": "stdout",
     "output_type": "stream",
     "text": [
      "8.0\n",
      "5.0\n",
      "6.0\n",
      "4.0\n",
      "2.0\n",
      "5.0\n",
      "2.0\n",
      "15.0\n",
      "10.0\n",
      "5.0\n",
      "3.0\n",
      "6.0\n",
      "4.0\n",
      "1.0\n",
      "6.0\n",
      "3.0\n",
      "2.0\n",
      "4.0\n",
      "8.0\n",
      "1.0\n",
      "1.0\n",
      "2.0\n",
      "1.0\n",
      "1.0\n",
      "2.0\n",
      "1.0\n",
      "1.0\n",
      "1.0\n",
      "1.0\n"
     ]
    }
   ],
   "source": [
    "louvains_top = []\n",
    "for lc in ids['louvain'].astype(int).unique():\n",
    "    d = ids[ids.louvain==lc]\n",
    "    m= max(d.LCcore)\n",
    "    print(m)\n",
    "    louvains_top.append(d[d.LCcore==m]) "
   ]
  },
  {
   "cell_type": "code",
   "execution_count": 31,
   "metadata": {},
   "outputs": [
    {
     "name": "stdout",
     "output_type": "stream",
     "text": [
      "679\n"
     ]
    },
    {
     "data": {
      "text/html": [
       "<div>\n",
       "<style scoped>\n",
       "    .dataframe tbody tr th:only-of-type {\n",
       "        vertical-align: middle;\n",
       "    }\n",
       "\n",
       "    .dataframe tbody tr th {\n",
       "        vertical-align: top;\n",
       "    }\n",
       "\n",
       "    .dataframe thead th {\n",
       "        text-align: right;\n",
       "    }\n",
       "</style>\n",
       "<table border=\"1\" class=\"dataframe\">\n",
       "  <thead>\n",
       "    <tr style=\"text-align: right;\">\n",
       "      <th></th>\n",
       "      <th>Unnamed: 0</th>\n",
       "      <th>title</th>\n",
       "      <th>pub_date</th>\n",
       "      <th>citations</th>\n",
       "      <th>abstract</th>\n",
       "      <th>class</th>\n",
       "      <th>year</th>\n",
       "      <th>abstract_processed</th>\n",
       "      <th>topic</th>\n",
       "      <th>class_topic</th>\n",
       "      <th>core</th>\n",
       "      <th>louvain</th>\n",
       "      <th>LCcore</th>\n",
       "    </tr>\n",
       "    <tr>\n",
       "      <th>code</th>\n",
       "      <th></th>\n",
       "      <th></th>\n",
       "      <th></th>\n",
       "      <th></th>\n",
       "      <th></th>\n",
       "      <th></th>\n",
       "      <th></th>\n",
       "      <th></th>\n",
       "      <th></th>\n",
       "      <th></th>\n",
       "      <th></th>\n",
       "      <th></th>\n",
       "      <th></th>\n",
       "    </tr>\n",
       "  </thead>\n",
       "  <tbody>\n",
       "    <tr>\n",
       "      <td>EP3410328A1</td>\n",
       "      <td>29</td>\n",
       "      <td>Method and system to distinguish between a hum...</td>\n",
       "      <td>2018-12-05</td>\n",
       "      <td>['US9531710B2', 'US10032010B2', 'US10083304B2'...</td>\n",
       "      <td>\\nA system and method to distinguish between a...</td>\n",
       "      <td>G06</td>\n",
       "      <td>2018</td>\n",
       "      <td>\\na system and method to distinguish between a...</td>\n",
       "      <td>0</td>\n",
       "      <td>G06_0</td>\n",
       "      <td>2</td>\n",
       "      <td>0.0</td>\n",
       "      <td>8.0</td>\n",
       "    </tr>\n",
       "    <tr>\n",
       "      <td>US10032010B2</td>\n",
       "      <td>30</td>\n",
       "      <td>System, device, and method of visual login and...</td>\n",
       "      <td>2018-07-24</td>\n",
       "      <td>['US9071969B2', 'US10839065B2', 'US20190364019...</td>\n",
       "      <td>\\nDevices, systems, and methods of detecting u...</td>\n",
       "      <td>G06</td>\n",
       "      <td>2018</td>\n",
       "      <td>\\ndevices systems and methods of detecting use...</td>\n",
       "      <td>1</td>\n",
       "      <td>G06_1</td>\n",
       "      <td>2</td>\n",
       "      <td>0.0</td>\n",
       "      <td>8.0</td>\n",
       "    </tr>\n",
       "    <tr>\n",
       "      <td>US9547766B2</td>\n",
       "      <td>31</td>\n",
       "      <td>Device, system, and method of detecting malici...</td>\n",
       "      <td>2017-01-17</td>\n",
       "      <td>['US10230718B2', 'US10049209B2', 'US9071969B2'...</td>\n",
       "      <td>\\nDevices, systems, and methods of detecting u...</td>\n",
       "      <td>G06</td>\n",
       "      <td>2017</td>\n",
       "      <td>\\ndevices systems and methods of detecting use...</td>\n",
       "      <td>1</td>\n",
       "      <td>G06_1</td>\n",
       "      <td>2</td>\n",
       "      <td>0.0</td>\n",
       "      <td>8.0</td>\n",
       "    </tr>\n",
       "    <tr>\n",
       "      <td>US10740758B2</td>\n",
       "      <td>32</td>\n",
       "      <td>Context-dependent authentication system, metho...</td>\n",
       "      <td>2020-08-11</td>\n",
       "      <td>['US9531710B2', 'US10164985B2', 'US10002244B2'...</td>\n",
       "      <td>\\nA method for authenticating a user using a u...</td>\n",
       "      <td>G06</td>\n",
       "      <td>2020</td>\n",
       "      <td>\\na method for authenticating a user using a u...</td>\n",
       "      <td>6</td>\n",
       "      <td>G06_6</td>\n",
       "      <td>2</td>\n",
       "      <td>0.0</td>\n",
       "      <td>8.0</td>\n",
       "    </tr>\n",
       "    <tr>\n",
       "      <td>US10055560B2</td>\n",
       "      <td>35</td>\n",
       "      <td>Device, method, and system of detecting multip...</td>\n",
       "      <td>2018-08-21</td>\n",
       "      <td>['US10230718B2', 'US10049209B2', 'US9071969B2'...</td>\n",
       "      <td>\\nDevices, systems, and methods of detecting u...</td>\n",
       "      <td>G06</td>\n",
       "      <td>2018</td>\n",
       "      <td>\\ndevices systems and methods of detecting use...</td>\n",
       "      <td>1</td>\n",
       "      <td>G06_1</td>\n",
       "      <td>2</td>\n",
       "      <td>0.0</td>\n",
       "      <td>8.0</td>\n",
       "    </tr>\n",
       "  </tbody>\n",
       "</table>\n",
       "</div>"
      ],
      "text/plain": [
       "              Unnamed: 0                                              title  \\\n",
       "code                                                                          \n",
       "EP3410328A1           29  Method and system to distinguish between a hum...   \n",
       "US10032010B2          30  System, device, and method of visual login and...   \n",
       "US9547766B2           31  Device, system, and method of detecting malici...   \n",
       "US10740758B2          32  Context-dependent authentication system, metho...   \n",
       "US10055560B2          35  Device, method, and system of detecting multip...   \n",
       "\n",
       "                pub_date                                          citations  \\\n",
       "code                                                                          \n",
       "EP3410328A1   2018-12-05  ['US9531710B2', 'US10032010B2', 'US10083304B2'...   \n",
       "US10032010B2  2018-07-24  ['US9071969B2', 'US10839065B2', 'US20190364019...   \n",
       "US9547766B2   2017-01-17  ['US10230718B2', 'US10049209B2', 'US9071969B2'...   \n",
       "US10740758B2  2020-08-11  ['US9531710B2', 'US10164985B2', 'US10002244B2'...   \n",
       "US10055560B2  2018-08-21  ['US10230718B2', 'US10049209B2', 'US9071969B2'...   \n",
       "\n",
       "                                                       abstract class  year  \\\n",
       "code                                                                          \n",
       "EP3410328A1   \\nA system and method to distinguish between a...   G06  2018   \n",
       "US10032010B2  \\nDevices, systems, and methods of detecting u...   G06  2018   \n",
       "US9547766B2   \\nDevices, systems, and methods of detecting u...   G06  2017   \n",
       "US10740758B2  \\nA method for authenticating a user using a u...   G06  2020   \n",
       "US10055560B2  \\nDevices, systems, and methods of detecting u...   G06  2018   \n",
       "\n",
       "                                             abstract_processed  topic  \\\n",
       "code                                                                     \n",
       "EP3410328A1   \\na system and method to distinguish between a...      0   \n",
       "US10032010B2  \\ndevices systems and methods of detecting use...      1   \n",
       "US9547766B2   \\ndevices systems and methods of detecting use...      1   \n",
       "US10740758B2  \\na method for authenticating a user using a u...      6   \n",
       "US10055560B2  \\ndevices systems and methods of detecting use...      1   \n",
       "\n",
       "             class_topic  core  louvain  LCcore  \n",
       "code                                             \n",
       "EP3410328A1        G06_0     2      0.0     8.0  \n",
       "US10032010B2       G06_1     2      0.0     8.0  \n",
       "US9547766B2        G06_1     2      0.0     8.0  \n",
       "US10740758B2       G06_6     2      0.0     8.0  \n",
       "US10055560B2       G06_1     2      0.0     8.0  "
      ]
     },
     "execution_count": 31,
     "metadata": {},
     "output_type": "execute_result"
    }
   ],
   "source": [
    "top_patents =louvains_top[0]\n",
    "for top in louvains_top[1:]:\n",
    "    top_patents = top_patents.append(top)\n",
    "print(len(top_patents))\n",
    "top_patents.head()"
   ]
  },
  {
   "cell_type": "code",
   "execution_count": 33,
   "metadata": {},
   "outputs": [],
   "source": [
    "top_patents.to_csv('../../data/bestPatentsPeLouvain.csv')"
   ]
  },
  {
   "cell_type": "markdown",
   "metadata": {},
   "source": [
    "## Topic analysis"
   ]
  },
  {
   "cell_type": "code",
   "execution_count": 34,
   "metadata": {},
   "outputs": [
    {
     "name": "stdout",
     "output_type": "stream",
     "text": [
      "1173\n",
      "555\n",
      "657\n",
      "1287\n",
      "1587\n",
      "2066\n",
      "779\n"
     ]
    }
   ],
   "source": [
    "GT0 = G.subgraph([node for node in G.nodes if G.nodes[node]['topic']=='0'])\n",
    "GT1 = G.subgraph([node for node in G.nodes if G.nodes[node]['topic']=='1'])\n",
    "GT2 = G.subgraph([node for node in G.nodes if G.nodes[node]['topic']=='2'])\n",
    "GT3 = G.subgraph([node for node in G.nodes if G.nodes[node]['topic']=='3'])\n",
    "GT4 = G.subgraph([node for node in G.nodes if G.nodes[node]['topic']=='4'])\n",
    "GT5 = G.subgraph([node for node in G.nodes if G.nodes[node]['topic']=='5'])\n",
    "GT6 = G.subgraph([node for node in G.nodes if G.nodes[node]['topic']=='6'])\n",
    "\n",
    "GTs = [GT0,GT1,GT2,GT3,GT4,GT5,GT6]   \n",
    "for i in GTs:print(len(i))"
   ]
  },
  {
   "cell_type": "markdown",
   "metadata": {},
   "source": [
    "### TOPIC CORES"
   ]
  },
  {
   "cell_type": "code",
   "execution_count": 36,
   "metadata": {},
   "outputs": [],
   "source": [
    "for GT in GTs:\n",
    "    GTcores = nx.core_number(GT)\n",
    "    for node in GT.nodes:\n",
    "        nx.set_node_attributes(GT, {node: GTcores[node]}, name='GTcore')\n",
    "        nx.set_node_attributes(G,{node:GTcores[node]},'GTcore')\n",
    "\n"
   ]
  },
  {
   "cell_type": "code",
   "execution_count": 38,
   "metadata": {},
   "outputs": [],
   "source": [
    "for node in G.nodes:\n",
    "    ids.loc[node,'GTcore'] = G.nodes[node]['GTcore']\n",
    "\n"
   ]
  },
  {
   "cell_type": "code",
   "execution_count": 39,
   "metadata": {},
   "outputs": [],
   "source": [
    "topics_top = []\n",
    "for t in range(7):\n",
    "    d = ids[ids.topic==t]\n",
    "    m= max(d.GTcore)\n",
    "    topics_top.append(d[d.GTcore==m]) "
   ]
  },
  {
   "cell_type": "code",
   "execution_count": 40,
   "metadata": {},
   "outputs": [
    {
     "name": "stdout",
     "output_type": "stream",
     "text": [
      "430\n"
     ]
    },
    {
     "data": {
      "text/html": [
       "<div>\n",
       "<style scoped>\n",
       "    .dataframe tbody tr th:only-of-type {\n",
       "        vertical-align: middle;\n",
       "    }\n",
       "\n",
       "    .dataframe tbody tr th {\n",
       "        vertical-align: top;\n",
       "    }\n",
       "\n",
       "    .dataframe thead th {\n",
       "        text-align: right;\n",
       "    }\n",
       "</style>\n",
       "<table border=\"1\" class=\"dataframe\">\n",
       "  <thead>\n",
       "    <tr style=\"text-align: right;\">\n",
       "      <th></th>\n",
       "      <th>Unnamed: 0</th>\n",
       "      <th>title</th>\n",
       "      <th>pub_date</th>\n",
       "      <th>citations</th>\n",
       "      <th>abstract</th>\n",
       "      <th>class</th>\n",
       "      <th>year</th>\n",
       "      <th>abstract_processed</th>\n",
       "      <th>topic</th>\n",
       "      <th>class_topic</th>\n",
       "      <th>core</th>\n",
       "      <th>louvain</th>\n",
       "      <th>LCcore</th>\n",
       "      <th>GTcore</th>\n",
       "    </tr>\n",
       "    <tr>\n",
       "      <th>code</th>\n",
       "      <th></th>\n",
       "      <th></th>\n",
       "      <th></th>\n",
       "      <th></th>\n",
       "      <th></th>\n",
       "      <th></th>\n",
       "      <th></th>\n",
       "      <th></th>\n",
       "      <th></th>\n",
       "      <th></th>\n",
       "      <th></th>\n",
       "      <th></th>\n",
       "      <th></th>\n",
       "      <th></th>\n",
       "    </tr>\n",
       "  </thead>\n",
       "  <tbody>\n",
       "    <tr>\n",
       "      <td>JP6239807B1</td>\n",
       "      <td>41</td>\n",
       "      <td>Method and system for behavior analysis of mob...</td>\n",
       "      <td>2017-11-29</td>\n",
       "      <td>['KR101720930B1', 'CN106575327B', 'US9747430B2...</td>\n",
       "      <td>\\n\\n The computing device processor identifies...</td>\n",
       "      <td>G06</td>\n",
       "      <td>2017</td>\n",
       "      <td>\\n\\n the computing device processor identifies...</td>\n",
       "      <td>0</td>\n",
       "      <td>G06_0</td>\n",
       "      <td>2</td>\n",
       "      <td>8.0</td>\n",
       "      <td>5.0</td>\n",
       "      <td>5.0</td>\n",
       "    </tr>\n",
       "    <tr>\n",
       "      <td>US10104107B2</td>\n",
       "      <td>162</td>\n",
       "      <td>Methods and systems for behavior-specific actu...</td>\n",
       "      <td>2018-10-16</td>\n",
       "      <td>['JP6140808B2', 'JP6188956B2', 'US9596257B2', ...</td>\n",
       "      <td>\\nVarious embodiments include methods of evalu...</td>\n",
       "      <td>G06</td>\n",
       "      <td>2018</td>\n",
       "      <td>\\nvarious embodiments include methods of evalu...</td>\n",
       "      <td>0</td>\n",
       "      <td>G06_0</td>\n",
       "      <td>2</td>\n",
       "      <td>8.0</td>\n",
       "      <td>5.0</td>\n",
       "      <td>5.0</td>\n",
       "    </tr>\n",
       "    <tr>\n",
       "      <td>US9910984B2</td>\n",
       "      <td>164</td>\n",
       "      <td>Methods and systems for on-device high-granula...</td>\n",
       "      <td>2018-03-06</td>\n",
       "      <td>['US9779236B2', 'KR102160659B1', 'EP2836955B1'...</td>\n",
       "      <td>\\nVarious aspects include methods and computin...</td>\n",
       "      <td>G06</td>\n",
       "      <td>2018</td>\n",
       "      <td>\\nvarious aspects include methods and computin...</td>\n",
       "      <td>0</td>\n",
       "      <td>G06_0</td>\n",
       "      <td>2</td>\n",
       "      <td>8.0</td>\n",
       "      <td>5.0</td>\n",
       "      <td>5.0</td>\n",
       "    </tr>\n",
       "    <tr>\n",
       "      <td>US9330257B2</td>\n",
       "      <td>183</td>\n",
       "      <td>Adaptive observation of behavioral features on...</td>\n",
       "      <td>2016-05-03</td>\n",
       "      <td>['US10015178B2', 'US10397262B2', 'TWI606360B',...</td>\n",
       "      <td>\\nMethods, devices and systems for detecting s...</td>\n",
       "      <td>G06</td>\n",
       "      <td>2016</td>\n",
       "      <td>\\nmethods devices and systems for detecting su...</td>\n",
       "      <td>0</td>\n",
       "      <td>G06_0</td>\n",
       "      <td>2</td>\n",
       "      <td>8.0</td>\n",
       "      <td>5.0</td>\n",
       "      <td>5.0</td>\n",
       "    </tr>\n",
       "    <tr>\n",
       "      <td>US9158604B1</td>\n",
       "      <td>184</td>\n",
       "      <td>Lightweight data-flow tracker for realtime beh...</td>\n",
       "      <td>2015-10-13</td>\n",
       "      <td>['JP6235000B2', 'US20180300484A1', 'US20140201...</td>\n",
       "      <td>\\nMethods and devices for detecting performanc...</td>\n",
       "      <td>G06</td>\n",
       "      <td>2015</td>\n",
       "      <td>\\nmethods and devices for detecting performanc...</td>\n",
       "      <td>0</td>\n",
       "      <td>G06_0</td>\n",
       "      <td>2</td>\n",
       "      <td>8.0</td>\n",
       "      <td>5.0</td>\n",
       "      <td>5.0</td>\n",
       "    </tr>\n",
       "  </tbody>\n",
       "</table>\n",
       "</div>"
      ],
      "text/plain": [
       "              Unnamed: 0                                              title  \\\n",
       "code                                                                          \n",
       "JP6239807B1           41  Method and system for behavior analysis of mob...   \n",
       "US10104107B2         162  Methods and systems for behavior-specific actu...   \n",
       "US9910984B2          164  Methods and systems for on-device high-granula...   \n",
       "US9330257B2          183  Adaptive observation of behavioral features on...   \n",
       "US9158604B1          184  Lightweight data-flow tracker for realtime beh...   \n",
       "\n",
       "                pub_date                                          citations  \\\n",
       "code                                                                          \n",
       "JP6239807B1   2017-11-29  ['KR101720930B1', 'CN106575327B', 'US9747430B2...   \n",
       "US10104107B2  2018-10-16  ['JP6140808B2', 'JP6188956B2', 'US9596257B2', ...   \n",
       "US9910984B2   2018-03-06  ['US9779236B2', 'KR102160659B1', 'EP2836955B1'...   \n",
       "US9330257B2   2016-05-03  ['US10015178B2', 'US10397262B2', 'TWI606360B',...   \n",
       "US9158604B1   2015-10-13  ['JP6235000B2', 'US20180300484A1', 'US20140201...   \n",
       "\n",
       "                                                       abstract class  year  \\\n",
       "code                                                                          \n",
       "JP6239807B1   \\n\\n The computing device processor identifies...   G06  2017   \n",
       "US10104107B2  \\nVarious embodiments include methods of evalu...   G06  2018   \n",
       "US9910984B2   \\nVarious aspects include methods and computin...   G06  2018   \n",
       "US9330257B2   \\nMethods, devices and systems for detecting s...   G06  2016   \n",
       "US9158604B1   \\nMethods and devices for detecting performanc...   G06  2015   \n",
       "\n",
       "                                             abstract_processed  topic  \\\n",
       "code                                                                     \n",
       "JP6239807B1   \\n\\n the computing device processor identifies...      0   \n",
       "US10104107B2  \\nvarious embodiments include methods of evalu...      0   \n",
       "US9910984B2   \\nvarious aspects include methods and computin...      0   \n",
       "US9330257B2   \\nmethods devices and systems for detecting su...      0   \n",
       "US9158604B1   \\nmethods and devices for detecting performanc...      0   \n",
       "\n",
       "             class_topic  core  louvain  LCcore  GTcore  \n",
       "code                                                     \n",
       "JP6239807B1        G06_0     2      8.0     5.0     5.0  \n",
       "US10104107B2       G06_0     2      8.0     5.0     5.0  \n",
       "US9910984B2        G06_0     2      8.0     5.0     5.0  \n",
       "US9330257B2        G06_0     2      8.0     5.0     5.0  \n",
       "US9158604B1        G06_0     2      8.0     5.0     5.0  "
      ]
     },
     "execution_count": 40,
     "metadata": {},
     "output_type": "execute_result"
    }
   ],
   "source": [
    "top_patents =topics_top[0]\n",
    "for top in topics_top[1:]:\n",
    "    top_patents = top_patents.append(top)\n",
    "print(len(top_patents))\n",
    "top_patents.head()"
   ]
  },
  {
   "cell_type": "code",
   "execution_count": 41,
   "metadata": {},
   "outputs": [],
   "source": [
    "top_patents.to_csv('../../data/bestPatentsPeTopic.csv')"
   ]
  },
  {
   "cell_type": "code",
   "execution_count": 43,
   "metadata": {},
   "outputs": [
    {
     "name": "stdout",
     "output_type": "stream",
     "text": [
      "1249\n"
     ]
    }
   ],
   "source": [
    "SG = G.subgraph([node for node in G.nodes if G.nodes[node]['core']>=7 ] )\n",
    "print(len(SG))"
   ]
  },
  {
   "cell_type": "code",
   "execution_count": 44,
   "metadata": {},
   "outputs": [],
   "source": [
    "ids.to_csv('../../data/gp-q2-7topicsLouvainCores.csv')\n",
    "nx.write_graphml(G,'../../data/7topicsLouvainCores.graphml')"
   ]
  }
 ],
 "metadata": {
  "kernelspec": {
   "display_name": "Python 3",
   "language": "python",
   "name": "python3"
  },
  "language_info": {
   "codemirror_mode": {
    "name": "ipython",
    "version": 3
   },
   "file_extension": ".py",
   "mimetype": "text/x-python",
   "name": "python",
   "nbconvert_exporter": "python",
   "pygments_lexer": "ipython3",
   "version": "3.7.4"
  }
 },
 "nbformat": 4,
 "nbformat_minor": 2
}
